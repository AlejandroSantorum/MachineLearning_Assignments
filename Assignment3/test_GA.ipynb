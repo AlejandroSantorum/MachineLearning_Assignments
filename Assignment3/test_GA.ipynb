{
 "cells": [
  {
   "cell_type": "markdown",
   "metadata": {},
   "source": [
    "# <font color='red'><ins>Práctica 3 FAA - Clasificación mediante Algoritmos Genéticos</ins></font>\n",
    "## Alejandro Santorum Varela - alejandro.santorum@estudiante.uam.es\n",
    "## José Manuel Chacón Aguilera - josem.chacon@estudiante.uam.es"
   ]
  },
  {
   "cell_type": "code",
   "execution_count": 16,
   "metadata": {},
   "outputs": [
    {
     "output_type": "stream",
     "name": "stdout",
     "text": [
      "The autoreload extension is already loaded. To reload it, use:\n  %reload_ext autoreload\n"
     ]
    }
   ],
   "source": [
    "%load_ext autoreload\n",
    "%autoreload 2"
   ]
  },
  {
   "cell_type": "code",
   "execution_count": 17,
   "metadata": {},
   "outputs": [],
   "source": [
    "import sys\n",
    "sys.path.append('/usr/local/lib/python3.7/site-packages')"
   ]
  },
  {
   "cell_type": "code",
   "execution_count": 18,
   "metadata": {},
   "outputs": [],
   "source": [
    "# My modules\n",
    "from Datos import Datos\n",
    "import EstrategiaParticionado\n",
    "import Clasificador\n",
    "\n",
    "# External modules\n",
    "import numpy as np\n",
    "import random\n",
    "import matplotlib.pyplot as plt\n",
    "from sklearn.preprocessing import OneHotEncoder\n",
    "\n",
    "# Important to pre-install tabulate (pip install tabulate)\n",
    "from tabulate import tabulate\n",
    "\n",
    "# Init class Classifier\n",
    "clasificador = Clasificador.Clasificador()"
   ]
  },
  {
   "cell_type": "code",
   "execution_count": 19,
   "metadata": {},
   "outputs": [
    {
     "output_type": "stream",
     "name": "stdout",
     "text": [
      "Numero de ejemplos: 1046 | Numero de columnas: 4\n[[0 1 0 ... 0 0 1]\n [0 1 0 ... 0 0 1]\n [0 0 1 ... 0 0 0]\n ...\n [0 0 1 ... 0 0 1]\n [0 0 1 ... 0 0 0]\n [0 1 0 ... 0 0 0]]\nNumero de ejemplos: 1046 | Numero de columnas (ENCODE): 22\n"
     ]
    }
   ],
   "source": [
    "db_titanic = Datos('../ConjuntosDatos/titanic.data', allNominal = True)\n",
    "n,m = db_titanic.datos.shape\n",
    "print(\"Numero de ejemplos:\", n,\"| Numero de columnas:\", m)\n",
    "\n",
    "datosenc = Datos.encodeDatos(db_titanic.datos)\n",
    "n,m = datosenc.shape\n",
    "print(\"Numero de ejemplos:\", n,\"| Numero de columnas (ENCODE):\", m)"
   ]
  },
  {
   "cell_type": "code",
   "execution_count": 20,
   "metadata": {},
   "outputs": [
    {
     "output_type": "stream",
     "name": "stdout",
     "text": [
      "[1. 1. 3. 1.]\n[0 1 0 0 1 0 0 0 1 0 0 0 0 0 0 0 0 0 0 0 0 1]\n"
     ]
    }
   ],
   "source": [
    "print(db_titanic.datos[0])\n",
    "print(datosenc[0])"
   ]
  },
  {
   "cell_type": "code",
   "execution_count": 21,
   "metadata": {},
   "outputs": [],
   "source": [
    "# Entrenamiento. Consiste en sacar el individuo \"ÓPTIMO\".\n",
    "\n",
    "    # - Definir la función/funciones de cruce\n",
    "    # - Definir la mutación/mutaciones\n",
    "    # - Definir la función/funciones de adaptación\n",
    "    \n",
    "    # ------------> Si nos calentamos, implementamos varias de estas y las consideramos hiper-parámetros del algoritmo.\n",
    "    \n",
    "# Clasificación. Consiste en comparar los genes de tu ejemplo con el individuo obtenido anteriormente, si tiene una codificación\n",
    "# genética \"parecida\" codificas como superviviente.\n",
    "    # Definir que es \"parecido\". \n"
   ]
  },
  {
   "cell_type": "code",
   "execution_count": 22,
   "metadata": {},
   "outputs": [
    {
     "output_type": "stream",
     "name": "stdout",
     "text": [
      "[[1, 1, 0, 1, 1, 0, 0, 1, 0, 1, 1, 1, 0, 0, 0, 0, 1, 1, 1, 1, 0, 0], [1, 1, 1, 0, 0, 0, 0, 0, 0, 1, 0, 1, 1, 0, 0, 0, 0, 1, 0, 0, 1, 1], [1, 1, 1, 1, 1, 0, 1, 1, 0, 1, 1, 1, 1, 0, 0, 0, 0, 0, 1, 0, 0, 1], [0, 0, 1, 0, 1, 0, 1, 0, 1, 0, 0, 0, 0, 1, 1, 0, 0, 0, 1, 0, 0, 0]] 4\n"
     ]
    }
   ],
   "source": [
    "# El INIT que tienes implementado no lo comprendo muy bien ni tampoco se usarlo, este solo es de prueba, \n",
    "# genera cadenas (sin sentido) para que pueda implementar primeras versiones tanto del cruze como de la mutación\n",
    "npop = 100\n",
    "population = []\n",
    "max_rules = 5\n",
    "\n",
    "for i in range(npop):\n",
    "    # Creating a new individual, represented as a list of rules\n",
    "    new_individual = []\n",
    "    # The number of rules of the individual is chosen randomly,\n",
    "    # between 1 (minimum number of rules) and 'self.max_rules'\n",
    "    n_rules = random.randint(1, max_rules)\n",
    "    for j in range(n_rules): # Creating 'n_rules' new rules\n",
    "        # Asserting that new rule cannot have EVERY gene equal 0 or 1\n",
    "        new_rule = []\n",
    "        while sum(new_rule)==0 or sum(new_rule)==len(new_rule):\n",
    "            # Creating a new rule as a random binary string of size 'feat_size' + 1 (predicted class)\n",
    "            new_rule = random.choices([0,1], k = m)\n",
    "        # Inserting new rule to the new individual\n",
    "        new_individual.append(new_rule)\n",
    "            \n",
    "    # Inserting new individual to initial population\n",
    "    population.append(new_individual)\n",
    "    \n",
    "print(population[3], len(population[3]))"
   ]
  },
  {
   "cell_type": "code",
   "execution_count": 23,
   "metadata": {
    "scrolled": true
   },
   "outputs": [
    {
     "output_type": "stream",
     "name": "stdout",
     "text": [
      "\nPadre 1 ---> NR = 2\n\n[[0, 1, 0, 1, 0, 0, 1, 1, 1, 0, 0, 0, 0, 1, 0, 1, 0, 0, 1, 0, 1, 0], [0, 1, 0, 1, 0, 1, 1, 0, 0, 1, 0, 0, 0, 1, 1, 1, 1, 0, 0, 1, 1, 1]]\n\nPadre 2 ---> NR = 5\n\n[[0, 1, 1, 1, 1, 1, 0, 1, 1, 1, 1, 0, 0, 1, 1, 0, 0, 1, 1, 1, 0, 1], [1, 0, 0, 1, 0, 1, 1, 1, 1, 0, 1, 0, 0, 1, 1, 1, 1, 1, 0, 0, 0, 0], [0, 1, 0, 1, 0, 0, 0, 1, 1, 0, 1, 1, 0, 1, 1, 0, 1, 1, 0, 1, 0, 0], [0, 1, 0, 0, 0, 1, 1, 0, 0, 1, 1, 1, 1, 0, 1, 1, 0, 1, 1, 1, 1, 0], [1, 1, 1, 1, 1, 1, 0, 0, 0, 1, 1, 0, 0, 0, 1, 1, 1, 1, 1, 0, 0, 1]]\n\nPunto de Corte Aleatorio ---> Rul. 0 3\n\nPunto de Cruce Aleatorio ---> Pos. 0\n\n\nHijo 1\n\n[[0, 1, 0, 0, 0, 1, 1, 0, 0, 1, 1, 1, 1, 0, 1, 1, 0, 1, 1, 1, 1, 0], [1, 1, 1, 1, 1, 1, 0, 0, 0, 1, 1, 0, 0, 0, 1, 1, 1, 1, 1, 0, 0, 1]]\n\nHijo 2\n\n[[0, 1, 1, 1, 1, 1, 0, 1, 1, 1, 1, 0, 0, 1, 1, 0, 0, 1, 1, 1, 0, 1], [1, 0, 0, 1, 0, 1, 1, 1, 1, 0, 1, 0, 0, 1, 1, 1, 1, 1, 0, 0, 0, 0], [0, 1, 0, 1, 0, 0, 0, 1, 1, 0, 1, 1, 0, 1, 1, 0, 1, 1, 0, 1, 0, 0], [0, 1, 0, 1, 0, 0, 1, 1, 1, 0, 0, 0, 0, 1, 0, 1, 0, 0, 1, 0, 1, 0], [0, 1, 0, 1, 0, 1, 1, 0, 0, 1, 0, 0, 0, 1, 1, 1, 1, 0, 0, 1, 1, 1]]\n"
     ]
    }
   ],
   "source": [
    "# CRUCE EN UN PUNTO\n",
    "\n",
    "# imput\n",
    "P1 = population[0]\n",
    "nr1 = len(P1)\n",
    "P2 = population[2]\n",
    "nr2 = len(P2)\n",
    "print(\"\\nPadre 1 ---> NR = %d\\n\" % (nr1))\n",
    "print(P1)\n",
    "print(\"\\nPadre 2 ---> NR = %d\\n\" % (nr2))\n",
    "print(P2)\n",
    "\n",
    "# algoritmo\n",
    "H1 = []\n",
    "H2 = []\n",
    "#cut1 = np.random.randint(0, nr1)\n",
    "#cut2 = np.random.randint(0, nr2)\n",
    "cut1 = 0\n",
    "cut2 = 3\n",
    "\n",
    "cp = 0\n",
    "#cp = np.random.randint(1, m-1)\n",
    "print(\"\\nPunto de Corte Aleatorio ---> Rul. %d %d\\n\" % (cut1, cut2) +\"\\nPunto de Cruce Aleatorio ---> Pos. %d\\n\" % (cp))\n",
    "\n",
    "H1 = P1[:cut1] + [P1[cut1][:cp] + P2[cut2][cp:]] + P2[cut2+1:]\n",
    "H2 = P2[:cut2] + [P2[cut2][:cp] + P1[cut1][cp:]] + P1[cut1+1:]   \n",
    "\n",
    "# output\n",
    "print(\"\\nHijo 1\\n\")\n",
    "print(H1)\n",
    "print(\"\\nHijo 2\\n\")\n",
    "print(H2)"
   ]
  },
  {
   "cell_type": "code",
   "execution_count": 24,
   "metadata": {},
   "outputs": [],
   "source": [
    "def crossover_1point(ind1, ind2):\n",
    "    # Debemos pensar/preguntar como cruzar dos individuos con un número diferente de reglas\n",
    "    # Se dice en el ENUNCIADO que el punto de cruce debe ser el mismo para ambos padres, ¿qué pasa si uno tiene más reglas que otro?\n",
    "    return child1, child2"
   ]
  },
  {
   "cell_type": "code",
   "execution_count": 25,
   "metadata": {},
   "outputs": [],
   "source": [
    "def crossover_2point(ind1, ind2):\n",
    "    # Mismas preguntas que arriba\n",
    "    return child1, child2"
   ]
  },
  {
   "cell_type": "code",
   "execution_count": null,
   "metadata": {},
   "outputs": [],
   "source": []
  },
  {
   "cell_type": "code",
   "execution_count": 26,
   "metadata": {},
   "outputs": [
    {
     "output_type": "stream",
     "name": "stdout",
     "text": [
      "[[0, 1, 0, 1, 0, 0, 1, 1, 1, 0, 0, 0, 0, 1, 0, 1, 0, 0, 1, 0, 1, 0], [0, 1, 0, 1, 0, 1, 1, 0, 0, 1, 0, 0, 0, 1, 1, 1, 1, 0, 0, 1, 1, 1]]\n[[1, 0, 0, 0, 1, 1, 0, 1, 1, 0, 0, 1, 0, 0, 1, 1, 0, 1, 1, 0, 0, 1], [1, 0, 0, 0, 0, 1, 0, 1, 1, 1, 1, 1, 1, 0, 0, 1, 0, 0, 0, 0, 0, 0], [1, 0, 0, 1, 0, 0, 0, 1, 0, 0, 0, 0, 0, 1, 0, 1, 1, 1, 1, 1, 0, 0], [0, 1, 1, 1, 1, 1, 1, 0, 0, 0, 1, 0, 0, 1, 1, 0, 1, 0, 1, 1, 0, 0]]\n\n\n\n[[1, 0, 0, 0, 0, 1, 0, 1, 1, 0, 0, 0, 0, 0, 1, 1, 0, 0, 1, 0, 1, 0], [0, 0, 0, 0, 0, 1, 1, 1, 1, 1, 0, 1, 0, 0, 1, 1, 0, 0, 0, 0, 0, 0]]\n[[0, 1, 0, 1, 0, 1, 0, 1, 1, 0, 0, 1, 0, 1, 1, 1, 0, 1, 1, 0, 0, 0], [1, 0, 0, 0, 0, 1, 0, 1, 0, 1, 0, 1, 0, 0, 1, 1, 1, 0, 0, 0, 0, 0]]\n[[1, 0, 0, 1, 0, 0, 0, 1, 0, 0, 0, 0, 0, 1, 0, 1, 1, 1, 1, 1, 0, 0], [0, 1, 1, 1, 1, 1, 1, 0, 0, 0, 1, 0, 0, 1, 1, 0, 1, 0, 1, 1, 0, 0]]\n"
     ]
    }
   ],
   "source": [
    "# CRUCE UNIFORME\n",
    "# IDEA -----> En lugar de ser 50% de probabilidad de tener el gen de un padre u otro, que esta cantidad\n",
    "# escale dependiendo del fitness que tiene cada padre. Dando dominancia a los genes con mayor fitness.\n",
    "\n",
    "# imput\n",
    "P1 = population[0]\n",
    "P2 = population[1]\n",
    "print(P1)\n",
    "print(P2)\n",
    "minr = min(len(P1), len(P2))\n",
    "# algoritmo\n",
    "H1 = []\n",
    "H2 = []\n",
    "if(len(P1)>len(P2)):\n",
    "    Htonto = P1[minr:]\n",
    "else:\n",
    "    Htonto = P2[minr:]\n",
    "\n",
    "for j in range(minr):\n",
    "        H1.append([])\n",
    "        H2.append([])\n",
    "        for i in range(len(P1[j])):\n",
    "            rnd = np.random.randint(0, 2)\n",
    "            if (rnd == 0):\n",
    "                H1[j].append(P1[j][i])\n",
    "            else:\n",
    "                H1[j].append(P2[j][i])\n",
    "\n",
    "            rnd = np.random.randint(0, 2)\n",
    "            if (rnd == 0):\n",
    "                H2[j].append(P1[j][i])\n",
    "            else:\n",
    "                H2[j].append(P2[j][i])\n",
    "   \n",
    "\n",
    "\n",
    "# output\n",
    "print(\"\\n\\n\")\n",
    "print(H1)\n",
    "print(H2)\n",
    "print(Htonto)"
   ]
  },
  {
   "cell_type": "code",
   "execution_count": 27,
   "metadata": {},
   "outputs": [],
   "source": [
    "# Cruce uniforme teniendo en cuenta individuos con varias reglas.\n",
    "# Usa la implementación de arriba junto con la vista en teoría\n",
    "def crossover_uniform(ind1, ind2):\n",
    "    return child1, child2"
   ]
  },
  {
   "cell_type": "code",
   "execution_count": null,
   "metadata": {},
   "outputs": [],
   "source": []
  },
  {
   "cell_type": "code",
   "execution_count": null,
   "metadata": {},
   "outputs": [],
   "source": []
  },
  {
   "cell_type": "code",
   "execution_count": 28,
   "metadata": {},
   "outputs": [
    {
     "output_type": "execute_result",
     "data": {
      "text/plain": [
       "<function __main__.mutar(IND, max_mute)>"
      ]
     },
     "metadata": {},
     "execution_count": 28
    }
   ],
   "source": [
    "mutar"
   ]
  },
  {
   "cell_type": "code",
   "execution_count": 29,
   "metadata": {},
   "outputs": [],
   "source": [
    "# Mutación, permuta bit en posiciones aleatorias, acepta como hiper-parámetro el número máximo de bits que queremos mutar.\n",
    "# No compruebo duplicidades, si muta dos veces el mismo gen es como si no lo hubiese hecho, lo dejamos así.\n",
    "\n",
    "def mutar(IND, max_mute):\n",
    "    print(IND)\n",
    "    for j in range(len(IND)):\n",
    "        n_mute = np.random.randint(1, max_mute+1)\n",
    "        for i in range(n_mute):\n",
    "            pos = np.random.randint(0, m)\n",
    "            if(IND[j][pos] == 1):\n",
    "                IND[j][pos] = 0\n",
    "            else:\n",
    "                IND[j][pos] = 1\n",
    "    \n",
    "    print(IND)\n",
    "        \n",
    "    "
   ]
  },
  {
   "cell_type": "code",
   "execution_count": 30,
   "metadata": {},
   "outputs": [
    {
     "output_type": "stream",
     "name": "stdout",
     "text": [
      "[[0, 1, 0, 1, 0, 0, 1, 1, 1, 0, 0, 0, 0, 1, 0, 1, 0, 0, 1, 0, 1, 0], [0, 1, 0, 1, 0, 1, 1, 0, 0, 1, 0, 0, 0, 1, 1, 1, 1, 0, 0, 1, 1, 1]]\n[[0, 0, 0, 1, 0, 0, 1, 1, 1, 0, 0, 0, 0, 1, 0, 1, 1, 0, 1, 0, 1, 0], [0, 1, 0, 1, 0, 0, 1, 0, 0, 1, 0, 0, 0, 1, 0, 1, 1, 0, 0, 1, 1, 1]]\n"
     ]
    }
   ],
   "source": [
    "mutar (population[0], 3)"
   ]
  },
  {
   "source": [
    "# Primeras ejecuciones"
   ],
   "cell_type": "markdown",
   "metadata": {}
  },
  {
   "cell_type": "code",
   "execution_count": 33,
   "metadata": {},
   "outputs": [
    {
     "output_type": "stream",
     "name": "stdout",
     "text": [
      "Numero de ejemplos: 1046 | Numero de columnas: 4\nNumero de ejemplos: 1046 | Numero de columnas (ENCODE): 22\n"
     ]
    }
   ],
   "source": [
    "db_titanic = Datos('../ConjuntosDatos/titanic.data', allNominal = True)\n",
    "n,m = db_titanic.datos.shape\n",
    "print(\"Numero de ejemplos:\", n,\"| Numero de columnas:\", m)\n",
    "\n",
    "datosenc = Datos.encodeDatos(db_titanic.datos)\n",
    "n,m = datosenc.shape\n",
    "print(\"Numero de ejemplos:\", n,\"| Numero de columnas (ENCODE):\", m)"
   ]
  },
  {
   "cell_type": "code",
   "execution_count": 40,
   "metadata": {},
   "outputs": [
    {
     "output_type": "stream",
     "name": "stdout",
     "text": [
      "[[0 1 0 1 0 0 0 0 0 0 1 0 0 0 0 0 0 0 0 0 0 1]\n [0 0 1 0 1 0 0 0 1 0 0 0 0 0 0 0 0 0 0 0 0 0]\n [1 0 0 1 0 0 0 0 0 1 0 0 0 0 0 0 0 0 0 0 0 1]\n [0 0 1 1 0 0 0 0 1 0 0 0 0 0 0 0 0 0 0 0 0 0]\n [0 0 1 0 1 0 0 0 0 0 0 0 1 0 0 0 0 0 0 0 0 0]]\n"
     ]
    }
   ],
   "source": [
    "strat_simple = EstrategiaParticionado.ValidacionSimple(0.8)\n",
    "\n",
    "np.random.shuffle(datosenc)\n",
    "strat_simple.creaParticiones(datosenc, None)\n",
    "\n",
    "datostrain = datosenc[strat_simple.particiones[0].indicesTrain, :]\n",
    "datostest = datosenc[strat_simple.particiones[0].indicesTest, :]\n",
    "\n",
    "print(datostrain[:5, :])"
   ]
  },
  {
   "cell_type": "code",
   "execution_count": 85,
   "metadata": {},
   "outputs": [],
   "source": [
    "ga = Clasificador.AlgoritmoGenetico(\n",
    "        n_population=150,\n",
    "        max_rules=10,\n",
    "        nepochs=200,\n",
    "        cross_prob=0.8,\n",
    "        bitflip_prob=None,\n",
    "        add_rule_prob=0.35,\n",
    "        elite_perc=0.05\n",
    ")"
   ]
  },
  {
   "cell_type": "code",
   "execution_count": 86,
   "metadata": {},
   "outputs": [
    {
     "output_type": "stream",
     "name": "stdout",
     "text": [
      "Epoca  1\n",
      "Epoca  2\n",
      "Epoca  3\n",
      "Epoca  4\n",
      "Epoca  5\n",
      "Epoca  6\n",
      "Epoca  7\n",
      "Epoca  8\n",
      "Epoca  9\n",
      "Epoca  10\n",
      "Epoca  11\n",
      "Epoca  12\n",
      "Epoca  13\n",
      "Epoca  14\n",
      "Epoca  15\n",
      "Epoca  16\n",
      "Epoca  17\n",
      "Epoca  18\n",
      "Epoca  19\n",
      "Epoca  20\n",
      "Epoca  21\n",
      "Epoca  22\n",
      "Epoca  23\n",
      "Epoca  24\n",
      "Epoca  25\n",
      "Epoca  26\n",
      "Epoca  27\n",
      "Epoca  28\n",
      "Epoca  29\n",
      "Epoca  30\n",
      "Epoca  31\n",
      "Epoca  32\n",
      "Epoca  33\n",
      "Epoca  34\n",
      "Epoca  35\n",
      "Epoca  36\n",
      "Epoca  37\n",
      "Epoca  38\n",
      "Epoca  39\n",
      "Epoca  40\n",
      "Epoca  41\n",
      "Epoca  42\n",
      "Epoca  43\n",
      "Epoca  44\n",
      "Epoca  45\n",
      "Epoca  46\n",
      "Epoca  47\n",
      "Epoca  48\n",
      "Epoca  49\n",
      "Epoca  50\n"
     ]
    }
   ],
   "source": [
    "ga.entrenamiento(datostrain, db_titanic.nominalAtributos, db_titanic.diccionario)"
   ]
  },
  {
   "cell_type": "code",
   "execution_count": 87,
   "metadata": {},
   "outputs": [
    {
     "output_type": "execute_result",
     "data": {
      "text/plain": [
       "[[1, 1, 0, 1, 0, 1, 1, 1, 0, 1, 1, 1, 0, 1, 1, 1, 1, 1, 0, 0, 0, 1],\n",
       " [0, 1, 0, 0, 0, 1, 1, 0, 0, 1, 0, 0, 0, 0, 1, 0, 0, 1, 0, 0, 0, 1],\n",
       " [1, 1, 1, 0, 1, 0, 0, 1, 1, 1, 1, 1, 0, 1, 1, 1, 1, 1, 0, 1, 1, 0],\n",
       " [1, 1, 1, 0, 1, 1, 1, 1, 1, 1, 0, 1, 1, 0, 0, 1, 1, 0, 0, 1, 1, 0],\n",
       " [1, 1, 1, 0, 1, 0, 0, 1, 1, 1, 1, 0, 0, 1, 0, 0, 1, 0, 1, 1, 1, 0],\n",
       " [0, 1, 0, 1, 1, 1, 0, 1, 1, 1, 1, 1, 0, 1, 1, 0, 1, 1, 0, 1, 1, 0],\n",
       " [1, 1, 1, 1, 0, 0, 1, 0, 0, 1, 0, 1, 1, 0, 1, 0, 1, 1, 1, 1, 1, 1]]"
      ]
     },
     "metadata": {},
     "execution_count": 87
    }
   ],
   "source": [
    "ga.best_solution"
   ]
  },
  {
   "cell_type": "code",
   "execution_count": 88,
   "metadata": {
    "tags": []
   },
   "outputs": [],
   "source": [
    "pred = ga.clasifica(datostest, db_titanic.nominalAtributos, db_titanic.diccionario)"
   ]
  },
  {
   "cell_type": "code",
   "execution_count": 89,
   "metadata": {},
   "outputs": [
    {
     "output_type": "execute_result",
     "data": {
      "text/plain": [
       "0.2857142857142857"
      ]
     },
     "metadata": {},
     "execution_count": 89
    }
   ],
   "source": [
    "clasificador.error(pred, datostest[:,-1])"
   ]
  },
  {
   "cell_type": "code",
   "execution_count": null,
   "metadata": {},
   "outputs": [],
   "source": []
  }
 ],
 "metadata": {
  "kernelspec": {
   "display_name": "Python 3",
   "language": "python",
   "name": "python3"
  },
  "language_info": {
   "codemirror_mode": {
    "name": "ipython",
    "version": 3
   },
   "file_extension": ".py",
   "mimetype": "text/x-python",
   "name": "python",
   "nbconvert_exporter": "python",
   "pygments_lexer": "ipython3",
   "version": "3.7.3-final"
  }
 },
 "nbformat": 4,
 "nbformat_minor": 2
}