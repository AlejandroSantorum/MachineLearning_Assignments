{
 "cells": [
  {
   "cell_type": "markdown",
   "metadata": {},
   "source": [
    "# <font color='red'><ins>Práctica 3 FAA - Clasificación mediante Algoritmos Genéticos</ins></font>\n",
    "## Alejandro Santorum Varela - alejandro.santorum@estudiante.uam.es\n",
    "## José Manuel Chacón Aguilera - josem.chacon@estudiante.uam.es"
   ]
  },
  {
   "cell_type": "code",
   "execution_count": 2,
   "metadata": {},
   "outputs": [],
   "source": [
    "%load_ext autoreload\n",
    "%autoreload 2"
   ]
  },
  {
   "cell_type": "code",
   "execution_count": 3,
   "metadata": {},
   "outputs": [],
   "source": [
    "import sys\n",
    "sys.path.append('/usr/local/lib/python3.7/site-packages')"
   ]
  },
  {
   "cell_type": "code",
   "execution_count": 5,
   "metadata": {},
   "outputs": [],
   "source": [
    "# My modules\n",
    "from Datos import Datos\n",
    "import EstrategiaParticionado\n",
    "import Clasificador\n",
    "\n",
    "# External modules\n",
    "import numpy as np\n",
    "import random\n",
    "import matplotlib.pyplot as plt\n",
    "from sklearn.preprocessing import OneHotEncoder\n",
    "\n",
    "# Important to pre-install tabulate (pip install tabulate)\n",
    "from tabulate import tabulate\n",
    "\n",
    "# Init class Classifier\n",
    "clasificador = Clasificador.Clasificador()"
   ]
  },
  {
   "cell_type": "code",
   "execution_count": 6,
   "metadata": {},
   "outputs": [
    {
     "name": "stdout",
     "output_type": "stream",
     "text": [
      "Numero de ejemplos: 1046 | Numero de columnas: 4\n",
      "Numero de ejemplos: 1046 | Numero de columnas (ENCODE): 22\n"
     ]
    }
   ],
   "source": [
    "db_titanic = Datos('../ConjuntosDatos/titanic.data', allNominal = True)\n",
    "n,m = db_titanic.datos.shape\n",
    "print(\"Numero de ejemplos:\", n,\"| Numero de columnas:\", m)\n",
    "\n",
    "datosenc = Datos.encodeDatos(db_titanic.datos)\n",
    "n,m = datosenc.shape\n",
    "print(\"Numero de ejemplos:\", n,\"| Numero de columnas (ENCODE):\", m)"
   ]
  },
  {
   "cell_type": "code",
   "execution_count": 7,
   "metadata": {},
   "outputs": [
    {
     "name": "stdout",
     "output_type": "stream",
     "text": [
      "[1. 1. 3. 1.]\n",
      "[0. 1. 0. 0. 1. 0. 0. 0. 1. 0. 0. 0. 0. 0. 0. 0. 0. 0. 0. 0. 0. 1.]\n"
     ]
    }
   ],
   "source": [
    "print(db_titanic.datos[0])\n",
    "print(datosenc[0])"
   ]
  },
  {
   "cell_type": "code",
   "execution_count": 149,
   "metadata": {},
   "outputs": [],
   "source": [
    "# Entrenamiento. Consiste en sacar el individuo \"ÓPTIMO\".\n",
    "\n",
    "    # - Definir la función/funciones de cruce\n",
    "    # - Definir la mutación/mutaciones\n",
    "    # - Definir la función/funciones de adaptación\n",
    "    \n",
    "    # ------------> Si nos calentamos, implementamos varias de estas y las consideramos hiper-parámetros del algoritmo.\n",
    "    \n",
    "# Clasificación. Consiste en comparar los genes de tu ejemplo con el individuo obtenido anteriormente, si tiene una codificación\n",
    "# genética \"parecida\" codificas como superviviente.\n",
    "    # Definir que es \"parecido\". \n"
   ]
  },
  {
   "cell_type": "code",
   "execution_count": 150,
   "metadata": {},
   "outputs": [
    {
     "name": "stdout",
     "output_type": "stream",
     "text": [
      "[1. 1. 0. 1. 1. 0. 1. 0. 1. 0. 1. 1. 1. 1. 1. 0. 0. 0. 0. 1. 0.]\n"
     ]
    }
   ],
   "source": [
    "# El INIT que tienes implementado no lo comprendo muy bien ni tampoco se usarlo, este solo es de prueba, \n",
    "# genera cadenas (sin sentido) para que pueda implementar primeras versiones tanto del cruze como de la mutación\n",
    "population = 100\n",
    "aleat = np.zeros((population, m-1))\n",
    "aleat[:] = np.random.randint(0, 2, (population, m-1))\n",
    "print (aleat[0])"
   ]
  },
  {
   "cell_type": "code",
   "execution_count": 151,
   "metadata": {},
   "outputs": [],
   "source": [
    "# Esto solo es visual\n",
    "Range = np.arange(0, m-1)"
   ]
  },
  {
   "cell_type": "code",
   "execution_count": 152,
   "metadata": {},
   "outputs": [
    {
     "name": "stdout",
     "output_type": "stream",
     "text": [
      "[ 0  1  2  3  4  5  6  7  8  9 10 11 12 13 14 15 16 17 18 19 20]\n",
      "[1. 1. 0. 1. 1. 0. 1. 0. 1. 0. 1. 1. 1. 1. 1. 0. 0. 0. 0. 1. 0.]\n",
      "[0. 1. 1. 0. 1. 1. 0. 0. 0. 1. 0. 0. 0. 1. 0. 1. 1. 1. 0. 1. 0.]\n",
      "\n",
      "Punto de Cruce Aleatorio ---> Pos. 8\n",
      "\n",
      "[ 0  1  2  3  4  5  6  7  8  9 10 11 12 13 14 15 16 17 18 19 20]\n",
      "[1. 1. 0. 1. 1. 0. 1. 0. 0. 1. 0. 0. 0. 1. 0. 1. 1. 1. 0. 1. 0.]\n",
      "[0. 1. 1. 0. 1. 1. 0. 0. 1. 0. 1. 1. 1. 1. 1. 0. 0. 0. 0. 1. 0.]\n"
     ]
    }
   ],
   "source": [
    "# CRUCE este es en un punto?????? Que otras variantes podemos implementar?????\n",
    "# imput\n",
    "P1 = aleat[0]\n",
    "P2 = aleat[1]\n",
    "print(Range)\n",
    "print(P1)\n",
    "print(P2)\n",
    "# algoritmo\n",
    "cp = np.random.randint(1, m-1)\n",
    "\n",
    "print(\"\\nPunto de Cruce Aleatorio ---> Pos. %d\\n\" % (cp))\n",
    "\n",
    "H1 = np.zeros(m-1)\n",
    "H1[:cp] = P1[:cp] \n",
    "H1[-(m-1-cp):] = P2[-(m-1-cp):]\n",
    "H2 = np.zeros(m-1)\n",
    "H2[:cp] = P2[:cp] \n",
    "H2[-(m-1-cp):] = P1[-(m-1-cp):]\n",
    "# output\n",
    "print(Range)\n",
    "print(H1)\n",
    "print(H2)"
   ]
  },
  {
   "cell_type": "code",
   "execution_count": 153,
   "metadata": {},
   "outputs": [],
   "source": [
    "# Mutación, permuta bit en posiciones aleatorias, acepta como hiper-parámetro el número máximo de bits que queremos mutar.\n",
    "# No compruebo duplicidades, si muta dos veces el mismo gen es como si no lo hubiese hecho, lo dejamos así.\n",
    "\n",
    "def mutar(IND, max_mute):\n",
    "    print(Range)\n",
    "    print(IND)\n",
    "    n_mute = np.random.randint(1, max_mute+1)\n",
    "    for i in range(n_mute):\n",
    "        pos = np.random.randint(0, 21)\n",
    "        print(pos)\n",
    "        if(IND[pos] == 1):\n",
    "            IND[pos] = 0\n",
    "        else:\n",
    "            IND[pos] = 1\n",
    "    print(Range)\n",
    "    print(IND)\n",
    "        \n",
    "    "
   ]
  },
  {
   "cell_type": "code",
   "execution_count": 154,
   "metadata": {},
   "outputs": [
    {
     "name": "stdout",
     "output_type": "stream",
     "text": [
      "[ 0  1  2  3  4  5  6  7  8  9 10 11 12 13 14 15 16 17 18 19 20]\n",
      "[1. 1. 0. 1. 1. 0. 1. 0. 1. 0. 1. 1. 1. 1. 1. 0. 0. 0. 0. 1. 0.]\n",
      "10\n",
      "[ 0  1  2  3  4  5  6  7  8  9 10 11 12 13 14 15 16 17 18 19 20]\n",
      "[1. 1. 0. 1. 1. 0. 1. 0. 1. 0. 0. 1. 1. 1. 1. 0. 0. 0. 0. 1. 0.]\n"
     ]
    }
   ],
   "source": [
    "mutar(aleat[0], 3)"
   ]
  }
 ],
 "metadata": {
  "kernelspec": {
   "display_name": "Python 3",
   "language": "python",
   "name": "python3"
  },
  "language_info": {
   "codemirror_mode": {
    "name": "ipython",
    "version": 3
   },
   "file_extension": ".py",
   "mimetype": "text/x-python",
   "name": "python",
   "nbconvert_exporter": "python",
   "pygments_lexer": "ipython3",
   "version": "3.8.2"
  }
 },
 "nbformat": 4,
 "nbformat_minor": 2
}
