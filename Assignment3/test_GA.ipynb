{
 "cells": [
  {
   "cell_type": "markdown",
   "metadata": {},
   "source": [
    "# <font color='red'><ins>Práctica 3 FAA - Clasificación mediante Algoritmos Genéticos</ins></font>\n",
    "## Alejandro Santorum Varela - alejandro.santorum@estudiante.uam.es\n",
    "## José Manuel Chacón Aguilera - josem.chacon@estudiante.uam.es"
   ]
  },
  {
   "cell_type": "code",
   "execution_count": 24,
   "metadata": {},
   "outputs": [
    {
     "name": "stdout",
     "output_type": "stream",
     "text": [
      "The autoreload extension is already loaded. To reload it, use:\n",
      "  %reload_ext autoreload\n"
     ]
    }
   ],
   "source": [
    "%load_ext autoreload\n",
    "%autoreload 2"
   ]
  },
  {
   "cell_type": "code",
   "execution_count": 25,
   "metadata": {},
   "outputs": [],
   "source": [
    "import sys\n",
    "sys.path.append('/usr/local/lib/python3.7/site-packages')"
   ]
  },
  {
   "cell_type": "code",
   "execution_count": 26,
   "metadata": {},
   "outputs": [],
   "source": [
    "# My modules\n",
    "from Datos import Datos\n",
    "import EstrategiaParticionado\n",
    "import Clasificador\n",
    "\n",
    "# External modules\n",
    "import numpy as np\n",
    "import random\n",
    "import matplotlib.pyplot as plt\n",
    "from sklearn.preprocessing import OneHotEncoder\n",
    "\n",
    "# Important to pre-install tabulate (pip install tabulate)\n",
    "from tabulate import tabulate\n",
    "\n",
    "# Init class Classifier\n",
    "clasificador = Clasificador.Clasificador()"
   ]
  },
  {
   "cell_type": "code",
   "execution_count": 27,
   "metadata": {},
   "outputs": [
    {
     "name": "stdout",
     "output_type": "stream",
     "text": [
      "Numero de ejemplos: 1046 | Numero de columnas: 4\n",
      "Numero de ejemplos: 1046 | Numero de columnas (ENCODE): 22\n"
     ]
    }
   ],
   "source": [
    "db_titanic = Datos('../ConjuntosDatos/titanic.data', allNominal = True)\n",
    "n,m = db_titanic.datos.shape\n",
    "print(\"Numero de ejemplos:\", n,\"| Numero de columnas:\", m)\n",
    "\n",
    "datosenc = Datos.encodeDatos(db_titanic.datos)\n",
    "n,m = datosenc.shape\n",
    "print(\"Numero de ejemplos:\", n,\"| Numero de columnas (ENCODE):\", m)"
   ]
  },
  {
   "cell_type": "code",
   "execution_count": 28,
   "metadata": {},
   "outputs": [
    {
     "name": "stdout",
     "output_type": "stream",
     "text": [
      "[1. 1. 3. 1.]\n",
      "[0. 1. 0. 0. 1. 0. 0. 0. 1. 0. 0. 0. 0. 0. 0. 0. 0. 0. 0. 0. 0. 1.]\n"
     ]
    }
   ],
   "source": [
    "print(db_titanic.datos[0])\n",
    "print(datosenc[0])"
   ]
  },
  {
   "cell_type": "code",
   "execution_count": null,
   "metadata": {},
   "outputs": [],
   "source": [
    "# Entrenamiento. Consiste en sacar el individuo \"ÓPTIMO\".\n",
    "\n",
    "    # - Definir la función/funciones de cruce\n",
    "    # - Definir la mutación/mutaciones\n",
    "    # - Definir la función/funciones de adaptación\n",
    "    \n",
    "    # ------------> Si nos calentamos, implementamos varias de estas y las consideramos hiper-parámetros del algoritmo.\n",
    "    \n",
    "# Clasificación. Consiste en comparar los genes de tu ejemplo con el individuo obtenido anteriormente, si tiene una codificación\n",
    "# genética \"parecida\" codificas como superviviente.\n",
    "    # Definir que es \"parecido\". \n"
   ]
  },
  {
   "cell_type": "code",
   "execution_count": null,
   "metadata": {},
   "outputs": [],
   "source": []
  }
 ],
 "metadata": {
  "kernelspec": {
   "display_name": "Python 3",
   "language": "python",
   "name": "python3"
  },
  "language_info": {
   "codemirror_mode": {
    "name": "ipython",
    "version": 3
   },
   "file_extension": ".py",
   "mimetype": "text/x-python",
   "name": "python",
   "nbconvert_exporter": "python",
   "pygments_lexer": "ipython3",
   "version": "3.8.2"
  }
 },
 "nbformat": 4,
 "nbformat_minor": 2
}
