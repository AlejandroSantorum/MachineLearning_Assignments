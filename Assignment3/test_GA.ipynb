{
 "metadata": {
  "language_info": {
   "codemirror_mode": {
    "name": "ipython",
    "version": 3
   },
   "file_extension": ".py",
   "mimetype": "text/x-python",
   "name": "python",
   "nbconvert_exporter": "python",
   "pygments_lexer": "ipython3",
   "version": "3.7.3-final"
  },
  "orig_nbformat": 2,
  "kernelspec": {
   "name": "python3",
   "display_name": "Python 3"
  }
 },
 "nbformat": 4,
 "nbformat_minor": 2,
 "cells": [
  {
   "source": [
    "# <font color='red'><ins>Práctica 3 FAA - Clasificación mediante Algoritmos Genéticos</ins></font>\n",
    "## Alejandro Santorum Varela - alejandro.santorum@estudiante.uam.es\n",
    "## José Manuel Chacón Aguilera - josem.chacon@estudiante.uam.es"
   ],
   "cell_type": "markdown",
   "metadata": {}
  },
  {
   "cell_type": "code",
   "execution_count": 1,
   "metadata": {},
   "outputs": [],
   "source": [
    "%load_ext autoreload\n",
    "%autoreload 2"
   ]
  },
  {
   "cell_type": "code",
   "execution_count": 2,
   "metadata": {},
   "outputs": [],
   "source": [
    "import sys\n",
    "sys.path.append('/usr/local/lib/python3.7/site-packages')"
   ]
  },
  {
   "cell_type": "code",
   "execution_count": 3,
   "metadata": {},
   "outputs": [],
   "source": [
    "# My modules\n",
    "from Datos import Datos\n",
    "import EstrategiaParticionado\n",
    "import Clasificador\n",
    "\n",
    "# External modules\n",
    "import numpy as np\n",
    "import random\n",
    "import matplotlib.pyplot as plt\n",
    "from sklearn.preprocessing import OneHotEncoder\n",
    "\n",
    "# Important to pre-install tabulate (pip install tabulate)\n",
    "from tabulate import tabulate\n",
    "\n",
    "# Init class Classifier\n",
    "clasificador = Clasificador.Clasificador()"
   ]
  },
  {
   "cell_type": "code",
   "execution_count": 4,
   "metadata": {},
   "outputs": [
    {
     "output_type": "stream",
     "name": "stdout",
     "text": [
      "Numero de ejemplos: 1046 | Numero de columnas: 4\n[False, True, False, True]\n"
     ]
    }
   ],
   "source": [
    "db_titanic = Datos('../ConjuntosDatos/titanic.data')\n",
    "n,m = db_titanic.datos.shape\n",
    "print(\"Numero de ejemplos:\", n,\"| Numero de columnas:\", m)\n",
    "print(db_titanic.nominalAtributos)"
   ]
  },
  {
   "cell_type": "code",
   "execution_count": null,
   "metadata": {},
   "outputs": [],
   "source": []
  },
  {
   "cell_type": "code",
   "execution_count": null,
   "metadata": {},
   "outputs": [],
   "source": []
  },
  {
   "cell_type": "code",
   "execution_count": null,
   "metadata": {},
   "outputs": [],
   "source": []
  }
 ]
}