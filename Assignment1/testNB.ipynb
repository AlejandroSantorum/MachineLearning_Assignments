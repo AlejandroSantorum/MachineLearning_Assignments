{
 "cells": [
  {
   "cell_type": "code",
   "execution_count": 2,
   "metadata": {},
   "outputs": [],
   "source": [
    "from Datos import Datos\n",
    "import numpy as np"
   ]
  },
  {
   "cell_type": "code",
   "execution_count": 7,
   "metadata": {},
   "outputs": [],
   "source": [
    "from abc import ABCMeta,abstractmethod\n",
    "\n",
    "\n",
    "class Clasificador:\n",
    "\n",
    "    # Clase abstracta\n",
    "    __metaclass__ = ABCMeta\n",
    "\n",
    "    # Metodos abstractos que se implementan en casa clasificador concreto\n",
    "    @abstractmethod\n",
    "    # TODO: esta funcion debe ser implementada en cada clasificador concreto\n",
    "    # datosTrain: matriz numpy con los datos de entrenamiento\n",
    "    # atributosDiscretos: array bool con la indicatriz de los atributos nominales\n",
    "    # diccionario: array de diccionarios de la estructura Datos utilizados para la codificacion de variables discretas\n",
    "    def entrenamiento(self,datosTrain,atributosDiscretos,diccionario):\n",
    "        pass\n",
    "\n",
    "\n",
    "    @abstractmethod\n",
    "    # TODO: esta funcion debe ser implementada en cada clasificador concreto\n",
    "    # devuelve un numpy array con las predicciones\n",
    "    def clasifica(self,datosTest,atributosDiscretos,diccionario):\n",
    "        pass\n",
    "\n",
    "\n",
    "    # Obtiene el numero de aciertos y errores para calcular la tasa de fallo\n",
    "    # TODO: implementar\n",
    "    def error(self,datos,pred):\n",
    "        # Aqui se compara la prediccion (pred) con las clases reales y se calcula el error\n",
    "        pass\n",
    "\n",
    "\n",
    "    # Realiza una clasificacion utilizando una estrategia de particionado determinada\n",
    "    # TODO: implementar esta funcion\n",
    "    def validacion(self,particionado,dataset,clasificador,seed=None):\n",
    "        # Creamos las particiones siguiendo la estrategia llamando a particionado.creaParticiones\n",
    "        # - Para validacion cruzada: en el bucle hasta nv entrenamos el clasificador con la particion de train i\n",
    "        # y obtenemos el error en la particion de test i\n",
    "        # - Para validacion simple (hold-out): entrenamos el clasificador con la particion de train\n",
    "        # y obtenemos el error en la particion test. Otra opci�n es repetir la validaci�n simple un n�mero especificado de veces, obteniendo en cada una un error. Finalmente se calcular�a la media.\n",
    "        pass\n",
    "\n",
    "##############################################################################\n",
    "\n",
    "class ClasificadorNaiveBayes(Clasificador):\n",
    "\n",
    "    # TODO: implementar\n",
    "    def entrenamiento(self,datostrain,atributosDiscretos,diccionario):\n",
    "        # First we calculate the priors.\n",
    "        [ndata, nfeat] = datostrain.shape\n",
    "        P = []\n",
    "        for j in range(len(diccionario[nfeat-1])):\n",
    "            cont = 0\n",
    "            for i in range(ndata):\n",
    "                cont = cont + (diccionario[nfeat-1].get(datostrain[i][nfeat-1]) == j)\n",
    "            P.append(cont/ndata)\n",
    "            \n",
    "        # Now we calculate the conditional probabilities.\n",
    "        CP = np.zeros((len(diccionario[nfeat-1]), nfeat-1, 3))\n",
    "\n",
    "        for i in range (len(diccionario[nfeat-1])):\n",
    "            for j in range (nfeat-1):\n",
    "                cont = 0\n",
    "                for l in range(len(diccionario[j])):\n",
    "                    for k in range(ndata):\n",
    "                        if(diccionario[nfeat-1].get(dataset.datos[k][nfeat-1]) == i):\n",
    "                            cont = cont + (dataset.diccionario[j].get(dataset.datos[k][j]) == l)\n",
    "                    CP[i][j][l] = cont/ndata\n",
    "            \n",
    "\n",
    "\n",
    "    # TODO: implementar\n",
    "    def clasifica(self,datostest,atributosDiscretos,diccionario):\n",
    "        Pred = []\n",
    "        [ndata, nfeat] = datostest.shape\n",
    "        for i in range (ndata):\n",
    "            auxpred = []\n",
    "            for k in range(len(diccionario[nfeat - 1])):\n",
    "                aux = P[k]\n",
    "                for j in range (nfeat-1):\n",
    "                    aux = aux * CP[j][diccionario[j].get(datostest[i][j])][k]\n",
    "                auxpred.append(aux)\n",
    "            Pred.append(auxpred.index(max(auxpred)))"
   ]
  },
  {
   "cell_type": "code",
   "execution_count": 8,
   "metadata": {},
   "outputs": [],
   "source": [
    "dataset = Datos(\"../ConjuntosDatos/tic-tac-toe.data\")"
   ]
  },
  {
   "cell_type": "code",
   "execution_count": 9,
   "metadata": {},
   "outputs": [
    {
     "name": "stdout",
     "output_type": "stream",
     "text": [
      "958 10\n"
     ]
    }
   ],
   "source": [
    "[ndata, nfeat] = dataset.datos.shape\n",
    "print(ndata,nfeat)"
   ]
  },
  {
   "cell_type": "code",
   "execution_count": 10,
   "metadata": {},
   "outputs": [
    {
     "name": "stdout",
     "output_type": "stream",
     "text": [
      "2\n"
     ]
    }
   ],
   "source": [
    "print (len(dataset.diccionario[nfeat-1]))"
   ]
  },
  {
   "cell_type": "code",
   "execution_count": 11,
   "metadata": {},
   "outputs": [
    {
     "name": "stdout",
     "output_type": "stream",
     "text": [
      "[0.3465553235908142, 0.6534446764091858]\n"
     ]
    }
   ],
   "source": [
    "P = []\n",
    "for j in range(len(dataset.diccionario[nfeat-1])):\n",
    "    cont = 0\n",
    "    for i in range(ndata):\n",
    "        cont = cont + (dataset.diccionario[nfeat-1].get(dataset.datos[i][nfeat-1]) == j)\n",
    "    P.append(cont/ndata)\n",
    "    \n",
    "print (P)"
   ]
  },
  {
   "cell_type": "code",
   "execution_count": 36,
   "metadata": {},
   "outputs": [
    {
     "name": "stdout",
     "output_type": "stream",
     "text": [
      "[[[0.18975904 0.22683706]\n",
      "  [0.62951807 0.52875399]\n",
      "  [1.         1.        ]]\n",
      "\n",
      " [[0.23493976 0.27476038]\n",
      "  [0.53915663 0.64057508]\n",
      "  [1.         1.        ]]\n",
      "\n",
      " [[0.18975904 0.22683706]\n",
      "  [0.62951807 0.52875399]\n",
      "  [1.         1.        ]]\n",
      "\n",
      " [[0.23493976 0.27476038]\n",
      "  [0.53915663 0.64057508]\n",
      "  [1.         1.        ]]\n",
      "\n",
      " [[0.14457831 0.17891374]\n",
      "  [0.72289157 0.41533546]\n",
      "  [1.         1.        ]]\n",
      "\n",
      " [[0.23493976 0.27476038]\n",
      "  [0.53915663 0.64057508]\n",
      "  [1.         1.        ]]\n",
      "\n",
      " [[0.18975904 0.22683706]\n",
      "  [0.62951807 0.52875399]\n",
      "  [1.         1.        ]]\n",
      "\n",
      " [[0.23493976 0.27476038]\n",
      "  [0.53915663 0.64057508]\n",
      "  [1.         1.        ]]\n",
      "\n",
      " [[0.18975904 0.22683706]\n",
      "  [0.62951807 0.52875399]\n",
      "  [1.         1.        ]]]\n"
     ]
    }
   ],
   "source": [
    "nvals = 3\n",
    "CP = np.zeros((nfeat-1, nvals, len(dataset.diccionario[nfeat-1])))\n",
    "\n",
    "for i in range (len(dataset.diccionario[nfeat-1])):\n",
    "    for j in range (nfeat-1):\n",
    "        cont = 0\n",
    "        for l in range(len(dataset.diccionario[j])):\n",
    "            for k in range(ndata):\n",
    "                if(dataset.diccionario[nfeat-1].get(dataset.datos[k][nfeat-1]) == i):\n",
    "                    cont = cont + (dataset.diccionario[j].get(dataset.datos[k][j]) == l)\n",
    "            CP[j][l][i] = cont/(ndata*P[i])\n",
    "print (CP)"
   ]
  },
  {
   "cell_type": "code",
   "execution_count": 37,
   "metadata": {},
   "outputs": [
    {
     "name": "stdout",
     "output_type": "stream",
     "text": [
      "[1, 0, 1, 1, 1, 1, 1, 1, 1, 1, 1, 1, 1, 1, 1, 1, 1, 1, 1, 1, 1, 1, 0, 1, 1, 1, 1, 1, 1, 1, 1, 1, 1, 1, 1, 1, 1, 1, 1, 1, 1, 1, 1, 1, 1, 1, 1, 1, 1, 1, 1, 1, 1, 1, 1, 1, 1, 1, 1, 1, 1, 1, 1, 1, 1, 1, 1, 1, 1, 1, 1, 1, 1, 1, 1, 1, 1, 1, 1, 0, 1, 1, 1, 1, 1, 1, 1, 1, 1, 1, 1, 1, 1, 1, 1, 1, 1, 1, 1, 1, 1, 1, 1, 1, 1, 1, 1, 1, 1, 1, 1, 1, 1, 1, 1, 1, 1, 1, 1, 1, 1, 1, 1, 1, 1, 1, 1, 1, 1, 1, 1, 1, 1, 1, 1, 1, 1, 1, 1, 1, 1, 1, 1, 1, 1, 1, 1, 1, 1, 1, 1, 1, 1, 1, 1, 1, 1, 1, 0, 1, 1, 1, 1, 1, 1, 1, 1, 1, 1, 1, 1, 1, 1, 1, 1, 1, 1, 1, 1, 1, 1, 1, 1, 1, 1, 1, 1, 1, 1, 1, 1, 1, 1, 1, 1, 1, 1, 1, 1, 1, 1, 1, 1, 1, 1, 1, 1, 1, 1, 1, 1, 1, 1, 1, 1, 1, 1, 1, 1, 1, 1, 1, 1, 1, 1, 1, 1, 1, 1, 1, 1, 1, 1, 1, 1, 1, 1, 1, 1, 1, 1, 1, 1, 1, 1, 1, 1, 1, 1, 1, 1, 1, 1, 1, 1, 1, 1, 1, 1, 1, 1, 1, 1, 1, 1, 1, 1, 1, 1, 1, 1, 1, 1, 1, 1, 1, 1, 1, 1, 1, 1, 1, 1, 1, 1, 1, 1, 1, 1, 1, 1, 1, 1, 1, 1, 1, 1, 0, 1, 1, 1, 1, 1, 1, 1, 1, 1, 1, 1, 1, 1, 1, 1, 1, 1, 1, 1, 1, 1, 0, 1, 1, 1, 1, 1, 1, 1, 1, 0, 1, 1, 1, 1, 1, 0, 1, 1, 1, 1, 1, 1, 1, 1, 1, 1, 1, 1, 1, 1, 1, 1, 1, 1, 1, 1, 1, 1, 1, 1, 1, 1, 1, 1, 1, 1, 1, 1, 1, 1, 1, 1, 1, 1, 1, 1, 1, 0, 1, 1, 1, 1, 1, 1, 1, 1, 1, 1, 1, 1, 1, 1, 1, 1, 1, 1, 1, 1, 1, 1, 1, 1, 1, 1, 1, 1, 1, 1, 1, 1, 1, 1, 1, 1, 1, 1, 1, 1, 1, 1, 1, 1, 1, 1, 1, 1, 1, 1, 1, 1, 1, 1, 1, 1, 1, 1, 1, 1, 1, 1, 1, 1, 1, 1, 1, 1, 1, 1, 1, 1, 1, 1, 1, 1, 1, 1, 1, 1, 1, 1, 1, 1, 1, 1, 1, 1, 1, 1, 1, 1, 1, 1, 1, 1, 1, 1, 1, 1, 1, 1, 1, 1, 1, 1, 1, 1, 1, 1, 1, 1, 1, 1, 1, 1, 1, 1, 1, 1, 1, 1, 1, 1, 1, 1, 1, 1, 1, 1, 1, 1, 1, 1, 1, 1, 1, 1, 1, 1, 1, 1, 1, 1, 1, 1, 1, 1, 1, 1, 1, 1, 1, 1, 1, 1, 1, 1, 1, 1, 1, 1, 1, 1, 1, 1, 1, 1, 1, 1, 1, 1, 1, 1, 1, 1, 1, 1, 1, 1, 1, 1, 1, 1, 1, 1, 1, 1, 1, 1, 1, 1, 1, 1, 1, 1, 1, 1, 1, 1, 1, 1, 1, 1, 1, 1, 1, 1, 1, 1, 1, 1, 1, 1, 1, 1, 1, 1, 1, 1, 1, 1, 1, 1, 1, 1, 1, 1, 1, 1, 1, 1, 1, 1, 1, 1, 1, 1, 1, 1, 1, 1, 1, 1, 1, 1, 1, 1, 1, 1, 1, 1, 1, 0, 1, 1, 1, 0, 1, 1, 1, 1, 1, 1, 1, 1, 1, 1, 1, 1, 1, 1, 1, 1, 0, 1, 1, 1, 1, 1, 1, 1, 1, 1, 1, 1, 1, 1, 1, 1, 1, 1, 1, 1, 1, 1, 1, 1, 1, 1, 1, 1, 1, 1, 1, 1, 1, 1, 1, 1, 1, 1, 1, 1, 1, 1, 1, 1, 1, 1, 1, 1, 1, 1, 1, 1, 1, 1, 1, 1, 1, 1, 1, 1, 1, 1, 1, 1, 1, 1, 1, 1, 0, 1, 1, 1, 1, 1, 1, 1, 1, 1, 1, 1, 1, 1, 1, 1, 1, 1, 1, 1, 1, 1, 0, 1, 1, 1, 1, 0, 1, 1, 1, 1, 1, 1, 1, 1, 1, 1, 1, 1, 1, 1, 1, 1, 1, 1, 1, 1, 1, 1, 0, 1, 1, 1, 1, 1, 0, 0, 0, 0, 0, 0, 1, 1, 1, 0, 0, 1, 0, 1, 1, 1, 1, 1, 1, 1, 1, 1, 1, 1, 1, 1, 1, 1, 1, 1, 1, 1, 1, 1, 1, 1, 1, 1, 1, 1, 1, 1, 1, 1, 1, 1, 1, 1, 1, 1, 1, 1, 1, 1, 1, 1, 1, 1, 1, 1, 1, 1, 1, 1, 1, 1, 1, 1, 1, 1, 1, 1, 1, 1, 1, 1, 0, 1, 1, 1, 1, 1, 1, 1, 1, 1, 1, 1, 1, 1, 1, 1, 1, 0, 0, 1, 1, 1, 1, 1, 1, 1, 1, 1, 1, 1, 1, 1, 1, 1, 1, 1, 1, 1, 1, 1, 1, 1, 0, 1, 1, 1, 1, 1, 1, 1, 1, 1, 1, 1, 1, 1, 1, 1, 1, 1, 1, 1, 1, 1, 1, 1, 1, 1, 1, 1, 1, 1, 1, 1, 1, 1, 1, 1, 1, 1, 1, 1, 1, 1, 1, 1, 1, 1, 1, 1, 1, 1, 0, 1, 1, 0, 1, 1, 1, 1, 1, 1, 0, 1, 0, 1, 1]\n"
     ]
    }
   ],
   "source": [
    "Pred = []\n",
    "for i in range (ndata):\n",
    "    auxpred = []\n",
    "    for k in range(len(dataset.diccionario[nfeat - 1])):\n",
    "        aux = P[k]\n",
    "        for j in range (nfeat-1):\n",
    "            aux = aux * CP[j][dataset.diccionario[j].get(dataset.datos[i][j])][k]\n",
    "        auxpred.append(aux)\n",
    "    Pred.append(auxpred.index(max(auxpred)))\n",
    "print(Pred)\n",
    "        \n",
    "            "
   ]
  },
  {
   "cell_type": "code",
   "execution_count": null,
   "metadata": {},
   "outputs": [],
   "source": []
  }
 ],
 "metadata": {
  "kernelspec": {
   "display_name": "Python 3",
   "language": "python",
   "name": "python3"
  },
  "language_info": {
   "codemirror_mode": {
    "name": "ipython",
    "version": 3
   },
   "file_extension": ".py",
   "mimetype": "text/x-python",
   "name": "python",
   "nbconvert_exporter": "python",
   "pygments_lexer": "ipython3",
   "version": "3.8.2"
  }
 },
 "nbformat": 4,
 "nbformat_minor": 4
}
