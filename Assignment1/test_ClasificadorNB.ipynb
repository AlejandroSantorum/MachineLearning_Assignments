{
 "cells": [
  {
   "cell_type": "code",
   "execution_count": 3,
   "metadata": {},
   "outputs": [],
   "source": [
    "%load_ext autoreload\n",
    "%autoreload 2"
   ]
  },
  {
   "cell_type": "code",
   "execution_count": 4,
   "metadata": {},
   "outputs": [],
   "source": [
    "import sys\n",
    "sys.path.append('/usr/local/lib/python3.7/site-packages')"
   ]
  },
  {
   "cell_type": "code",
   "execution_count": 5,
   "metadata": {},
   "outputs": [],
   "source": [
    "from Datos import Datos\n",
    "import EstrategiaParticionado\n",
    "import Clasificador\n",
    "\n",
    "import numpy as np\n",
    "import random\n",
    "import matplotlib.pyplot as plt\n",
    "from sklearn.preprocessing import OneHotEncoder\n",
    "\n",
    "# Important to pre-install tabulate (pip install tabulate)\n",
    "from tabulate import tabulate\n",
    "\n",
    "clasificador = Clasificador.Clasificador()"
   ]
  },
  {
   "cell_type": "code",
   "execution_count": 6,
   "metadata": {},
   "outputs": [],
   "source": [
    "final_results_dict = {}"
   ]
  },
  {
   "cell_type": "markdown",
   "metadata": {},
   "source": [
    "# <font color='red'>0. Particionado</font>"
   ]
  },
  {
   "cell_type": "markdown",
   "metadata": {},
   "source": [
    "Probaremos la clase Particion y EstrategiaParticionado con el conjunto de datos 'tic-tac-toe'."
   ]
  },
  {
   "cell_type": "code",
   "execution_count": 7,
   "metadata": {},
   "outputs": [],
   "source": [
    "db = Datos('../ConjuntosDatos/tic-tac-toe.data')"
   ]
  },
  {
   "cell_type": "code",
   "execution_count": 8,
   "metadata": {},
   "outputs": [
    {
     "data": {
      "text/plain": [
       "958"
      ]
     },
     "execution_count": 8,
     "metadata": {},
     "output_type": "execute_result"
    }
   ],
   "source": [
    "n,m = db.datos.shape\n",
    "n"
   ]
  },
  {
   "cell_type": "markdown",
   "metadata": {},
   "source": [
    "Tenemos 958 ejemplos de entrenamiento. Vamos a comprobar el correcto funcionamiento del módulo de particionado con los tres siguientes modelos:\n",
    "- validacion simple con 80% de los ejemplos para el conjunto de entrenamiento (20% test).\n",
    "- validacion simple (80% - 20% también), pero con 3 repeticiones.\n",
    "- validacion cruzada"
   ]
  },
  {
   "cell_type": "markdown",
   "metadata": {},
   "source": [
    "### 0.1 Validación simple"
   ]
  },
  {
   "cell_type": "code",
   "execution_count": 9,
   "metadata": {},
   "outputs": [
    {
     "name": "stdout",
     "output_type": "stream",
     "text": [
      "Indices train: 766\n",
      "Indices train teoricos: 766\n",
      "Indices test: 192\n",
      "Indices test teoricos: 192\n"
     ]
    }
   ],
   "source": [
    "simple_strat = EstrategiaParticionado.ValidacionSimple(0.8)\n",
    "simple_strat.creaParticiones(db.datos)\n",
    "\n",
    "len_indices_train = len(simple_strat.particiones[0].indicesTrain)\n",
    "len_indices_test = len(simple_strat.particiones[0].indicesTest)\n",
    "\n",
    "print(\"Indices train:\", len_indices_train)\n",
    "print(\"Indices train teoricos:\", int(0.8*n))\n",
    "print(\"Indices test:\", len_indices_test)\n",
    "print(\"Indices test teoricos:\", n - int(0.8*n))"
   ]
  },
  {
   "cell_type": "code",
   "execution_count": 10,
   "metadata": {},
   "outputs": [
    {
     "name": "stdout",
     "output_type": "stream",
     "text": [
      "Train: [622, 262, 312, 211, 358, 0, 813, 426, 920, 642]\n",
      "Test: [11, 12, 13, 16, 20, 21, 24, 32, 35, 46]\n"
     ]
    }
   ],
   "source": [
    "print(\"Train:\", simple_strat.particiones[0].indicesTrain[:10])\n",
    "print(\"Test:\", simple_strat.particiones[0].indicesTest[:10])"
   ]
  },
  {
   "cell_type": "markdown",
   "metadata": {},
   "source": [
    "### 0.2 Validación simple con 3 repeticiones"
   ]
  },
  {
   "cell_type": "markdown",
   "metadata": {},
   "source": [
    "Comprobamos que para cada partición simple (una por repetición), el número esperado de ejemplos del conjunto de entrenamiento se corresponde con el número real. Análogamente, comprobamos que el número esperado de ejemplos del conjunto de test se corresponde con el número teórico.\n",
    "\n",
    "Por lo tanto la siguiente celda debería imprimir 'True' tantas veces como comprobaciones"
   ]
  },
  {
   "cell_type": "code",
   "execution_count": 11,
   "metadata": {},
   "outputs": [
    {
     "name": "stdout",
     "output_type": "stream",
     "text": [
      "True\n",
      "True\n",
      "True\n",
      "True\n",
      "True\n",
      "True\n"
     ]
    }
   ],
   "source": [
    "REPS = 3\n",
    "simple_strat_rep3 = EstrategiaParticionado.ValidacionSimple(0.8, nreps=REPS)\n",
    "simple_strat_rep3.creaParticiones(db.datos)\n",
    "\n",
    "for i in range(REPS):\n",
    "    print(len(simple_strat_rep3.particiones[i].indicesTrain) == int(n*0.8))\n",
    "    print(len(simple_strat_rep3.particiones[i].indicesTest) == (n-int(n*0.8)))"
   ]
  },
  {
   "cell_type": "code",
   "execution_count": 12,
   "metadata": {},
   "outputs": [
    {
     "name": "stdout",
     "output_type": "stream",
     "text": [
      "Train: [72, 560, 440, 421, 146, 619, 341, 205, 431, 794]\n",
      "Test: [14, 23, 27, 36, 38, 39, 43, 54, 63, 66]\n"
     ]
    }
   ],
   "source": [
    "print(\"Train:\", simple_strat_rep3.particiones[REPS-1].indicesTrain[:10])\n",
    "print(\"Test:\", simple_strat_rep3.particiones[REPS-1].indicesTest[:10])"
   ]
  },
  {
   "cell_type": "markdown",
   "metadata": {},
   "source": [
    "### 0.3 Validación cruzada"
   ]
  },
  {
   "cell_type": "markdown",
   "metadata": {},
   "source": [
    "Comprobamos que para cada partición (una por kfold), el número esperado de ejemplos del conjunto de entrenamiento se corresponde con el número real. Análogamente, comprobamos que el número esperado de ejemplos del conjunto de test se corresponde con el número teórico.\n",
    "\n",
    "Por lo tanto la siguiente celda debería imprimir 'True' tantas veces como comprobaciones"
   ]
  },
  {
   "cell_type": "code",
   "execution_count": 13,
   "metadata": {},
   "outputs": [
    {
     "name": "stdout",
     "output_type": "stream",
     "text": [
      "True\n",
      "True\n",
      "True\n",
      "True\n",
      "True\n",
      "True\n",
      "True\n",
      "True\n",
      "True\n",
      "True\n"
     ]
    }
   ],
   "source": [
    "KFOLDS = 5\n",
    "cross_val = EstrategiaParticionado.ValidacionCruzada(k_fold=KFOLDS)\n",
    "cross_val.creaParticiones(db.datos)\n",
    "\n",
    "for i in range(KFOLDS):\n",
    "    print(len(cross_val.particiones[i].indicesTrain) == (n-int(n/KFOLDS)))\n",
    "    print(len(cross_val.particiones[i].indicesTest) == int(n/KFOLDS))"
   ]
  },
  {
   "cell_type": "code",
   "execution_count": 14,
   "metadata": {},
   "outputs": [
    {
     "name": "stdout",
     "output_type": "stream",
     "text": [
      "Train: [0 1 2 3 4 5 6 7 8 9]\n",
      "Test: [764 765 766 767 768 769 770 771 772 773]\n"
     ]
    }
   ],
   "source": [
    "print(\"Train:\", cross_val.particiones[KFOLDS-1].indicesTrain[:10])\n",
    "print(\"Test:\", cross_val.particiones[KFOLDS-1].indicesTest[:10])"
   ]
  },
  {
   "cell_type": "markdown",
   "metadata": {},
   "source": [
    "Visto que funciona correctamente el módulo de particionado, recalcamos el hecho de que este <b>no se encarga de embarajar los ejemplos de entrenamiento</b>. Esto se debe hacer <b>antes del entrenamiento</b>."
   ]
  },
  {
   "cell_type": "markdown",
   "metadata": {},
   "source": [
    "En cuanto a las <b>estrategias de particionado</b>, cada una tiene sus particularidades.\n",
    "\n",
    "El método <b>validación simple</b> es el más sencillo, pero el hecho de que los conjuntos <b>train y test sean escogidos aleatoriamente</b> para cada repetición <b>induce a variaciones</b> en ejecuciones sucesivas. Esto es debido a que las observaciones se distribuyen aleatoriamente entre los conjuntos de train y test y si por casualidad caen muy pocas observaciones o demasiadas de un tipo concreto en el conjunto de train podemos tener prblemas tanto de  <b>\"overfitting\"</b> como <b>\"underfitting\"</b>.\n",
    "\n",
    "La <b>validación cruzada</b> al <b>comparar los datos por lotes, todos con todos</b> consigue obtener <b>aproximaciones de error más estables</b> y optimiza el <b>problema del ajuste</b> comentado anteriormente. Por tanto la <b>tasa de error</b> obtenida por validación cruzada suelen ser <b>mejor y más fiable</b>."
   ]
  },
  {
   "cell_type": "markdown",
   "metadata": {},
   "source": [
    "# <font color='red'>1. Entrenamiento y clasificación con Clasificador.py</font>\n"
   ]
  },
  {
   "cell_type": "markdown",
   "metadata": {},
   "source": [
    "## <font color='blue'> 1.1 Dataset tic-tac-toe </font>"
   ]
  },
  {
   "cell_type": "code",
   "execution_count": 15,
   "metadata": {},
   "outputs": [
    {
     "name": "stdout",
     "output_type": "stream",
     "text": [
      "Numero de ejemplos de entrenamiento: 958 , Numero de columnas: 10\n"
     ]
    }
   ],
   "source": [
    "dataset_ttt = Datos(\"../ConjuntosDatos/tic-tac-toe.data\")\n",
    "ndata, ncols = dataset_ttt.datos.shape # nfeat = ncols-1 \n",
    "print(\"Numero de ejemplos de entrenamiento:\", ndata, \", Numero de columnas:\", ncols)"
   ]
  },
  {
   "cell_type": "code",
   "execution_count": 16,
   "metadata": {},
   "outputs": [],
   "source": [
    "np.random.shuffle(dataset_ttt.datos) # Importante embarajar los datos!\n",
    "\n",
    "NB = Clasificador.ClasificadorNaiveBayes()\n",
    "NB_noLaplace = Clasificador.ClasificadorNaiveBayes(laplace=False)"
   ]
  },
  {
   "cell_type": "markdown",
   "metadata": {},
   "source": [
    "### 1.1.1 Validación simple"
   ]
  },
  {
   "cell_type": "code",
   "execution_count": 17,
   "metadata": {},
   "outputs": [],
   "source": [
    "strat_simple = EstrategiaParticionado.ValidacionSimple(0.8)"
   ]
  },
  {
   "cell_type": "code",
   "execution_count": 19,
   "metadata": {},
   "outputs": [
    {
     "name": "stdout",
     "output_type": "stream",
     "text": [
      "Con Laplace: [0.29166666666666663]\n",
      "Sin Laplace: [0.3125]\n"
     ]
    }
   ],
   "source": [
    "errores = clasificador.validacion(strat_simple, dataset_ttt, NB)\n",
    "print(\"Con Laplace:\", errores)\n",
    "errores2 = clasificador.validacion(strat_simple, dataset_ttt, NB_noLaplace)\n",
    "print(\"Sin Laplace:\", errores2)\n",
    "\n",
    "# We will use this result later\n",
    "final_results_dict['clasificador_val_simple_ttt'] = [np.mean(errores), np.std(errores)]\n",
    "final_results_dict['clasificador_val_simple_ttt_NL'] = [np.mean(errores2), np.std(errores2)]"
   ]
  },
  {
   "cell_type": "markdown",
   "metadata": {},
   "source": [
    "Podemos apreciar en este pequeño subapartado que el entrenamiento usando la corrección de Laplace es más preciso que el entrenamiento obviando la propia corrección."
   ]
  },
  {
   "cell_type": "markdown",
   "metadata": {},
   "source": [
    "### 1.1.2 Validación simple con varias repeticiones (3 reps)"
   ]
  },
  {
   "cell_type": "code",
   "execution_count": 20,
   "metadata": {},
   "outputs": [],
   "source": [
    "strat_simple_rep3 = EstrategiaParticionado.ValidacionSimple(0.8, nreps=3)"
   ]
  },
  {
   "cell_type": "code",
   "execution_count": 22,
   "metadata": {},
   "outputs": [
    {
     "name": "stdout",
     "output_type": "stream",
     "text": [
      "Errores con Laplace: [0.27083333333333337, 0.32291666666666663, 0.30208333333333337]\n",
      "Error medio con Laplace: 0.2986111111111111 +- 0.021404215288086694\n",
      "Errores sin Laplace: [0.3125, 0.296875, 0.27604166666666663]\n",
      "Error medio sin Laplace: 0.2951388888888889 +- 0.014934592477504576\n"
     ]
    }
   ],
   "source": [
    "errores = clasificador.validacion(strat_simple_rep3, dataset_ttt, NB)\n",
    "print(\"Errores con Laplace:\", errores)\n",
    "print(\"Error medio con Laplace:\", np.mean(errores), \"+-\", np.std(errores))\n",
    "errores2 = clasificador.validacion(strat_simple_rep3, dataset_ttt, NB_noLaplace)\n",
    "print(\"Errores sin Laplace:\", errores2)\n",
    "print(\"Error medio sin Laplace:\", np.mean(errores2), \"+-\", np.std(errores2))\n",
    "\n",
    "# We will use this result later\n",
    "final_results_dict['clasificador_val_simple_rep3_ttt'] = [np.mean(errores), np.std(errores)]\n",
    "final_results_dict['clasificador_val_simple_rep3_ttt_NL'] = [np.mean(errores2), np.std(errores2)]"
   ]
  },
  {
   "cell_type": "markdown",
   "metadata": {},
   "source": [
    "Cuando repetimos varias veces el entrenamiento con una estrategia de particionado simple el error usando la corrección de Laplace es muy similar al error que obtenemos al no usarla. Sabiendo esto, podríamos desactivar Laplace para ganar eficiencia computacional y poder entrenar un mayor conjunto de datos en menos tiempo."
   ]
  },
  {
   "cell_type": "markdown",
   "metadata": {},
   "source": [
    "### 1.1.3 Validación Cruzada (5 folds)"
   ]
  },
  {
   "cell_type": "code",
   "execution_count": 23,
   "metadata": {},
   "outputs": [],
   "source": [
    "strat_cross = EstrategiaParticionado.ValidacionCruzada(k_fold=5)"
   ]
  },
  {
   "cell_type": "code",
   "execution_count": 28,
   "metadata": {},
   "outputs": [
    {
     "name": "stdout",
     "output_type": "stream",
     "text": [
      "Errores con Laplace: [0.31413612565445026, 0.2984293193717278, 0.3036649214659686, 0.2774869109947644, 0.2879581151832461]\n",
      "Error medio con Laplace: 0.29633507853403146 +- 0.012652404160832003\n",
      "Errores sin Laplace: [0.2722513089005235, 0.2722513089005235, 0.2931937172774869, 0.32460732984293195, 0.32984293193717273]\n",
      "Error medio sin Laplace: 0.29842931937172773 +- 0.024779391761673795\n"
     ]
    }
   ],
   "source": [
    "errores = clasificador.validacion(strat_cross, dataset_ttt, NB)\n",
    "print(\"Errores con Laplace:\", errores)\n",
    "print(\"Error medio con Laplace:\", np.mean(errores), \"+-\", np.std(errores))\n",
    "errores2 = clasificador.validacion(strat_cross, dataset_ttt, NB_noLaplace)\n",
    "print(\"Errores sin Laplace:\", errores2)\n",
    "print(\"Error medio sin Laplace:\", np.mean(errores2), \"+-\", np.std(errores2))\n",
    "\n",
    "# We will use this result later\n",
    "final_results_dict['clasificador_cross_val_ttt'] = [np.mean(errores), np.std(errores)]\n",
    "final_results_dict['clasificador_cross_val_ttt_NL'] = [np.mean(errores2), np.std(errores2)]"
   ]
  },
  {
   "cell_type": "markdown",
   "metadata": {},
   "source": [
    "El entrenamiento con la corrección de Laplace sigue siendo más preciso, pero la diferencia es ínfima. Podemos, de nuevo, sugerir desactivar dicho método para ganar eficiencia."
   ]
  },
  {
   "cell_type": "markdown",
   "metadata": {},
   "source": [
    "Por otro lado, ahora nos centramos en la comparación de los resultados de las tres estrategias de particionado. En una futura sección del notebook se resumirán todos los resultados obtenidos, pero podemos hacer un pequeño comentario ahora sobre el entrenamiento y clasificación del conjunto de datos 'tic-tac-toe'.\n",
    "\n",
    "Podemos observar que los errores obtenidos no son muy dispares. Parece que la media del error se distribuye entorno al 29% con una ligera desviación típica. Aún no podemos distinguir la mejor estrategia de las tres con estos resultados."
   ]
  },
  {
   "cell_type": "markdown",
   "metadata": {},
   "source": [
    "## <font color='blue'> 1.2 Dataset German </font>"
   ]
  },
  {
   "cell_type": "code",
   "execution_count": 38,
   "metadata": {},
   "outputs": [
    {
     "name": "stdout",
     "output_type": "stream",
     "text": [
      "Numero de ejemplos de entrenamiento: 1000 , Numero de columnas: 21\n"
     ]
    }
   ],
   "source": [
    "dataset_ger = Datos(\"../ConjuntosDatos/german.data\")\n",
    "ndata, ncols = dataset_ger.datos.shape # nfeat = ncols-1 \n",
    "print(\"Numero de ejemplos de entrenamiento:\", ndata, \", Numero de columnas:\", ncols)"
   ]
  },
  {
   "cell_type": "code",
   "execution_count": 39,
   "metadata": {},
   "outputs": [],
   "source": [
    "np.random.shuffle(dataset_ger.datos)"
   ]
  },
  {
   "cell_type": "markdown",
   "metadata": {},
   "source": [
    "### 1.2.1 Validación simple"
   ]
  },
  {
   "cell_type": "code",
   "execution_count": 48,
   "metadata": {},
   "outputs": [
    {
     "name": "stdout",
     "output_type": "stream",
     "text": [
      "Con Laplace: [0.24]\n",
      "Sin Laplace: [0.28]\n"
     ]
    }
   ],
   "source": [
    "strat_simple_ger = EstrategiaParticionado.ValidacionSimple(0.8)\n",
    "\n",
    "errores = clasificador.validacion(strat_simple_ger, dataset_ger, NB)\n",
    "print(\"Con Laplace:\", errores)\n",
    "errores2 = clasificador.validacion(strat_simple_ger, dataset_ger, NB_noLaplace)\n",
    "print(\"Sin Laplace:\", errores2)\n",
    "\n",
    "# We will use this result later\n",
    "final_results_dict['clasificador_val_simple_ger'] = [np.mean(errores), np.std(errores)]\n",
    "final_results_dict['clasificador_val_simple_ger_NL'] = [np.mean(errores2), np.std(errores2)]"
   ]
  },
  {
   "cell_type": "markdown",
   "metadata": {},
   "source": [
    "Nuevo conjunto de datos, pero los resultados son similares: la corrección de Laplace ayuda, pero tampoco hace milagros."
   ]
  },
  {
   "cell_type": "markdown",
   "metadata": {},
   "source": [
    "### 1.2.2 Validación simple con varias repeticiones (3 reps)"
   ]
  },
  {
   "cell_type": "code",
   "execution_count": 44,
   "metadata": {},
   "outputs": [
    {
     "name": "stdout",
     "output_type": "stream",
     "text": [
      "Errores con Laplace: [0.24, 0.21999999999999997, 0.245]\n",
      "Error medio con Laplace: 0.235 +- 0.010801234497346443\n",
      "Errores sin Laplace: [0.275, 0.20999999999999996, 0.30500000000000005]\n",
      "Error medio sin Laplace: 0.26333333333333336 +- 0.03965125751123443\n"
     ]
    }
   ],
   "source": [
    "strat_simple_rep3_ger = EstrategiaParticionado.ValidacionSimple(0.8, nreps=3)\n",
    "\n",
    "errores = clasificador.validacion(strat_simple_rep3_ger, dataset_ger, NB)\n",
    "print(\"Errores con Laplace:\", errores)\n",
    "print(\"Error medio con Laplace:\", np.mean(errores), \"+-\", np.std(errores))\n",
    "errores2 = clasificador.validacion(strat_simple_rep3_ger, dataset_ger, NB_noLaplace)\n",
    "print(\"Errores sin Laplace:\", errores2)\n",
    "print(\"Error medio sin Laplace:\", np.mean(errores2), \"+-\", np.std(errores2))\n",
    "\n",
    "# We will use this result later\n",
    "final_results_dict['clasificador_val_simple_rep3_ger'] = [np.mean(errores), np.std(errores)]\n",
    "final_results_dict['clasificador_val_simple_rep3_ger_NL'] = [np.mean(errores2), np.std(errores2)]"
   ]
  },
  {
   "cell_type": "markdown",
   "metadata": {},
   "source": [
    "En este caso, parece que realizar varias repeticiones de un entrenamiento con una estrategia de particionado simple no ayuda a reducir el error. No obstante, parece que la corrección de Laplace en este conjunto de datos tiene una mayor presencia que el conjunto de datos anterior. Esto es debido, posiblemente, a que no todos los atributos son discretos, y la corrección de Laplace sólo se realiza sobre este tipo de atributos."
   ]
  },
  {
   "cell_type": "markdown",
   "metadata": {},
   "source": [
    "### 1.2.3 Validación cruzada (5 folds)"
   ]
  },
  {
   "cell_type": "code",
   "execution_count": 46,
   "metadata": {},
   "outputs": [
    {
     "name": "stdout",
     "output_type": "stream",
     "text": [
      "Errores con Laplace: [0.24024024024024027, 0.3153153153153153, 0.21321321321321318]\n",
      "Error medio con Laplace: 0.25625625625625625 +- 0.04319409211289574\n",
      "Errores sin Laplace: [0.2432432432432432, 0.2792792792792793, 0.21321321321321318]\n",
      "Error medio sin Laplace: 0.24524524524524524 +- 0.027008483610074185\n"
     ]
    }
   ],
   "source": [
    "strat_cross_ger = EstrategiaParticionado.ValidacionCruzada(k_fold=3)\n",
    "\n",
    "errores = clasificador.validacion(strat_cross_ger, dataset_ger, NB)\n",
    "print(\"Errores con Laplace:\", errores)\n",
    "print(\"Error medio con Laplace:\", np.mean(errores), \"+-\", np.std(errores))\n",
    "errores2 = clasificador.validacion(strat_cross_ger, dataset_ger, NB_noLaplace)\n",
    "print(\"Errores sin Laplace:\", errores2)\n",
    "print(\"Error medio sin Laplace:\", np.mean(errores2), \"+-\", np.std(errores2))\n",
    "\n",
    "# We will use this result later\n",
    "final_results_dict['clasificador_cross_val_ger'] = [np.mean(errores), np.std(errores)]\n",
    "final_results_dict['clasificador_cross_val_ger_NL'] = [np.mean(errores2), np.std(errores2)]"
   ]
  },
  {
   "cell_type": "markdown",
   "metadata": {},
   "source": [
    "En este caso concreto, la corrección de Laplace no ha aportado nada positivo, de hecho el error es mayor. Nos empezamos a cuestionar si en esta base de datos utilizar es útil utilizar Laplace."
   ]
  },
  {
   "cell_type": "markdown",
   "metadata": {},
   "source": [
    "Por otro lado, ya con las tres estrategias de particionado en mente, podemos ver que los errores se distribuyen alrededor del 25%, pero con una desviación típica mayor que en el caso de 'tic-tac-toe'."
   ]
  },
  {
   "cell_type": "markdown",
   "metadata": {},
   "source": [
    "## <font color='green'> 1.3 Tablas de Resultados (Clasificador.py)</font>"
   ]
  },
  {
   "cell_type": "markdown",
   "metadata": {},
   "source": [
    "Anteriormente hemos visto los resultados para ambos conjuntos de datos, utilizando las 3 estrategias de particionado que hemos implementado y comparando la eficacia de la corrección de Laplace en cada apartado. Como se ha visto que la corrección de Laplace, por lo general, mejora el rendimiento del clasificador, también la utilizaremos en esta subsección para resumir los resultados finales de Clasificador.py"
   ]
  },
  {
   "cell_type": "markdown",
   "metadata": {},
   "source": [
    "###  1.3.1 Validación simple con número variable de repeticiones"
   ]
  },
  {
   "cell_type": "markdown",
   "metadata": {},
   "source": [
    "En este subapartado se añaden una tablas que muestran los errores para un número variable de repeticiones, para las siguientes estrategias de particionado:\n",
    "- Particionado simple con 70% train - 30% test\n",
    "- Particionado simple con 75% train - 25% test\n",
    "- Particionado simple con 80% train - 20% test"
   ]
  },
  {
   "cell_type": "code",
   "execution_count": 49,
   "metadata": {},
   "outputs": [],
   "source": [
    "def val_simple(percentage):\n",
    "    max_reps = 5\n",
    "    L = []\n",
    "    for i in range(1, max_reps+1):\n",
    "        L.append([])\n",
    "        strat = EstrategiaParticionado.ValidacionSimple(percentage, nreps=i)\n",
    "        errores_ttt = clasificador.validacion(strat, dataset_ttt, NB)\n",
    "        errores_ger = clasificador.validacion(strat, dataset_ger, NB)\n",
    "        L[i-1].append(str(i))\n",
    "        L[i-1].append(\"%.2f +- %.3f\"% (np.mean(errores_ttt), np.std(errores_ttt)))\n",
    "        L[i-1].append(\"%.2f +- %.3f\"% (np.mean(errores_ger), np.std(errores_ger)))\n",
    "    print(\"Validación Simple con \" + str(int(percentage*100)) +   \"% Train\\n\")\n",
    "    print(tabulate(L, headers = [\"N_REPS\", \"TTT_DB\", \"GER_DB\"], tablefmt=\"grid\")) "
   ]
  },
  {
   "cell_type": "code",
   "execution_count": 50,
   "metadata": {},
   "outputs": [
    {
     "name": "stdout",
     "output_type": "stream",
     "text": [
      "Validación Simple con 70% Train\n",
      "\n",
      "+----------+---------------+---------------+\n",
      "|   N_REPS | TTT_DB        | GER_DB        |\n",
      "+==========+===============+===============+\n",
      "|        1 | 0.30 +- 0.000 | 0.24 +- 0.000 |\n",
      "+----------+---------------+---------------+\n",
      "|        2 | 0.30 +- 0.016 | 0.26 +- 0.002 |\n",
      "+----------+---------------+---------------+\n",
      "|        3 | 0.32 +- 0.017 | 0.25 +- 0.015 |\n",
      "+----------+---------------+---------------+\n",
      "|        4 | 0.28 +- 0.021 | 0.27 +- 0.027 |\n",
      "+----------+---------------+---------------+\n",
      "|        5 | 0.29 +- 0.024 | 0.28 +- 0.029 |\n",
      "+----------+---------------+---------------+\n"
     ]
    }
   ],
   "source": [
    "val_simple(0.70)"
   ]
  },
  {
   "cell_type": "code",
   "execution_count": 51,
   "metadata": {},
   "outputs": [
    {
     "name": "stdout",
     "output_type": "stream",
     "text": [
      "Validación Simple con 75% Train\n",
      "\n",
      "+----------+---------------+---------------+\n",
      "|   N_REPS | TTT_DB        | GER_DB        |\n",
      "+==========+===============+===============+\n",
      "|        1 | 0.34 +- 0.000 | 0.25 +- 0.000 |\n",
      "+----------+---------------+---------------+\n",
      "|        2 | 0.31 +- 0.019 | 0.27 +- 0.026 |\n",
      "+----------+---------------+---------------+\n",
      "|        3 | 0.33 +- 0.018 | 0.27 +- 0.010 |\n",
      "+----------+---------------+---------------+\n",
      "|        4 | 0.29 +- 0.021 | 0.26 +- 0.017 |\n",
      "+----------+---------------+---------------+\n",
      "|        5 | 0.30 +- 0.021 | 0.24 +- 0.031 |\n",
      "+----------+---------------+---------------+\n"
     ]
    }
   ],
   "source": [
    "val_simple(0.75)"
   ]
  },
  {
   "cell_type": "code",
   "execution_count": 52,
   "metadata": {},
   "outputs": [
    {
     "name": "stdout",
     "output_type": "stream",
     "text": [
      "Validación Simple con 80% Train\n",
      "\n",
      "+----------+---------------+---------------+\n",
      "|   N_REPS | TTT_DB        | GER_DB        |\n",
      "+==========+===============+===============+\n",
      "|        1 | 0.28 +- 0.000 | 0.17 +- 0.000 |\n",
      "+----------+---------------+---------------+\n",
      "|        2 | 0.29 +- 0.016 | 0.25 +- 0.013 |\n",
      "+----------+---------------+---------------+\n",
      "|        3 | 0.29 +- 0.020 | 0.28 +- 0.025 |\n",
      "+----------+---------------+---------------+\n",
      "|        4 | 0.29 +- 0.027 | 0.23 +- 0.034 |\n",
      "+----------+---------------+---------------+\n",
      "|        5 | 0.29 +- 0.018 | 0.26 +- 0.010 |\n",
      "+----------+---------------+---------------+\n"
     ]
    }
   ],
   "source": [
    "val_simple(0.80)"
   ]
  },
  {
   "cell_type": "markdown",
   "metadata": {},
   "source": [
    "Está claro en primer lugar que el conjunto de datos 'german' es clasificado con más precisión que el conjunto 'tic-tac-toe'. La base de datos 'tic-tac-toe' tiene un error entorno al 29-30% (con una desviación típica del 0.02); por el contrario, la base de datos 'german' tiene un error entorno al 25-26% (desviación típica del 0.02).\n",
    "\n",
    "En cuanto al número de repeticiones, no podemos observar una gran diferencia en los errores. Esto es debido a que la desviación típica es muy pequeña, y entrenar con un número alto de repeticiones no va a merecer la pena. Sí que es mejor realizar una partición simple con varias repeticiones para <b>evitar casos límite</b>, pero no un número exagerado que pueda perjudicar el rendimiento."
   ]
  },
  {
   "cell_type": "markdown",
   "metadata": {},
   "source": [
    "### 1.3.2 Validación cruzada"
   ]
  },
  {
   "cell_type": "markdown",
   "metadata": {},
   "source": [
    "Añadimos ahora una tabla que muestra el efecto de variar el número de <em>folds</em> en una estrategia de particionado cruzada."
   ]
  },
  {
   "cell_type": "code",
   "execution_count": 55,
   "metadata": {},
   "outputs": [
    {
     "name": "stdout",
     "output_type": "stream",
     "text": [
      "+-----------+---------------+---------------+\n",
      "|   K_FOLDS | TTT_DB        | GER_DB        |\n",
      "+===========+===============+===============+\n",
      "|         3 | 0.30 +- 0.023 | 0.26 +- 0.028 |\n",
      "+-----------+---------------+---------------+\n",
      "|         5 | 0.30 +- 0.019 | 0.25 +- 0.025 |\n",
      "+-----------+---------------+---------------+\n",
      "|         7 | 0.31 +- 0.029 | 0.25 +- 0.034 |\n",
      "+-----------+---------------+---------------+\n",
      "|         9 | 0.31 +- 0.047 | 0.25 +- 0.049 |\n",
      "+-----------+---------------+---------------+\n",
      "|        11 | 0.30 +- 0.060 | 0.25 +- 0.055 |\n",
      "+-----------+---------------+---------------+\n"
     ]
    }
   ],
   "source": [
    "max_folds = 11\n",
    "j = 0\n",
    "L = []\n",
    "for i in range(3, max_folds+1, 2):\n",
    "    L.append([])\n",
    "    strat = EstrategiaParticionado.ValidacionCruzada(k_fold=i)\n",
    "    errores_ttt = clasificador.validacion(strat, dataset_ttt, NB)\n",
    "    errores_ger = clasificador.validacion(strat, dataset_ger, NB)\n",
    "    L[j].append(str(i))\n",
    "    L[j].append(\"%.2f +- %.3f\"% (np.mean(errores_ttt), np.std(errores_ttt)))\n",
    "    L[j].append(\"%.2f +- %.3f\"% (np.mean(errores_ger), np.std(errores_ger)))\n",
    "    j+=1\n",
    "print(tabulate(L, headers = [\"K_FOLDS\", \"TTT_DB\", \"GER_DB\"], tablefmt=\"grid\"))"
   ]
  },
  {
   "cell_type": "markdown",
   "metadata": {},
   "source": [
    "Vemos que el particionado cruzado es mucho más estable que otras estrategias. Los errores se distribuyen claramente alrededor del 30% para 'tic-tac-toe', y alrededor del 25% para 'german' . No existe una gran diferencia de precisión entre los diferentes valores del número de <em>folds</em>. Teniendo esto en mente, podemos entrenar con k_folds=3 o k_folds=5 (valores típicos de la literatura del <em>machine learning</em>), para evitar perder eficiencia computacional."
   ]
  },
  {
   "cell_type": "markdown",
   "metadata": {},
   "source": [
    "# <font color='red'>2. Entrenamiento y clasificación con funciones de sklearn (encapsuladas en Clasificador.py)</font>"
   ]
  },
  {
   "cell_type": "markdown",
   "metadata": {},
   "source": [
    "Las funciones de sklearn requieren una codificación de los atributos discretos diferente a la nuestra.\n",
    "Por lo tanto, realizamos un pequeño trabajo de preprocesado de datos para que sus métodos puedan realizar un entrenamiento y clasificación equiparable al nuestro"
   ]
  },
  {
   "cell_type": "code",
   "execution_count": 56,
   "metadata": {},
   "outputs": [],
   "source": [
    "def preprocess_data(dataset):\n",
    "    X = dataset.datos[:,:-1] # all rows, all columns but last one\n",
    "    Y = dataset.datos[:,-1]  # all rows, just last column (class)\n",
    "    \n",
    "    # One hot encoding for discrete features\n",
    "    enc = OneHotEncoder(sparse=False, categories='auto')\n",
    "    X_enc = np.array(enc.fit_transform(X)) \n",
    "    # Concatenating encoded data matrix and classes\n",
    "    datos_aux = np.concatenate((X_enc, Y[:,None]), axis=1)\n",
    "    # Updating dataset\n",
    "    dataset.datos = np.zeros(datos_aux.shape)\n",
    "    dataset.datos = datos_aux\n",
    "    return dataset "
   ]
  },
  {
   "cell_type": "markdown",
   "metadata": {},
   "source": [
    "## <font color='blue'> 2.1 Dataset tic-tac-toe </font>"
   ]
  },
  {
   "cell_type": "code",
   "execution_count": 57,
   "metadata": {},
   "outputs": [
    {
     "name": "stdout",
     "output_type": "stream",
     "text": [
      "Numero de ejemplos de entrenamiento: 958 , Numero de columnas: 10\n"
     ]
    }
   ],
   "source": [
    "ttt_db = Datos('../ConjuntosDatos/tic-tac-toe.data')\n",
    "ndata, ncols = ttt_db.datos.shape # nfeat = ncols-1 \n",
    "print(\"Numero de ejemplos de entrenamiento:\", ndata, \", Numero de columnas:\", ncols)"
   ]
  },
  {
   "cell_type": "code",
   "execution_count": 58,
   "metadata": {},
   "outputs": [],
   "source": [
    "ttt_db = preprocess_data(ttt_db)\n",
    "np.random.shuffle(ttt_db.datos)\n",
    "\n",
    "NBSK = Clasificador.ClasificadorNaiveBayesSK(gaussian_feat=False)\n",
    "NBSK_noLaplace = Clasificador.ClasificadorNaiveBayesSK(gaussian_feat=False, laplace=False)"
   ]
  },
  {
   "cell_type": "markdown",
   "metadata": {},
   "source": [
    "### 2.1.1 Validación simple"
   ]
  },
  {
   "cell_type": "code",
   "execution_count": 64,
   "metadata": {},
   "outputs": [
    {
     "name": "stdout",
     "output_type": "stream",
     "text": [
      "Con laplace [0.22916666666666663]\n",
      "Sin laplace [0.26041666666666663]\n"
     ]
    },
    {
     "name": "stderr",
     "output_type": "stream",
     "text": [
      "/anaconda3/lib/python3.7/site-packages/sklearn/naive_bayes.py:480: UserWarning: alpha too small will result in numeric errors, setting alpha = 1.0e-10\n",
      "  'setting alpha = %.1e' % _ALPHA_MIN)\n"
     ]
    }
   ],
   "source": [
    "strat_simple_sk = EstrategiaParticionado.ValidacionSimple(0.8)\n",
    "\n",
    "errores = clasificador.validacion(strat_simple_sk, ttt_db, NBSK)\n",
    "print(\"Con laplace\", errores)\n",
    "errores2 = clasificador.validacion(strat_simple_sk, ttt_db, NBSK_noLaplace)\n",
    "print(\"Sin laplace\", errores2)\n",
    "\n",
    "# We will use this result later\n",
    "final_results_dict['sklearn_val_simple_ttt'] = [np.mean(errores), np.std(errores)]\n",
    "final_results_dict['sklearn_val_simple_ttt_NL'] = [np.mean(errores2), np.std(errores2)]\n"
   ]
  },
  {
   "cell_type": "markdown",
   "metadata": {},
   "source": [
    "Vemos que Laplace sigue ayudado.\n",
    "\n",
    "La comparación de estos resultados con los obtenidos por nuestras propias implementaciones será realizada en un futuro apartado final."
   ]
  },
  {
   "cell_type": "markdown",
   "metadata": {},
   "source": [
    "En primer lugar, vemos que la librería de Scikit-learn nos advierte que asignar alpha=0 (desactivar corrección de Laplace) desembocará en errores numéricos, y que alpha pasará a valer 10^{-10}. No nos importa mucho este cambio ya que este valor es terriblemente cercano a cero, pudiendo considerar que efectivamente se desactiva la corrección de Laplace de la librería scikit-learn.\n",
    "\n",
    "Como este warning va a perdurar por el resto del notebook, vamos a desactivar estos avisos para no sobrecargar el fichero. Esto es lo que hacen las dos siguientes líneas."
   ]
  },
  {
   "cell_type": "code",
   "execution_count": 65,
   "metadata": {},
   "outputs": [],
   "source": [
    "import warnings\n",
    "warnings.filterwarnings('ignore')"
   ]
  },
  {
   "cell_type": "markdown",
   "metadata": {},
   "source": [
    "### 2.1.2 Validación simple con varias repeticiones (3 reps)"
   ]
  },
  {
   "cell_type": "code",
   "execution_count": 66,
   "metadata": {},
   "outputs": [
    {
     "name": "stdout",
     "output_type": "stream",
     "text": [
      "Errores con Laplace:  [0.26041666666666663, 0.35416666666666663, 0.25]\n",
      "Error medio con Laplace: 0.2881944444444444 +- 0.046842838761222354\n",
      "Errores sin Laplace:  [0.30208333333333337, 0.328125, 0.32291666666666663]\n",
      "Error medio sin Laplace: 0.3177083333333333 +- 0.011251285934735846\n"
     ]
    }
   ],
   "source": [
    "strat_simple_rep3_sk = EstrategiaParticionado.ValidacionSimple(0.8, nreps=3)\n",
    "\n",
    "errores = clasificador.validacion(strat_simple_rep3_sk, ttt_db, NBSK)\n",
    "print(\"Errores con Laplace: \", errores)\n",
    "print(\"Error medio con Laplace:\", np.mean(errores), \"+-\", np.std(errores))\n",
    "errores2 = clasificador.validacion(strat_simple_rep3_sk, ttt_db, NBSK_noLaplace)\n",
    "print(\"Errores sin Laplace: \", errores2)\n",
    "print(\"Error medio sin Laplace:\", np.mean(errores2), \"+-\", np.std(errores2))\n",
    "\n",
    "# We will use this result later\n",
    "final_results_dict['sklearn_val_simple_rep3_ttt'] = [np.mean(errores), np.std(errores)]\n",
    "final_results_dict['sklearn_val_simple_rep3_ttt_NL'] = [np.mean(errores2), np.std(errores2)]"
   ]
  },
  {
   "cell_type": "markdown",
   "metadata": {},
   "source": [
    "De nuevo Laplace sigue dando mejores resultados pero sin una alarmante disparidad. Por otro lado, aumentar el número de repeticiones de la validación tampoco aporta muchos beneficios."
   ]
  },
  {
   "cell_type": "markdown",
   "metadata": {},
   "source": [
    "### 2.1.3 Validacion cruzada (5 folds)"
   ]
  },
  {
   "cell_type": "code",
   "execution_count": 68,
   "metadata": {},
   "outputs": [
    {
     "name": "stdout",
     "output_type": "stream",
     "text": [
      "Errores con Laplace:  [0.32984293193717273, 0.31413612565445026, 0.356020942408377, 0.24607329842931935, 0.24083769633507857]\n",
      "Error medio con Laplace: 0.2973821989528796 +- 0.04604949408857805\n",
      "Errores sin Laplace:  [0.2774869109947644, 0.23560209424083767, 0.32460732984293195, 0.3507853403141361, 0.2827225130890052]\n",
      "Error medio sin Laplace: 0.2942408376963351 +- 0.03992811720405784\n"
     ]
    }
   ],
   "source": [
    "strat_cross_sk = EstrategiaParticionado.ValidacionCruzada(k_fold=5)\n",
    "\n",
    "errores = clasificador.validacion(strat_cross_sk, ttt_db, NBSK)\n",
    "print(\"Errores con Laplace: \", errores)\n",
    "print(\"Error medio con Laplace:\", np.mean(errores), \"+-\", np.std(errores))\n",
    "errores2 = clasificador.validacion(strat_cross_sk, ttt_db, NBSK_noLaplace)\n",
    "print(\"Errores sin Laplace: \", errores2)\n",
    "print(\"Error medio sin Laplace:\", np.mean(errores2), \"+-\", np.std(errores2))\n",
    "\n",
    "# We will use this result later\n",
    "final_results_dict['sklearn_cross_val_ttt'] = [np.mean(errores), np.std(errores)]\n",
    "final_results_dict['sklearn_cross_val_ttt_NL'] = [np.mean(errores2), np.std(errores2)]"
   ]
  },
  {
   "cell_type": "markdown",
   "metadata": {},
   "source": [
    "La corrección de Laplace ya no aporta ningún beneficio. Podíamos incluso desactivarlo para ganar eficiencia."
   ]
  },
  {
   "cell_type": "markdown",
   "metadata": {},
   "source": [
    "## <font color='blue'> 2.2 Dataset German (todos los atributos se consideran discretos)</font>"
   ]
  },
  {
   "cell_type": "markdown",
   "metadata": {},
   "source": [
    "Comentar antes de nada que la librería scikit-learn no dispone de un módulo de NaiveBayes con atributos mixtos (discretos y/o continuos), por lo que en estas dos secciones deberemos aproximar todos los atributos del dataset 'german' por discretos (en esta sección) o continuos (en la próxima)."
   ]
  },
  {
   "cell_type": "code",
   "execution_count": 74,
   "metadata": {},
   "outputs": [
    {
     "name": "stdout",
     "output_type": "stream",
     "text": [
      "Numero de ejemplos de entrenamiento: 1000 , Numero de columnas: 21\n"
     ]
    }
   ],
   "source": [
    "ger_db = Datos('../ConjuntosDatos/german.data')\n",
    "ndata, ncols = ger_db.datos.shape # nfeat = ncols-1 \n",
    "print(\"Numero de ejemplos de entrenamiento:\", ndata, \", Numero de columnas:\", ncols)"
   ]
  },
  {
   "cell_type": "code",
   "execution_count": 75,
   "metadata": {},
   "outputs": [],
   "source": [
    "ger_db = preprocess_data(ger_db)\n",
    "np.random.shuffle(ger_db.datos)\n",
    "\n",
    "NBSK = Clasificador.ClasificadorNaiveBayesSK(gaussian_feat=False)\n",
    "NBSK_noLaplace = Clasificador.ClasificadorNaiveBayesSK(gaussian_feat=False, laplace=False)"
   ]
  },
  {
   "cell_type": "markdown",
   "metadata": {},
   "source": [
    "Como hemos dicho, la comparación de los errores de la librería de scikit-learn con nuestros métodos será realizada en una futura sección."
   ]
  },
  {
   "cell_type": "markdown",
   "metadata": {},
   "source": [
    "### 2.2.1 Validación simple"
   ]
  },
  {
   "cell_type": "code",
   "execution_count": 73,
   "metadata": {},
   "outputs": [
    {
     "name": "stdout",
     "output_type": "stream",
     "text": [
      "Con Laplace: [0.255]\n",
      "Sin Laplace: [0.30500000000000005]\n"
     ]
    }
   ],
   "source": [
    "strat_simple_sk = EstrategiaParticionado.ValidacionSimple(0.8)\n",
    "\n",
    "errores = clasificador.validacion(strat_simple_sk, ger_db, NBSK)\n",
    "print(\"Con Laplace:\", errores)\n",
    "errores2 = clasificador.validacion(strat_simple_sk, ger_db, NBSK_noLaplace)\n",
    "print(\"Sin Laplace:\", errores2)\n",
    "\n",
    "# We will use this result later\n",
    "final_results_dict['sklearn_val_simple_gerDiscr'] = [np.mean(errores), np.std(errores)]\n",
    "final_results_dict['sklearn_val_simple_gerDiscr_NL'] = [np.mean(errores2), np.std(errores2)]"
   ]
  },
  {
   "cell_type": "markdown",
   "metadata": {},
   "source": [
    "De nuevo, los errores son menores que con el otro conjunto de datos y, también de nuevo, la corrección de Laplace ayuda."
   ]
  },
  {
   "cell_type": "markdown",
   "metadata": {},
   "source": [
    "### 2.2.2 Validación simple con varias repeticiones (3 reps)"
   ]
  },
  {
   "cell_type": "code",
   "execution_count": 78,
   "metadata": {},
   "outputs": [
    {
     "name": "stdout",
     "output_type": "stream",
     "text": [
      "Errores con Laplace:  [0.31000000000000005, 0.275, 0.25]\n",
      "Error medio con Laplace: 0.2783333333333334 +- 0.024608038433722355\n",
      "Errores sin Laplace:  [0.385, 0.31999999999999995, 0.30000000000000004]\n",
      "Error medio sin Laplace: 0.33499999999999996 +- 0.0362859017617954\n"
     ]
    }
   ],
   "source": [
    "strat_simple_rep3_sk = EstrategiaParticionado.ValidacionSimple(0.8, nreps=3)\n",
    "\n",
    "errores = clasificador.validacion(strat_simple_rep3_sk, ger_db, NBSK)\n",
    "print(\"Errores con Laplace: \", errores)\n",
    "print(\"Error medio con Laplace:\", np.mean(errores), \"+-\", np.std(errores))\n",
    "errores2 = clasificador.validacion(strat_simple_rep3_sk, ger_db, NBSK_noLaplace)\n",
    "print(\"Errores sin Laplace: \", errores2)\n",
    "print(\"Error medio sin Laplace:\", np.mean(errores2), \"+-\", np.std(errores2))\n",
    "\n",
    "# We will use this result later\n",
    "final_results_dict['sklearn_val_simple_rep3_gerDiscr'] = [np.mean(errores), np.std(errores)]\n",
    "final_results_dict['sklearn_val_simple_rep3_gerDiscr_NL'] = [np.mean(errores2), np.std(errores2)]"
   ]
  },
  {
   "cell_type": "markdown",
   "metadata": {},
   "source": [
    "Parece indicar que el uso o no de la corrección de Laplace genera resultados más dispares que en las secciones anteriores. Esto no es de extrañar, ya que ahora <b>algunos atributos que son continuos están siendo considerados como discretos</b>, provocando que haya muchas tablas de verosimilitud con ceros."
   ]
  },
  {
   "cell_type": "markdown",
   "metadata": {},
   "source": [
    "### 2.2.3 Validación cruzada (5 folds)"
   ]
  },
  {
   "cell_type": "code",
   "execution_count": 79,
   "metadata": {},
   "outputs": [
    {
     "name": "stdout",
     "output_type": "stream",
     "text": [
      "Errores con Laplace:  [0.265, 0.20499999999999996, 0.29000000000000004, 0.32499999999999996, 0.26]\n",
      "Error medio con Laplace: 0.269 +- 0.03942080668885405\n",
      "Errores sin Laplace:  [0.33999999999999997, 0.30500000000000005, 0.31000000000000005, 0.30000000000000004, 0.28]\n",
      "Error medio sin Laplace: 0.30700000000000005 +- 0.019390719429665297\n"
     ]
    }
   ],
   "source": [
    "strat_cross_sk = EstrategiaParticionado.ValidacionCruzada(k_fold=5)\n",
    "\n",
    "errores = clasificador.validacion(strat_cross_sk, ger_db, NBSK)\n",
    "print(\"Errores con Laplace: \", errores)\n",
    "print(\"Error medio con Laplace:\", np.mean(errores), \"+-\", np.std(errores))\n",
    "errores2 = clasificador.validacion(strat_cross_sk, ger_db, NBSK_noLaplace)\n",
    "print(\"Errores sin Laplace: \", errores2)\n",
    "print(\"Error medio sin Laplace:\", np.mean(errores2), \"+-\", np.std(errores2))\n",
    "\n",
    "# We will use this result later\n",
    "final_results_dict['sklearn_cross_val_gerDiscr'] = [np.mean(errores), np.std(errores)]\n",
    "final_results_dict['sklearn_cross_val_gerDiscr_NL'] = [np.mean(errores2), np.std(errores2)]"
   ]
  },
  {
   "cell_type": "markdown",
   "metadata": {},
   "source": [
    "De nuevo, disparidad entre ejecuciones con Laplace y sin él. Por las razones explicadas anteriormente.\n",
    "\n",
    "Por otro lado, los errores de los tres métodos de particionado son similares, centrándose alrededor del 27-28%."
   ]
  },
  {
   "cell_type": "markdown",
   "metadata": {},
   "source": [
    "## <font color='blue'> 2.3 Dataset German (todos los atributos se consideran continuos)</font>"
   ]
  },
  {
   "cell_type": "markdown",
   "metadata": {},
   "source": [
    "Los atributos ahora serán considerados todos continuos."
   ]
  },
  {
   "cell_type": "code",
   "execution_count": 81,
   "metadata": {},
   "outputs": [
    {
     "name": "stdout",
     "output_type": "stream",
     "text": [
      "Numero de ejemplos de entrenamiento: 1000 , Numero de columnas: 21\n"
     ]
    }
   ],
   "source": [
    "ger_db_cont = Datos('../ConjuntosDatos/german.data')\n",
    "ndata, ncols = ger_db_cont.datos.shape # nfeat = ncols-1 \n",
    "print(\"Numero de ejemplos de entrenamiento:\", ndata, \", Numero de columnas:\", ncols)"
   ]
  },
  {
   "cell_type": "code",
   "execution_count": 82,
   "metadata": {},
   "outputs": [],
   "source": [
    "np.random.shuffle(ger_db.datos)\n",
    "\n",
    "NBSK = Clasificador.ClasificadorNaiveBayesSK(gaussian_feat=True)"
   ]
  },
  {
   "cell_type": "markdown",
   "metadata": {},
   "source": [
    "### 2.3.1 Validación simple"
   ]
  },
  {
   "cell_type": "code",
   "execution_count": 83,
   "metadata": {},
   "outputs": [
    {
     "name": "stdout",
     "output_type": "stream",
     "text": [
      "[0.28500000000000003]\n"
     ]
    }
   ],
   "source": [
    "strat_simple_sk = EstrategiaParticionado.ValidacionSimple(0.8)\n",
    "\n",
    "errores = clasificador.validacion(strat_simple_sk, ger_db_cont, NBSK)\n",
    "print(errores)\n",
    "\n",
    "# We will use this result later\n",
    "final_results_dict['sklearn_val_simple_gerCont'] = [np.mean(errores), np.std(errores)]"
   ]
  },
  {
   "cell_type": "markdown",
   "metadata": {},
   "source": [
    "Sin la posibilidad de hacer la corrección de Laplace, nos dedicaremos a conseguir todos los resultados para las diferentes estrategias de particionado."
   ]
  },
  {
   "cell_type": "markdown",
   "metadata": {},
   "source": [
    "### 2.3.2 Validación simple con varias repeticiones (3 reps)"
   ]
  },
  {
   "cell_type": "code",
   "execution_count": 86,
   "metadata": {},
   "outputs": [
    {
     "name": "stdout",
     "output_type": "stream",
     "text": [
      "Errores:  [0.265, 0.20999999999999996, 0.29500000000000004]\n",
      "Error medio: 0.25666666666666665 +- 0.035197853469904825\n"
     ]
    }
   ],
   "source": [
    "strat_simple_rep3_sk = EstrategiaParticionado.ValidacionSimple(0.8, nreps=3)\n",
    "\n",
    "errores = clasificador.validacion(strat_simple_rep3_sk, ger_db_cont, NBSK)\n",
    "\n",
    "print(\"Errores: \", errores)\n",
    "print(\"Error medio:\", np.mean(errores), \"+-\", np.std(errores))\n",
    "\n",
    "# We will use this result later\n",
    "final_results_dict['sklearn_val_simple_rep3_gerCont'] = [np.mean(errores), np.std(errores)]"
   ]
  },
  {
   "cell_type": "markdown",
   "metadata": {},
   "source": [
    "### 2.3.3 Validación cruzada (5 folds)"
   ]
  },
  {
   "cell_type": "code",
   "execution_count": 88,
   "metadata": {},
   "outputs": [
    {
     "name": "stdout",
     "output_type": "stream",
     "text": [
      "Errores:  [0.20999999999999996, 0.28500000000000003, 0.28500000000000003, 0.27, 0.29000000000000004]\n",
      "Error medio: 0.268 +- 0.02976575213227446\n"
     ]
    }
   ],
   "source": [
    "strat_cross_sk = EstrategiaParticionado.ValidacionCruzada(k_fold=5)\n",
    "\n",
    "errores = clasificador.validacion(strat_cross_sk, ger_db_cont, NBSK)\n",
    "\n",
    "print(\"Errores: \", errores)\n",
    "print(\"Error medio:\", np.mean(errores), \"+-\", np.std(errores))\n",
    "\n",
    "# We will use this result later\n",
    "final_results_dict['sklearn_cross_val_gerCont'] = [np.mean(errores), np.std(errores)]"
   ]
  },
  {
   "cell_type": "markdown",
   "metadata": {},
   "source": [
    "Los resultados de los tres métodos de particionado son muy similares. El error se centra ahora entorno al 26%, no muy alejado de la aproximación discreta."
   ]
  },
  {
   "cell_type": "markdown",
   "metadata": {},
   "source": [
    "## <font color='green'> 2.4 Tablas de Resultados de sklearn</font>"
   ]
  },
  {
   "cell_type": "markdown",
   "metadata": {},
   "source": [
    "De nuevo hemos visto los resultados para ambos conjuntos de datos, utilizando las 3 estrategias de particionado que hemos implementado y comparando la eficacia de la corrección de Laplace en cada apartado del caso discreto. Como se ha visto que la corrección de Laplace, por lo general, mejora el rendimiento del clasificador, también la utilizaremos en esta subsección para resumir los resultados finales de scikit-learn"
   ]
  },
  {
   "cell_type": "markdown",
   "metadata": {},
   "source": [
    "### 2.4.1 Validación simple con número variable de repeticiones"
   ]
  },
  {
   "cell_type": "markdown",
   "metadata": {},
   "source": [
    "En este subapartado se añaden una tablas que muestran los errores para un número variable de repeticiones, para las siguientes estrategias de particionado:\n",
    "- Particionado simple con 70% train - 30% test\n",
    "- Particionado simple con 75% train - 25% test\n",
    "- Particionado simple con 80% train - 20% test"
   ]
  },
  {
   "cell_type": "code",
   "execution_count": 90,
   "metadata": {},
   "outputs": [],
   "source": [
    "def val_simpleSK(percentage):\n",
    "    dataset_ttt = Datos(\"../ConjuntosDatos/tic-tac-toe.data\")\n",
    "    dataset_ger_d = Datos(\"../ConjuntosDatos/german.data\")    # Dataset para el caso Discreto\n",
    "    dataset_ger_c = Datos(\"../ConjuntosDatos/german.data\")    # Dataset para el caso Continuo\n",
    "    np.random.shuffle(dataset_ttt.datos)\n",
    "    np.random.shuffle(dataset_ger_d.datos)\n",
    "    np.random.shuffle(dataset_ger_c.datos)\n",
    "    NBSK = Clasificador.ClasificadorNaiveBayesSK(gaussian_feat=False) # Clasificador Para TTT\n",
    "    NBSK_d = Clasificador.ClasificadorNaiveBayesSK(gaussian_feat=False) # Clasificador Para GER en caso Discreto\n",
    "    NBSK_c = Clasificador.ClasificadorNaiveBayesSK(gaussian_feat=True) # Clasificador Para GER en caso Continuo\n",
    "    max_reps = 5\n",
    "    L = []\n",
    "    for i in range(1, max_reps+1):\n",
    "        L.append([])\n",
    "        strat = EstrategiaParticionado.ValidacionSimple(percentage, nreps=i)\n",
    "        errores_ttt = clasificador.validacion(strat, preprocess_data(dataset_ttt), NBSK)\n",
    "        errores_ger_d = clasificador.validacion(strat, preprocess_data(dataset_ger_d), NBSK_d)\n",
    "        errores_ger_c = clasificador.validacion(strat, dataset_ger_c, NBSK_c)\n",
    "        L[i-1].append(str(i))\n",
    "        L[i-1].append(\"%.2f +- %.3f\"% (np.mean(errores_ttt), np.std(errores_ttt)))\n",
    "        L[i-1].append(\"%.2f +- %.3f\"% (np.mean(errores_ger_d), np.std(errores_ger_d)))\n",
    "        L[i-1].append(\"%.2f +- %.3f\"% (np.mean(errores_ger_c), np.std(errores_ger_c)))\n",
    "    print(\"Validación Simple con \" + str(int(percentage*100)) +   \"% Train\\n\")\n",
    "    print(tabulate(L, headers = [\"N_REPS\", \"TTT_DB\", \"GER_DB_D\", \"GER_DB_C\"], tablefmt=\"grid\")) "
   ]
  },
  {
   "cell_type": "code",
   "execution_count": 94,
   "metadata": {},
   "outputs": [
    {
     "name": "stdout",
     "output_type": "stream",
     "text": [
      "Validación Simple con 70% Train\n",
      "\n",
      "+----------+---------------+---------------+---------------+\n",
      "|   N_REPS | TTT_DB        | GER_DB_D      | GER_DB_C      |\n",
      "+==========+===============+===============+===============+\n",
      "|        1 | 0.31 +- 0.000 | 0.27 +- 0.000 | 0.25 +- 0.000 |\n",
      "+----------+---------------+---------------+---------------+\n",
      "|        2 | 0.33 +- 0.014 | 0.28 +- 0.000 | 0.29 +- 0.008 |\n",
      "+----------+---------------+---------------+---------------+\n",
      "|        3 | 0.33 +- 0.045 | 0.26 +- 0.012 | 0.24 +- 0.007 |\n",
      "+----------+---------------+---------------+---------------+\n",
      "|        4 | 0.34 +- 0.022 | 0.27 +- 0.023 | 0.29 +- 0.028 |\n",
      "+----------+---------------+---------------+---------------+\n",
      "|        5 | 0.32 +- 0.026 | 0.26 +- 0.035 | 0.28 +- 0.044 |\n",
      "+----------+---------------+---------------+---------------+\n"
     ]
    }
   ],
   "source": [
    "val_simpleSK(0.7)"
   ]
  },
  {
   "cell_type": "code",
   "execution_count": 95,
   "metadata": {},
   "outputs": [
    {
     "name": "stdout",
     "output_type": "stream",
     "text": [
      "Validación Simple con 75% Train\n",
      "\n",
      "+----------+---------------+---------------+---------------+\n",
      "|   N_REPS | TTT_DB        | GER_DB_D      | GER_DB_C      |\n",
      "+==========+===============+===============+===============+\n",
      "|        1 | 0.32 +- 0.000 | 0.32 +- 0.000 | 0.23 +- 0.000 |\n",
      "+----------+---------------+---------------+---------------+\n",
      "|        2 | 0.30 +- 0.002 | 0.27 +- 0.010 | 0.23 +- 0.010 |\n",
      "+----------+---------------+---------------+---------------+\n",
      "|        3 | 0.35 +- 0.032 | 0.29 +- 0.011 | 0.25 +- 0.027 |\n",
      "+----------+---------------+---------------+---------------+\n",
      "|        4 | 0.34 +- 0.022 | 0.25 +- 0.015 | 0.26 +- 0.011 |\n",
      "+----------+---------------+---------------+---------------+\n",
      "|        5 | 0.32 +- 0.016 | 0.26 +- 0.020 | 0.26 +- 0.014 |\n",
      "+----------+---------------+---------------+---------------+\n"
     ]
    }
   ],
   "source": [
    "val_simpleSK(0.75)"
   ]
  },
  {
   "cell_type": "code",
   "execution_count": 96,
   "metadata": {},
   "outputs": [
    {
     "name": "stdout",
     "output_type": "stream",
     "text": [
      "Validación Simple con 80% Train\n",
      "\n",
      "+----------+---------------+---------------+---------------+\n",
      "|   N_REPS | TTT_DB        | GER_DB_D      | GER_DB_C      |\n",
      "+==========+===============+===============+===============+\n",
      "|        1 | 0.27 +- 0.000 | 0.27 +- 0.000 | 0.27 +- 0.000 |\n",
      "+----------+---------------+---------------+---------------+\n",
      "|        2 | 0.33 +- 0.003 | 0.21 +- 0.013 | 0.25 +- 0.010 |\n",
      "+----------+---------------+---------------+---------------+\n",
      "|        3 | 0.31 +- 0.031 | 0.28 +- 0.002 | 0.27 +- 0.020 |\n",
      "+----------+---------------+---------------+---------------+\n",
      "|        4 | 0.35 +- 0.030 | 0.25 +- 0.031 | 0.25 +- 0.005 |\n",
      "+----------+---------------+---------------+---------------+\n",
      "|        5 | 0.35 +- 0.028 | 0.27 +- 0.023 | 0.30 +- 0.020 |\n",
      "+----------+---------------+---------------+---------------+\n"
     ]
    }
   ],
   "source": [
    "val_simpleSK(0.80)"
   ]
  },
  {
   "cell_type": "markdown",
   "metadata": {},
   "source": [
    "En primer lugar, está claro que el conjunto de datos 'tic-tac-toe' es más díficil de clasificar. Los errores obtenidos en este dataset son, de nuevo, mayores que los obtenidos en el otro conjunto.\n",
    "\n",
    "Centrándonos ahora en cada conjunto por individual, el dataset 'tic-tac-toe' suele mantenerse entorno al 33% de error. Podemos ver que los errores varían entre el 30% y el 35% porque el número de ejecuciones es relativamente pequeño. No vamos a realizar un número mayor ya que el coste computacional se multiplicaría.\n",
    "\n",
    "Por otro lado, el dataset 'german' tiene un error de clasificación entorno al 27%. De nuevo, existe una cierta disparidad de errores entre ejecuciones, pero esto es debido a que el número de repeticiones es relativamente pequeño.\n",
    "\n",
    "De todas formas, podemos ver que la diferencia no es tan notoria y podríamos escoger un número de repeticiones bajo para ganar tiempo."
   ]
  },
  {
   "cell_type": "markdown",
   "metadata": {},
   "source": [
    "### 2.4.2 Validación cruzada "
   ]
  },
  {
   "cell_type": "code",
   "execution_count": 97,
   "metadata": {},
   "outputs": [
    {
     "name": "stdout",
     "output_type": "stream",
     "text": [
      "+-----------+---------------+---------------+---------------+\n",
      "|   K_FOLDS | TTT_DB        | GER_DB_D      | GER_DB_C      |\n",
      "+===========+===============+===============+===============+\n",
      "|         3 | 0.34 +- 0.017 | 0.28 +- 0.010 | 0.26 +- 0.006 |\n",
      "+-----------+---------------+---------------+---------------+\n",
      "|         5 | 0.34 +- 0.031 | 0.27 +- 0.037 | 0.27 +- 0.027 |\n",
      "+-----------+---------------+---------------+---------------+\n",
      "|         7 | 0.34 +- 0.041 | 0.28 +- 0.034 | 0.27 +- 0.030 |\n",
      "+-----------+---------------+---------------+---------------+\n",
      "|         9 | 0.34 +- 0.041 | 0.27 +- 0.053 | 0.27 +- 0.041 |\n",
      "+-----------+---------------+---------------+---------------+\n",
      "|        11 | 0.34 +- 0.048 | 0.26 +- 0.069 | 0.27 +- 0.043 |\n",
      "+-----------+---------------+---------------+---------------+\n"
     ]
    }
   ],
   "source": [
    "dataset_ger_d = Datos(\"../ConjuntosDatos/german.data\")    # Dataset para el caso Discreto\n",
    "dataset_ger_c = Datos(\"../ConjuntosDatos/german.data\")    # Dataset para el caso Continuo\n",
    "np.random.shuffle(dataset_ger_d.datos)\n",
    "np.random.shuffle(dataset_ger_c.datos)\n",
    "\n",
    "preprocess_data(dataset_ger_d)\n",
    "\n",
    "NBSK = Clasificador.ClasificadorNaiveBayesSK(gaussian_feat=False) # Clasificador Para TTT\n",
    "NBSK_d = Clasificador.ClasificadorNaiveBayesSK(gaussian_feat=False) # Clasificador Para GER en caso Discreto\n",
    "NBSK_c = Clasificador.ClasificadorNaiveBayesSK(gaussian_feat=True) # Clasificador Para GER en caso Continuo\n",
    "\n",
    "max_folds = 11\n",
    "j = 0\n",
    "L = []\n",
    "for i in range(3, max_folds+1, 2):\n",
    "    L.append([])\n",
    "    strat = EstrategiaParticionado.ValidacionCruzada(k_fold=i)\n",
    "    errores_ttt = clasificador.validacion(strat, dataset_ttt, NBSK)\n",
    "    errores_ger_d = clasificador.validacion(strat, dataset_ger_d, NBSK_d)\n",
    "    errores_ger_c = clasificador.validacion(strat, dataset_ger_c, NBSK_c)\n",
    "    L[j].append(str(i))\n",
    "    L[j].append(\"%.2f +- %.3f\"% (np.mean(errores_ttt), np.std(errores_ttt)))\n",
    "    L[j].append(\"%.2f +- %.3f\"% (np.mean(errores_ger_d), np.std(errores_ger_d)))\n",
    "    L[j].append(\"%.2f +- %.3f\"% (np.mean(errores_ger_c), np.std(errores_ger_c)))\n",
    "    j+=1\n",
    "print(tabulate(L, headers = [\"K_FOLDS\", \"TTT_DB\", \"GER_DB_D\", \"GER_DB_C\"], tablefmt=\"grid\")) "
   ]
  },
  {
   "cell_type": "markdown",
   "metadata": {},
   "source": [
    "La estrategia de particionado cruzada da errores similares pero con una variabilidad mucho menor. Todos los errores de clasificación de 'tic-tac-toe' se centran en el 34%, mientras que los del dataset 'german' entorno al 27%.\n",
    "\n",
    "Comentar finalmente que la aproximación continua aporta ligeros mejores resultados que la aproximación discreta. Esto puede ser por las siguientes razones:\n",
    "- Hay un número alto de atributos continuos, y aproximarlos por discretos genera bastante ruido.\n",
    "- La corrección de Laplace, en el caso de aproximar un atributo continuo por discreto, genera aún más ruido del que había, perjudicando el entrenamiento+clasificación."
   ]
  },
  {
   "cell_type": "markdown",
   "metadata": {},
   "source": [
    "# <font color='red'>3. Resultados finales (Clasificador.py + sklearn) </font>"
   ]
  },
  {
   "cell_type": "markdown",
   "metadata": {},
   "source": [
    "A pesar de haber realizado ya exposiciones de los errores de Clasificador.py y sklearn en sus correspondientes secciones, en este apartado vamos a juntar ciertos resultados para tener una imagen más clara en conjunto.\n",
    "\n",
    "Por razones de brevedad, consideraremos solo las estrategias de particionado:\n",
    "- Validación simple (80% train, 20% test)\n",
    "- Validación simple con 3 repeticiones\n",
    "- Validación cruzada con 5 folds"
   ]
  },
  {
   "cell_type": "code",
   "execution_count": 98,
   "metadata": {},
   "outputs": [],
   "source": [
    "def format_error(error_list):\n",
    "    return \"%.2f +- %.3f\"%(error_list[0], error_list[1]) # index 0 = mean value ; index 1 = std value\n",
    "\n",
    "    \n",
    "def print_final_results(res_dict):\n",
    "    headers = ['Model', 'tic-tac-toe', 'german (aprox. discreta)', 'german (aprox. continua)']\n",
    "    L = []\n",
    "    L.append(['Clasificador val simple',\n",
    "              format_error(res_dict['clasificador_val_simple_ttt']),\n",
    "              format_error(res_dict['clasificador_val_simple_ger']),\n",
    "              format_error(res_dict['clasificador_val_simple_ger'])])\n",
    "    L.append(['Clasificador val simple noLaplace',\n",
    "              format_error(res_dict['clasificador_val_simple_ttt_NL']),\n",
    "              format_error(res_dict['clasificador_val_simple_ger_NL']),\n",
    "              format_error(res_dict['clasificador_val_simple_ger_NL'])])\n",
    "    L.append(['Clasificador val simple nreps=3',\n",
    "              format_error(res_dict['clasificador_val_simple_rep3_ttt']),\n",
    "              format_error(res_dict['clasificador_val_simple_rep3_ger']),\n",
    "              format_error(res_dict['clasificador_val_simple_rep3_ger'])])\n",
    "    L.append(['Clasificador val simple nreps=3 noLaplace',\n",
    "              format_error(res_dict['clasificador_val_simple_rep3_ttt_NL']),\n",
    "              format_error(res_dict['clasificador_val_simple_rep3_ger_NL']),\n",
    "              format_error(res_dict['clasificador_val_simple_rep3_ger_NL'])])\n",
    "    L.append(['Clasificador val cruzada 5fold',\n",
    "              format_error(res_dict['clasificador_cross_val_ttt']),\n",
    "              format_error(res_dict['clasificador_cross_val_ger']),\n",
    "              format_error(res_dict['clasificador_cross_val_ger'])])\n",
    "    L.append(['Clasificador val cruzada 5fold noLaplace',\n",
    "              format_error(res_dict['clasificador_cross_val_ttt_NL']),\n",
    "              format_error(res_dict['clasificador_cross_val_ger_NL']),\n",
    "              format_error(res_dict['clasificador_cross_val_ger_NL'])])\n",
    "    L.append(['skLearn val simple',\n",
    "              format_error(res_dict['sklearn_val_simple_ttt']),\n",
    "              format_error(res_dict['sklearn_val_simple_gerDiscr']),\n",
    "              format_error(res_dict['sklearn_val_simple_gerCont'])])\n",
    "    L.append(['skLearn val simple noLaplace',\n",
    "              format_error(res_dict['sklearn_val_simple_ttt_NL']),\n",
    "              format_error(res_dict['sklearn_val_simple_gerDiscr_NL']),\n",
    "              \"There is no Laplace\"])\n",
    "    L.append(['skLearn val simple nreps=3',\n",
    "              format_error(res_dict['sklearn_val_simple_rep3_ttt']),\n",
    "              format_error(res_dict['sklearn_val_simple_rep3_gerDiscr']),\n",
    "              format_error(res_dict['sklearn_val_simple_rep3_gerCont'])])\n",
    "    L.append(['skLearn val simple nreps=3 noLaplace',\n",
    "              format_error(res_dict['sklearn_val_simple_rep3_ttt_NL']),\n",
    "              format_error(res_dict['sklearn_val_simple_rep3_gerDiscr_NL']),\n",
    "              \"There is no Laplace\"])\n",
    "    L.append(['skLearn val cruzada 5fold',\n",
    "              format_error(res_dict['sklearn_cross_val_ttt']),\n",
    "              format_error(res_dict['sklearn_cross_val_gerDiscr']),\n",
    "              format_error(res_dict['sklearn_cross_val_gerCont'])])\n",
    "    L.append(['skLearn val cruzada 5fold noLaplace',\n",
    "              format_error(res_dict['sklearn_cross_val_ttt_NL']),\n",
    "              format_error(res_dict['sklearn_cross_val_gerDiscr_NL']),\n",
    "              \"There is no Laplace\"])\n",
    "    print(tabulate(L, headers, tablefmt=\"pretty\"))\n",
    "    "
   ]
  },
  {
   "cell_type": "code",
   "execution_count": 99,
   "metadata": {},
   "outputs": [
    {
     "name": "stdout",
     "output_type": "stream",
     "text": [
      "+-------------------------------------------+---------------+--------------------------+--------------------------+\n",
      "|                   Model                   |  tic-tac-toe  | german (aprox. discreta) | german (aprox. continua) |\n",
      "+-------------------------------------------+---------------+--------------------------+--------------------------+\n",
      "|          Clasificador val simple          | 0.29 +- 0.000 |      0.24 +- 0.000       |      0.24 +- 0.000       |\n",
      "|     Clasificador val simple noLaplace     | 0.31 +- 0.000 |      0.28 +- 0.000       |      0.28 +- 0.000       |\n",
      "|      Clasificador val simple nreps=3      | 0.30 +- 0.021 |      0.23 +- 0.011       |      0.23 +- 0.011       |\n",
      "| Clasificador val simple nreps=3 noLaplace | 0.30 +- 0.015 |      0.26 +- 0.040       |      0.26 +- 0.040       |\n",
      "|      Clasificador val cruzada 5fold       | 0.30 +- 0.013 |      0.26 +- 0.043       |      0.26 +- 0.043       |\n",
      "| Clasificador val cruzada 5fold noLaplace  | 0.30 +- 0.025 |      0.25 +- 0.027       |      0.25 +- 0.027       |\n",
      "|            skLearn val simple             | 0.23 +- 0.000 |      0.26 +- 0.000       |      0.29 +- 0.000       |\n",
      "|       skLearn val simple noLaplace        | 0.26 +- 0.000 |      0.31 +- 0.000       |   There is no Laplace    |\n",
      "|        skLearn val simple nreps=3         | 0.29 +- 0.047 |      0.28 +- 0.025       |      0.26 +- 0.035       |\n",
      "|   skLearn val simple nreps=3 noLaplace    | 0.32 +- 0.011 |      0.33 +- 0.036       |   There is no Laplace    |\n",
      "|         skLearn val cruzada 5fold         | 0.30 +- 0.046 |      0.27 +- 0.039       |      0.27 +- 0.030       |\n",
      "|    skLearn val cruzada 5fold noLaplace    | 0.29 +- 0.040 |      0.31 +- 0.019       |   There is no Laplace    |\n",
      "+-------------------------------------------+---------------+--------------------------+--------------------------+\n"
     ]
    }
   ],
   "source": [
    "print_final_results(final_results_dict)"
   ]
  },
  {
   "cell_type": "markdown",
   "metadata": {},
   "source": [
    "Primero, podemos ver que la <b>diferencia de errores</b> entre ambos clasificadores (nuestro clasificador y scikit-learn) <b>son muy parecidos</b>, lo que parece indicar que nuestra implementación es correcta.\n",
    "\n",
    "Segundo, centrándonos en el conjunto de datos 'tic-tac-toe', podemos apreciar que la librería <b>scikit-learn es ligeramente más precisa</b>. Su error de clasificación se concentra entorno al <b>28%</b> mientras que nuestro clasificador tiene un error entorno al <b>30%</b>. Por otro lado, centrándonos en el conjunto de datos 'german', podemos ver que <b>nuestro clasificador tiene ligeros mejores resultados</b>. Esto no es de extrañar, ya que recordemos que nuestro clasificador considera cada atributo del tipo que le corresponde (por eso las dos últimas columnas para los casos de nuestro clasificador tienen los mismos resultados). Scikit-learn no puede hacer esto y tenemos que considerar <b>todos</b> los atributos como si fueran de un mismo tipo. Esto acarrea cierto ruido y repercute en la tasa de error negativamente.\n",
    "\n",
    "Adicionalmente, comentar que cuando aproximamos todos los atributos de 'german' como continuos, <b>no</b> se usa la corrección de Laplace.\n",
    "\n",
    "Finalmente, es importante subrayar que los resultados obtenidos por las validaciones simples con <b>una</b> sola repetición pueden tener una <b>varianza relativamente alta</b>, al depender de la <b>partición aleatoria escogida</b>."
   ]
  },
  {
   "cell_type": "markdown",
   "metadata": {},
   "source": [
    "# <font color='red'>4. Análisis ROC </font>"
   ]
  },
  {
   "cell_type": "markdown",
   "metadata": {},
   "source": [
    "Con esto en mente, introducimos el análisis de las curvas ROC, que son representaciones gráficas de la <b>sensibilidad</b> frente a la <b>especificidad</b> para un sistema clasificador binario para ciertos valores umbrales.\n",
    "\n",
    "Este análisis es útil para seleccionar los modelos óptimos independientemente del coste.\n",
    "\n",
    "En esta práctica, mantendremos el <b>umbral fijado a 0.5</b>, es decir, si la probabilidad es mayor de 0.5, se predice uno; cero en caso contrario."
   ]
  },
  {
   "cell_type": "markdown",
   "metadata": {},
   "source": [
    "En primer lugar <b>calculamos la matriz de confusión</b>, utilizando para ello el vector de valores predecidos por un clasificador y el vector de valores reales.\n",
    "\n",
    "Es importante comentar que <b>no está especificado qué valor (0 ó 1) se corresponde con un valor 'positivo' o 'negativo'</b>. Nosotros hemos tomado que el 1 es 'positivo' y el 0, 'negativo'. <b>Que fuese al revés no nos perjudicaría</b>, simplemente el diagrama resultante sería <b>simétrico a la recta y=-x</b>, aportando una información equivalente."
   ]
  },
  {
   "cell_type": "code",
   "execution_count": 100,
   "metadata": {},
   "outputs": [],
   "source": [
    "def create_confMatrix(pred, real):\n",
    "    i = 0\n",
    "    tp, fp, tn, fn = 0, 0, 0, 0\n",
    "    \n",
    "    for pred_val in pred:\n",
    "        # True negative\n",
    "        if pred_val==0 and pred_val==real[i]:\n",
    "            tn += 1\n",
    "        # False negative\n",
    "        elif pred_val==0 and pred_val!=real[i]:\n",
    "            fn += 1\n",
    "        # True positive\n",
    "        elif pred_val==1 and pred_val==real[i]:\n",
    "            tp += 1\n",
    "        # False positive\n",
    "        elif pred_val==1 and pred_val!=real[i]:\n",
    "            fp += 1\n",
    "        i += 1\n",
    "    \n",
    "    return [['PRED POS', tp, fp], ['PRED NEG', fn, tn]]\n",
    "\n",
    "\n",
    "\n",
    "\n",
    "def print_confMatrix(m):\n",
    "    headers = [\"\", \"REAL POS\", \"REAL NEG\"]\n",
    "    print(tabulate(m, headers, tablefmt=\"grid\")) "
   ]
  },
  {
   "cell_type": "markdown",
   "metadata": {},
   "source": [
    "El análisis ROC básicamente consiste en utilizar la matriz de confusión para calcular el <b>punto del espacio ROC</b> correspondiente, cuyas coordenadas son <b>(FPR, TPR)</b>."
   ]
  },
  {
   "cell_type": "code",
   "execution_count": 101,
   "metadata": {},
   "outputs": [],
   "source": [
    "def ROC_Analysis(dataset, clf, particionado, print_confMtx=True):\n",
    "    seed = random.seed(0)\n",
    "    np.random.shuffle(dataset.datos)\n",
    "    particionado.creaParticiones(dataset.datos, seed)\n",
    "    \n",
    "    TPRs = [] # True positive ratios\n",
    "    FPRs = [] # False positive ratios\n",
    "    for particion in particionado.particiones:\n",
    "\n",
    "        datostrain = dataset.datos[particion.indicesTrain, :]\n",
    "        datostest = dataset.datos[particion.indicesTest, :]\n",
    "            \n",
    "        clf.entrenamiento(datostrain, dataset.nominalAtributos, dataset.diccionario)\n",
    "            \n",
    "        pred = clf.clasifica(datostest, dataset.nominalAtributos, dataset.diccionario)\n",
    "        real = datostest[:,-1] \n",
    "        \n",
    "        # Creating confusion matrix, calculating TPR and FPR.\n",
    "        m = create_confMatrix(pred, real)\n",
    "        tpr_aux = m[0][1]/(m[0][1] + m[1][1])\n",
    "        fpr_aux = m[0][2]/(m[0][2] + m[1][2])\n",
    "        TPRs.append(tpr_aux)\n",
    "        FPRs.append(fpr_aux)\n",
    "    \n",
    "    # Calculating TPRs and FPRs mean\n",
    "    tpr = np.mean(TPRs)\n",
    "    fpr = np.mean(FPRs)\n",
    "    \n",
    "    # Printing confusion matrix (if we want to)\n",
    "    if print_confMtx:\n",
    "        print_confMatrix(m)\n",
    "        print(\"Punto espacio ROC: (\", fpr, \",\", tpr, \")\")\n",
    "\n",
    "    return fpr, tpr\n",
    " "
   ]
  },
  {
   "cell_type": "code",
   "execution_count": 102,
   "metadata": {},
   "outputs": [],
   "source": [
    "def plot_ROC(fpr, tpr, clf_name=None):\n",
    "    plt.figure()\n",
    "    \n",
    "    rand_bins = np.linspace(0, 1, num=30)\n",
    "    plt.plot(rand_bins, rand_bins, color='blue', linestyle='dashed', label='random clf')\n",
    "    \n",
    "    tpr_coords = [0, tpr, 1]\n",
    "    fpr_coords = [0, fpr, 1]\n",
    "    plt.plot(fpr_coords, tpr_coords, color='red', label='classifier')\n",
    "    \n",
    "    plt.xlabel('False Positive Rate (FPR)')\n",
    "    plt.ylabel('True Positive Rate (TPR)')\n",
    "    plt.legend(loc='lower right')\n",
    "    if clf_name:\n",
    "        plt.title('ROC space for '+clf_name)\n",
    "    else:\n",
    "        plt.title('ROC space')"
   ]
  },
  {
   "cell_type": "code",
   "execution_count": 108,
   "metadata": {},
   "outputs": [
    {
     "data": {
      "image/png": "[encoded data removed]",
      "text/plain": [
       "<Figure size 432x288 with 1 Axes>"
      ]
     },
     "metadata": {
      "needs_background": "light"
     },
     "output_type": "display_data"
    }
   ],
   "source": [
    "plot_ROC(0.6, 0.7)"
   ]
  },
  {
   "cell_type": "markdown",
   "metadata": {},
   "source": [
    "## <font color='blue'> 4.1 Dataset tic-tac-toe </font>"
   ]
  },
  {
   "cell_type": "markdown",
   "metadata": {},
   "source": [
    "Analizamos los diagramas de nuestro clasificador, así como para el clasificador de scikit-learn para el dataset 'tic-tac-toe'."
   ]
  },
  {
   "cell_type": "code",
   "execution_count": 109,
   "metadata": {},
   "outputs": [],
   "source": [
    "db_ttt = Datos(\"../ConjuntosDatos/tic-tac-toe.data\")\n",
    "db_ttt_sk = Datos(\"../ConjuntosDatos/tic-tac-toe.data\")\n",
    "\n",
    "np.random.shuffle(db_ttt.datos)\n",
    "np.random.shuffle(db_ttt_sk.datos)\n",
    "\n",
    "preprocess_data(db_ttt_sk)\n",
    "\n",
    "NB = Clasificador.ClasificadorNaiveBayes()\n",
    "NB_noLaplace = Clasificador.ClasificadorNaiveBayes(laplace=False)\n",
    "NBSK = Clasificador.ClasificadorNaiveBayesSK(gaussian_feat=False)"
   ]
  },
  {
   "cell_type": "markdown",
   "metadata": {},
   "source": [
    "### 4.1.1 Validación simple"
   ]
  },
  {
   "cell_type": "markdown",
   "metadata": {},
   "source": [
    "Utilizamos en este apartado la estrategia de particionado simple."
   ]
  },
  {
   "cell_type": "code",
   "execution_count": 110,
   "metadata": {},
   "outputs": [],
   "source": [
    "strat_simple = EstrategiaParticionado.ValidacionSimple(0.8)"
   ]
  },
  {
   "cell_type": "code",
   "execution_count": 111,
   "metadata": {},
   "outputs": [
    {
     "name": "stdout",
     "output_type": "stream",
     "text": [
      "+----------+------------+------------+\n",
      "|          |   REAL POS |   REAL NEG |\n",
      "+==========+============+============+\n",
      "| PRED POS |        115 |         40 |\n",
      "+----------+------------+------------+\n",
      "| PRED NEG |         13 |         24 |\n",
      "+----------+------------+------------+\n",
      "Punto espacio ROC: ( 0.625 , 0.8984375 )\n"
     ]
    }
   ],
   "source": [
    "fpr_nb, tpr_nb = ROC_Analysis(db_ttt, NB, strat_simple)"
   ]
  },
  {
   "cell_type": "code",
   "execution_count": 112,
   "metadata": {},
   "outputs": [
    {
     "name": "stdout",
     "output_type": "stream",
     "text": [
      "+----------+------------+------------+\n",
      "|          |   REAL POS |   REAL NEG |\n",
      "+==========+============+============+\n",
      "| PRED POS |         98 |         42 |\n",
      "+----------+------------+------------+\n",
      "| PRED NEG |         25 |         27 |\n",
      "+----------+------------+------------+\n",
      "Punto espacio ROC: ( 0.6086956521739131 , 0.7967479674796748 )\n"
     ]
    }
   ],
   "source": [
    "fpr_nb_nl, tpr_nb_nl = ROC_Analysis(db_ttt, NB_noLaplace, strat_simple)"
   ]
  },
  {
   "cell_type": "code",
   "execution_count": 113,
   "metadata": {},
   "outputs": [
    {
     "name": "stdout",
     "output_type": "stream",
     "text": [
      "+----------+------------+------------+\n",
      "|          |   REAL POS |   REAL NEG |\n",
      "+==========+============+============+\n",
      "| PRED POS |        109 |         47 |\n",
      "+----------+------------+------------+\n",
      "| PRED NEG |          9 |         27 |\n",
      "+----------+------------+------------+\n",
      "Punto espacio ROC: ( 0.6351351351351351 , 0.923728813559322 )\n"
     ]
    }
   ],
   "source": [
    "fpr_nbsk, tpr_nbsk = ROC_Analysis(db_ttt_sk, NBSK, strat_simple)"
   ]
  },
  {
   "cell_type": "markdown",
   "metadata": {},
   "source": [
    "Las matrices anteriores nos permiten tener una idea, pero lo realmente importante son los siguientes diagramas."
   ]
  },
  {
   "cell_type": "code",
   "execution_count": 114,
   "metadata": {},
   "outputs": [
    {
     "data": {
      "image/png": "[encoded data removed]",
      "text/plain": [
       "<Figure size 432x288 with 1 Axes>"
      ]
     },
     "metadata": {
      "needs_background": "light"
     },
     "output_type": "display_data"
    },
    {
     "data": {
      "image/png": "[encoded data removed]",
      "text/plain": [
       "<Figure size 432x288 with 1 Axes>"
      ]
     },
     "metadata": {
      "needs_background": "light"
     },
     "output_type": "display_data"
    },
    {
     "data": {
      "image/png": "[encoded data removed]",
      "text/plain": [
       "<Figure size 432x288 with 1 Axes>"
      ]
     },
     "metadata": {
      "needs_background": "light"
     },
     "output_type": "display_data"
    }
   ],
   "source": [
    "plot_ROC(fpr_nb, tpr_nb, clf_name='my classifier with simple val')\n",
    "plot_ROC(fpr_nb_nl, tpr_nb_nl, clf_name='my classifier with simple val without Laplace')\n",
    "plot_ROC(fpr_nbsk, tpr_nbsk, clf_name='sklearn clf with simple val')"
   ]
  },
  {
   "cell_type": "markdown",
   "metadata": {},
   "source": [
    "Vemos que para ambos clasificadores e independientemente que usemos o no la corrección de Laplace <b>se sitúan por encima de la recta 'clasificador aleatorio'</b>. Es importante observar que los clasificadores tienen un <b>ratio de verdaderos positivos alto</b> (lo cual está bien), pero un <b>ratio de falsos positivos también relativamente alto</b> (lo cual deberíamos mejorar en una práctica más ambiciosa)."
   ]
  },
  {
   "cell_type": "markdown",
   "metadata": {},
   "source": [
    "### 4.1.2 Validación simple con varias repeticiones"
   ]
  },
  {
   "cell_type": "code",
   "execution_count": 115,
   "metadata": {},
   "outputs": [],
   "source": [
    "strat_simple_rep3 = EstrategiaParticionado.ValidacionSimple(0.8, nreps=3)"
   ]
  },
  {
   "cell_type": "code",
   "execution_count": 116,
   "metadata": {},
   "outputs": [
    {
     "name": "stdout",
     "output_type": "stream",
     "text": [
      "+----------+------------+------------+\n",
      "|          |   REAL POS |   REAL NEG |\n",
      "+==========+============+============+\n",
      "| PRED POS |        107 |         44 |\n",
      "+----------+------------+------------+\n",
      "| PRED NEG |         22 |         19 |\n",
      "+----------+------------+------------+\n",
      "Punto espacio ROC: ( 0.6447555812970938 , 0.8025378530970578 )\n"
     ]
    }
   ],
   "source": [
    "fpr_nb, tpr_nb = ROC_Analysis(db_ttt, NB, strat_simple_rep3)"
   ]
  },
  {
   "cell_type": "code",
   "execution_count": 117,
   "metadata": {},
   "outputs": [
    {
     "name": "stdout",
     "output_type": "stream",
     "text": [
      "+----------+------------+------------+\n",
      "|          |   REAL POS |   REAL NEG |\n",
      "+==========+============+============+\n",
      "| PRED POS |        108 |         34 |\n",
      "+----------+------------+------------+\n",
      "| PRED NEG |         18 |         32 |\n",
      "+----------+------------+------------+\n",
      "Punto espacio ROC: ( 0.5462027684249907 , 0.8259754771382678 )\n"
     ]
    }
   ],
   "source": [
    "fpr_nbsk, tpr_nbsk = ROC_Analysis(db_ttt_sk, NBSK, strat_simple_rep3)"
   ]
  },
  {
   "cell_type": "code",
   "execution_count": 118,
   "metadata": {},
   "outputs": [
    {
     "data": {
      "image/png": "[encoded data removed]",
      "text/plain": [
       "<Figure size 432x288 with 1 Axes>"
      ]
     },
     "metadata": {
      "needs_background": "light"
     },
     "output_type": "display_data"
    },
    {
     "data": {
      "image/png": "[encoded data removed]",
      "text/plain": [
       "<Figure size 432x288 with 1 Axes>"
      ]
     },
     "metadata": {
      "needs_background": "light"
     },
     "output_type": "display_data"
    }
   ],
   "source": [
    "plot_ROC(fpr_nb, tpr_nb, clf_name='my classfier with simple val nreps=3')\n",
    "plot_ROC(fpr_nbsk, tpr_nbsk, clf_name='sklearn clf with simple val nreps=3')"
   ]
  },
  {
   "cell_type": "markdown",
   "metadata": {},
   "source": [
    "Repetir varias veces la validación simple no aporta ningún cambio de información. Seguimos observando que los clasificadores tienen un <b>ratio de verdaderos positivos alto</b> (lo cual está bien), pero un <b>ratio de falsos positivos también relativamente alto</b>."
   ]
  },
  {
   "cell_type": "markdown",
   "metadata": {},
   "source": [
    "### 4.1.3 Validación cruzada"
   ]
  },
  {
   "cell_type": "code",
   "execution_count": 119,
   "metadata": {},
   "outputs": [],
   "source": [
    "strat_cross_val = EstrategiaParticionado.ValidacionCruzada(k_fold=5)"
   ]
  },
  {
   "cell_type": "code",
   "execution_count": 120,
   "metadata": {},
   "outputs": [
    {
     "name": "stdout",
     "output_type": "stream",
     "text": [
      "+----------+------------+------------+\n",
      "|          |   REAL POS |   REAL NEG |\n",
      "+==========+============+============+\n",
      "| PRED POS |        109 |         38 |\n",
      "+----------+------------+------------+\n",
      "| PRED NEG |         16 |         28 |\n",
      "+----------+------------+------------+\n",
      "Punto espacio ROC: ( 0.5677669953532022 , 0.8484523572754593 )\n"
     ]
    }
   ],
   "source": [
    "fpr_nb, tpr_nb = ROC_Analysis(db_ttt, NB, strat_cross_val)"
   ]
  },
  {
   "cell_type": "code",
   "execution_count": 121,
   "metadata": {},
   "outputs": [
    {
     "name": "stdout",
     "output_type": "stream",
     "text": [
      "+----------+------------+------------+\n",
      "|          |   REAL POS |   REAL NEG |\n",
      "+==========+============+============+\n",
      "| PRED POS |        106 |         40 |\n",
      "+----------+------------+------------+\n",
      "| PRED NEG |         12 |         33 |\n",
      "+----------+------------+------------+\n",
      "Punto espacio ROC: ( 0.5868005422971614 , 0.8504791681200567 )\n"
     ]
    }
   ],
   "source": [
    "fpr_nbsk, tpr_nbsk = ROC_Analysis(db_ttt_sk, NBSK, strat_cross_val)"
   ]
  },
  {
   "cell_type": "code",
   "execution_count": 122,
   "metadata": {},
   "outputs": [
    {
     "data": {
      "image/png": "[encoded data removed]",
      "text/plain": [
       "<Figure size 432x288 with 1 Axes>"
      ]
     },
     "metadata": {
      "needs_background": "light"
     },
     "output_type": "display_data"
    },
    {
     "data": {
      "image/png": "[encoded data removed]",
      "text/plain": [
       "<Figure size 432x288 with 1 Axes>"
      ]
     },
     "metadata": {
      "needs_background": "light"
     },
     "output_type": "display_data"
    }
   ],
   "source": [
    "plot_ROC(fpr_nb, tpr_nb, clf_name='my classfier with 5fold cross-val')\n",
    "plot_ROC(fpr_nbsk, tpr_nbsk, clf_name='sklearn clf with 5fold cross-val')"
   ]
  },
  {
   "cell_type": "markdown",
   "metadata": {},
   "source": [
    "Corroboramos finalmente lo obtenido en los dos últimos subapartados. El análisis ROC de ambos clasificadores <b>son muy similares</b>. Con ratios de verdaderos positivos altos  y ratios de fasos positivos, también altos, pero menores que los verdaderos positivos. \n",
    "\n",
    "Como ambos clasificadores tienen resultados <b>parecidos</b>, podríamos considerar que nuestra implementación es correcta y ahora centrarnos en mejorar el algoritmo utilizado para <b>clasificar 'tic-tac-toe'</b>. Por ejemplo, podríamos (en futuros trabajos) intentar utilizar otro algoritmo de aprendizaje automático para ver si desempeña un mejor trabajo con este dataset."
   ]
  },
  {
   "cell_type": "markdown",
   "metadata": {},
   "source": [
    "## <font color='blue'> 4.2 Dataset german </font>"
   ]
  },
  {
   "cell_type": "markdown",
   "metadata": {},
   "source": [
    "Analizamos los diagramas de nuestro clasificador, así como para el clasificador de scikit-learn para el dataset 'german'."
   ]
  },
  {
   "cell_type": "code",
   "execution_count": 123,
   "metadata": {},
   "outputs": [],
   "source": [
    "db_ger = Datos(\"../ConjuntosDatos/tic-tac-toe.data\")\n",
    "db_ger_sk_discr = Datos(\"../ConjuntosDatos/tic-tac-toe.data\")\n",
    "db_ger_sk_cont = Datos(\"../ConjuntosDatos/tic-tac-toe.data\")\n",
    "\n",
    "np.random.shuffle(db_ger.datos)\n",
    "np.random.shuffle(db_ger_sk_discr.datos)\n",
    "np.random.shuffle(db_ger_sk_cont.datos)\n",
    "\n",
    "preprocess_data(db_ger_sk_discr)\n",
    "\n",
    "NB = Clasificador.ClasificadorNaiveBayes()\n",
    "NBSK_discr = Clasificador.ClasificadorNaiveBayesSK(gaussian_feat=False)\n",
    "NBSK_cont = Clasificador.ClasificadorNaiveBayesSK(gaussian_feat=True)"
   ]
  },
  {
   "cell_type": "markdown",
   "metadata": {},
   "source": [
    "### 4.2.1 Validación simple"
   ]
  },
  {
   "cell_type": "code",
   "execution_count": 124,
   "metadata": {},
   "outputs": [],
   "source": [
    "strat_simple = EstrategiaParticionado.ValidacionSimple(0.8)"
   ]
  },
  {
   "cell_type": "code",
   "execution_count": 125,
   "metadata": {},
   "outputs": [
    {
     "name": "stdout",
     "output_type": "stream",
     "text": [
      "+----------+------------+------------+\n",
      "|          |   REAL POS |   REAL NEG |\n",
      "+==========+============+============+\n",
      "| PRED POS |        103 |         42 |\n",
      "+----------+------------+------------+\n",
      "| PRED NEG |         19 |         28 |\n",
      "+----------+------------+------------+\n",
      "Punto espacio ROC: ( 0.6 , 0.8442622950819673 )\n"
     ]
    }
   ],
   "source": [
    "fpr_nb, tpr_nb = ROC_Analysis(db_ger, NB, strat_simple)"
   ]
  },
  {
   "cell_type": "code",
   "execution_count": 126,
   "metadata": {},
   "outputs": [
    {
     "name": "stdout",
     "output_type": "stream",
     "text": [
      "+----------+------------+------------+\n",
      "|          |   REAL POS |   REAL NEG |\n",
      "+==========+============+============+\n",
      "| PRED POS |        113 |         37 |\n",
      "+----------+------------+------------+\n",
      "| PRED NEG |         14 |         28 |\n",
      "+----------+------------+------------+\n",
      "Punto espacio ROC: ( 0.5692307692307692 , 0.889763779527559 )\n"
     ]
    }
   ],
   "source": [
    "fpr_nbsk_discr, tpr_nbsk_discr = ROC_Analysis(db_ger_sk_discr, NBSK_discr, strat_simple)"
   ]
  },
  {
   "cell_type": "code",
   "execution_count": 127,
   "metadata": {},
   "outputs": [
    {
     "name": "stdout",
     "output_type": "stream",
     "text": [
      "+----------+------------+------------+\n",
      "|          |   REAL POS |   REAL NEG |\n",
      "+==========+============+============+\n",
      "| PRED POS |        129 |         51 |\n",
      "+----------+------------+------------+\n",
      "| PRED NEG |          1 |         11 |\n",
      "+----------+------------+------------+\n",
      "Punto espacio ROC: ( 0.8225806451612904 , 0.9923076923076923 )\n"
     ]
    }
   ],
   "source": [
    "fpr_nbsk_cont, tpr_nbsk_cont = ROC_Analysis(db_ger_sk_cont, NBSK_cont, strat_simple)"
   ]
  },
  {
   "cell_type": "code",
   "execution_count": 128,
   "metadata": {},
   "outputs": [
    {
     "data": {
      "image/png": "[encoded data removed]",
      "text/plain": [
       "<Figure size 432x288 with 1 Axes>"
      ]
     },
     "metadata": {
      "needs_background": "light"
     },
     "output_type": "display_data"
    },
    {
     "data": {
      "image/png": "[encoded data removed]",
      "text/plain": [
       "<Figure size 432x288 with 1 Axes>"
      ]
     },
     "metadata": {
      "needs_background": "light"
     },
     "output_type": "display_data"
    },
    {
     "data": {
      "image/png": "[encoded data removed]",
      "text/plain": [
       "<Figure size 432x288 with 1 Axes>"
      ]
     },
     "metadata": {
      "needs_background": "light"
     },
     "output_type": "display_data"
    }
   ],
   "source": [
    "plot_ROC(fpr_nb, tpr_nb, clf_name='my classifier with simple val')\n",
    "plot_ROC(fpr_nbsk_discr, tpr_nbsk_discr, clf_name='discrete sklearn clf with simple val')\n",
    "plot_ROC(fpr_nbsk_cont, tpr_nbsk_cont, clf_name='continuous sklearn clf with simple val')"
   ]
  },
  {
   "cell_type": "markdown",
   "metadata": {},
   "source": [
    "Para los dos primeros casos las gráficas son muy similares. Los resultados son buenos, ya que se posiciones por encima de la recta de 'clasificador aleatorio'. No obstante, el punto del espacio ROC de scikit-learn con aproximación de atributos continua tiene un comportamiento visiblemente diferente. Su ratio de verdaderos positivos se ha disparado, acercándose al <b>valor óptimo 1</b>, lo cual es muy bueno. Por desgracia, el valor del ratio de falsos negativos también ha crecido ligeramente. \n",
    "\n",
    "Decir si esta variación es positiva dependerá del coste de cometer un falso positivo. Por ejemplo, si <b>elaboramos un sistema de alarma para una central nuclear</b>, puede que nos interese tener una gráfica similar a esta última, ya que un <b>falso positivo no desemboca en altos costes</b> (solo en preocupación para el personal), pero tener una tasa de verdaderos positivos <b>cercana al 100% asegura que en los momentos importantes nuestro sistema no va a fallar</b>. "
   ]
  },
  {
   "cell_type": "markdown",
   "metadata": {},
   "source": [
    "### 4.2.2 Validación simple con varias repeticiones"
   ]
  },
  {
   "cell_type": "code",
   "execution_count": 99,
   "metadata": {},
   "outputs": [],
   "source": [
    "strat_simple_rep3 = EstrategiaParticionado.ValidacionSimple(0.8, nreps=3)"
   ]
  },
  {
   "cell_type": "code",
   "execution_count": 100,
   "metadata": {},
   "outputs": [
    {
     "name": "stdout",
     "output_type": "stream",
     "text": [
      "+----------+------------+------------+\n",
      "|          |   REAL POS |   REAL NEG |\n",
      "+==========+============+============+\n",
      "| PRED POS |         99 |         41 |\n",
      "+----------+------------+------------+\n",
      "| PRED NEG |         24 |         28 |\n",
      "+----------+------------+------------+\n",
      "Punto espacio ROC: ( 0.6189613526570048 , 0.852710027100271 )\n"
     ]
    }
   ],
   "source": [
    "fpr_nb, tpr_nb = ROC_Analysis(db_ger, NB, strat_simple_rep3)"
   ]
  },
  {
   "cell_type": "code",
   "execution_count": 101,
   "metadata": {},
   "outputs": [
    {
     "name": "stdout",
     "output_type": "stream",
     "text": [
      "+----------+------------+------------+\n",
      "|          |   REAL POS |   REAL NEG |\n",
      "+==========+============+============+\n",
      "| PRED POS |        107 |         36 |\n",
      "+----------+------------+------------+\n",
      "| PRED NEG |         15 |         34 |\n",
      "+----------+------------+------------+\n",
      "Punto espacio ROC: ( 0.5675434362934363 , 0.883672113781606 )\n"
     ]
    }
   ],
   "source": [
    "fpr_nbsk_discr, tpr_nbsk_discr = ROC_Analysis(db_ger_sk_discr, NBSK_discr, strat_simple_rep3)"
   ]
  },
  {
   "cell_type": "code",
   "execution_count": 102,
   "metadata": {},
   "outputs": [
    {
     "name": "stdout",
     "output_type": "stream",
     "text": [
      "+----------+------------+------------+\n",
      "|          |   REAL POS |   REAL NEG |\n",
      "+==========+============+============+\n",
      "| PRED POS |        124 |         58 |\n",
      "+----------+------------+------------+\n",
      "| PRED NEG |          2 |          8 |\n",
      "+----------+------------+------------+\n",
      "Punto espacio ROC: ( 0.8451479076479077 , 0.9808050092017484 )\n"
     ]
    }
   ],
   "source": [
    "fpr_nbsk_cont, tpr_nbsk_cont = ROC_Analysis(db_ger_sk_cont, NBSK_cont, strat_simple_rep3)"
   ]
  },
  {
   "cell_type": "code",
   "execution_count": 103,
   "metadata": {},
   "outputs": [
    {
     "data": {
      "image/png": "[encoded data removed]",
      "text/plain": [
       "<Figure size 432x288 with 1 Axes>"
      ]
     },
     "metadata": {
      "needs_background": "light"
     },
     "output_type": "display_data"
    },
    {
     "data": {
      "image/png": "[encoded data removed]",
      "text/plain": [
       "<Figure size 432x288 with 1 Axes>"
      ]
     },
     "metadata": {
      "needs_background": "light"
     },
     "output_type": "display_data"
    },
    {
     "data": {
      "image/png": "[encoded data removed]",
      "text/plain": [
       "<Figure size 432x288 with 1 Axes>"
      ]
     },
     "metadata": {
      "needs_background": "light"
     },
     "output_type": "display_data"
    }
   ],
   "source": [
    "plot_ROC(fpr_nb, tpr_nb, clf_name='my classifier with simple val')\n",
    "plot_ROC(fpr_nbsk_discr, tpr_nbsk_discr, clf_name='discrete sklearn clf with simple val nreps=3')\n",
    "plot_ROC(fpr_nbsk_cont, tpr_nbsk_cont, clf_name='continuous sklearn clf with simple val nreps=3')"
   ]
  },
  {
   "cell_type": "markdown",
   "metadata": {},
   "source": [
    "Repetir varias veces la validación simple no aporta ningún cambio de información. Seguimos observando que los clasificadores tienen un <b>ratio de verdaderos positivos alto</b> (lo cual está bien), pero un <b>ratio de falsos positivos también relativamente alto</b>.\n",
    "En la última gráfica, de nuevo, el TPR es altísimo, perdiendo a cambio una pequeña elevación del FPR."
   ]
  },
  {
   "cell_type": "markdown",
   "metadata": {},
   "source": [
    "### 4.2.3 Validación cruzada"
   ]
  },
  {
   "cell_type": "code",
   "execution_count": 104,
   "metadata": {},
   "outputs": [],
   "source": [
    "strat_cross_val = EstrategiaParticionado.ValidacionCruzada(k_fold=5)"
   ]
  },
  {
   "cell_type": "code",
   "execution_count": 105,
   "metadata": {},
   "outputs": [
    {
     "name": "stdout",
     "output_type": "stream",
     "text": [
      "+----------+------------+------------+\n",
      "|          |   REAL POS |   REAL NEG |\n",
      "+==========+============+============+\n",
      "| PRED POS |        103 |         43 |\n",
      "+----------+------------+------------+\n",
      "| PRED NEG |         18 |         27 |\n",
      "+----------+------------+------------+\n",
      "Punto espacio ROC: ( 0.582024724411377 , 0.8558634971827876 )\n"
     ]
    }
   ],
   "source": [
    "fpr_nb, tpr_nb = ROC_Analysis(db_ger, NB, strat_cross_val)"
   ]
  },
  {
   "cell_type": "code",
   "execution_count": 106,
   "metadata": {},
   "outputs": [
    {
     "name": "stdout",
     "output_type": "stream",
     "text": [
      "+----------+------------+------------+\n",
      "|          |   REAL POS |   REAL NEG |\n",
      "+==========+============+============+\n",
      "| PRED POS |        107 |         42 |\n",
      "+----------+------------+------------+\n",
      "| PRED NEG |         19 |         23 |\n",
      "+----------+------------+------------+\n",
      "Punto espacio ROC: ( 0.5707836579447834 , 0.8486480423453665 )\n"
     ]
    }
   ],
   "source": [
    "fpr_nbsk_discr, tpr_nbsk_discr = ROC_Analysis(db_ger_sk_discr, NBSK_discr, strat_cross_val)"
   ]
  },
  {
   "cell_type": "code",
   "execution_count": 107,
   "metadata": {},
   "outputs": [
    {
     "name": "stdout",
     "output_type": "stream",
     "text": [
      "+----------+------------+------------+\n",
      "|          |   REAL POS |   REAL NEG |\n",
      "+==========+============+============+\n",
      "| PRED POS |        126 |         51 |\n",
      "+----------+------------+------------+\n",
      "| PRED NEG |          0 |         14 |\n",
      "+----------+------------+------------+\n",
      "Punto espacio ROC: ( 0.79170939033008 , 0.9807775425000305 )\n"
     ]
    }
   ],
   "source": [
    "fpr_nbsk_cont, tpr_nbsk_cont = ROC_Analysis(db_ger_sk_cont, NBSK_cont, strat_cross_val)"
   ]
  },
  {
   "cell_type": "code",
   "execution_count": 108,
   "metadata": {},
   "outputs": [
    {
     "data": {
      "image/png": "[encoded data removed]",
      "text/plain": [
       "<Figure size 432x288 with 1 Axes>"
      ]
     },
     "metadata": {
      "needs_background": "light"
     },
     "output_type": "display_data"
    },
    {
     "data": {
      "image/png": "[encoded data removed]",
      "text/plain": [
       "<Figure size 432x288 with 1 Axes>"
      ]
     },
     "metadata": {
      "needs_background": "light"
     },
     "output_type": "display_data"
    },
    {
     "data": {
      "image/png": "[encoded data removed]",
      "text/plain": [
       "<Figure size 432x288 with 1 Axes>"
      ]
     },
     "metadata": {
      "needs_background": "light"
     },
     "output_type": "display_data"
    }
   ],
   "source": [
    "plot_ROC(fpr_nb, tpr_nb, clf_name='my classifier with 5fold cross-val')\n",
    "plot_ROC(fpr_nbsk_discr, tpr_nbsk_discr, clf_name='discrete sklearn clf with 5fold cross-val')\n",
    "plot_ROC(fpr_nbsk_cont, tpr_nbsk_cont, clf_name='continuous sklearn clf with 5fold cross-val')"
   ]
  },
  {
   "cell_type": "markdown",
   "metadata": {},
   "source": [
    "Finalmente, la validación cruzada no aporta más información de la que ya teníamos. Nuestro clasificador es similar al de scikit-learn. Quizá es de sklearn sea mejor en que el coste de un falso negativo sea terriblemente alto (ya que la tasa de verdaderos positivos es cercana al 100%).\n",
    "Por lo general buscamos tener un equilibrio entre ambas tasas, por lo que en otras situaciones busquemos rendimientos de clasificador similares a los de las primeras dos gráficas."
   ]
  },
  {
   "cell_type": "code",
   "execution_count": null,
   "metadata": {},
   "outputs": [],
   "source": []
  }
 ],
 "metadata": {
  "kernelspec": {
   "display_name": "Python 3",
   "language": "python",
   "name": "python3"
  },
  "language_info": {
   "codemirror_mode": {
    "name": "ipython",
    "version": 3
   },
   "file_extension": ".py",
   "mimetype": "text/x-python",
   "name": "python",
   "nbconvert_exporter": "python",
   "pygments_lexer": "ipython3",
   "version": "3.7.3"
  }
 },
 "nbformat": 4,
 "nbformat_minor": 2
}
