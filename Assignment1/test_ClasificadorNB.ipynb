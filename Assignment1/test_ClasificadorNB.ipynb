{
 "cells": [
  {
   "cell_type": "code",
   "execution_count": 19,
   "metadata": {},
   "outputs": [],
   "source": [
    "from abc import ABCMeta,abstractmethod\n",
    "\n",
    "\n",
    "class Clasificador:\n",
    "\n",
    "    # Clase abstracta\n",
    "    __metaclass__ = ABCMeta\n",
    "\n",
    "    # Metodos abstractos que se implementan en casa clasificador concreto\n",
    "    @abstractmethod\n",
    "    # TODO: esta funcion debe ser implementada en cada clasificador concreto\n",
    "    # datosTrain: matriz numpy con los datos de entrenamiento\n",
    "    # atributosDiscretos: array bool con la indicatriz de los atributos nominales\n",
    "    # diccionario: array de diccionarios de la estructura Datos utilizados para la codificacion de variables discretas\n",
    "    def entrenamiento(self,datosTrain,atributosDiscretos,diccionario):\n",
    "        pass\n",
    "\n",
    "\n",
    "    @abstractmethod\n",
    "    # TODO: esta funcion debe ser implementada en cada clasificador concreto\n",
    "    # devuelve un numpy array con las predicciones\n",
    "    def clasifica(self,datosTest,atributosDiscretos,diccionario):\n",
    "        pass\n",
    "\n",
    "\n",
    "    # Obtiene el numero de aciertos y errores para calcular la tasa de fallo\n",
    "    # datos is numpy array\n",
    "    # pred is numpy array\n",
    "    def error(self, datos, pred):\n",
    "        # Aqui se compara la prediccion (pred) con las clases reales y se calcula el error\n",
    "        hit_rate = sum(datos == pred)/len(pred)\n",
    "        return 1-hit_rate # miss rate is the complement of hit rate\n",
    "\n",
    "\n",
    "    # Realiza una clasificacion utilizando una estrategia de particionado determinada\n",
    "    # TODO: implementar esta funcion\n",
    "    def validacion(self, particionado, dataset, clasificador, seed=None):\n",
    "        # Creamos las particiones siguiendo la estrategia llamando a particionado.creaParticiones\n",
    "        # - Para validacion cruzada: en el bucle hasta nv entrenamos el clasificador con la particion de train i\n",
    "        # y obtenemos el error en la particion de test i\n",
    "        # - Para validacion simple (hold-out): entrenamos el clasificador con la particion de train\n",
    "        # y obtenemos el error en la particion test. Otra opci�n es repetir la validaci�n simple un n�mero especificado de veces, obteniendo en cada una un error. Finalmente se calcular�a la media.\n",
    "        random.seed(seed)\n",
    "        np.random.shuffle(dataset.datos)\n",
    "        \n",
    "        particionado.creaParticiones(dataset.datos, seed)\n",
    "        \n",
    "        errores = []\n",
    "\n",
    "        for particion in particionado.particiones:\n",
    "\n",
    "            datostrain = dataset.datos[particion.indicesTrain, :]\n",
    "            datostest = dataset.datos[particion.indicesTest, :]\n",
    "            \n",
    "            clasificador.entrenamiento(datostrain, dataset.nominalAtributos, dataset.diccionario)\n",
    "            \n",
    "            pred = clasificador.clasifica(datostest, dataset.nominalAtributos, dataset.diccionario)\n",
    "            \n",
    "            ydatos = datostest[:,-1]\n",
    "            clases_reales = []\n",
    "            for item in ydatos:\n",
    "                clases_reales.append(dataset.diccionario[-1][item])\n",
    "            clases_reales = np.asarray(clases_reales)\n",
    "            \n",
    "            err = clasificador.error(clases_reales, pred)\n",
    "            \n",
    "            errores.append(err)\n",
    "        \n",
    "        return np.mean(errores)\n",
    "        \n",
    "        \n",
    "\n",
    "##############################################################################\n",
    "\n",
    "class ClasificadorNaiveBayes(Clasificador):\n",
    "    \n",
    "    def __init__(self):\n",
    "        self.prior_probs = []\n",
    "        self.likelihoods = []\n",
    "\n",
    "    \n",
    "    def _multinomialNB(self, xdata, ydata, feat_idx, diccionario):\n",
    "        n_xi = len(diccionario[feat_idx])\n",
    "        n_classes = len(diccionario[-1])\n",
    "        theta_mtx = np.zeros((n_xi, n_classes))\n",
    "        \n",
    "        for value in diccionario[feat_idx]:\n",
    "            feat_val_idx = diccionario[feat_idx][value]\n",
    "            for class_name in diccionario[-1]:\n",
    "                class_idx = diccionario[-1][class_name]\n",
    "                theta_mtx[feat_val_idx][class_idx] = sum((xdata[:,feat_idx] == value)&(ydata == class_name))/sum(ydata == class_name)\n",
    "        \n",
    "        return theta_mtx\n",
    "                      \n",
    "\n",
    "    def _gaussianNB(self, xdata, ydata, feat_idx, diccionario):\n",
    "        n_classes = len(diccionario[-1])\n",
    "        \n",
    "        theta_mtx = np.zeros((n_classes, 2)) # 2 columns: mean and variance for each class\n",
    "        \n",
    "        for class_name in diccionario[-1]:\n",
    "            class_idx = diccionario[-1][class_name]\n",
    "            # We calculate the mean coditioned to each possible class\n",
    "            mean_sum = sum(elem for (idx, elem) in enumerate(xdata[:,feat_idx]) if ydata[idx]==class_name)\n",
    "            mean_class = mean_sum/sum(ydata == class_name)\n",
    "            # We calculate the variance conditioned to each possible class\n",
    "            var_sum = sum((elem-mean_class)**2 for (idx, elem) in enumerate(xdata[:,feat_idx]) if ydata[idx]==class_name)\n",
    "            var_class = var_sum/sum(ydata == class_name)\n",
    "\n",
    "            theta_mtx[class_idx][0] = mean_class\n",
    "            theta_mtx[class_idx][1] = var_class\n",
    "        \n",
    "        return theta_mtx\n",
    "            \n",
    "\n",
    "\n",
    "    def entrenamiento(self,datostrain,atributosDiscretos,diccionario):\n",
    "        xdata = datostrain[:,:-1] # all rows, all columns but last one\n",
    "        ydata = datostrain[:,-1]  # all rows, just last column\n",
    "        \n",
    "        m, n = xdata.shape     # number of examples, number of features\n",
    "        n_classes = len(diccionario[-1])  # number of different classes\n",
    "        \n",
    "        # Calculating prior probabilities\n",
    "        self.prior_probs = np.zeros(n_classes) # initializing array of prior probs with zeros\n",
    "        for class_name in diccionario[-1]:\n",
    "            class_idx = diccionario[-1][class_name]\n",
    "            self.prior_probs[class_idx] = sum((class_name == ydata))/m # P(y=i) = count(ydata==i)/len(ydata)\n",
    "        \n",
    "        likelihoods_list = []\n",
    "        # Calculating likelihoods\n",
    "        for feat_idx in range(n):\n",
    "            if atributosDiscretos[feat_idx]:\n",
    "                # calculating frequentist probs for discrete features\n",
    "                theta_mtx = self._multinomialNB(xdata, ydata, feat_idx, diccionario)\n",
    "            else:\n",
    "                # calculating means and variances for continuous features\n",
    "                theta_mtx = self._gaussianNB(xdata, ydata, feat_idx, diccionario)\n",
    "\n",
    "            likelihoods_list.append(theta_mtx)\n",
    "        \n",
    "        self.likelihoods = np.asarray(likelihoods_list)\n",
    "\n",
    "    \n",
    "\n",
    "    # TODO: implementar\n",
    "    def clasifica(self,datostest,atributosDiscretos,diccionario):\n",
    "        xdata = datostest[:,:-1] # all rows, all columns but last one\n",
    "        ydata = datostest[:,-1]  # all rows, just last column\n",
    "        \n",
    "        ndata, n_feat = xdata.shape     # number of examples, number of features\n",
    "        n_classes = len(diccionario[-1])  # number of different classes\n",
    "        \n",
    "        pred = []\n",
    "        for i in range(ndata):\n",
    "            classes_probs = []\n",
    "            for k in range(n_classes):\n",
    "                class_p = self.prior_probs[k]\n",
    "                for feat_idx in range(n_feat):\n",
    "                    if atributosDiscretos[feat_idx]:\n",
    "                        class_p *= self.likelihoods[feat_idx][diccionario[feat_idx][xdata[i][feat_idx]]][k]\n",
    "                    else:\n",
    "                        mean = self.likelihoods[feat_idx][k][0]\n",
    "                        var = self.likelihoods[feat_idx][k][1]\n",
    "                        class_p *= norm.pdf(xdata[i][feat_idx], loc=mean, scale=math.sqrt(var))\n",
    "                classes_probs.append(class_p)\n",
    "            pred.append(classes_probs.index(max(classes_probs)))\n",
    "            \n",
    "        return np.asarray(pred)\n"
   ]
  },
  {
   "cell_type": "code",
   "execution_count": 38,
   "metadata": {},
   "outputs": [],
   "source": [
    "from sklearn.naive_bayes import MultinomialNB\n",
    "from Datos import Datos\n",
    "from sklearn.preprocessing import OneHotEncoder\n",
    "import numpy as np\n",
    "import random, math\n",
    "from scipy.stats import norm"
   ]
  },
  {
   "cell_type": "code",
   "execution_count": 21,
   "metadata": {},
   "outputs": [
    {
     "name": "stdout",
     "output_type": "stream",
     "text": [
      "958\n"
     ]
    }
   ],
   "source": [
    "from Datos import Datos\n",
    "dataset_ttt = Datos(\"../ConjuntosDatos/tic-tac-toe.data\")\n",
    "ndata, nfeat = dataset_ttt.datos.shape\n",
    "print(ndata)"
   ]
  },
  {
   "cell_type": "code",
   "execution_count": 22,
   "metadata": {},
   "outputs": [
    {
     "name": "stdout",
     "output_type": "stream",
     "text": [
      "[1 1 0 1 1 1 1 1 0 1 1 0 0 1 0 1 0 1 1 0 1 0 1 1 0 0 1 1 1 1 1 1 1 1 1 0 1\n",
      " 1 1 1 1 1 1 1 1 1 1 1 0 1 0 1 0 1 1 1 1 1 1 1 1 1 1 1 1 0 0 1 1 1 1 0 1 1\n",
      " 1 1 1 0 1 0 1 1 0 1 1 0 0 1 1 1 1 1 0 0 1 1 1 1 1 1 1 1 1 0 1 1 1 1 1 1 1\n",
      " 1 1 1 1 1 1 1 1 1]\n",
      "\n",
      "\n",
      "0.275\n"
     ]
    }
   ],
   "source": [
    "np.random.shuffle(dataset_ttt.datos)\n",
    "NB = ClasificadorNaiveBayes()\n",
    "NB.entrenamiento(dataset_ttt.datos[:int(ndata*(7/8))], dataset_ttt.nominalAtributos, dataset_ttt.diccionario)\n",
    "pred = NB.clasifica(dataset_ttt.datos[int(ndata*(7/8)):], dataset_ttt.nominalAtributos, dataset_ttt.diccionario)\n",
    "print(pred)\n",
    "print(\"\\n\")\n",
    "\n",
    "ydatos = dataset_ttt.datos[int(ndata*(7/8)):,-1]\n",
    "\n",
    "ydatos_real = []\n",
    "for item in ydatos:\n",
    "    ydatos_real.append(dataset_ttt.diccionario[-1][item])\n",
    "ydatos_real = np.asarray(ydatos_real)\n",
    "\n",
    "error = NB.error(ydatos_real, pred)\n",
    "print(error)"
   ]
  },
  {
   "cell_type": "code",
   "execution_count": null,
   "metadata": {},
   "outputs": [],
   "source": []
  },
  {
   "cell_type": "code",
   "execution_count": 23,
   "metadata": {},
   "outputs": [],
   "source": [
    "import EstrategiaParticionado"
   ]
  },
  {
   "cell_type": "code",
   "execution_count": 24,
   "metadata": {},
   "outputs": [],
   "source": [
    "strat_simple = EstrategiaParticionado.ValidacionSimple(0.8)"
   ]
  },
  {
   "cell_type": "code",
   "execution_count": 25,
   "metadata": {},
   "outputs": [
    {
     "data": {
      "text/plain": [
       "0.3125"
      ]
     },
     "execution_count": 25,
     "metadata": {},
     "output_type": "execute_result"
    }
   ],
   "source": [
    "NB.validacion(strat_simple, dataset_ttt, NB)"
   ]
  },
  {
   "cell_type": "code",
   "execution_count": 26,
   "metadata": {},
   "outputs": [],
   "source": [
    "strat_simple_rep3 = EstrategiaParticionado.ValidacionSimple(0.8, nreps=3)"
   ]
  },
  {
   "cell_type": "code",
   "execution_count": 27,
   "metadata": {},
   "outputs": [
    {
     "data": {
      "text/plain": [
       "0.2986111111111111"
      ]
     },
     "execution_count": 27,
     "metadata": {},
     "output_type": "execute_result"
    }
   ],
   "source": [
    "NB.validacion(strat_simple_rep3, dataset_ttt, NB)"
   ]
  },
  {
   "cell_type": "code",
   "execution_count": 28,
   "metadata": {},
   "outputs": [],
   "source": [
    "strat_cross = EstrategiaParticionado.ValidacionCruzada(k_fold=5)"
   ]
  },
  {
   "cell_type": "code",
   "execution_count": 29,
   "metadata": {},
   "outputs": [
    {
     "data": {
      "text/plain": [
       "0.2994764397905759"
      ]
     },
     "execution_count": 29,
     "metadata": {},
     "output_type": "execute_result"
    }
   ],
   "source": [
    "NB.validacion(strat_cross, dataset_ttt, NB)"
   ]
  },
  {
   "cell_type": "code",
   "execution_count": null,
   "metadata": {},
   "outputs": [],
   "source": []
  },
  {
   "cell_type": "code",
   "execution_count": null,
   "metadata": {},
   "outputs": [],
   "source": []
  },
  {
   "cell_type": "code",
   "execution_count": null,
   "metadata": {},
   "outputs": [],
   "source": []
  },
  {
   "cell_type": "code",
   "execution_count": null,
   "metadata": {},
   "outputs": [],
   "source": []
  },
  {
   "cell_type": "code",
   "execution_count": 30,
   "metadata": {},
   "outputs": [
    {
     "name": "stdout",
     "output_type": "stream",
     "text": [
      "(766, 27) (766,)\n"
     ]
    }
   ],
   "source": [
    "ttt_db = Datos('../ConjuntosDatos/tic-tac-toe.data')\n",
    "np.random.shuffle(ttt_db.datos)\n",
    "X = ttt_db.datos[:,:-1]\n",
    "y = ttt_db.datos[:,-1]\n",
    "\n",
    "\n",
    "enc = OneHotEncoder(sparse=False)\n",
    "X = np.array(enc.fit_transform(X)) \n",
    "\n",
    "n, m = X.shape\n",
    "\n",
    "x_train = X[:int(0.8*n), :]\n",
    "y_train = y[:int(0.8*n)]\n",
    "\n",
    "print(x_train.shape, y_train.shape)\n",
    "\n",
    "x_test = X[int(0.8*n):, :]\n",
    "y_test = y[int(0.8*n):]"
   ]
  },
  {
   "cell_type": "code",
   "execution_count": 31,
   "metadata": {},
   "outputs": [],
   "source": [
    "clf = MultinomialNB()"
   ]
  },
  {
   "cell_type": "code",
   "execution_count": 32,
   "metadata": {},
   "outputs": [
    {
     "data": {
      "text/plain": [
       "MultinomialNB(alpha=1.0, class_prior=None, fit_prior=True)"
      ]
     },
     "execution_count": 32,
     "metadata": {},
     "output_type": "execute_result"
    }
   ],
   "source": [
    "clf.fit(x_train,y_train)"
   ]
  },
  {
   "cell_type": "code",
   "execution_count": 33,
   "metadata": {},
   "outputs": [
    {
     "data": {
      "text/plain": [
       "0.6822916666666666"
      ]
     },
     "execution_count": 33,
     "metadata": {},
     "output_type": "execute_result"
    }
   ],
   "source": [
    "clf.score(x_test,y_test)"
   ]
  },
  {
   "cell_type": "code",
   "execution_count": null,
   "metadata": {},
   "outputs": [],
   "source": []
  },
  {
   "cell_type": "code",
   "execution_count": null,
   "metadata": {},
   "outputs": [],
   "source": []
  },
  {
   "cell_type": "code",
   "execution_count": 34,
   "metadata": {},
   "outputs": [
    {
     "name": "stdout",
     "output_type": "stream",
     "text": [
      "1000 21\n"
     ]
    }
   ],
   "source": [
    "dataset_ger = Datos(\"../ConjuntosDatos/german.data\")\n",
    "ndata, nfeat = dataset_ger.datos.shape\n",
    "print(ndata, nfeat)"
   ]
  },
  {
   "cell_type": "code",
   "execution_count": 41,
   "metadata": {},
   "outputs": [
    {
     "data": {
      "text/plain": [
       "0.21499999999999997"
      ]
     },
     "execution_count": 41,
     "metadata": {},
     "output_type": "execute_result"
    }
   ],
   "source": [
    "strat_simple_ger = EstrategiaParticionado.ValidacionSimple(0.8)\n",
    "NB.validacion(strat_simple_ger, dataset_ger, NB)"
   ]
  },
  {
   "cell_type": "code",
   "execution_count": 45,
   "metadata": {},
   "outputs": [
    {
     "data": {
      "text/plain": [
       "0.25333333333333335"
      ]
     },
     "execution_count": 45,
     "metadata": {},
     "output_type": "execute_result"
    }
   ],
   "source": [
    "strat_simple_rep3_ger = EstrategiaParticionado.ValidacionSimple(0.8, nreps=3)\n",
    "NB.validacion(strat_simple_rep3_ger, dataset_ger, NB)"
   ]
  },
  {
   "cell_type": "code",
   "execution_count": 48,
   "metadata": {},
   "outputs": [
    {
     "data": {
      "text/plain": [
       "0.25"
      ]
     },
     "execution_count": 48,
     "metadata": {},
     "output_type": "execute_result"
    }
   ],
   "source": [
    "strat_cross_ger = EstrategiaParticionado.ValidacionCruzada(k_fold=5)\n",
    "NB.validacion(strat_cross_ger, dataset_ger, NB)"
   ]
  },
  {
   "cell_type": "code",
   "execution_count": null,
   "metadata": {},
   "outputs": [],
   "source": []
  },
  {
   "cell_type": "code",
   "execution_count": null,
   "metadata": {},
   "outputs": [],
   "source": []
  },
  {
   "cell_type": "code",
   "execution_count": null,
   "metadata": {},
   "outputs": [],
   "source": []
  },
  {
   "cell_type": "code",
   "execution_count": null,
   "metadata": {},
   "outputs": [],
   "source": []
  },
  {
   "cell_type": "code",
   "execution_count": null,
   "metadata": {},
   "outputs": [],
   "source": []
  }
 ],
 "metadata": {
  "kernelspec": {
   "display_name": "Python 3",
   "language": "python",
   "name": "python3"
  },
  "language_info": {
   "codemirror_mode": {
    "name": "ipython",
    "version": 3
   },
   "file_extension": ".py",
   "mimetype": "text/x-python",
   "name": "python",
   "nbconvert_exporter": "python",
   "pygments_lexer": "ipython3",
   "version": "3.7.3"
  }
 },
 "nbformat": 4,
 "nbformat_minor": 2
}
