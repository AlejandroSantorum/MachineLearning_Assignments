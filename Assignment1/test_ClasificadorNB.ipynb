{
 "cells": [
  {
   "cell_type": "code",
   "execution_count": 2,
   "metadata": {},
   "outputs": [],
   "source": [
    "%load_ext autoreload\n",
    "%autoreload 2"
   ]
  },
  {
   "cell_type": "code",
   "execution_count": 20,
   "metadata": {},
   "outputs": [],
   "source": [
    "import sys\n",
    "sys.path.append('/usr/local/lib/python3.7/site-packages')"
   ]
  },
  {
   "cell_type": "code",
   "execution_count": 21,
   "metadata": {},
   "outputs": [],
   "source": [
    "from Datos import Datos\n",
    "import EstrategiaParticionado\n",
    "import Clasificador\n",
    "\n",
    "import numpy as np\n",
    "import random\n",
    "from sklearn.preprocessing import OneHotEncoder\n",
    "\n",
    "from tabulate import tabulate"
   ]
  },
  {
   "cell_type": "markdown",
   "metadata": {},
   "source": [
    "# <font color='red'>1. Entrenamiento y clasificación con Clasificador.py</font>\n"
   ]
  },
  {
   "cell_type": "markdown",
   "metadata": {},
   "source": [
    "## <font color='blue'> 1.1 Dataset tic-tac-toe </font>"
   ]
  },
  {
   "cell_type": "code",
   "execution_count": 22,
   "metadata": {},
   "outputs": [
    {
     "name": "stdout",
     "output_type": "stream",
     "text": [
      "Numero de ejemplos de entrenamiento: 958 , Numero de columnas: 10\n"
     ]
    }
   ],
   "source": [
    "dataset_ttt = Datos(\"../ConjuntosDatos/tic-tac-toe.data\")\n",
    "ndata, ncols = dataset_ttt.datos.shape # nfeat = ncols-1 \n",
    "print(\"Numero de ejemplos de entrenamiento:\", ndata, \", Numero de columnas:\", ncols)"
   ]
  },
  {
   "cell_type": "code",
   "execution_count": 23,
   "metadata": {},
   "outputs": [],
   "source": [
    "np.random.shuffle(dataset_ttt.datos)\n",
    "\n",
    "NB = Clasificador.ClasificadorNaiveBayes()"
   ]
  },
  {
   "cell_type": "markdown",
   "metadata": {},
   "source": [
    "### 1.1.1 Validación simple"
   ]
  },
  {
   "cell_type": "code",
   "execution_count": 24,
   "metadata": {},
   "outputs": [],
   "source": [
    "strat_simple = EstrategiaParticionado.ValidacionSimple(0.8)"
   ]
  },
  {
   "cell_type": "code",
   "execution_count": 25,
   "metadata": {},
   "outputs": [
    {
     "data": {
      "text/plain": [
       "[0.28645833333333337]"
      ]
     },
     "execution_count": 25,
     "metadata": {},
     "output_type": "execute_result"
    }
   ],
   "source": [
    "NB.validacion(strat_simple, dataset_ttt, NB)"
   ]
  },
  {
   "cell_type": "markdown",
   "metadata": {},
   "source": [
    "### 1.1.2 Validación simple con varias repeticiones (3 reps)"
   ]
  },
  {
   "cell_type": "code",
   "execution_count": 26,
   "metadata": {},
   "outputs": [],
   "source": [
    "strat_simple_rep3 = EstrategiaParticionado.ValidacionSimple(0.8, nreps=3)"
   ]
  },
  {
   "cell_type": "code",
   "execution_count": 27,
   "metadata": {},
   "outputs": [
    {
     "name": "stdout",
     "output_type": "stream",
     "text": [
      "Errores: [0.328125, 0.30208333333333337, 0.265625]\n",
      "Error medio: 0.2986111111111111 +- 0.02563337336846077\n"
     ]
    }
   ],
   "source": [
    "errores = NB.validacion(strat_simple_rep3, dataset_ttt, NB)\n",
    "print(\"Errores:\", errores)\n",
    "print(\"Error medio:\", np.mean(errores), \"+-\", np.std(errores))"
   ]
  },
  {
   "cell_type": "markdown",
   "metadata": {},
   "source": [
    "### 1.1.3 Validación Cruzada (5 folds)"
   ]
  },
  {
   "cell_type": "code",
   "execution_count": 28,
   "metadata": {},
   "outputs": [],
   "source": [
    "strat_cross = EstrategiaParticionado.ValidacionCruzada(k_fold=5)"
   ]
  },
  {
   "cell_type": "code",
   "execution_count": 29,
   "metadata": {},
   "outputs": [
    {
     "name": "stdout",
     "output_type": "stream",
     "text": [
      "Errores: [0.2879581151832461, 0.39267015706806285, 0.25130890052356025, 0.2670157068062827, 0.32460732984293195]\n",
      "Error medio: 0.30471204188481676 +- 0.05037073705049505\n"
     ]
    }
   ],
   "source": [
    "errores = NB.validacion(strat_cross, dataset_ttt, NB)\n",
    "print(\"Errores:\", errores)\n",
    "print(\"Error medio:\", np.mean(errores), \"+-\", np.std(errores))"
   ]
  },
  {
   "cell_type": "markdown",
   "metadata": {},
   "source": [
    "## <font color='blue'> 1.2 Dataset German </font>"
   ]
  },
  {
   "cell_type": "code",
   "execution_count": 30,
   "metadata": {},
   "outputs": [
    {
     "name": "stdout",
     "output_type": "stream",
     "text": [
      "Numero de ejemplos de entrenamiento: 1000 , Numero de columnas: 21\n"
     ]
    }
   ],
   "source": [
    "dataset_ger = Datos(\"../ConjuntosDatos/german.data\")\n",
    "ndata, ncols = dataset_ger.datos.shape # nfeat = ncols-1 \n",
    "print(\"Numero de ejemplos de entrenamiento:\", ndata, \", Numero de columnas:\", ncols)"
   ]
  },
  {
   "cell_type": "code",
   "execution_count": 31,
   "metadata": {},
   "outputs": [],
   "source": [
    "np.random.shuffle(dataset_ger.datos)"
   ]
  },
  {
   "cell_type": "markdown",
   "metadata": {},
   "source": [
    "### 1.2.1 Validación simple"
   ]
  },
  {
   "cell_type": "code",
   "execution_count": 32,
   "metadata": {},
   "outputs": [
    {
     "data": {
      "text/plain": [
       "[0.245]"
      ]
     },
     "execution_count": 32,
     "metadata": {},
     "output_type": "execute_result"
    }
   ],
   "source": [
    "strat_simple_ger = EstrategiaParticionado.ValidacionSimple(0.8)\n",
    "NB.validacion(strat_simple_ger, dataset_ger, NB)"
   ]
  },
  {
   "cell_type": "markdown",
   "metadata": {},
   "source": [
    "### 1.2.2 Validación simple con varias repeticiones (3 reps)"
   ]
  },
  {
   "cell_type": "code",
   "execution_count": 33,
   "metadata": {},
   "outputs": [
    {
     "name": "stdout",
     "output_type": "stream",
     "text": [
      "Errores: [0.22999999999999998, 0.31000000000000005, 0.21499999999999997]\n",
      "Error medio: 0.25166666666666665 +- 0.04169998667732271\n"
     ]
    }
   ],
   "source": [
    "strat_simple_rep3_ger = EstrategiaParticionado.ValidacionSimple(0.8, nreps=3)\n",
    "errores = NB.validacion(strat_simple_rep3_ger, dataset_ger, NB)\n",
    "print(\"Errores:\", errores)\n",
    "print(\"Error medio:\", np.mean(errores), \"+-\", np.std(errores))"
   ]
  },
  {
   "cell_type": "markdown",
   "metadata": {},
   "source": [
    "### 1.2.3 Validación cruzada (5 folds)"
   ]
  },
  {
   "cell_type": "code",
   "execution_count": 34,
   "metadata": {},
   "outputs": [
    {
     "name": "stdout",
     "output_type": "stream",
     "text": [
      "Errores: [0.25225225225225223, 0.27627627627627627, 0.2582582582582582]\n",
      "Error medio: 0.26226226226226224 +- 0.01020824727446004\n"
     ]
    }
   ],
   "source": [
    "strat_cross_ger = EstrategiaParticionado.ValidacionCruzada(k_fold=3)\n",
    "errores = NB.validacion(strat_cross_ger, dataset_ger, NB)\n",
    "print(\"Errores:\", errores)\n",
    "print(\"Error medio:\", np.mean(errores), \"+-\", np.std(errores))"
   ]
  },
  {
   "cell_type": "markdown",
   "metadata": {},
   "source": [
    "## <font color='green'> 1.3 Tablas de Resultados </font>"
   ]
  },
  {
   "cell_type": "markdown",
   "metadata": {},
   "source": [
    "###  1.3.1 Validación simple con número variable de repeticiones"
   ]
  },
  {
   "cell_type": "code",
   "execution_count": 35,
   "metadata": {},
   "outputs": [],
   "source": [
    "def val_simple(percentage):\n",
    "    max_reps = 5\n",
    "    L = []\n",
    "    for i in range(1, max_reps+1):\n",
    "        L.append([])\n",
    "        strat = EstrategiaParticionado.ValidacionSimple(percentage, nreps=i)\n",
    "        errores_ttt = NB.validacion(strat, dataset_ttt, NB)\n",
    "        errores_ger = NB.validacion(strat, dataset_ger, NB)\n",
    "        L[i-1].append(str(i))\n",
    "        L[i-1].append(\"%.2f +- %.3f\"% (np.mean(errores_ttt), np.std(errores_ttt)))\n",
    "        L[i-1].append(\"%.2f +- %.3f\"% (np.mean(errores_ger), np.std(errores_ger)))\n",
    "    print(\"Validación Simple con \" + str(int(percentage*100)) +   \"% Train\\n\")\n",
    "    print(tabulate(L, headers = [\"N_REPS\", \"TTT_DB\", \"GER_DB\"], tablefmt=\"grid\")) "
   ]
  },
  {
   "cell_type": "code",
   "execution_count": 36,
   "metadata": {},
   "outputs": [
    {
     "name": "stdout",
     "output_type": "stream",
     "text": [
      "Validación Simple con 70% Train\n",
      "\n",
      "+----------+---------------+---------------+\n",
      "|   N_REPS | TTT_DB        | GER_DB        |\n",
      "+==========+===============+===============+\n",
      "|        1 | 0.30 +- 0.000 | 0.26 +- 0.000 |\n",
      "+----------+---------------+---------------+\n",
      "|        2 | 0.30 +- 0.045 | 0.23 +- 0.015 |\n",
      "+----------+---------------+---------------+\n",
      "|        3 | 0.27 +- 0.020 | 0.26 +- 0.023 |\n",
      "+----------+---------------+---------------+\n",
      "|        4 | 0.29 +- 0.017 | 0.25 +- 0.029 |\n",
      "+----------+---------------+---------------+\n",
      "|        5 | 0.30 +- 0.011 | 0.25 +- 0.021 |\n",
      "+----------+---------------+---------------+\n"
     ]
    }
   ],
   "source": [
    "val_simple(0.70)"
   ]
  },
  {
   "cell_type": "code",
   "execution_count": 37,
   "metadata": {},
   "outputs": [
    {
     "name": "stdout",
     "output_type": "stream",
     "text": [
      "Validación Simple con 75% Train\n",
      "\n",
      "+----------+---------------+---------------+\n",
      "|   N_REPS | TTT_DB        | GER_DB        |\n",
      "+==========+===============+===============+\n",
      "|        1 | 0.30 +- 0.000 | 0.27 +- 0.000 |\n",
      "+----------+---------------+---------------+\n",
      "|        2 | 0.27 +- 0.004 | 0.22 +- 0.016 |\n",
      "+----------+---------------+---------------+\n",
      "|        3 | 0.31 +- 0.005 | 0.25 +- 0.010 |\n",
      "+----------+---------------+---------------+\n",
      "|        4 | 0.33 +- 0.027 | 0.25 +- 0.022 |\n",
      "+----------+---------------+---------------+\n",
      "|        5 | 0.29 +- 0.025 | 0.25 +- 0.022 |\n",
      "+----------+---------------+---------------+\n"
     ]
    }
   ],
   "source": [
    "val_simple(0.75)"
   ]
  },
  {
   "cell_type": "code",
   "execution_count": 38,
   "metadata": {},
   "outputs": [
    {
     "name": "stdout",
     "output_type": "stream",
     "text": [
      "Validación Simple con 80% Train\n",
      "\n",
      "+----------+---------------+---------------+\n",
      "|   N_REPS | TTT_DB        | GER_DB        |\n",
      "+==========+===============+===============+\n",
      "|        1 | 0.26 +- 0.000 | 0.24 +- 0.000 |\n",
      "+----------+---------------+---------------+\n",
      "|        2 | 0.29 +- 0.016 | 0.27 +- 0.015 |\n",
      "+----------+---------------+---------------+\n",
      "|        3 | 0.31 +- 0.026 | 0.27 +- 0.008 |\n",
      "+----------+---------------+---------------+\n",
      "|        4 | 0.32 +- 0.026 | 0.26 +- 0.022 |\n",
      "+----------+---------------+---------------+\n",
      "|        5 | 0.29 +- 0.032 | 0.28 +- 0.053 |\n",
      "+----------+---------------+---------------+\n"
     ]
    }
   ],
   "source": [
    "val_simple(0.80)"
   ]
  },
  {
   "cell_type": "markdown",
   "metadata": {},
   "source": [
    "### 1.3.2 Validación cruzada"
   ]
  },
  {
   "cell_type": "code",
   "execution_count": 39,
   "metadata": {},
   "outputs": [
    {
     "name": "stdout",
     "output_type": "stream",
     "text": [
      "+-----------+---------------+---------------+\n",
      "|   K_FOLDS | TTT_DB        | GER_DB        |\n",
      "+===========+===============+===============+\n",
      "|         3 | 0.30 +- 0.030 | 0.26 +- 0.005 |\n",
      "+-----------+---------------+---------------+\n",
      "|         5 | 0.30 +- 0.026 | 0.25 +- 0.017 |\n",
      "+-----------+---------------+---------------+\n",
      "|         7 | 0.29 +- 0.021 | 0.25 +- 0.045 |\n",
      "+-----------+---------------+---------------+\n",
      "|         9 | 0.30 +- 0.037 | 0.26 +- 0.038 |\n",
      "+-----------+---------------+---------------+\n",
      "|        11 | 0.31 +- 0.056 | 0.25 +- 0.032 |\n",
      "+-----------+---------------+---------------+\n"
     ]
    }
   ],
   "source": [
    "max_folds = 11\n",
    "j = 0\n",
    "L = []\n",
    "for i in range(3, max_folds+1, 2):\n",
    "    L.append([])\n",
    "    strat = EstrategiaParticionado.ValidacionCruzada(k_fold=i)\n",
    "    errores_ttt = NB.validacion(strat, dataset_ttt, NB)\n",
    "    errores_ger = NB.validacion(strat, dataset_ger, NB)\n",
    "    L[j].append(str(i))\n",
    "    L[j].append(\"%.2f +- %.3f\"% (np.mean(errores_ttt), np.std(errores_ttt)))\n",
    "    L[j].append(\"%.2f +- %.3f\"% (np.mean(errores_ger), np.std(errores_ger)))\n",
    "    j+=1\n",
    "print(tabulate(L, headers = [\"K_FOLDS\", \"TTT_DB\", \"GER_DB\"], tablefmt=\"grid\"))"
   ]
  },
  {
   "cell_type": "markdown",
   "metadata": {},
   "source": [
    "# <font color='red'>2. Entrenamiento y clasificación con funciones de sklearn (encapsuladas en Clasificador.py)</font>"
   ]
  },
  {
   "cell_type": "code",
   "execution_count": 40,
   "metadata": {},
   "outputs": [],
   "source": [
    "# Las funciones de sklearn requieren una codificación de los atributos discretos diferente a la nuestra.\n",
    "# Por lo tanto, realizamos un pequeño trabajo de preprocesado de datos para que sus funciones de sklearn\n",
    "# puiedan realizar un entrenamiento y clasificación equiparable al nuestro\n",
    "\n",
    "def preprocess_data(dataset):\n",
    "    X = dataset.datos[:,:-1] # all rows, all columns but last one\n",
    "    Y = dataset.datos[:,-1]  # all rows, just last column (class)\n",
    "    \n",
    "    # One hot encoding for discrete features\n",
    "    enc = OneHotEncoder(sparse=False, categories='auto')\n",
    "    X_enc = np.array(enc.fit_transform(X)) \n",
    "    # Concatenating encoded data matrix and classes\n",
    "    datos_aux = np.concatenate((X_enc, Y[:,None]), axis=1)\n",
    "    # Updating dataset\n",
    "    dataset.datos = np.zeros(datos_aux.shape)\n",
    "    dataset.datos = datos_aux\n",
    "    return dataset "
   ]
  },
  {
   "cell_type": "markdown",
   "metadata": {},
   "source": [
    "## <font color='blue'> 2.1 Dataset tic-tac-toe </font>"
   ]
  },
  {
   "cell_type": "code",
   "execution_count": 41,
   "metadata": {},
   "outputs": [
    {
     "name": "stdout",
     "output_type": "stream",
     "text": [
      "Numero de ejemplos de entrenamiento: 958 , Numero de columnas: 10\n"
     ]
    }
   ],
   "source": [
    "ttt_db = Datos('../ConjuntosDatos/tic-tac-toe.data')\n",
    "ndata, ncols = ttt_db.datos.shape # nfeat = ncols-1 \n",
    "print(\"Numero de ejemplos de entrenamiento:\", ndata, \", Numero de columnas:\", ncols)"
   ]
  },
  {
   "cell_type": "code",
   "execution_count": 42,
   "metadata": {},
   "outputs": [],
   "source": [
    "ttt_db = preprocess_data(ttt_db)\n",
    "np.random.shuffle(ttt_db.datos)\n",
    "\n",
    "NBSK = Clasificador.ClasificadorNaiveBayesSK(gaussian_feat=False)"
   ]
  },
  {
   "cell_type": "markdown",
   "metadata": {},
   "source": [
    "### 2.1.1 Validación simple"
   ]
  },
  {
   "cell_type": "code",
   "execution_count": 43,
   "metadata": {},
   "outputs": [
    {
     "name": "stdout",
     "output_type": "stream",
     "text": [
      "[0.30208333333333337]\n"
     ]
    }
   ],
   "source": [
    "strat_simple_sk = EstrategiaParticionado.ValidacionSimple(0.8)\n",
    "\n",
    "errs = NBSK.validacion(strat_simple_sk, ttt_db, NBSK)\n",
    "\n",
    "print(errs)"
   ]
  },
  {
   "cell_type": "markdown",
   "metadata": {},
   "source": [
    "### 2.1.2 Validación simple con varias repeticiones (3 reps)"
   ]
  },
  {
   "cell_type": "code",
   "execution_count": 44,
   "metadata": {},
   "outputs": [
    {
     "name": "stdout",
     "output_type": "stream",
     "text": [
      "Errores:  [0.38020833333333337, 0.27604166666666663, 0.33854166666666663]\n",
      "Error medio: 0.3315972222222222 +- 0.04280843057617347\n"
     ]
    }
   ],
   "source": [
    "strat_simple_rep3_sk = EstrategiaParticionado.ValidacionSimple(0.8, nreps=3)\n",
    "\n",
    "errs = NBSK.validacion(strat_simple_rep3_sk, ttt_db, NBSK)\n",
    "\n",
    "print(\"Errores: \", errs)\n",
    "print(\"Error medio:\", np.mean(errs), \"+-\", np.std(errs))"
   ]
  },
  {
   "cell_type": "markdown",
   "metadata": {},
   "source": [
    "### 2.1.3 Validacion cruzada (5 folds)"
   ]
  },
  {
   "cell_type": "code",
   "execution_count": 45,
   "metadata": {},
   "outputs": [
    {
     "name": "stdout",
     "output_type": "stream",
     "text": [
      "Errores:  [0.33507853403141363, 0.3089005235602095, 0.2984293193717278, 0.2774869109947644, 0.25130890052356025]\n",
      "Error medio: 0.29424083769633513 +- 0.028369041223338356\n"
     ]
    }
   ],
   "source": [
    "strat_cross_sk = EstrategiaParticionado.ValidacionCruzada(k_fold=5)\n",
    "\n",
    "errs = NBSK.validacion(strat_cross_sk, ttt_db, NBSK)\n",
    "\n",
    "print(\"Errores: \", errs)\n",
    "print(\"Error medio:\", np.mean(errs), \"+-\", np.std(errs))"
   ]
  },
  {
   "cell_type": "markdown",
   "metadata": {},
   "source": [
    "## <font color='blue'> 2.2 Dataset German (todos los atributos se consideran discretos)</font>"
   ]
  },
  {
   "cell_type": "code",
   "execution_count": 46,
   "metadata": {},
   "outputs": [
    {
     "name": "stdout",
     "output_type": "stream",
     "text": [
      "Numero de ejemplos de entrenamiento: 1000 , Numero de columnas: 21\n"
     ]
    }
   ],
   "source": [
    "ger_db = Datos('../ConjuntosDatos/german.data')\n",
    "ndata, ncols = ger_db.datos.shape # nfeat = ncols-1 \n",
    "print(\"Numero de ejemplos de entrenamiento:\", ndata, \", Numero de columnas:\", ncols)"
   ]
  },
  {
   "cell_type": "code",
   "execution_count": 47,
   "metadata": {},
   "outputs": [],
   "source": [
    "ger_db = preprocess_data(ger_db)\n",
    "np.random.shuffle(ger_db.datos)\n",
    "\n",
    "NBSK = Clasificador.ClasificadorNaiveBayesSK(gaussian_feat=False)"
   ]
  },
  {
   "cell_type": "markdown",
   "metadata": {},
   "source": [
    "### 2.2.1 Validación simple"
   ]
  },
  {
   "cell_type": "code",
   "execution_count": 48,
   "metadata": {},
   "outputs": [
    {
     "name": "stdout",
     "output_type": "stream",
     "text": [
      "[0.31499999999999995]\n"
     ]
    }
   ],
   "source": [
    "strat_simple_sk = EstrategiaParticionado.ValidacionSimple(0.8)\n",
    "\n",
    "errs = NBSK.validacion(strat_simple_sk, ger_db, NBSK)\n",
    "\n",
    "print(errs)"
   ]
  },
  {
   "cell_type": "markdown",
   "metadata": {},
   "source": [
    "### 2.2.2 Validación simple con varias repeticiones (3 reps)"
   ]
  },
  {
   "cell_type": "code",
   "execution_count": 49,
   "metadata": {},
   "outputs": [
    {
     "name": "stdout",
     "output_type": "stream",
     "text": [
      "Errores:  [0.28, 0.24, 0.29000000000000004]\n",
      "Error medio: 0.27 +- 0.021602468994692887\n"
     ]
    }
   ],
   "source": [
    "strat_simple_rep3_sk = EstrategiaParticionado.ValidacionSimple(0.8, nreps=3)\n",
    "\n",
    "errs = NBSK.validacion(strat_simple_rep3_sk, ger_db, NBSK)\n",
    "\n",
    "print(\"Errores: \", errs)\n",
    "print(\"Error medio:\", np.mean(errs), \"+-\", np.std(errs))"
   ]
  },
  {
   "cell_type": "markdown",
   "metadata": {},
   "source": [
    "### 2.2.3 Validación cruzada (5 folds)"
   ]
  },
  {
   "cell_type": "code",
   "execution_count": 50,
   "metadata": {},
   "outputs": [
    {
     "name": "stdout",
     "output_type": "stream",
     "text": [
      "Errores:  [0.28, 0.30000000000000004, 0.28, 0.255, 0.255]\n",
      "Error medio: 0.274 +- 0.017146428199482262\n"
     ]
    }
   ],
   "source": [
    "strat_cross_sk = EstrategiaParticionado.ValidacionCruzada(k_fold=5)\n",
    "\n",
    "errs = NBSK.validacion(strat_cross_sk, ger_db, NBSK)\n",
    "\n",
    "print(\"Errores: \", errs)\n",
    "print(\"Error medio:\", np.mean(errs), \"+-\", np.std(errs))"
   ]
  },
  {
   "cell_type": "markdown",
   "metadata": {},
   "source": [
    "## <font color='blue'> 2.3 Dataset German (todos los atributos se consideran continuos)</font>"
   ]
  },
  {
   "cell_type": "code",
   "execution_count": 51,
   "metadata": {},
   "outputs": [
    {
     "name": "stdout",
     "output_type": "stream",
     "text": [
      "Numero de ejemplos de entrenamiento: 1000 , Numero de columnas: 21\n"
     ]
    }
   ],
   "source": [
    "ger_db_cont = Datos('../ConjuntosDatos/german.data')\n",
    "ndata, ncols = ger_db_cont.datos.shape # nfeat = ncols-1 \n",
    "print(\"Numero de ejemplos de entrenamiento:\", ndata, \", Numero de columnas:\", ncols)"
   ]
  },
  {
   "cell_type": "code",
   "execution_count": 52,
   "metadata": {},
   "outputs": [],
   "source": [
    "np.random.shuffle(ger_db.datos)\n",
    "\n",
    "NBSK = Clasificador.ClasificadorNaiveBayesSK(gaussian_feat=True)"
   ]
  },
  {
   "cell_type": "markdown",
   "metadata": {},
   "source": [
    "### 2.3.1 Validación simple"
   ]
  },
  {
   "cell_type": "code",
   "execution_count": 53,
   "metadata": {},
   "outputs": [
    {
     "name": "stdout",
     "output_type": "stream",
     "text": [
      "[0.25]\n"
     ]
    }
   ],
   "source": [
    "strat_simple_sk = EstrategiaParticionado.ValidacionSimple(0.8)\n",
    "\n",
    "errs = NBSK.validacion(strat_simple_sk, ger_db_cont, NBSK)\n",
    "\n",
    "print(errs)"
   ]
  },
  {
   "cell_type": "markdown",
   "metadata": {},
   "source": [
    "### 2.3.2 Validación simple con varias repeticiones (3 reps)"
   ]
  },
  {
   "cell_type": "code",
   "execution_count": 54,
   "metadata": {},
   "outputs": [
    {
     "name": "stdout",
     "output_type": "stream",
     "text": [
      "Errores:  [0.265, 0.25, 0.30500000000000005]\n",
      "Error medio: 0.2733333333333334 +- 0.023213980461973552\n"
     ]
    }
   ],
   "source": [
    "strat_simple_rep3_sk = EstrategiaParticionado.ValidacionSimple(0.8, nreps=3)\n",
    "\n",
    "errs = NBSK.validacion(strat_simple_rep3_sk, ger_db_cont, NBSK)\n",
    "\n",
    "print(\"Errores: \", errs)\n",
    "print(\"Error medio:\", np.mean(errs), \"+-\", np.std(errs))"
   ]
  },
  {
   "cell_type": "markdown",
   "metadata": {},
   "source": [
    "### 2.3.3 Validación cruzada (5 folds)"
   ]
  },
  {
   "cell_type": "code",
   "execution_count": 55,
   "metadata": {},
   "outputs": [
    {
     "name": "stdout",
     "output_type": "stream",
     "text": [
      "Errores:  [0.28, 0.265, 0.245, 0.28, 0.26]\n",
      "Error medio: 0.266 +- 0.01319090595827293\n"
     ]
    }
   ],
   "source": [
    "strat_cross_sk = EstrategiaParticionado.ValidacionCruzada(k_fold=5)\n",
    "\n",
    "errs = NBSK.validacion(strat_cross_sk, ger_db_cont, NBSK)\n",
    "\n",
    "print(\"Errores: \", errs)\n",
    "print(\"Error medio:\", np.mean(errs), \"+-\", np.std(errs))"
   ]
  },
  {
   "cell_type": "markdown",
   "metadata": {},
   "source": [
    "## <font color='green'> 2.4 Tablas de Resultados </font>"
   ]
  },
  {
   "cell_type": "markdown",
   "metadata": {},
   "source": [
    "### 2.4.1 Validación simple con número variable de repeticiones"
   ]
  },
  {
   "cell_type": "code",
   "execution_count": 64,
   "metadata": {},
   "outputs": [],
   "source": [
    "def val_simpleSK(percentage):\n",
    "    dataset_ttt = Datos(\"../ConjuntosDatos/tic-tac-toe.data\")\n",
    "    dataset_ger_d = Datos(\"../ConjuntosDatos/german.data\")    # Dataset para el caso Discreto\n",
    "    dataset_ger_c = Datos(\"../ConjuntosDatos/german.data\")    # Dataset para el caso Continuo\n",
    "    np.random.shuffle(dataset_ttt.datos)\n",
    "    np.random.shuffle(dataset_ger_d.datos)\n",
    "    np.random.shuffle(dataset_ger_c.datos)\n",
    "    NBSK = Clasificador.ClasificadorNaiveBayesSK(gaussian_feat=False) # Clasificador Para TTT\n",
    "    NBSK_d = Clasificador.ClasificadorNaiveBayesSK(gaussian_feat=False) # Clasificador Para GER en caso Discreto\n",
    "    NBSK_c = Clasificador.ClasificadorNaiveBayesSK(gaussian_feat=True) # Clasificador Para GER en caso Continuo\n",
    "    max_reps = 5\n",
    "    L = []\n",
    "    for i in range(1, max_reps+1):\n",
    "        L.append([])\n",
    "        strat = EstrategiaParticionado.ValidacionSimple(percentage, nreps=i)\n",
    "        errores_ttt = NBSK.validacion(strat, dataset_ttt, NBSK)\n",
    "        errores_ger_d = NBSK_d.validacion(strat, preprocess_data(dataset_ger_d), NBSK_d)\n",
    "        errores_ger_c = NBSK_c.validacion(strat, dataset_ger_c, NBSK_c)\n",
    "        L[i-1].append(str(i))\n",
    "        L[i-1].append(\"%.2f +- %.3f\"% (np.mean(errores_ttt), np.std(errores_ttt)))\n",
    "        L[i-1].append(\"%.2f +- %.3f\"% (np.mean(errores_ger_d), np.std(errores_ger_d)))\n",
    "        L[i-1].append(\"%.2f +- %.3f\"% (np.mean(errores_ger_c), np.std(errores_ger_c)))\n",
    "    print(\"Validación Simple con \" + str(int(percentage*100)) +   \"% Train\\n\")\n",
    "    print(tabulate(L, headers = [\"N_REPS\", \"TTT_DB\", \"GER_DB_D\", \"GER_DB_C\"], tablefmt=\"grid\")) "
   ]
  },
  {
   "cell_type": "code",
   "execution_count": 65,
   "metadata": {},
   "outputs": [
    {
     "name": "stdout",
     "output_type": "stream",
     "text": [
      "Validación Simple con 70% Train\n",
      "\n",
      "+----------+---------------+---------------+---------------+\n",
      "|   N_REPS | TTT_DB        | GER_DB_D      | GER_DB_C      |\n",
      "+==========+===============+===============+===============+\n",
      "|        1 | 0.34 +- 0.000 | 0.27 +- 0.000 | 0.22 +- 0.000 |\n",
      "+----------+---------------+---------------+---------------+\n",
      "|        2 | 0.33 +- 0.030 | 0.29 +- 0.005 | 0.30 +- 0.010 |\n",
      "+----------+---------------+---------------+---------------+\n",
      "|        3 | 0.34 +- 0.022 | 0.27 +- 0.010 | 0.25 +- 0.020 |\n",
      "+----------+---------------+---------------+---------------+\n",
      "|        4 | 0.38 +- 0.019 | 0.25 +- 0.031 | 0.27 +- 0.020 |\n",
      "+----------+---------------+---------------+---------------+\n",
      "|        5 | 0.33 +- 0.016 | 0.26 +- 0.013 | 0.27 +- 0.030 |\n",
      "+----------+---------------+---------------+---------------+\n"
     ]
    }
   ],
   "source": [
    "val_simpleSK(0.7)"
   ]
  },
  {
   "cell_type": "code",
   "execution_count": 66,
   "metadata": {},
   "outputs": [
    {
     "name": "stdout",
     "output_type": "stream",
     "text": [
      "Validación Simple con 75% Train\n",
      "\n",
      "+----------+---------------+---------------+---------------+\n",
      "|   N_REPS | TTT_DB        | GER_DB_D      | GER_DB_C      |\n",
      "+==========+===============+===============+===============+\n",
      "|        1 | 0.34 +- 0.000 | 0.26 +- 0.000 | 0.25 +- 0.000 |\n",
      "+----------+---------------+---------------+---------------+\n",
      "|        2 | 0.36 +- 0.013 | 0.28 +- 0.020 | 0.29 +- 0.006 |\n",
      "+----------+---------------+---------------+---------------+\n",
      "|        3 | 0.33 +- 0.020 | 0.25 +- 0.006 | 0.27 +- 0.021 |\n",
      "+----------+---------------+---------------+---------------+\n",
      "|        4 | 0.35 +- 0.027 | 0.24 +- 0.029 | 0.25 +- 0.022 |\n",
      "+----------+---------------+---------------+---------------+\n",
      "|        5 | 0.34 +- 0.023 | 0.28 +- 0.006 | 0.27 +- 0.023 |\n",
      "+----------+---------------+---------------+---------------+\n"
     ]
    }
   ],
   "source": [
    "val_simpleSK(0.75)"
   ]
  },
  {
   "cell_type": "code",
   "execution_count": 67,
   "metadata": {},
   "outputs": [
    {
     "name": "stdout",
     "output_type": "stream",
     "text": [
      "Validación Simple con 80% Train\n",
      "\n",
      "+----------+---------------+---------------+---------------+\n",
      "|   N_REPS | TTT_DB        | GER_DB_D      | GER_DB_C      |\n",
      "+==========+===============+===============+===============+\n",
      "|        1 | 0.40 +- 0.000 | 0.25 +- 0.000 | 0.27 +- 0.000 |\n",
      "+----------+---------------+---------------+---------------+\n",
      "|        2 | 0.34 +- 0.010 | 0.24 +- 0.010 | 0.29 +- 0.013 |\n",
      "+----------+---------------+---------------+---------------+\n",
      "|        3 | 0.33 +- 0.018 | 0.29 +- 0.012 | 0.28 +- 0.009 |\n",
      "+----------+---------------+---------------+---------------+\n",
      "|        4 | 0.36 +- 0.028 | 0.26 +- 0.011 | 0.27 +- 0.022 |\n",
      "+----------+---------------+---------------+---------------+\n",
      "|        5 | 0.34 +- 0.017 | 0.27 +- 0.019 | 0.29 +- 0.021 |\n",
      "+----------+---------------+---------------+---------------+\n"
     ]
    }
   ],
   "source": [
    "val_simpleSK(0.80)"
   ]
  },
  {
   "cell_type": "markdown",
   "metadata": {},
   "source": [
    "### 2.4.2 Validación cruzada </font>"
   ]
  },
  {
   "cell_type": "code",
   "execution_count": 69,
   "metadata": {},
   "outputs": [
    {
     "name": "stdout",
     "output_type": "stream",
     "text": [
      "+-----------+---------------+---------------+---------------+\n",
      "|   K_FOLDS | TTT_DB        | GER_DB_D      | GER_DB_C      |\n",
      "+===========+===============+===============+===============+\n",
      "|         3 | 0.34 +- 0.017 | 0.27 +- 0.015 | 0.26 +- 0.016 |\n",
      "+-----------+---------------+---------------+---------------+\n",
      "|         5 | 0.34 +- 0.028 | 0.27 +- 0.041 | 0.27 +- 0.032 |\n",
      "+-----------+---------------+---------------+---------------+\n",
      "|         7 | 0.35 +- 0.022 | 0.27 +- 0.031 | 0.26 +- 0.035 |\n",
      "+-----------+---------------+---------------+---------------+\n",
      "|         9 | 0.34 +- 0.033 | 0.27 +- 0.045 | 0.26 +- 0.031 |\n",
      "+-----------+---------------+---------------+---------------+\n",
      "|        11 | 0.34 +- 0.042 | 0.25 +- 0.051 | 0.27 +- 0.049 |\n",
      "+-----------+---------------+---------------+---------------+\n"
     ]
    }
   ],
   "source": [
    "dataset_ger_d = Datos(\"../ConjuntosDatos/german.data\")    # Dataset para el caso Discreto\n",
    "dataset_ger_c = Datos(\"../ConjuntosDatos/german.data\")    # Dataset para el caso Continuo\n",
    "np.random.shuffle(dataset_ger_d.datos)\n",
    "np.random.shuffle(dataset_ger_c.datos)\n",
    "\n",
    "preprocess_data(dataset_ger_d)\n",
    "\n",
    "NBSK = Clasificador.ClasificadorNaiveBayesSK(gaussian_feat=False) # Clasificador Para TTT\n",
    "NBSK_d = Clasificador.ClasificadorNaiveBayesSK(gaussian_feat=False) # Clasificador Para GER en caso Discreto\n",
    "NBSK_c = Clasificador.ClasificadorNaiveBayesSK(gaussian_feat=True) # Clasificador Para GER en caso Continuo\n",
    "\n",
    "max_folds = 11\n",
    "j = 0\n",
    "L = []\n",
    "for i in range(3, max_folds+1, 2):\n",
    "    L.append([])\n",
    "    strat = EstrategiaParticionado.ValidacionCruzada(k_fold=i)\n",
    "    errores_ttt = NBSK.validacion(strat, dataset_ttt, NBSK)\n",
    "    errores_ger_d = NBSK_d.validacion(strat, dataset_ger_d, NBSK_d)\n",
    "    errores_ger_c = NBSK_c.validacion(strat, dataset_ger_c, NBSK_c)\n",
    "    L[j].append(str(i))\n",
    "    L[j].append(\"%.2f +- %.3f\"% (np.mean(errores_ttt), np.std(errores_ttt)))\n",
    "    L[j].append(\"%.2f +- %.3f\"% (np.mean(errores_ger_d), np.std(errores_ger_d)))\n",
    "    L[j].append(\"%.2f +- %.3f\"% (np.mean(errores_ger_c), np.std(errores_ger_c)))\n",
    "    j+=1\n",
    "print(tabulate(L, headers = [\"K_FOLDS\", \"TTT_DB\", \"GER_DB_D\", \"GER_DB_C\"], tablefmt=\"grid\")) "
   ]
  },
  {
   "cell_type": "markdown",
   "metadata": {},
   "source": [
    "# <font color='red'>3. Análisis ROC </font>"
   ]
  },
  {
   "cell_type": "code",
   "execution_count": 73,
   "metadata": {},
   "outputs": [],
   "source": [
    "def create_confMatrix(pred, real):\n",
    "    i = 0\n",
    "    tp, fp, tn, fn = 0, 0, 0, 0\n",
    "    L = [[],[]]\n",
    "    \n",
    "    for pred_val in pred:\n",
    "        # True negative\n",
    "        if pred_val==0 and pred_val==real[i]:\n",
    "            tn += 1\n",
    "        # False negative\n",
    "        elif pred_val==0 and pred_val!=real[i]:\n",
    "            fn += 1\n",
    "        # True positive\n",
    "        elif pred_val==1 and pred_val==real[i]:\n",
    "            tp += 1\n",
    "        # False positive\n",
    "        elif pred_val==1 and pred_val!=real[i]:\n",
    "            fp += 1\n",
    "        i += 1\n",
    "        \n",
    "    L[0].append(tp)\n",
    "    L[0].append(fn)\n",
    "    L[1].append(fp)\n",
    "    L[1].append(tn) \n",
    "    \n",
    "    return L\n",
    "\n",
    "\n",
    "\n",
    "def print_confMatrix(m):\n",
    "    print(tabulate([[\"\", \"POS\", \"NEG\"], [\"POS\", m[0][0], m[0][1]], [\"NEG\", m[1][0], m[1][1]]],\n",
    "                   headers=\"firstrow\", tablefmt=\"grid\")) "
   ]
  },
  {
   "cell_type": "code",
   "execution_count": 74,
   "metadata": {},
   "outputs": [],
   "source": [
    "def ROC_Analysis(dataset, clf, particionado):\n",
    "    seed = random.seed(0)\n",
    "    np.random.shuffle(dataset.datos)\n",
    "    particionado.creaParticiones(dataset.datos, seed)\n",
    "    pred = []\n",
    "    real = []\n",
    "    for particion in particionado.particiones:\n",
    "\n",
    "        datostrain = dataset.datos[particion.indicesTrain, :]\n",
    "        datostest = dataset.datos[particion.indicesTest, :]\n",
    "            \n",
    "        clf.entrenamiento(datostrain, dataset.nominalAtributos, dataset.diccionario)\n",
    "            \n",
    "        pred = clf.clasifica(datostest, dataset.nominalAtributos, dataset.diccionario)\n",
    "        real = datostest[:,-1] \n",
    "        \n",
    "        m = create_confMatrix(pred, real)\n",
    "        rtp = int(m[0][0]) / (int(m[0][0]) + int(m[0][1]))\n",
    "        rtn = int(m[1][1]) / (int(m[1][1]) + int(m[1][0]))\n",
    "        \n",
    "    print_confMatrix(m)\n",
    "    print(rtp, rtn)\n",
    " "
   ]
  },
  {
   "cell_type": "code",
   "execution_count": 93,
   "metadata": {},
   "outputs": [
    {
     "name": "stdout",
     "output_type": "stream",
     "text": [
      "+-----+-------+-------+\n",
      "|     |   POS |   NEG |\n",
      "+=====+=======+=======+\n",
      "| POS |    34 |    17 |\n",
      "+-----+-------+-------+\n",
      "| NEG |    31 |   118 |\n",
      "+-----+-------+-------+\n",
      "0.6666666666666666 0.7919463087248322\n"
     ]
    }
   ],
   "source": [
    "dataset_ttt = Datos(\"../ConjuntosDatos/tic-tac-toe.data\")\n",
    "dataset_ger = Datos(\"../ConjuntosDatos/german.data\")\n",
    "np.random.shuffle(dataset_ttt.datos)\n",
    "np.random.shuffle(dataset_ger.datos)\n",
    "particionado = EstrategiaParticionado.ValidacionSimple(0.8)\n",
    "\n",
    "clf = Clasificador.ClasificadorNaiveBayesSK(gaussian_feat=True)\n",
    "\n",
    "ROC_Analysis(dataset_ger, clf, particionado)"
   ]
  },
  {
   "cell_type": "code",
   "execution_count": null,
   "metadata": {},
   "outputs": [],
   "source": []
  }
 ],
 "metadata": {
  "kernelspec": {
   "display_name": "Python 3",
   "language": "python",
   "name": "python3"
  },
  "language_info": {
   "codemirror_mode": {
    "name": "ipython",
    "version": 3
   },
   "file_extension": ".py",
   "mimetype": "text/x-python",
   "name": "python",
   "nbconvert_exporter": "python",
   "pygments_lexer": "ipython3",
   "version": "3.7.3"
  }
 },
 "nbformat": 4,
 "nbformat_minor": 2
}
