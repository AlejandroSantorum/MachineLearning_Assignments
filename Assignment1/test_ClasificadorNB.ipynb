{
 "cells": [
  {
   "cell_type": "code",
   "execution_count": 210,
   "metadata": {},
   "outputs": [],
   "source": [
    "from abc import ABCMeta,abstractmethod\n",
    "\n",
    "\n",
    "class Clasificador:\n",
    "\n",
    "    # Clase abstracta\n",
    "    __metaclass__ = ABCMeta\n",
    "\n",
    "    # Metodos abstractos que se implementan en casa clasificador concreto\n",
    "    @abstractmethod\n",
    "    # TODO: esta funcion debe ser implementada en cada clasificador concreto\n",
    "    # datosTrain: matriz numpy con los datos de entrenamiento\n",
    "    # atributosDiscretos: array bool con la indicatriz de los atributos nominales\n",
    "    # diccionario: array de diccionarios de la estructura Datos utilizados para la codificacion de variables discretas\n",
    "    def entrenamiento(self,datosTrain,atributosDiscretos,diccionario):\n",
    "        pass\n",
    "\n",
    "\n",
    "    @abstractmethod\n",
    "    # TODO: esta funcion debe ser implementada en cada clasificador concreto\n",
    "    # devuelve un numpy array con las predicciones\n",
    "    def clasifica(self,datosTest,atributosDiscretos,diccionario):\n",
    "        pass\n",
    "\n",
    "\n",
    "    # Obtiene el numero de aciertos y errores para calcular la tasa de fallo\n",
    "    # TODO: implementar\n",
    "    def error(self,datos,pred):\n",
    "        # Aqui se compara la prediccion (pred) con las clases reales y se calcula el error\n",
    "        y = datos[:,-1]\n",
    "        err = (y == pred)\n",
    "        return 1-(sum(err)/len(y))\n",
    "\n",
    "\n",
    "    # Realiza una clasificacion utilizando una estrategia de particionado determinada\n",
    "    # TODO: implementar esta funcion\n",
    "    def validacion(self,particionado,dataset,clasificador,seed=None):\n",
    "        # Creamos las particiones siguiendo la estrategia llamando a particionado.creaParticiones\n",
    "        # - Para validacion cruzada: en el bucle hasta nv entrenamos el clasificador con la particion de train i\n",
    "        # y obtenemos el error en la particion de test i\n",
    "        # - Para validacion simple (hold-out): entrenamos el clasificador con la particion de train\n",
    "        # y obtenemos el error en la particion test. Otra opci�n es repetir la validaci�n simple un n�mero especificado de veces, obteniendo en cada una un error. Finalmente se calcular�a la media.\n",
    "        pass\n",
    "\n",
    "##############################################################################\n",
    "\n",
    "class ClasificadorNaiveBayes(Clasificador):\n",
    "    \n",
    "    def __init__(self):\n",
    "        prior_probs = []\n",
    "        self.likelihoods = []\n",
    "\n",
    "    \n",
    "    def _multinomialNB(self, xdata, ydata, feat_idx, diccionario):\n",
    "        n_xi = len(diccionario[feat_idx])\n",
    "        n_classes = len(diccionario[-1])\n",
    "        theta_mtx = np.zeros((n_xi, n_classes))\n",
    "        \n",
    "        for value in diccionario[feat_idx]:\n",
    "            feat_val_idx = diccionario[feat_idx][value]\n",
    "            for class_name in diccionario[-1]:\n",
    "                class_idx = diccionario[-1][class_name]\n",
    "                theta_mtx[feat_val_idx][class_idx] = sum((xdata[:,feat_idx] == value)&(ydata == class_name)) / sum(ydata == class_name)\n",
    "        \n",
    "        return theta_mtx\n",
    "                      \n",
    "\n",
    "    \n",
    "    def _gaussianNB(self):\n",
    "        pass\n",
    "\n",
    "\n",
    "    # TODO: implementar\n",
    "    def entrenamiento(self,datostrain,atributosDiscretos,diccionario):\n",
    "        xdata = datostrain[:,:-1] # all rows, all columns but last one\n",
    "        ydata = datostrain[:,-1]  # all rows, just last column\n",
    "        \n",
    "        m, n = xdata.shape     # number of examples, number of features\n",
    "        n_classes = len(diccionario[-1])  # number of different classes\n",
    "        \n",
    "        # Calculating prior probabilities\n",
    "        prior_probs = np.zeros(n_classes) # initializing array of prior probs with zeros\n",
    "        for class_name in diccionario[-1]:\n",
    "            class_idx = diccionario[-1][class_name]\n",
    "            prior_probs[class_idx] = sum((class_name == ydata))/m # P(y=i) = count(ydata==i)/len(ydata)\n",
    "        \n",
    "        likelihoods_list = []\n",
    "        # Calculating likelihoods\n",
    "        for feat_idx in range(n):\n",
    "            if atributosDiscretos[feat_idx]:\n",
    "                theta_mtx = self._multinomialNB(xdata, ydata, feat_idx, diccionario)\n",
    "            else:\n",
    "                theta_mtx = self._gaussianNB(xdata, ydata, feat_idx, diccionario)\n",
    "\n",
    "            likelihoods_list.append(theta_mtx)\n",
    "        \n",
    "        self.likelihoods = np.asarray(likelihoods_list)\n",
    "\n",
    "    \n",
    "\n",
    "    # TODO: implementar\n",
    "    def clasifica(self,datostest,atributosDiscretos,diccionario):\n",
    "        pass\n"
   ]
  },
  {
   "cell_type": "code",
   "execution_count": 202,
   "metadata": {},
   "outputs": [],
   "source": [
    "from sklearn.naive_bayes import MultinomialNB\n",
    "from Datos import Datos\n",
    "from sklearn.preprocessing import OneHotEncoder\n",
    "import numpy as np"
   ]
  },
  {
   "cell_type": "code",
   "execution_count": 173,
   "metadata": {},
   "outputs": [],
   "source": [
    "ttt_db = Datos('../ConjuntosDatos/tic-tac-toe.data')\n",
    "ttt_db.datos[:10]\n",
    "X = ttt_db.datos[:,:-1]\n",
    "y = ttt_db.datos[:,-1]"
   ]
  },
  {
   "cell_type": "code",
   "execution_count": 139,
   "metadata": {},
   "outputs": [],
   "source": [
    "enc = OneHotEncoder(sparse=False)"
   ]
  },
  {
   "cell_type": "code",
   "execution_count": 140,
   "metadata": {},
   "outputs": [],
   "source": [
    "X_2 = np.array(enc.fit_transform(X)) "
   ]
  },
  {
   "cell_type": "code",
   "execution_count": 141,
   "metadata": {},
   "outputs": [
    {
     "data": {
      "text/plain": [
       "(958, 9)"
      ]
     },
     "execution_count": 141,
     "metadata": {},
     "output_type": "execute_result"
    }
   ],
   "source": [
    "X.shape\n",
    "\n"
   ]
  },
  {
   "cell_type": "code",
   "execution_count": 142,
   "metadata": {},
   "outputs": [
    {
     "data": {
      "text/plain": [
       "(958, 27)"
      ]
     },
     "execution_count": 142,
     "metadata": {},
     "output_type": "execute_result"
    }
   ],
   "source": [
    "X_2.shape"
   ]
  },
  {
   "cell_type": "code",
   "execution_count": 143,
   "metadata": {},
   "outputs": [
    {
     "data": {
      "text/plain": [
       "array([[0., 0., 1., ..., 0., 1., 0.],\n",
       "       [0., 0., 1., ..., 0., 1., 0.],\n",
       "       [0., 0., 1., ..., 0., 0., 1.],\n",
       "       ...,\n",
       "       [0., 1., 0., ..., 0., 0., 1.],\n",
       "       [0., 1., 0., ..., 0., 0., 1.],\n",
       "       [0., 1., 0., ..., 0., 0., 1.]])"
      ]
     },
     "execution_count": 143,
     "metadata": {},
     "output_type": "execute_result"
    }
   ],
   "source": [
    "X_2"
   ]
  },
  {
   "cell_type": "code",
   "execution_count": 144,
   "metadata": {},
   "outputs": [],
   "source": [
    "clf = MultinomialNB()"
   ]
  },
  {
   "cell_type": "code",
   "execution_count": 145,
   "metadata": {},
   "outputs": [
    {
     "data": {
      "text/plain": [
       "MultinomialNB(alpha=1.0, class_prior=None, fit_prior=True)"
      ]
     },
     "execution_count": 145,
     "metadata": {},
     "output_type": "execute_result"
    }
   ],
   "source": [
    "clf.fit(X_2,y)"
   ]
  },
  {
   "cell_type": "code",
   "execution_count": 146,
   "metadata": {},
   "outputs": [
    {
     "data": {
      "text/plain": [
       "0.6983298538622129"
      ]
     },
     "execution_count": 146,
     "metadata": {},
     "output_type": "execute_result"
    }
   ],
   "source": [
    "clf.score(X_2,y)"
   ]
  },
  {
   "cell_type": "code",
   "execution_count": null,
   "metadata": {},
   "outputs": [],
   "source": []
  },
  {
   "cell_type": "code",
   "execution_count": 211,
   "metadata": {},
   "outputs": [],
   "source": [
    "my_clf = ClasificadorNaiveBayes()"
   ]
  },
  {
   "cell_type": "code",
   "execution_count": 208,
   "metadata": {},
   "outputs": [
    {
     "data": {
      "text/plain": [
       "[{'b': 0, 'o': 1, 'x': 2},\n",
       " {'b': 0, 'o': 1, 'x': 2},\n",
       " {'b': 0, 'o': 1, 'x': 2},\n",
       " {'b': 0, 'o': 1, 'x': 2},\n",
       " {'b': 0, 'o': 1, 'x': 2},\n",
       " {'b': 0, 'o': 1, 'x': 2},\n",
       " {'b': 0, 'o': 1, 'x': 2},\n",
       " {'b': 0, 'o': 1, 'x': 2},\n",
       " {'b': 0, 'o': 1, 'x': 2},\n",
       " {'negative': 0, 'positive': 1}]"
      ]
     },
     "execution_count": 208,
     "metadata": {},
     "output_type": "execute_result"
    }
   ],
   "source": [
    "ttt_db.diccionario"
   ]
  },
  {
   "cell_type": "code",
   "execution_count": 212,
   "metadata": {},
   "outputs": [],
   "source": [
    "my_clf.entrenamiento(ttt_db.datos, ttt_db.nominalAtributos, ttt_db.diccionario)"
   ]
  },
  {
   "cell_type": "code",
   "execution_count": 213,
   "metadata": {},
   "outputs": [
    {
     "data": {
      "text/plain": [
       "array([[0.23493976, 0.27476038],\n",
       "       [0.30421687, 0.3658147 ],\n",
       "       [0.46084337, 0.35942492]])"
      ]
     },
     "execution_count": 213,
     "metadata": {},
     "output_type": "execute_result"
    }
   ],
   "source": [
    "my_clf.likelihoods[1]"
   ]
  },
  {
   "cell_type": "code",
   "execution_count": 214,
   "metadata": {},
   "outputs": [
    {
     "data": {
      "text/plain": [
       "array([[0.18975904, 0.22683706],\n",
       "       [0.43975904, 0.30191693],\n",
       "       [0.37048193, 0.47124601]])"
      ]
     },
     "execution_count": 214,
     "metadata": {},
     "output_type": "execute_result"
    }
   ],
   "source": [
    "my_clf.likelihoods[2]"
   ]
  },
  {
   "cell_type": "code",
   "execution_count": null,
   "metadata": {},
   "outputs": [],
   "source": []
  }
 ],
 "metadata": {
  "kernelspec": {
   "display_name": "Python 3",
   "language": "python",
   "name": "python3"
  },
  "language_info": {
   "codemirror_mode": {
    "name": "ipython",
    "version": 3
   },
   "file_extension": ".py",
   "mimetype": "text/x-python",
   "name": "python",
   "nbconvert_exporter": "python",
   "pygments_lexer": "ipython3",
   "version": "3.7.3"
  }
 },
 "nbformat": 4,
 "nbformat_minor": 2
}
