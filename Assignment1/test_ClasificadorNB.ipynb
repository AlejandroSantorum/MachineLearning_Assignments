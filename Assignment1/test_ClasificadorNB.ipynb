{
 "cells": [
  {
   "cell_type": "code",
   "execution_count": 2,
   "metadata": {},
   "outputs": [],
   "source": [
    "%load_ext autoreload\n",
    "%autoreload 2"
   ]
  },
  {
   "cell_type": "code",
   "execution_count": 3,
   "metadata": {},
   "outputs": [],
   "source": [
    "import sys\n",
    "sys.path.append('/usr/local/lib/python3.7/site-packages')"
   ]
  },
  {
   "cell_type": "code",
   "execution_count": 121,
   "metadata": {},
   "outputs": [],
   "source": [
    "from Datos import Datos\n",
    "import EstrategiaParticionado\n",
    "import Clasificador\n",
    "\n",
    "import numpy as np\n",
    "import random\n",
    "import matplotlib.pyplot as plt\n",
    "from sklearn.preprocessing import OneHotEncoder\n",
    "\n",
    "from tabulate import tabulate"
   ]
  },
  {
   "cell_type": "code",
   "execution_count": 5,
   "metadata": {},
   "outputs": [],
   "source": [
    "final_results_dict = {}"
   ]
  },
  {
   "cell_type": "markdown",
   "metadata": {},
   "source": [
    "# <font color='red'>1. Entrenamiento y clasificación con Clasificador.py</font>\n"
   ]
  },
  {
   "cell_type": "markdown",
   "metadata": {},
   "source": [
    "## <font color='blue'> 1.1 Dataset tic-tac-toe </font>"
   ]
  },
  {
   "cell_type": "code",
   "execution_count": 52,
   "metadata": {},
   "outputs": [
    {
     "name": "stdout",
     "output_type": "stream",
     "text": [
      "Numero de ejemplos de entrenamiento: 958 , Numero de columnas: 10\n"
     ]
    }
   ],
   "source": [
    "dataset_ttt = Datos(\"../ConjuntosDatos/tic-tac-toe.data\")\n",
    "ndata, ncols = dataset_ttt.datos.shape # nfeat = ncols-1 \n",
    "print(\"Numero de ejemplos de entrenamiento:\", ndata, \", Numero de columnas:\", ncols)"
   ]
  },
  {
   "cell_type": "code",
   "execution_count": 53,
   "metadata": {},
   "outputs": [],
   "source": [
    "np.random.shuffle(dataset_ttt.datos)\n",
    "\n",
    "NB = Clasificador.ClasificadorNaiveBayes()"
   ]
  },
  {
   "cell_type": "markdown",
   "metadata": {},
   "source": [
    "### 1.1.1 Validación simple"
   ]
  },
  {
   "cell_type": "code",
   "execution_count": 54,
   "metadata": {},
   "outputs": [],
   "source": [
    "strat_simple = EstrategiaParticionado.ValidacionSimple(0.8)"
   ]
  },
  {
   "cell_type": "code",
   "execution_count": 55,
   "metadata": {},
   "outputs": [
    {
     "name": "stdout",
     "output_type": "stream",
     "text": [
      "[0.296875]\n"
     ]
    }
   ],
   "source": [
    "errores = NB.validacion(strat_simple, dataset_ttt, NB)\n",
    "print(errores)\n",
    "\n",
    "# We will use this result later\n",
    "final_results_dict['clasificador_val_simple_ttt'] = [np.mean(errores), np.std(errores)]"
   ]
  },
  {
   "cell_type": "markdown",
   "metadata": {},
   "source": [
    "### 1.1.2 Validación simple con varias repeticiones (3 reps)"
   ]
  },
  {
   "cell_type": "code",
   "execution_count": 56,
   "metadata": {},
   "outputs": [],
   "source": [
    "strat_simple_rep3 = EstrategiaParticionado.ValidacionSimple(0.8, nreps=3)"
   ]
  },
  {
   "cell_type": "code",
   "execution_count": 57,
   "metadata": {},
   "outputs": [
    {
     "name": "stdout",
     "output_type": "stream",
     "text": [
      "Errores: [0.30729166666666663, 0.328125, 0.3125]\n",
      "Error medio: 0.3159722222222222 +- 0.00885246443332082\n"
     ]
    }
   ],
   "source": [
    "errores = NB.validacion(strat_simple_rep3, dataset_ttt, NB)\n",
    "print(\"Errores:\", errores)\n",
    "print(\"Error medio:\", np.mean(errores), \"+-\", np.std(errores))\n",
    "\n",
    "# We will use this result later\n",
    "final_results_dict['clasificador_val_simple_rep3_ttt'] = [np.mean(errores), np.std(errores)]"
   ]
  },
  {
   "cell_type": "markdown",
   "metadata": {},
   "source": [
    "### 1.1.3 Validación Cruzada (5 folds)"
   ]
  },
  {
   "cell_type": "code",
   "execution_count": 58,
   "metadata": {},
   "outputs": [],
   "source": [
    "strat_cross = EstrategiaParticionado.ValidacionCruzada(k_fold=5)"
   ]
  },
  {
   "cell_type": "code",
   "execution_count": 83,
   "metadata": {},
   "outputs": [
    {
     "name": "stdout",
     "output_type": "stream",
     "text": [
      "Errores: [0.31937172774869105, 0.2931937172774869, 0.3036649214659686, 0.2879581151832461, 0.2774869109947644]\n",
      "Error medio: 0.2963350785340314 +- 0.014280818530875216\n"
     ]
    }
   ],
   "source": [
    "errores = NB.validacion(strat_cross, dataset_ttt, NB)\n",
    "print(\"Errores:\", errores)\n",
    "print(\"Error medio:\", np.mean(errores), \"+-\", np.std(errores))\n",
    "\n",
    "# We will use this result later\n",
    "final_results_dict['clasificador_cross_val_ttt'] = [np.mean(errores), np.std(errores)]"
   ]
  },
  {
   "cell_type": "markdown",
   "metadata": {},
   "source": [
    "## <font color='blue'> 1.2 Dataset German </font>"
   ]
  },
  {
   "cell_type": "code",
   "execution_count": 60,
   "metadata": {},
   "outputs": [
    {
     "name": "stdout",
     "output_type": "stream",
     "text": [
      "Numero de ejemplos de entrenamiento: 1000 , Numero de columnas: 21\n"
     ]
    }
   ],
   "source": [
    "dataset_ger = Datos(\"../ConjuntosDatos/german.data\")\n",
    "ndata, ncols = dataset_ger.datos.shape # nfeat = ncols-1 \n",
    "print(\"Numero de ejemplos de entrenamiento:\", ndata, \", Numero de columnas:\", ncols)"
   ]
  },
  {
   "cell_type": "code",
   "execution_count": 61,
   "metadata": {},
   "outputs": [],
   "source": [
    "np.random.shuffle(dataset_ger.datos)"
   ]
  },
  {
   "cell_type": "markdown",
   "metadata": {},
   "source": [
    "### 1.2.1 Validación simple"
   ]
  },
  {
   "cell_type": "code",
   "execution_count": 62,
   "metadata": {},
   "outputs": [],
   "source": [
    "strat_simple_ger = EstrategiaParticionado.ValidacionSimple(0.8)\n",
    "errores = NB.validacion(strat_simple_ger, dataset_ger, NB)\n",
    "\n",
    "# We will use this result later\n",
    "final_results_dict['clasificador_val_simple_ger'] = [np.mean(errores), np.std(errores)]"
   ]
  },
  {
   "cell_type": "markdown",
   "metadata": {},
   "source": [
    "### 1.2.2 Validación simple con varias repeticiones (3 reps)"
   ]
  },
  {
   "cell_type": "code",
   "execution_count": 63,
   "metadata": {},
   "outputs": [
    {
     "name": "stdout",
     "output_type": "stream",
     "text": [
      "Errores: [0.235, 0.21499999999999997, 0.235]\n",
      "Error medio: 0.2283333333333333 +- 0.009428090415820642\n"
     ]
    }
   ],
   "source": [
    "strat_simple_rep3_ger = EstrategiaParticionado.ValidacionSimple(0.8, nreps=3)\n",
    "errores = NB.validacion(strat_simple_rep3_ger, dataset_ger, NB)\n",
    "print(\"Errores:\", errores)\n",
    "print(\"Error medio:\", np.mean(errores), \"+-\", np.std(errores))\n",
    "\n",
    "# We will use this result later\n",
    "final_results_dict['clasificador_val_simple_rep3_ger'] = [np.mean(errores), np.std(errores)]"
   ]
  },
  {
   "cell_type": "markdown",
   "metadata": {},
   "source": [
    "### 1.2.3 Validación cruzada (5 folds)"
   ]
  },
  {
   "cell_type": "code",
   "execution_count": 64,
   "metadata": {},
   "outputs": [
    {
     "name": "stdout",
     "output_type": "stream",
     "text": [
      "Errores: [0.2702702702702703, 0.26726726726726724, 0.2492492492492493]\n",
      "Error medio: 0.2622622622622623 +- 0.009282901396892576\n"
     ]
    }
   ],
   "source": [
    "strat_cross_ger = EstrategiaParticionado.ValidacionCruzada(k_fold=3)\n",
    "errores = NB.validacion(strat_cross_ger, dataset_ger, NB)\n",
    "print(\"Errores:\", errores)\n",
    "print(\"Error medio:\", np.mean(errores), \"+-\", np.std(errores))\n",
    "\n",
    "# We will use this result later\n",
    "final_results_dict['clasificador_cross_val_ger'] = [np.mean(errores), np.std(errores)]"
   ]
  },
  {
   "cell_type": "markdown",
   "metadata": {},
   "source": [
    "## <font color='green'> 1.3 Tablas de Resultados (Clasificador.py)</font>"
   ]
  },
  {
   "cell_type": "markdown",
   "metadata": {},
   "source": [
    "###  1.3.1 Validación simple con número variable de repeticiones"
   ]
  },
  {
   "cell_type": "code",
   "execution_count": 18,
   "metadata": {},
   "outputs": [],
   "source": [
    "def val_simple(percentage):\n",
    "    max_reps = 5\n",
    "    L = []\n",
    "    for i in range(1, max_reps+1):\n",
    "        L.append([])\n",
    "        strat = EstrategiaParticionado.ValidacionSimple(percentage, nreps=i)\n",
    "        errores_ttt = NB.validacion(strat, dataset_ttt, NB)\n",
    "        errores_ger = NB.validacion(strat, dataset_ger, NB)\n",
    "        L[i-1].append(str(i))\n",
    "        L[i-1].append(\"%.2f +- %.3f\"% (np.mean(errores_ttt), np.std(errores_ttt)))\n",
    "        L[i-1].append(\"%.2f +- %.3f\"% (np.mean(errores_ger), np.std(errores_ger)))\n",
    "    print(\"Validación Simple con \" + str(int(percentage*100)) +   \"% Train\\n\")\n",
    "    print(tabulate(L, headers = [\"N_REPS\", \"TTT_DB\", \"GER_DB\"], tablefmt=\"grid\")) "
   ]
  },
  {
   "cell_type": "code",
   "execution_count": 19,
   "metadata": {},
   "outputs": [
    {
     "name": "stdout",
     "output_type": "stream",
     "text": [
      "Validación Simple con 70% Train\n",
      "\n",
      "+----------+---------------+---------------+\n",
      "|   N_REPS | TTT_DB        | GER_DB        |\n",
      "+==========+===============+===============+\n",
      "|        1 | 0.31 +- 0.000 | 0.25 +- 0.000 |\n",
      "+----------+---------------+---------------+\n",
      "|        2 | 0.26 +- 0.009 | 0.28 +- 0.013 |\n",
      "+----------+---------------+---------------+\n",
      "|        3 | 0.30 +- 0.040 | 0.25 +- 0.013 |\n",
      "+----------+---------------+---------------+\n",
      "|        4 | 0.31 +- 0.034 | 0.25 +- 0.003 |\n",
      "+----------+---------------+---------------+\n",
      "|        5 | 0.31 +- 0.010 | 0.25 +- 0.009 |\n",
      "+----------+---------------+---------------+\n"
     ]
    }
   ],
   "source": [
    "val_simple(0.70)"
   ]
  },
  {
   "cell_type": "code",
   "execution_count": 20,
   "metadata": {},
   "outputs": [
    {
     "name": "stdout",
     "output_type": "stream",
     "text": [
      "Validación Simple con 75% Train\n",
      "\n",
      "+----------+---------------+---------------+\n",
      "|   N_REPS | TTT_DB        | GER_DB        |\n",
      "+==========+===============+===============+\n",
      "|        1 | 0.31 +- 0.000 | 0.22 +- 0.000 |\n",
      "+----------+---------------+---------------+\n",
      "|        2 | 0.29 +- 0.006 | 0.28 +- 0.002 |\n",
      "+----------+---------------+---------------+\n",
      "|        3 | 0.31 +- 0.021 | 0.24 +- 0.018 |\n",
      "+----------+---------------+---------------+\n",
      "|        4 | 0.30 +- 0.020 | 0.23 +- 0.007 |\n",
      "+----------+---------------+---------------+\n",
      "|        5 | 0.29 +- 0.025 | 0.26 +- 0.012 |\n",
      "+----------+---------------+---------------+\n"
     ]
    }
   ],
   "source": [
    "val_simple(0.75)"
   ]
  },
  {
   "cell_type": "code",
   "execution_count": 21,
   "metadata": {},
   "outputs": [
    {
     "name": "stdout",
     "output_type": "stream",
     "text": [
      "Validación Simple con 80% Train\n",
      "\n",
      "+----------+---------------+---------------+\n",
      "|   N_REPS | TTT_DB        | GER_DB        |\n",
      "+==========+===============+===============+\n",
      "|        1 | 0.32 +- 0.000 | 0.33 +- 0.000 |\n",
      "+----------+---------------+---------------+\n",
      "|        2 | 0.27 +- 0.023 | 0.24 +- 0.013 |\n",
      "+----------+---------------+---------------+\n",
      "|        3 | 0.28 +- 0.019 | 0.23 +- 0.031 |\n",
      "+----------+---------------+---------------+\n",
      "|        4 | 0.29 +- 0.024 | 0.24 +- 0.018 |\n",
      "+----------+---------------+---------------+\n",
      "|        5 | 0.30 +- 0.025 | 0.25 +- 0.021 |\n",
      "+----------+---------------+---------------+\n"
     ]
    }
   ],
   "source": [
    "val_simple(0.80)"
   ]
  },
  {
   "cell_type": "markdown",
   "metadata": {},
   "source": [
    "### 1.3.2 Validación cruzada"
   ]
  },
  {
   "cell_type": "code",
   "execution_count": 22,
   "metadata": {},
   "outputs": [
    {
     "name": "stdout",
     "output_type": "stream",
     "text": [
      "+-----------+---------------+---------------+\n",
      "|   K_FOLDS | TTT_DB        | GER_DB        |\n",
      "+===========+===============+===============+\n",
      "|         3 | 0.29 +- 0.031 | 0.26 +- 0.012 |\n",
      "+-----------+---------------+---------------+\n",
      "|         5 | 0.29 +- 0.010 | 0.26 +- 0.036 |\n",
      "+-----------+---------------+---------------+\n",
      "|         7 | 0.29 +- 0.014 | 0.26 +- 0.032 |\n",
      "+-----------+---------------+---------------+\n",
      "|         9 | 0.31 +- 0.035 | 0.25 +- 0.053 |\n",
      "+-----------+---------------+---------------+\n",
      "|        11 | 0.30 +- 0.045 | 0.26 +- 0.047 |\n",
      "+-----------+---------------+---------------+\n"
     ]
    }
   ],
   "source": [
    "max_folds = 11\n",
    "j = 0\n",
    "L = []\n",
    "for i in range(3, max_folds+1, 2):\n",
    "    L.append([])\n",
    "    strat = EstrategiaParticionado.ValidacionCruzada(k_fold=i)\n",
    "    errores_ttt = NB.validacion(strat, dataset_ttt, NB)\n",
    "    errores_ger = NB.validacion(strat, dataset_ger, NB)\n",
    "    L[j].append(str(i))\n",
    "    L[j].append(\"%.2f +- %.3f\"% (np.mean(errores_ttt), np.std(errores_ttt)))\n",
    "    L[j].append(\"%.2f +- %.3f\"% (np.mean(errores_ger), np.std(errores_ger)))\n",
    "    j+=1\n",
    "print(tabulate(L, headers = [\"K_FOLDS\", \"TTT_DB\", \"GER_DB\"], tablefmt=\"grid\"))"
   ]
  },
  {
   "cell_type": "markdown",
   "metadata": {},
   "source": [
    "# <font color='red'>2. Entrenamiento y clasificación con funciones de sklearn (encapsuladas en Clasificador.py)</font>"
   ]
  },
  {
   "cell_type": "code",
   "execution_count": 65,
   "metadata": {},
   "outputs": [],
   "source": [
    "# Las funciones de sklearn requieren una codificación de los atributos discretos diferente a la nuestra.\n",
    "# Por lo tanto, realizamos un pequeño trabajo de preprocesado de datos para que sus funciones de sklearn\n",
    "# puiedan realizar un entrenamiento y clasificación equiparable al nuestro\n",
    "\n",
    "def preprocess_data(dataset):\n",
    "    X = dataset.datos[:,:-1] # all rows, all columns but last one\n",
    "    Y = dataset.datos[:,-1]  # all rows, just last column (class)\n",
    "    \n",
    "    # One hot encoding for discrete features\n",
    "    enc = OneHotEncoder(sparse=False, categories='auto')\n",
    "    X_enc = np.array(enc.fit_transform(X)) \n",
    "    # Concatenating encoded data matrix and classes\n",
    "    datos_aux = np.concatenate((X_enc, Y[:,None]), axis=1)\n",
    "    # Updating dataset\n",
    "    dataset.datos = np.zeros(datos_aux.shape)\n",
    "    dataset.datos = datos_aux\n",
    "    return dataset "
   ]
  },
  {
   "cell_type": "markdown",
   "metadata": {},
   "source": [
    "## <font color='blue'> 2.1 Dataset tic-tac-toe </font>"
   ]
  },
  {
   "cell_type": "code",
   "execution_count": 66,
   "metadata": {},
   "outputs": [
    {
     "name": "stdout",
     "output_type": "stream",
     "text": [
      "Numero de ejemplos de entrenamiento: 958 , Numero de columnas: 10\n"
     ]
    }
   ],
   "source": [
    "ttt_db = Datos('../ConjuntosDatos/tic-tac-toe.data')\n",
    "ndata, ncols = ttt_db.datos.shape # nfeat = ncols-1 \n",
    "print(\"Numero de ejemplos de entrenamiento:\", ndata, \", Numero de columnas:\", ncols)"
   ]
  },
  {
   "cell_type": "code",
   "execution_count": 67,
   "metadata": {},
   "outputs": [],
   "source": [
    "ttt_db = preprocess_data(ttt_db)\n",
    "np.random.shuffle(ttt_db.datos)\n",
    "\n",
    "NBSK = Clasificador.ClasificadorNaiveBayesSK(gaussian_feat=False)"
   ]
  },
  {
   "cell_type": "markdown",
   "metadata": {},
   "source": [
    "### 2.1.1 Validación simple"
   ]
  },
  {
   "cell_type": "code",
   "execution_count": 68,
   "metadata": {},
   "outputs": [
    {
     "name": "stdout",
     "output_type": "stream",
     "text": [
      "[0.30729166666666663]\n"
     ]
    }
   ],
   "source": [
    "strat_simple_sk = EstrategiaParticionado.ValidacionSimple(0.8)\n",
    "\n",
    "errores = NBSK.validacion(strat_simple_sk, ttt_db, NBSK)\n",
    "print(errores)\n",
    "\n",
    "# We will use this result later\n",
    "final_results_dict['sklearn_val_simple_ttt'] = [np.mean(errores), np.std(errores)]"
   ]
  },
  {
   "cell_type": "markdown",
   "metadata": {},
   "source": [
    "### 2.1.2 Validación simple con varias repeticiones (3 reps)"
   ]
  },
  {
   "cell_type": "code",
   "execution_count": 69,
   "metadata": {},
   "outputs": [
    {
     "name": "stdout",
     "output_type": "stream",
     "text": [
      "Errores:  [0.296875, 0.3125, 0.3125]\n",
      "Error medio: 0.3072916666666667 +- 0.00736569563735987\n"
     ]
    }
   ],
   "source": [
    "strat_simple_rep3_sk = EstrategiaParticionado.ValidacionSimple(0.8, nreps=3)\n",
    "\n",
    "errores = NBSK.validacion(strat_simple_rep3_sk, ttt_db, NBSK)\n",
    "\n",
    "print(\"Errores: \", errores)\n",
    "print(\"Error medio:\", np.mean(errores), \"+-\", np.std(errores))\n",
    "\n",
    "# We will use this result later\n",
    "final_results_dict['sklearn_val_simple_rep3_ttt'] = [np.mean(errores), np.std(errores)]"
   ]
  },
  {
   "cell_type": "markdown",
   "metadata": {},
   "source": [
    "### 2.1.3 Validacion cruzada (5 folds)"
   ]
  },
  {
   "cell_type": "code",
   "execution_count": 70,
   "metadata": {},
   "outputs": [
    {
     "name": "stdout",
     "output_type": "stream",
     "text": [
      "Errores:  [0.2879581151832461, 0.2774869109947644, 0.3036649214659686, 0.2879581151832461, 0.32984293193717273]\n",
      "Error medio: 0.2973821989528796 +- 0.018257168349908558\n"
     ]
    }
   ],
   "source": [
    "strat_cross_sk = EstrategiaParticionado.ValidacionCruzada(k_fold=5)\n",
    "\n",
    "errores = NBSK.validacion(strat_cross_sk, ttt_db, NBSK)\n",
    "\n",
    "print(\"Errores: \", errores)\n",
    "print(\"Error medio:\", np.mean(errores), \"+-\", np.std(errores))\n",
    "\n",
    "# We will use this result later\n",
    "final_results_dict['sklearn_cross_val_ttt'] = [np.mean(errores), np.std(errores)]"
   ]
  },
  {
   "cell_type": "markdown",
   "metadata": {},
   "source": [
    "## <font color='blue'> 2.2 Dataset German (todos los atributos se consideran discretos)</font>"
   ]
  },
  {
   "cell_type": "code",
   "execution_count": 71,
   "metadata": {},
   "outputs": [
    {
     "name": "stdout",
     "output_type": "stream",
     "text": [
      "Numero de ejemplos de entrenamiento: 1000 , Numero de columnas: 21\n"
     ]
    }
   ],
   "source": [
    "ger_db = Datos('../ConjuntosDatos/german.data')\n",
    "ndata, ncols = ger_db.datos.shape # nfeat = ncols-1 \n",
    "print(\"Numero de ejemplos de entrenamiento:\", ndata, \", Numero de columnas:\", ncols)"
   ]
  },
  {
   "cell_type": "code",
   "execution_count": 72,
   "metadata": {},
   "outputs": [],
   "source": [
    "ger_db = preprocess_data(ger_db)\n",
    "np.random.shuffle(ger_db.datos)\n",
    "\n",
    "NBSK = Clasificador.ClasificadorNaiveBayesSK(gaussian_feat=False)"
   ]
  },
  {
   "cell_type": "markdown",
   "metadata": {},
   "source": [
    "### 2.2.1 Validación simple"
   ]
  },
  {
   "cell_type": "code",
   "execution_count": 73,
   "metadata": {},
   "outputs": [
    {
     "name": "stdout",
     "output_type": "stream",
     "text": [
      "[0.255]\n"
     ]
    }
   ],
   "source": [
    "strat_simple_sk = EstrategiaParticionado.ValidacionSimple(0.8)\n",
    "\n",
    "errores = NBSK.validacion(strat_simple_sk, ger_db, NBSK)\n",
    "print(errores)\n",
    "\n",
    "# We will use this result later\n",
    "final_results_dict['sklearn_val_simple_gerDiscr'] = [np.mean(errores), np.std(errores)]"
   ]
  },
  {
   "cell_type": "markdown",
   "metadata": {},
   "source": [
    "### 2.2.2 Validación simple con varias repeticiones (3 reps)"
   ]
  },
  {
   "cell_type": "code",
   "execution_count": 74,
   "metadata": {},
   "outputs": [
    {
     "name": "stdout",
     "output_type": "stream",
     "text": [
      "Errores:  [0.29500000000000004, 0.30000000000000004, 0.29000000000000004]\n",
      "Error medio: 0.29500000000000004 +- 0.004082482904638634\n"
     ]
    }
   ],
   "source": [
    "strat_simple_rep3_sk = EstrategiaParticionado.ValidacionSimple(0.8, nreps=3)\n",
    "\n",
    "errores = NBSK.validacion(strat_simple_rep3_sk, ger_db, NBSK)\n",
    "\n",
    "print(\"Errores: \", errores)\n",
    "print(\"Error medio:\", np.mean(errores), \"+-\", np.std(errores))\n",
    "\n",
    "# We will use this result later\n",
    "final_results_dict['sklearn_val_simple_rep3_gerDiscr'] = [np.mean(errores), np.std(errores)]"
   ]
  },
  {
   "cell_type": "markdown",
   "metadata": {},
   "source": [
    "### 2.2.3 Validación cruzada (5 folds)"
   ]
  },
  {
   "cell_type": "code",
   "execution_count": 75,
   "metadata": {},
   "outputs": [
    {
     "name": "stdout",
     "output_type": "stream",
     "text": [
      "Errores:  [0.255, 0.235, 0.35, 0.28500000000000003, 0.265]\n",
      "Error medio: 0.278 +- 0.039446165846632034\n"
     ]
    }
   ],
   "source": [
    "strat_cross_sk = EstrategiaParticionado.ValidacionCruzada(k_fold=5)\n",
    "\n",
    "errores = NBSK.validacion(strat_cross_sk, ger_db, NBSK)\n",
    "\n",
    "print(\"Errores: \", errores)\n",
    "print(\"Error medio:\", np.mean(errores), \"+-\", np.std(errores))\n",
    "\n",
    "# We will use this result later\n",
    "final_results_dict['sklearn_cross_val_gerDiscr'] = [np.mean(errores), np.std(errores)]"
   ]
  },
  {
   "cell_type": "markdown",
   "metadata": {},
   "source": [
    "## <font color='blue'> 2.3 Dataset German (todos los atributos se consideran continuos)</font>"
   ]
  },
  {
   "cell_type": "code",
   "execution_count": 76,
   "metadata": {},
   "outputs": [
    {
     "name": "stdout",
     "output_type": "stream",
     "text": [
      "Numero de ejemplos de entrenamiento: 1000 , Numero de columnas: 21\n"
     ]
    }
   ],
   "source": [
    "ger_db_cont = Datos('../ConjuntosDatos/german.data')\n",
    "ndata, ncols = ger_db_cont.datos.shape # nfeat = ncols-1 \n",
    "print(\"Numero de ejemplos de entrenamiento:\", ndata, \", Numero de columnas:\", ncols)"
   ]
  },
  {
   "cell_type": "code",
   "execution_count": 77,
   "metadata": {},
   "outputs": [],
   "source": [
    "np.random.shuffle(ger_db.datos)\n",
    "\n",
    "NBSK = Clasificador.ClasificadorNaiveBayesSK(gaussian_feat=True)"
   ]
  },
  {
   "cell_type": "markdown",
   "metadata": {},
   "source": [
    "### 2.3.1 Validación simple"
   ]
  },
  {
   "cell_type": "code",
   "execution_count": 78,
   "metadata": {},
   "outputs": [
    {
     "name": "stdout",
     "output_type": "stream",
     "text": [
      "[0.30000000000000004]\n"
     ]
    }
   ],
   "source": [
    "strat_simple_sk = EstrategiaParticionado.ValidacionSimple(0.8)\n",
    "\n",
    "errores = NBSK.validacion(strat_simple_sk, ger_db_cont, NBSK)\n",
    "print(errores)\n",
    "\n",
    "# We will use this result later\n",
    "final_results_dict['sklearn_val_simple_gerCont'] = [np.mean(errores), np.std(errores)]"
   ]
  },
  {
   "cell_type": "markdown",
   "metadata": {},
   "source": [
    "### 2.3.2 Validación simple con varias repeticiones (3 reps)"
   ]
  },
  {
   "cell_type": "code",
   "execution_count": 79,
   "metadata": {},
   "outputs": [
    {
     "name": "stdout",
     "output_type": "stream",
     "text": [
      "Errores:  [0.26, 0.28, 0.28]\n",
      "Error medio: 0.2733333333333334 +- 0.009428090415820642\n"
     ]
    }
   ],
   "source": [
    "strat_simple_rep3_sk = EstrategiaParticionado.ValidacionSimple(0.8, nreps=3)\n",
    "\n",
    "errores = NBSK.validacion(strat_simple_rep3_sk, ger_db_cont, NBSK)\n",
    "\n",
    "print(\"Errores: \", errores)\n",
    "print(\"Error medio:\", np.mean(errores), \"+-\", np.std(errores))\n",
    "\n",
    "# We will use this result later\n",
    "final_results_dict['sklearn_val_simple_rep3_gerCont'] = [np.mean(errores), np.std(errores)]"
   ]
  },
  {
   "cell_type": "markdown",
   "metadata": {},
   "source": [
    "### 2.3.3 Validación cruzada (5 folds)"
   ]
  },
  {
   "cell_type": "code",
   "execution_count": 80,
   "metadata": {},
   "outputs": [
    {
     "name": "stdout",
     "output_type": "stream",
     "text": [
      "Errores:  [0.28500000000000003, 0.24, 0.255, 0.30000000000000004, 0.255]\n",
      "Error medio: 0.267 +- 0.02204540768504862\n"
     ]
    }
   ],
   "source": [
    "strat_cross_sk = EstrategiaParticionado.ValidacionCruzada(k_fold=5)\n",
    "\n",
    "errores = NBSK.validacion(strat_cross_sk, ger_db_cont, NBSK)\n",
    "\n",
    "print(\"Errores: \", errores)\n",
    "print(\"Error medio:\", np.mean(errores), \"+-\", np.std(errores))\n",
    "\n",
    "# We will use this result later\n",
    "final_results_dict['sklearn_cross_val_gerCont'] = [np.mean(errores), np.std(errores)]"
   ]
  },
  {
   "cell_type": "markdown",
   "metadata": {},
   "source": [
    "## <font color='green'> 2.4 Tablas de Resultados de sklearn</font>"
   ]
  },
  {
   "cell_type": "markdown",
   "metadata": {},
   "source": [
    "### 2.4.1 Validación simple con número variable de repeticiones"
   ]
  },
  {
   "cell_type": "code",
   "execution_count": 39,
   "metadata": {},
   "outputs": [],
   "source": [
    "def val_simpleSK(percentage):\n",
    "    dataset_ttt = Datos(\"../ConjuntosDatos/tic-tac-toe.data\")\n",
    "    dataset_ger_d = Datos(\"../ConjuntosDatos/german.data\")    # Dataset para el caso Discreto\n",
    "    dataset_ger_c = Datos(\"../ConjuntosDatos/german.data\")    # Dataset para el caso Continuo\n",
    "    np.random.shuffle(dataset_ttt.datos)\n",
    "    np.random.shuffle(dataset_ger_d.datos)\n",
    "    np.random.shuffle(dataset_ger_c.datos)\n",
    "    NBSK = Clasificador.ClasificadorNaiveBayesSK(gaussian_feat=False) # Clasificador Para TTT\n",
    "    NBSK_d = Clasificador.ClasificadorNaiveBayesSK(gaussian_feat=False) # Clasificador Para GER en caso Discreto\n",
    "    NBSK_c = Clasificador.ClasificadorNaiveBayesSK(gaussian_feat=True) # Clasificador Para GER en caso Continuo\n",
    "    max_reps = 5\n",
    "    L = []\n",
    "    for i in range(1, max_reps+1):\n",
    "        L.append([])\n",
    "        strat = EstrategiaParticionado.ValidacionSimple(percentage, nreps=i)\n",
    "        errores_ttt = NBSK.validacion(strat, preprocess_data(dataset_ttt), NBSK)\n",
    "        errores_ger_d = NBSK_d.validacion(strat, preprocess_data(dataset_ger_d), NBSK_d)\n",
    "        errores_ger_c = NBSK_c.validacion(strat, dataset_ger_c, NBSK_c)\n",
    "        L[i-1].append(str(i))\n",
    "        L[i-1].append(\"%.2f +- %.3f\"% (np.mean(errores_ttt), np.std(errores_ttt)))\n",
    "        L[i-1].append(\"%.2f +- %.3f\"% (np.mean(errores_ger_d), np.std(errores_ger_d)))\n",
    "        L[i-1].append(\"%.2f +- %.3f\"% (np.mean(errores_ger_c), np.std(errores_ger_c)))\n",
    "    print(\"Validación Simple con \" + str(int(percentage*100)) +   \"% Train\\n\")\n",
    "    print(tabulate(L, headers = [\"N_REPS\", \"TTT_DB\", \"GER_DB_D\", \"GER_DB_C\"], tablefmt=\"grid\")) "
   ]
  },
  {
   "cell_type": "code",
   "execution_count": 40,
   "metadata": {},
   "outputs": [
    {
     "name": "stdout",
     "output_type": "stream",
     "text": [
      "Validación Simple con 70% Train\n",
      "\n",
      "+----------+---------------+---------------+---------------+\n",
      "|   N_REPS | TTT_DB        | GER_DB_D      | GER_DB_C      |\n",
      "+==========+===============+===============+===============+\n",
      "|        1 | 0.34 +- 0.000 | 0.27 +- 0.000 | 0.28 +- 0.000 |\n",
      "+----------+---------------+---------------+---------------+\n",
      "|        2 | 0.35 +- 0.003 | 0.29 +- 0.015 | 0.26 +- 0.007 |\n",
      "+----------+---------------+---------------+---------------+\n",
      "|        3 | 0.35 +- 0.008 | 0.28 +- 0.006 | 0.26 +- 0.025 |\n",
      "+----------+---------------+---------------+---------------+\n",
      "|        4 | 0.36 +- 0.030 | 0.26 +- 0.011 | 0.26 +- 0.021 |\n",
      "+----------+---------------+---------------+---------------+\n",
      "|        5 | 0.33 +- 0.019 | 0.25 +- 0.014 | 0.28 +- 0.021 |\n",
      "+----------+---------------+---------------+---------------+\n"
     ]
    }
   ],
   "source": [
    "val_simpleSK(0.7)"
   ]
  },
  {
   "cell_type": "code",
   "execution_count": 41,
   "metadata": {},
   "outputs": [
    {
     "name": "stdout",
     "output_type": "stream",
     "text": [
      "Validación Simple con 75% Train\n",
      "\n",
      "+----------+---------------+---------------+---------------+\n",
      "|   N_REPS | TTT_DB        | GER_DB_D      | GER_DB_C      |\n",
      "+==========+===============+===============+===============+\n",
      "|        1 | 0.37 +- 0.000 | 0.27 +- 0.000 | 0.28 +- 0.000 |\n",
      "+----------+---------------+---------------+---------------+\n",
      "|        2 | 0.33 +- 0.004 | 0.23 +- 0.026 | 0.25 +- 0.022 |\n",
      "+----------+---------------+---------------+---------------+\n",
      "|        3 | 0.36 +- 0.023 | 0.26 +- 0.019 | 0.29 +- 0.037 |\n",
      "+----------+---------------+---------------+---------------+\n",
      "|        4 | 0.33 +- 0.039 | 0.25 +- 0.007 | 0.27 +- 0.030 |\n",
      "+----------+---------------+---------------+---------------+\n",
      "|        5 | 0.36 +- 0.034 | 0.26 +- 0.023 | 0.26 +- 0.027 |\n",
      "+----------+---------------+---------------+---------------+\n"
     ]
    }
   ],
   "source": [
    "val_simpleSK(0.75)"
   ]
  },
  {
   "cell_type": "code",
   "execution_count": 42,
   "metadata": {},
   "outputs": [
    {
     "name": "stdout",
     "output_type": "stream",
     "text": [
      "Validación Simple con 80% Train\n",
      "\n",
      "+----------+---------------+---------------+---------------+\n",
      "|   N_REPS | TTT_DB        | GER_DB_D      | GER_DB_C      |\n",
      "+==========+===============+===============+===============+\n",
      "|        1 | 0.33 +- 0.000 | 0.30 +- 0.000 | 0.30 +- 0.000 |\n",
      "+----------+---------------+---------------+---------------+\n",
      "|        2 | 0.33 +- 0.018 | 0.26 +- 0.015 | 0.30 +- 0.000 |\n",
      "+----------+---------------+---------------+---------------+\n",
      "|        3 | 0.36 +- 0.015 | 0.27 +- 0.020 | 0.24 +- 0.006 |\n",
      "+----------+---------------+---------------+---------------+\n",
      "|        4 | 0.35 +- 0.034 | 0.27 +- 0.013 | 0.27 +- 0.031 |\n",
      "+----------+---------------+---------------+---------------+\n",
      "|        5 | 0.33 +- 0.016 | 0.25 +- 0.024 | 0.28 +- 0.021 |\n",
      "+----------+---------------+---------------+---------------+\n"
     ]
    }
   ],
   "source": [
    "val_simpleSK(0.80)"
   ]
  },
  {
   "cell_type": "markdown",
   "metadata": {},
   "source": [
    "### 2.4.2 Validación cruzada "
   ]
  },
  {
   "cell_type": "code",
   "execution_count": 43,
   "metadata": {},
   "outputs": [
    {
     "name": "stdout",
     "output_type": "stream",
     "text": [
      "+-----------+---------------+---------------+---------------+\n",
      "|   K_FOLDS | TTT_DB        | GER_DB_D      | GER_DB_C      |\n",
      "+===========+===============+===============+===============+\n",
      "|         3 | 0.34 +- 0.006 | 0.28 +- 0.026 | 0.28 +- 0.018 |\n",
      "+-----------+---------------+---------------+---------------+\n",
      "|         5 | 0.34 +- 0.015 | 0.28 +- 0.024 | 0.27 +- 0.043 |\n",
      "+-----------+---------------+---------------+---------------+\n",
      "|         7 | 0.34 +- 0.041 | 0.27 +- 0.040 | 0.27 +- 0.033 |\n",
      "+-----------+---------------+---------------+---------------+\n",
      "|         9 | 0.34 +- 0.039 | 0.26 +- 0.024 | 0.27 +- 0.027 |\n",
      "+-----------+---------------+---------------+---------------+\n",
      "|        11 | 0.34 +- 0.033 | 0.28 +- 0.046 | 0.27 +- 0.047 |\n",
      "+-----------+---------------+---------------+---------------+\n"
     ]
    }
   ],
   "source": [
    "dataset_ger_d = Datos(\"../ConjuntosDatos/german.data\")    # Dataset para el caso Discreto\n",
    "dataset_ger_c = Datos(\"../ConjuntosDatos/german.data\")    # Dataset para el caso Continuo\n",
    "np.random.shuffle(dataset_ger_d.datos)\n",
    "np.random.shuffle(dataset_ger_c.datos)\n",
    "\n",
    "preprocess_data(dataset_ger_d)\n",
    "\n",
    "NBSK = Clasificador.ClasificadorNaiveBayesSK(gaussian_feat=False) # Clasificador Para TTT\n",
    "NBSK_d = Clasificador.ClasificadorNaiveBayesSK(gaussian_feat=False) # Clasificador Para GER en caso Discreto\n",
    "NBSK_c = Clasificador.ClasificadorNaiveBayesSK(gaussian_feat=True) # Clasificador Para GER en caso Continuo\n",
    "\n",
    "max_folds = 11\n",
    "j = 0\n",
    "L = []\n",
    "for i in range(3, max_folds+1, 2):\n",
    "    L.append([])\n",
    "    strat = EstrategiaParticionado.ValidacionCruzada(k_fold=i)\n",
    "    errores_ttt = NBSK.validacion(strat, dataset_ttt, NBSK)\n",
    "    errores_ger_d = NBSK_d.validacion(strat, dataset_ger_d, NBSK_d)\n",
    "    errores_ger_c = NBSK_c.validacion(strat, dataset_ger_c, NBSK_c)\n",
    "    L[j].append(str(i))\n",
    "    L[j].append(\"%.2f +- %.3f\"% (np.mean(errores_ttt), np.std(errores_ttt)))\n",
    "    L[j].append(\"%.2f +- %.3f\"% (np.mean(errores_ger_d), np.std(errores_ger_d)))\n",
    "    L[j].append(\"%.2f +- %.3f\"% (np.mean(errores_ger_c), np.std(errores_ger_c)))\n",
    "    j+=1\n",
    "print(tabulate(L, headers = [\"K_FOLDS\", \"TTT_DB\", \"GER_DB_D\", \"GER_DB_C\"], tablefmt=\"grid\")) "
   ]
  },
  {
   "cell_type": "markdown",
   "metadata": {},
   "source": [
    "# <font color='red'>3. Resultados finales (Clasificador.py + sklearn) </font>"
   ]
  },
  {
   "cell_type": "markdown",
   "metadata": {},
   "source": [
    "A pesar de haber realizado ya exposiciones de los errores de Clasificador.py y sklearn en sus correspondientes secciones, en este apartado vamos a juntar ciertos resultados para tener una imagen más clara en conjunto.\n",
    "\n",
    "Por razones de brevedad, consideraremos solo las particiones:\n",
    "- Validación simple (80% train, 20% test)\n",
    "- Validación simple con 3 repeticiones\n",
    "- Validación cruzada con 5 folds"
   ]
  },
  {
   "cell_type": "code",
   "execution_count": 96,
   "metadata": {},
   "outputs": [],
   "source": [
    "def format_error(error_list):\n",
    "    return \"%.2f +- %.3f\"%(error_list[0], error_list[1]) # index 0 = mean value ; index 1 = std value\n",
    "\n",
    "    \n",
    "def print_final_results(res_dict):\n",
    "    headers = ['Model', 'tic-tac-toe', 'german (aprox. discreta)', 'german (aprox. continua)']\n",
    "    L = []\n",
    "    L.append(['Clasificador val simple',\n",
    "              format_error(res_dict['clasificador_val_simple_ttt']),\n",
    "              format_error(res_dict['clasificador_val_simple_ger']),\n",
    "              format_error(res_dict['clasificador_val_simple_ger'])])\n",
    "    L.append(['Clasificador val simple nreps=3',\n",
    "              format_error(res_dict['clasificador_val_simple_rep3_ttt']),\n",
    "              format_error(res_dict['clasificador_val_simple_rep3_ger']),\n",
    "              format_error(res_dict['clasificador_val_simple_rep3_ger'])])\n",
    "    L.append(['Clasificador val cruzada 5fold',\n",
    "              format_error(res_dict['clasificador_cross_val_ttt']),\n",
    "              format_error(res_dict['clasificador_cross_val_ger']),\n",
    "              format_error(res_dict['clasificador_cross_val_ger'])])\n",
    "    L.append(['skLearn val simple',\n",
    "              format_error(res_dict['sklearn_val_simple_ttt']),\n",
    "              format_error(res_dict['sklearn_val_simple_gerDiscr']),\n",
    "              format_error(res_dict['sklearn_val_simple_gerCont'])])\n",
    "    L.append(['skLearn val simple nreps=3',\n",
    "              format_error(res_dict['sklearn_val_simple_rep3_ttt']),\n",
    "              format_error(res_dict['sklearn_val_simple_rep3_gerDiscr']),\n",
    "              format_error(res_dict['sklearn_val_simple_rep3_gerCont'])])\n",
    "    L.append(['skLearn val cruzada 5fold',\n",
    "              format_error(res_dict['sklearn_cross_val_ttt']),\n",
    "              format_error(res_dict['sklearn_cross_val_gerDiscr']),\n",
    "              format_error(res_dict['sklearn_cross_val_gerCont'])])\n",
    "    print(tabulate(L, headers, tablefmt=\"pretty\"))\n",
    "    "
   ]
  },
  {
   "cell_type": "code",
   "execution_count": 97,
   "metadata": {},
   "outputs": [
    {
     "name": "stdout",
     "output_type": "stream",
     "text": [
      "+---------------------------------+---------------+--------------------------+--------------------------+\n",
      "|              Model              |  tic-tac-toe  | german (aprox. discreta) | german (aprox. continua) |\n",
      "+---------------------------------+---------------+--------------------------+--------------------------+\n",
      "|     Clasificador val simple     | 0.30 +- 0.000 |      0.23 +- 0.000       |      0.23 +- 0.000       |\n",
      "| Clasificador val simple nreps=3 | 0.32 +- 0.009 |      0.23 +- 0.009       |      0.23 +- 0.009       |\n",
      "| Clasificador val cruzada 5fold  | 0.30 +- 0.014 |      0.26 +- 0.009       |      0.26 +- 0.009       |\n",
      "|       skLearn val simple        | 0.31 +- 0.000 |      0.26 +- 0.000       |      0.30 +- 0.000       |\n",
      "|   skLearn val simple nreps=3    | 0.31 +- 0.007 |      0.30 +- 0.004       |      0.27 +- 0.009       |\n",
      "|    skLearn val cruzada 5fold    | 0.30 +- 0.018 |      0.28 +- 0.039       |      0.27 +- 0.022       |\n",
      "+---------------------------------+---------------+--------------------------+--------------------------+\n"
     ]
    }
   ],
   "source": [
    "print_final_results(final_results_dict)"
   ]
  },
  {
   "cell_type": "markdown",
   "metadata": {},
   "source": [
    "# <font color='red'>4. Análisis ROC </font>"
   ]
  },
  {
   "cell_type": "code",
   "execution_count": 221,
   "metadata": {},
   "outputs": [],
   "source": [
    "def create_confMatrix(pred, real):\n",
    "    i = 0\n",
    "    tp, fp, tn, fn = 0, 0, 0, 0\n",
    "    \n",
    "    for pred_val in pred:\n",
    "        # True negative\n",
    "        if pred_val==0 and pred_val==real[i]:\n",
    "            tn += 1\n",
    "        # False negative\n",
    "        elif pred_val==0 and pred_val!=real[i]:\n",
    "            fn += 1\n",
    "        # True positive\n",
    "        elif pred_val==1 and pred_val==real[i]:\n",
    "            tp += 1\n",
    "        # False positive\n",
    "        elif pred_val==1 and pred_val!=real[i]:\n",
    "            fp += 1\n",
    "        i += 1\n",
    "    \n",
    "    return [['PRED POS', tp, fp], ['PRED NEG', fn, tn]]\n",
    "\n",
    "\n",
    "\n",
    "\n",
    "def print_confMatrix(m):\n",
    "    headers = [\"\", \"REAL POS\", \"REAL NEG\"]\n",
    "    print(tabulate(m, headers, tablefmt=\"grid\")) "
   ]
  },
  {
   "cell_type": "code",
   "execution_count": 222,
   "metadata": {},
   "outputs": [],
   "source": [
    "def ROC_Analysis(dataset, clf, particionado, print_confMtx=True):\n",
    "    seed = random.seed(0)\n",
    "    np.random.shuffle(dataset.datos)\n",
    "    particionado.creaParticiones(dataset.datos, seed)\n",
    "    \n",
    "    TPRs = []\n",
    "    FPRs = []\n",
    "    for particion in particionado.particiones:\n",
    "\n",
    "        datostrain = dataset.datos[particion.indicesTrain, :]\n",
    "        datostest = dataset.datos[particion.indicesTest, :]\n",
    "            \n",
    "        clf.entrenamiento(datostrain, dataset.nominalAtributos, dataset.diccionario)\n",
    "            \n",
    "        pred = clf.clasifica(datostest, dataset.nominalAtributos, dataset.diccionario)\n",
    "        real = datostest[:,-1] \n",
    "        \n",
    "        m = create_confMatrix(pred, real)\n",
    "        tpr_aux = m[0][1]/(m[0][1] + m[1][1])\n",
    "        fpr_aux = m[0][2]/(m[0][2] + m[1][2])\n",
    "        TPRs.append(tpr_aux)\n",
    "        FPRs.append(fpr_aux)\n",
    "    \n",
    "    tpr = np.mean(TPRs)\n",
    "    fpr = np.mean(FPRs)\n",
    "    \n",
    "    if print_confMtx:\n",
    "        print_confMatrix(m)\n",
    "        print(\"Punto espacio ROC: (\", fpr, \",\", tpr, \")\")\n",
    "\n",
    "    return fpr, tpr\n",
    " "
   ]
  },
  {
   "cell_type": "code",
   "execution_count": 245,
   "metadata": {},
   "outputs": [],
   "source": [
    "def plot_ROC(fpr, tpr, clf_name=None):\n",
    "    plt.figure()\n",
    "    \n",
    "    rand_bins = np.linspace(0, 1, num=30)\n",
    "    plt.plot(rand_bins, rand_bins, color='blue', linestyle='dashed', label='random clf')\n",
    "    \n",
    "    tpr_coords = [0, tpr, 1]\n",
    "    fpr_coords = [0, fpr, 1]\n",
    "    plt.plot(fpr_coords, tpr_coords, color='red', label='classifier')\n",
    "    \n",
    "    plt.xlabel('False Positive Rate (FPR)')\n",
    "    plt.ylabel('True Positive Rate (TPR)')\n",
    "    plt.legend(loc='lower right')\n",
    "    if clf_name:\n",
    "        plt.title('ROC space for '+clf_name)\n",
    "    else:\n",
    "        plt.title('ROC space')"
   ]
  },
  {
   "cell_type": "code",
   "execution_count": 246,
   "metadata": {},
   "outputs": [
    {
     "data": {
      "image/png": "[encoded data removed]",
      "text/plain": [
       "<Figure size 432x288 with 1 Axes>"
      ]
     },
     "metadata": {
      "needs_background": "light"
     },
     "output_type": "display_data"
    }
   ],
   "source": [
    "plot_ROC(0.6, 0.7)"
   ]
  },
  {
   "cell_type": "markdown",
   "metadata": {},
   "source": [
    "## <font color='blue'> 4.1 Dataset tic-tac-toe </font>"
   ]
  },
  {
   "cell_type": "code",
   "execution_count": 247,
   "metadata": {},
   "outputs": [],
   "source": [
    "db_ttt = Datos(\"../ConjuntosDatos/tic-tac-toe.data\")\n",
    "db_ttt_sk = Datos(\"../ConjuntosDatos/tic-tac-toe.data\")\n",
    "\n",
    "np.random.shuffle(db_ttt.datos)\n",
    "np.random.shuffle(db_ttt_sk.datos)\n",
    "\n",
    "preprocess_data(db_ttt_sk)\n",
    "\n",
    "NB = Clasificador.ClasificadorNaiveBayes()\n",
    "NBSK = Clasificador.ClasificadorNaiveBayesSK(gaussian_feat=False)"
   ]
  },
  {
   "cell_type": "markdown",
   "metadata": {},
   "source": [
    "### 4.1.1 Validación simple"
   ]
  },
  {
   "cell_type": "code",
   "execution_count": 248,
   "metadata": {},
   "outputs": [],
   "source": [
    "strat_simple = EstrategiaParticionado.ValidacionSimple(0.8)"
   ]
  },
  {
   "cell_type": "code",
   "execution_count": 249,
   "metadata": {},
   "outputs": [
    {
     "name": "stdout",
     "output_type": "stream",
     "text": [
      "+----------+------------+------------+\n",
      "|          |   REAL POS |   REAL NEG |\n",
      "+==========+============+============+\n",
      "| PRED POS |        111 |         41 |\n",
      "+----------+------------+------------+\n",
      "| PRED NEG |         13 |         27 |\n",
      "+----------+------------+------------+\n",
      "Punto espacio ROC: ( 0.6029411764705882 , 0.8951612903225806 )\n"
     ]
    }
   ],
   "source": [
    "fpr_nb, tpr_nb = ROC_Analysis(db_ttt, NB, strat_simple)"
   ]
  },
  {
   "cell_type": "code",
   "execution_count": 250,
   "metadata": {},
   "outputs": [
    {
     "name": "stdout",
     "output_type": "stream",
     "text": [
      "+----------+------------+------------+\n",
      "|          |   REAL POS |   REAL NEG |\n",
      "+==========+============+============+\n",
      "| PRED POS |        103 |         43 |\n",
      "+----------+------------+------------+\n",
      "| PRED NEG |         16 |         30 |\n",
      "+----------+------------+------------+\n",
      "Punto espacio ROC: ( 0.589041095890411 , 0.865546218487395 )\n"
     ]
    }
   ],
   "source": [
    "fpr_nbsk, tpr_nbsk = ROC_Analysis(db_ttt_sk, NBSK, strat_simple)"
   ]
  },
  {
   "cell_type": "code",
   "execution_count": 251,
   "metadata": {},
   "outputs": [
    {
     "data": {
      "image/png": "[encoded data removed]",
      "text/plain": [
       "<Figure size 432x288 with 1 Axes>"
      ]
     },
     "metadata": {
      "needs_background": "light"
     },
     "output_type": "display_data"
    },
    {
     "data": {
      "image/png": "[encoded data removed]",
      "text/plain": [
       "<Figure size 432x288 with 1 Axes>"
      ]
     },
     "metadata": {
      "needs_background": "light"
     },
     "output_type": "display_data"
    }
   ],
   "source": [
    "plot_ROC(fpr_nb, tpr_nb, clf_name='my classifier with simple val')\n",
    "plot_ROC(fpr_nbsk, tpr_nbsk, clf_name='sklearn clf with simple val')"
   ]
  },
  {
   "cell_type": "markdown",
   "metadata": {},
   "source": [
    "### 4.1.2 Validación simple con varias repeticiones"
   ]
  },
  {
   "cell_type": "code",
   "execution_count": 263,
   "metadata": {},
   "outputs": [],
   "source": [
    "strat_simple_rep3 = EstrategiaParticionado.ValidacionSimple(0.8, nreps=3)"
   ]
  },
  {
   "cell_type": "code",
   "execution_count": 264,
   "metadata": {},
   "outputs": [
    {
     "name": "stdout",
     "output_type": "stream",
     "text": [
      "+----------+------------+------------+\n",
      "|          |   REAL POS |   REAL NEG |\n",
      "+==========+============+============+\n",
      "| PRED POS |        113 |         33 |\n",
      "+----------+------------+------------+\n",
      "| PRED NEG |         16 |         30 |\n",
      "+----------+------------+------------+\n",
      "Punto espacio ROC: ( 0.5641534391534391 , 0.849031007751938 )\n"
     ]
    }
   ],
   "source": [
    "fpr_nb, tpr_nb = ROC_Analysis(db_ttt, NB, strat_simple_rep3)"
   ]
  },
  {
   "cell_type": "code",
   "execution_count": 265,
   "metadata": {},
   "outputs": [
    {
     "name": "stdout",
     "output_type": "stream",
     "text": [
      "+----------+------------+------------+\n",
      "|          |   REAL POS |   REAL NEG |\n",
      "+==========+============+============+\n",
      "| PRED POS |        110 |         36 |\n",
      "+----------+------------+------------+\n",
      "| PRED NEG |         15 |         31 |\n",
      "+----------+------------+------------+\n",
      "Punto espacio ROC: ( 0.5749378109452736 , 0.8632986111111111 )\n"
     ]
    }
   ],
   "source": [
    "fpr_nbsk, tpr_nbsk = ROC_Analysis(db_ttt_sk, NBSK, strat_simple_rep3)"
   ]
  },
  {
   "cell_type": "code",
   "execution_count": 266,
   "metadata": {},
   "outputs": [
    {
     "data": {
      "image/png": "[encoded data removed]",
      "text/plain": [
       "<Figure size 432x288 with 1 Axes>"
      ]
     },
     "metadata": {
      "needs_background": "light"
     },
     "output_type": "display_data"
    },
    {
     "data": {
      "image/png": "[encoded data removed]",
      "text/plain": [
       "<Figure size 432x288 with 1 Axes>"
      ]
     },
     "metadata": {
      "needs_background": "light"
     },
     "output_type": "display_data"
    }
   ],
   "source": [
    "plot_ROC(fpr_nb, tpr_nb, clf_name='my classfier with simple val nreps=3')\n",
    "plot_ROC(fpr_nbsk, tpr_nbsk, clf_name='sklearn clf with simple val nreps=3')"
   ]
  },
  {
   "cell_type": "markdown",
   "metadata": {},
   "source": [
    "### 4.1.3 Validación cruzada"
   ]
  },
  {
   "cell_type": "code",
   "execution_count": 267,
   "metadata": {},
   "outputs": [],
   "source": [
    "strat_cross_val = EstrategiaParticionado.ValidacionCruzada(k_fold=5)"
   ]
  },
  {
   "cell_type": "code",
   "execution_count": 268,
   "metadata": {},
   "outputs": [
    {
     "name": "stdout",
     "output_type": "stream",
     "text": [
      "+----------+------------+------------+\n",
      "|          |   REAL POS |   REAL NEG |\n",
      "+==========+============+============+\n",
      "| PRED POS |        103 |         39 |\n",
      "+----------+------------+------------+\n",
      "| PRED NEG |         23 |         26 |\n",
      "+----------+------------+------------+\n",
      "Punto espacio ROC: ( 0.6129515869814377 , 0.8493472813029264 )\n"
     ]
    }
   ],
   "source": [
    "fpr_nb, tpr_nb = ROC_Analysis(db_ttt, NB, strat_cross_val)"
   ]
  },
  {
   "cell_type": "code",
   "execution_count": 269,
   "metadata": {},
   "outputs": [
    {
     "name": "stdout",
     "output_type": "stream",
     "text": [
      "+----------+------------+------------+\n",
      "|          |   REAL POS |   REAL NEG |\n",
      "+==========+============+============+\n",
      "| PRED POS |        106 |         40 |\n",
      "+----------+------------+------------+\n",
      "| PRED NEG |         19 |         26 |\n",
      "+----------+------------+------------+\n",
      "Punto espacio ROC: ( 0.5786053394527154 , 0.853613978701287 )\n"
     ]
    }
   ],
   "source": [
    "fpr_nbsk, tpr_nbsk = ROC_Analysis(db_ttt_sk, NBSK, strat_cross_val)"
   ]
  },
  {
   "cell_type": "code",
   "execution_count": 270,
   "metadata": {},
   "outputs": [
    {
     "data": {
      "image/png": "[encoded data removed]",
      "text/plain": [
       "<Figure size 432x288 with 1 Axes>"
      ]
     },
     "metadata": {
      "needs_background": "light"
     },
     "output_type": "display_data"
    },
    {
     "data": {
      "image/png": "[encoded data removed]",
      "text/plain": [
       "<Figure size 432x288 with 1 Axes>"
      ]
     },
     "metadata": {
      "needs_background": "light"
     },
     "output_type": "display_data"
    }
   ],
   "source": [
    "plot_ROC(fpr_nb, tpr_nb, clf_name='my classfier with 5fold cross-val')\n",
    "plot_ROC(fpr_nbsk, tpr_nbsk, clf_name='sklearn clf with 5fold cross-val')"
   ]
  },
  {
   "cell_type": "markdown",
   "metadata": {},
   "source": [
    "## <font color='blue'> 4.2 Dataset german </font>"
   ]
  },
  {
   "cell_type": "markdown",
   "metadata": {},
   "source": [
    "### 4.2.1 Validación simple"
   ]
  },
  {
   "cell_type": "markdown",
   "metadata": {},
   "source": [
    "### 4.2.2 Validación simple con varias repeticiones"
   ]
  },
  {
   "cell_type": "markdown",
   "metadata": {},
   "source": [
    "### 4.2.3 Validación cruzada"
   ]
  },
  {
   "cell_type": "code",
   "execution_count": null,
   "metadata": {},
   "outputs": [],
   "source": []
  },
  {
   "cell_type": "code",
   "execution_count": null,
   "metadata": {},
   "outputs": [],
   "source": []
  }
 ],
 "metadata": {
  "kernelspec": {
   "display_name": "Python 3",
   "language": "python",
   "name": "python3"
  },
  "language_info": {
   "codemirror_mode": {
    "name": "ipython",
    "version": 3
   },
   "file_extension": ".py",
   "mimetype": "text/x-python",
   "name": "python",
   "nbconvert_exporter": "python",
   "pygments_lexer": "ipython3",
   "version": "3.7.3"
  }
 },
 "nbformat": 4,
 "nbformat_minor": 2
}
