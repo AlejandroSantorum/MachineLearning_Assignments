{
 "cells": [
  {
   "cell_type": "code",
   "execution_count": 3,
   "metadata": {},
   "outputs": [],
   "source": [
    "from Datos import Datos\n",
    "import EstrategiaParticionado\n",
    "import numpy as np\n",
    "import random, math\n",
    "from scipy.stats import norm\n",
    "\n",
    "from sklearn.naive_bayes import MultinomialNB\n",
    "from sklearn.naive_bayes import GaussianNB\n",
    "from sklearn.preprocessing import OneHotEncoder"
   ]
  },
  {
   "cell_type": "code",
   "execution_count": 19,
   "metadata": {},
   "outputs": [],
   "source": [
    "from abc import ABCMeta,abstractmethod\n",
    "\n",
    "\n",
    "class Clasificador:\n",
    "\n",
    "    # Clase abstracta\n",
    "    __metaclass__ = ABCMeta\n",
    "\n",
    "    # Metodos abstractos que se implementan en casa clasificador concreto\n",
    "    @abstractmethod\n",
    "    # TODO: esta funcion debe ser implementada en cada clasificador concreto\n",
    "    # datosTrain: matriz numpy con los datos de entrenamiento\n",
    "    # atributosDiscretos: array bool con la indicatriz de los atributos nominales\n",
    "    # diccionario: array de diccionarios de la estructura Datos utilizados para la codificacion de variables discretas\n",
    "    def entrenamiento(self,datosTrain,atributosDiscretos,diccionario):\n",
    "        pass\n",
    "\n",
    "\n",
    "    @abstractmethod\n",
    "    # TODO: esta funcion debe ser implementada en cada clasificador concreto\n",
    "    # devuelve un numpy array con las predicciones\n",
    "    def clasifica(self,datosTest,atributosDiscretos,diccionario):\n",
    "        pass\n",
    "\n",
    "\n",
    "    # Obtiene el numero de aciertos y errores para calcular la tasa de fallo\n",
    "    # datos is numpy array\n",
    "    # pred is numpy array\n",
    "    def error(self, datos, pred):\n",
    "        # Aqui se compara la prediccion (pred) con las clases reales y se calcula el error\n",
    "        hit_rate = sum(datos == pred)/len(pred)\n",
    "        return 1-hit_rate # miss rate is the complement of hit rate\n",
    "\n",
    "\n",
    "    # Realiza una clasificacion utilizando una estrategia de particionado determinada\n",
    "    # TODO: implementar esta funcion\n",
    "    def validacion(self, particionado, dataset, clasificador, seed=None):\n",
    "        # Creamos las particiones siguiendo la estrategia llamando a particionado.creaParticiones\n",
    "        # - Para validacion cruzada: en el bucle hasta nv entrenamos el clasificador con la particion de train i\n",
    "        # y obtenemos el error en la particion de test i\n",
    "        # - Para validacion simple (hold-out): entrenamos el clasificador con la particion de train\n",
    "        # y obtenemos el error en la particion test. Otra opci�n es repetir la validaci�n simple un n�mero especificado de veces, obteniendo en cada una un error. Finalmente se calcular�a la media.\n",
    "        random.seed(seed)\n",
    "        np.random.shuffle(dataset.datos)\n",
    "        \n",
    "        particionado.creaParticiones(dataset.datos, seed)\n",
    "        \n",
    "        errores = []\n",
    "\n",
    "        for particion in particionado.particiones:\n",
    "\n",
    "            datostrain = dataset.datos[particion.indicesTrain, :]\n",
    "            datostest = dataset.datos[particion.indicesTest, :]\n",
    "            \n",
    "            clasificador.entrenamiento(datostrain, dataset.nominalAtributos, dataset.diccionario)\n",
    "            \n",
    "            pred = clasificador.clasifica(datostest, dataset.nominalAtributos, dataset.diccionario)\n",
    "            \n",
    "            ydatos = datostest[:,-1]            \n",
    "            err = clasificador.error(ydatos, pred)\n",
    "\n",
    "            errores.append(err)\n",
    "        \n",
    "        return np.mean(errores), np.std(errores)\n",
    "        \n",
    "        \n",
    "\n",
    "##############################################################################\n",
    "\n",
    "class ClasificadorNaiveBayes(Clasificador):\n",
    "    \n",
    "    def __init__(self):\n",
    "        self.prior_probs = []\n",
    "        self.likelihoods = []\n",
    "\n",
    "    \n",
    "    def _multinomialNB(self, xdata, ydata, feat_idx, diccionario):\n",
    "        n_xi = len(diccionario[feat_idx])\n",
    "        n_classes = len(diccionario[-1])\n",
    "        theta_mtx = np.zeros((n_xi, n_classes))\n",
    "        \n",
    "        for value in diccionario[feat_idx]:\n",
    "            feat_val_idx = diccionario[feat_idx][value]\n",
    "            for class_name in diccionario[-1]:\n",
    "                class_idx = diccionario[-1][class_name]\n",
    "                theta_mtx[feat_val_idx][class_idx] = sum((xdata[:,feat_idx] == feat_val_idx)&(ydata == class_idx))/sum(ydata == class_idx)\n",
    "        \n",
    "        return theta_mtx\n",
    "                      \n",
    "\n",
    "    def _gaussianNB(self, xdata, ydata, feat_idx, diccionario):\n",
    "        n_classes = len(diccionario[-1])\n",
    "        \n",
    "        theta_mtx = np.zeros((n_classes, 2)) # 2 columns: mean and variance for each class\n",
    "        \n",
    "        for class_name in diccionario[-1]:\n",
    "            class_idx = diccionario[-1][class_name]\n",
    "            # We calculate the mean coditioned to each possible class\n",
    "            mean_sum = sum(elem for (idx, elem) in enumerate(xdata[:,feat_idx]) if ydata[idx]==class_idx)\n",
    "            mean_class = mean_sum/sum(ydata == class_idx)\n",
    "            # We calculate the variance conditioned to each possible class\n",
    "            var_sum = sum((elem-mean_class)**2 for (idx, elem) in enumerate(xdata[:,feat_idx]) if ydata[idx]==class_name)\n",
    "            var_class = var_sum/sum(ydata == class_idx)\n",
    "\n",
    "            theta_mtx[class_idx][0] = mean_class\n",
    "            theta_mtx[class_idx][1] = var_class\n",
    "        \n",
    "        return theta_mtx\n",
    "            \n",
    "\n",
    "\n",
    "    def entrenamiento(self,datostrain,atributosDiscretos,diccionario):\n",
    "        xdata = datostrain[:,:-1] # all rows, all columns but last one\n",
    "        ydata = datostrain[:,-1]  # all rows, just last column\n",
    "        \n",
    "        m, n = xdata.shape     # number of examples, number of features\n",
    "        n_classes = len(diccionario[-1])  # number of different classes\n",
    "        \n",
    "        # Calculating prior probabilities\n",
    "        self.prior_probs = np.zeros(n_classes) # initializing array of prior probs with zeros\n",
    "        for class_name in diccionario[-1]:\n",
    "            class_idx = diccionario[-1][class_name]\n",
    "            self.prior_probs[class_idx] = sum((class_idx == ydata))/m # P(y=i) = count(ydata==i)/len(ydata)\n",
    "        \n",
    "        likelihoods_list = []\n",
    "        # Calculating likelihoods\n",
    "        for feat_idx in range(n):\n",
    "            if atributosDiscretos[feat_idx]:\n",
    "                # calculating frequentist probs for discrete features\n",
    "                theta_mtx = self._multinomialNB(xdata, ydata, feat_idx, diccionario)\n",
    "            else:\n",
    "                # calculating means and variances for continuous features\n",
    "                theta_mtx = self._gaussianNB(xdata, ydata, feat_idx, diccionario)\n",
    "\n",
    "            likelihoods_list.append(theta_mtx)\n",
    "        \n",
    "        self.likelihoods = np.asarray(likelihoods_list)\n",
    "\n",
    "    \n",
    "\n",
    "    # TODO: implementar\n",
    "    def clasifica(self,datostest,atributosDiscretos,diccionario):\n",
    "        xdata = datostest[:,:-1] # all rows, all columns but last one\n",
    "        ydata = datostest[:,-1]  # all rows, just last column\n",
    "        \n",
    "        ndata, n_feat = xdata.shape     # number of examples, number of features\n",
    "        n_classes = len(diccionario[-1])  # number of different classes\n",
    "        \n",
    "        pred = []\n",
    "        for i in range(ndata):\n",
    "            classes_probs = []\n",
    "            for k in range(n_classes):\n",
    "                class_p = self.prior_probs[k]\n",
    "                for feat_idx in range(n_feat):\n",
    "                    if atributosDiscretos[feat_idx]:\n",
    "                        class_p *= self.likelihoods[feat_idx][int(xdata[i][feat_idx])][k]\n",
    "                    else:\n",
    "                        mean = self.likelihoods[feat_idx][k][0]\n",
    "                        var = self.likelihoods[feat_idx][k][1]\n",
    "                        class_p *= norm.pdf(xdata[i][feat_idx], loc=mean, scale=math.sqrt(var))\n",
    "                classes_probs.append(class_p)\n",
    "            pred.append(classes_probs.index(max(classes_probs)))\n",
    "            \n",
    "        return np.asarray(pred)\n"
   ]
  },
  {
   "cell_type": "markdown",
   "metadata": {},
   "source": [
    "# USAMOS NUESTRAS FUNCIONES"
   ]
  },
  {
   "cell_type": "markdown",
   "metadata": {},
   "source": [
    "## Prueba sin particionado de datos"
   ]
  },
  {
   "cell_type": "code",
   "execution_count": 20,
   "metadata": {},
   "outputs": [
    {
     "name": "stdout",
     "output_type": "stream",
     "text": [
      "958\n"
     ]
    }
   ],
   "source": [
    "dataset_ttt = Datos(\"../ConjuntosDatos/tic-tac-toe.data\")\n",
    "ndata, nfeat = dataset_ttt.datos.shape\n",
    "print(ndata)"
   ]
  },
  {
   "cell_type": "code",
   "execution_count": 21,
   "metadata": {},
   "outputs": [
    {
     "name": "stdout",
     "output_type": "stream",
     "text": [
      "[0 1 1 1 1 1 0 1 0 0 0 1 0 1 0 1 1 1 1 1 0 0 0 0 0 1 1 1 0 1 1 1 1 1 1 1 0\n",
      " 1 1 1 1 1 1 0 1 1 1 1 1 0 1 1 0 1 1 0 1 0 1 0 1 1 1 1 1 0 1 1 1 1 1 1 1 1\n",
      " 0 0 1 1 1 0 0 1 1 1 1 1 0 0 1 0 1 1 1 1 0 1 1 1 0 1 1 1 0 1 0 1 1 1 1 1 1\n",
      " 0 1 1 0 1 1 1 1 1]\n",
      "\n",
      "\n",
      "0.31666666666666665\n"
     ]
    }
   ],
   "source": [
    "np.random.shuffle(dataset_ttt.datos)\n",
    "NB = ClasificadorNaiveBayes()\n",
    "NB.entrenamiento(dataset_ttt.datos[:int(ndata*(7/8))], dataset_ttt.nominalAtributos, dataset_ttt.diccionario)\n",
    "pred = NB.clasifica(dataset_ttt.datos[int(ndata*(7/8)):], dataset_ttt.nominalAtributos, dataset_ttt.diccionario)\n",
    "print(pred)\n",
    "print(\"\\n\")\n",
    "\n",
    "ydatos = dataset_ttt.datos[int(ndata*(7/8)):,-1]\n",
    "\n",
    "error = NB.error(ydatos, pred)\n",
    "print(error)"
   ]
  },
  {
   "cell_type": "markdown",
   "metadata": {},
   "source": [
    " ## Validación Simple"
   ]
  },
  {
   "cell_type": "code",
   "execution_count": 22,
   "metadata": {},
   "outputs": [],
   "source": [
    "strat_simple = EstrategiaParticionado.ValidacionSimple(0.8)"
   ]
  },
  {
   "cell_type": "code",
   "execution_count": 23,
   "metadata": {},
   "outputs": [
    {
     "data": {
      "text/plain": [
       "(0.30208333333333337, 0.0)"
      ]
     },
     "execution_count": 23,
     "metadata": {},
     "output_type": "execute_result"
    }
   ],
   "source": [
    "NB.validacion(strat_simple, dataset_ttt, NB)"
   ]
  },
  {
   "cell_type": "code",
   "execution_count": 24,
   "metadata": {},
   "outputs": [],
   "source": [
    "strat_simple_rep3 = EstrategiaParticionado.ValidacionSimple(0.8, nreps=3)"
   ]
  },
  {
   "cell_type": "code",
   "execution_count": 25,
   "metadata": {},
   "outputs": [
    {
     "data": {
      "text/plain": [
       "(0.3159722222222222, 0.017186623153839713)"
      ]
     },
     "execution_count": 25,
     "metadata": {},
     "output_type": "execute_result"
    }
   ],
   "source": [
    "NB.validacion(strat_simple_rep3, dataset_ttt, NB)"
   ]
  },
  {
   "cell_type": "markdown",
   "metadata": {},
   "source": [
    "## Validación Cruzada"
   ]
  },
  {
   "cell_type": "code",
   "execution_count": 26,
   "metadata": {},
   "outputs": [],
   "source": [
    "strat_cross = EstrategiaParticionado.ValidacionCruzada(k_fold=5)"
   ]
  },
  {
   "cell_type": "code",
   "execution_count": 28,
   "metadata": {},
   "outputs": [
    {
     "data": {
      "text/plain": [
       "(0.29528795811518327, 0.03402738598800402)"
      ]
     },
     "execution_count": 28,
     "metadata": {},
     "output_type": "execute_result"
    }
   ],
   "source": [
    "NB.validacion(strat_cross, dataset_ttt, NB)"
   ]
  },
  {
   "cell_type": "markdown",
   "metadata": {},
   "source": [
    "### GERMAN"
   ]
  },
  {
   "cell_type": "code",
   "execution_count": 29,
   "metadata": {},
   "outputs": [
    {
     "name": "stdout",
     "output_type": "stream",
     "text": [
      "1000 21\n"
     ]
    }
   ],
   "source": [
    "dataset_ger = Datos(\"../ConjuntosDatos/german.data\")\n",
    "ndata, nfeat = dataset_ger.datos.shape\n",
    "print(ndata, nfeat)"
   ]
  },
  {
   "cell_type": "code",
   "execution_count": 30,
   "metadata": {},
   "outputs": [
    {
     "data": {
      "text/plain": [
       "(0.30000000000000004, 0.0)"
      ]
     },
     "execution_count": 30,
     "metadata": {},
     "output_type": "execute_result"
    }
   ],
   "source": [
    "strat_simple_ger = EstrategiaParticionado.ValidacionSimple(0.8)\n",
    "NB.validacion(strat_simple_ger, dataset_ger, NB)"
   ]
  },
  {
   "cell_type": "code",
   "execution_count": 31,
   "metadata": {},
   "outputs": [
    {
     "data": {
      "text/plain": [
       "(0.295, 0.02677063067368166)"
      ]
     },
     "execution_count": 31,
     "metadata": {},
     "output_type": "execute_result"
    }
   ],
   "source": [
    "strat_simple_rep3_ger = EstrategiaParticionado.ValidacionSimple(0.8, nreps=3)\n",
    "NB.validacion(strat_simple_rep3_ger, dataset_ger, NB)"
   ]
  },
  {
   "cell_type": "code",
   "execution_count": 32,
   "metadata": {},
   "outputs": [
    {
     "data": {
      "text/plain": [
       "(0.30000000000000004, 0.018165902124584934)"
      ]
     },
     "execution_count": 32,
     "metadata": {},
     "output_type": "execute_result"
    }
   ],
   "source": [
    "strat_cross_ger = EstrategiaParticionado.ValidacionCruzada(k_fold=5)\n",
    "NB.validacion(strat_cross_ger, dataset_ger, NB)"
   ]
  },
  {
   "cell_type": "markdown",
   "metadata": {},
   "source": [
    "# USAMOS SKLEARN (Sin particionados)"
   ]
  },
  {
   "cell_type": "markdown",
   "metadata": {},
   "source": [
    "## Caso Discreto"
   ]
  },
  {
   "cell_type": "code",
   "execution_count": 33,
   "metadata": {},
   "outputs": [
    {
     "name": "stdout",
     "output_type": "stream",
     "text": [
      "(766, 27) (766,)\n"
     ]
    }
   ],
   "source": [
    "ttt_db = Datos('../ConjuntosDatos/tic-tac-toe.data')\n",
    "np.random.shuffle(ttt_db.datos)\n",
    "X = ttt_db.datos[:,:-1]\n",
    "y = ttt_db.datos[:,-1]\n",
    "\n",
    "\n",
    "enc = OneHotEncoder(sparse=False)\n",
    "X = np.array(enc.fit_transform(X)) \n",
    "n, m = X.shape\n",
    "\n",
    "x_train = X[:int(0.8*n), :]\n",
    "y_train = y[:int(0.8*n)]\n",
    "\n",
    "print(x_train.shape, y_train.shape)\n",
    "\n",
    "x_test = X[int(0.8*n):, :]\n",
    "y_test = y[int(0.8*n):]"
   ]
  },
  {
   "cell_type": "code",
   "execution_count": 84,
   "metadata": {},
   "outputs": [],
   "source": [
    "clf = MultinomialNB()"
   ]
  },
  {
   "cell_type": "code",
   "execution_count": 85,
   "metadata": {},
   "outputs": [
    {
     "data": {
      "text/plain": [
       "MultinomialNB()"
      ]
     },
     "execution_count": 85,
     "metadata": {},
     "output_type": "execute_result"
    }
   ],
   "source": [
    "clf.fit(x_train,y_train)"
   ]
  },
  {
   "cell_type": "code",
   "execution_count": 86,
   "metadata": {},
   "outputs": [
    {
     "data": {
      "text/plain": [
       "0.3125"
      ]
     },
     "execution_count": 86,
     "metadata": {},
     "output_type": "execute_result"
    }
   ],
   "source": [
    "1 - clf.score(x_test,y_test)"
   ]
  },
  {
   "cell_type": "markdown",
   "metadata": {},
   "source": [
    "## Caso Continuo"
   ]
  },
  {
   "cell_type": "code",
   "execution_count": 131,
   "metadata": {},
   "outputs": [
    {
     "name": "stdout",
     "output_type": "stream",
     "text": [
      "(800, 54) (800,)\n",
      "(800, 7) (800,)\n",
      "7 13\n"
     ]
    }
   ],
   "source": [
    "dataset_ger = Datos(\"../ConjuntosDatos/german.data\")\n",
    "np.random.shuffle(dataset_ger.datos)\n",
    "X = dataset_ger.datos[:,:-1]\n",
    "y = dataset_ger.datos[:,-1]\n",
    "n, m = X.shape\n",
    "m_d = 0\n",
    "for i in range (m):\n",
    "    if(dataset_ger.nominalAtributos[i] is True):\n",
    "        m_d += 1\n",
    "m_c = m - m_d       \n",
    "X_d = np.zeros((n, m_d))\n",
    "X_c = np.zeros((n, m_c))\n",
    "\n",
    "j = 0\n",
    "k = 0\n",
    "for i in range (m):\n",
    "    if(dataset_ger.nominalAtributos[i] is True):\n",
    "        X_d[:, j] = X[:, i]\n",
    "        j+=1\n",
    "    else:\n",
    "        X_c[:, k] = X[:, i]\n",
    "        k+=1\n",
    "        \n",
    "enc = OneHotEncoder(sparse=False)\n",
    "X_d = np.array(enc.fit_transform(X_d)) \n",
    "\n",
    "\n",
    "x_train_d = X_d[:int(0.8*n), :]\n",
    "y_train = y[:int(0.8*n)]\n",
    "\n",
    "print(x_train_d.shape, y_train.shape)\n",
    "\n",
    "x_test_d = X_d[int(0.8*n):, :]\n",
    "y_test = y[int(0.8*n):]\n",
    "\n",
    "x_train_c = X_c[:int(0.8*n), :]\n",
    "x_test_c = X_c[int(0.8*n):, :]\n",
    "print(x_train_c.shape, y_train.shape)\n",
    "print(m_c, m_d)"
   ]
  },
  {
   "cell_type": "code",
   "execution_count": 129,
   "metadata": {},
   "outputs": [
    {
     "name": "stdout",
     "output_type": "stream",
     "text": [
      "0.27425\n"
     ]
    }
   ],
   "source": [
    "clf_d = MultinomialNB()\n",
    "clf_c = GaussianNB()\n",
    "clf_d.fit(x_train_d,y_train)\n",
    "clf_c.fit(x_train_c,y_train)\n",
    "Error_d = 1 - clf_d.score(x_test_d,y_test)\n",
    "Error_c = 1 - clf_c.score(x_test_c,y_test)\n",
    "TotalError = (m_c*Error_c + m_d*Error_d) / m\n",
    "print(TotalError)"
   ]
  }
 ],
 "metadata": {
  "kernelspec": {
   "display_name": "Python 3",
   "language": "python",
   "name": "python3"
  },
  "language_info": {
   "codemirror_mode": {
    "name": "ipython",
    "version": 3
   },
   "file_extension": ".py",
   "mimetype": "text/x-python",
   "name": "python",
   "nbconvert_exporter": "python",
   "pygments_lexer": "ipython3",
   "version": "3.8.2"
  }
 },
 "nbformat": 4,
 "nbformat_minor": 2
}
