{
 "cells": [
  {
   "cell_type": "code",
   "execution_count": 1,
   "metadata": {},
   "outputs": [],
   "source": [
    "%load_ext autoreload\n",
    "%autoreload 2"
   ]
  },
  {
   "cell_type": "code",
   "execution_count": 2,
   "metadata": {},
   "outputs": [],
   "source": [
    "from Datos import Datos\n",
    "import EstrategiaParticionado\n",
    "import Clasificador\n",
    "\n",
    "from tabulate import tabulate\n",
    "import numpy as np\n",
    "import random\n",
    "\n",
    "from sklearn.preprocessing import OneHotEncoder"
   ]
  },
  {
   "cell_type": "markdown",
   "metadata": {},
   "source": [
    "# <font color='red'>Entrenamiento y clasificación con Clasificador.py</font>\n"
   ]
  },
  {
   "cell_type": "markdown",
   "metadata": {},
   "source": [
    "## <font color='blue'> Dataset tic-tac-toe </font>"
   ]
  },
  {
   "cell_type": "code",
   "execution_count": 3,
   "metadata": {},
   "outputs": [
    {
     "name": "stdout",
     "output_type": "stream",
     "text": [
      "Numero de ejemplos de entrenamiento: 958 , Numero de columnas: 10\n"
     ]
    }
   ],
   "source": [
    "dataset_ttt = Datos(\"../ConjuntosDatos/tic-tac-toe.data\")\n",
    "ndata, ncols = dataset_ttt.datos.shape # nfeat = ncols-1 \n",
    "print(\"Numero de ejemplos de entrenamiento:\", ndata, \", Numero de columnas:\", ncols)"
   ]
  },
  {
   "cell_type": "code",
   "execution_count": 4,
   "metadata": {},
   "outputs": [],
   "source": [
    "np.random.shuffle(dataset_ttt.datos)\n",
    "\n",
    "NB = Clasificador.ClasificadorNaiveBayes()"
   ]
  },
  {
   "cell_type": "markdown",
   "metadata": {},
   "source": [
    "### Validación simple"
   ]
  },
  {
   "cell_type": "code",
   "execution_count": 5,
   "metadata": {},
   "outputs": [],
   "source": [
    "strat_simple = EstrategiaParticionado.ValidacionSimple(0.8)"
   ]
  },
  {
   "cell_type": "code",
   "execution_count": 6,
   "metadata": {},
   "outputs": [
    {
     "data": {
      "text/plain": [
       "[0.29166666666666663]"
      ]
     },
     "execution_count": 6,
     "metadata": {},
     "output_type": "execute_result"
    }
   ],
   "source": [
    "NB.validacion(strat_simple, dataset_ttt, NB)"
   ]
  },
  {
   "cell_type": "markdown",
   "metadata": {},
   "source": [
    "### Validación simple con varias repeticiones (3 reps)"
   ]
  },
  {
   "cell_type": "code",
   "execution_count": 7,
   "metadata": {},
   "outputs": [],
   "source": [
    "strat_simple_rep3 = EstrategiaParticionado.ValidacionSimple(0.8, nreps=3)"
   ]
  },
  {
   "cell_type": "code",
   "execution_count": 8,
   "metadata": {},
   "outputs": [
    {
     "name": "stdout",
     "output_type": "stream",
     "text": [
      "Errores: [0.30208333333333337, 0.27083333333333337, 0.34375]\n",
      "Error medio: 0.3055555555555556 +- 0.029869184955009107\n"
     ]
    }
   ],
   "source": [
    "errores = NB.validacion(strat_simple_rep3, dataset_ttt, NB)\n",
    "print(\"Errores:\", errores)\n",
    "print(\"Error medio:\", np.mean(errores), \"+-\", np.std(errores))"
   ]
  },
  {
   "cell_type": "markdown",
   "metadata": {},
   "source": [
    "### Validación Cruzada (5 folds)"
   ]
  },
  {
   "cell_type": "code",
   "execution_count": 9,
   "metadata": {},
   "outputs": [],
   "source": [
    "strat_cross = EstrategiaParticionado.ValidacionCruzada(k_fold=5)"
   ]
  },
  {
   "cell_type": "code",
   "execution_count": 10,
   "metadata": {},
   "outputs": [
    {
     "name": "stdout",
     "output_type": "stream",
     "text": [
      "Errores: [0.3612565445026178, 0.31937172774869105, 0.23560209424083767, 0.2722513089005235, 0.3036649214659686]\n",
      "Error medio: 0.29842931937172773 +- 0.042534232485005034\n"
     ]
    }
   ],
   "source": [
    "errores = NB.validacion(strat_cross, dataset_ttt, NB)\n",
    "print(\"Errores:\", errores)\n",
    "print(\"Error medio:\", np.mean(errores), \"+-\", np.std(errores))"
   ]
  },
  {
   "cell_type": "markdown",
   "metadata": {},
   "source": [
    "## <font color='blue'> Dataset German </font>"
   ]
  },
  {
   "cell_type": "code",
   "execution_count": 11,
   "metadata": {},
   "outputs": [
    {
     "name": "stdout",
     "output_type": "stream",
     "text": [
      "Numero de ejemplos de entrenamiento: 1000 , Numero de columnas: 21\n"
     ]
    }
   ],
   "source": [
    "dataset_ger = Datos(\"../ConjuntosDatos/german.data\")\n",
    "ndata, ncols = dataset_ger.datos.shape # nfeat = ncols-1 \n",
    "print(\"Numero de ejemplos de entrenamiento:\", ndata, \", Numero de columnas:\", ncols)"
   ]
  },
  {
   "cell_type": "code",
   "execution_count": 12,
   "metadata": {},
   "outputs": [],
   "source": [
    "np.random.shuffle(dataset_ger.datos)"
   ]
  },
  {
   "cell_type": "markdown",
   "metadata": {},
   "source": [
    "### Validación simple"
   ]
  },
  {
   "cell_type": "code",
   "execution_count": 13,
   "metadata": {},
   "outputs": [
    {
     "data": {
      "text/plain": [
       "[0.19999999999999996]"
      ]
     },
     "execution_count": 13,
     "metadata": {},
     "output_type": "execute_result"
    }
   ],
   "source": [
    "strat_simple_ger = EstrategiaParticionado.ValidacionSimple(0.8)\n",
    "NB.validacion(strat_simple_ger, dataset_ger, NB)"
   ]
  },
  {
   "cell_type": "markdown",
   "metadata": {},
   "source": [
    "### Validación simple con varias repeticiones (3 reps)"
   ]
  },
  {
   "cell_type": "code",
   "execution_count": 14,
   "metadata": {},
   "outputs": [
    {
     "name": "stdout",
     "output_type": "stream",
     "text": [
      "Errores: [0.24, 0.24, 0.22999999999999998]\n",
      "Error medio: 0.23666666666666666 +- 0.004714045207910321\n"
     ]
    }
   ],
   "source": [
    "strat_simple_rep3_ger = EstrategiaParticionado.ValidacionSimple(0.8, nreps=3)\n",
    "errores = NB.validacion(strat_simple_rep3_ger, dataset_ger, NB)\n",
    "print(\"Errores:\", errores)\n",
    "print(\"Error medio:\", np.mean(errores), \"+-\", np.std(errores))"
   ]
  },
  {
   "cell_type": "markdown",
   "metadata": {},
   "source": [
    "### Validación cruzada (5 folds)"
   ]
  },
  {
   "cell_type": "code",
   "execution_count": 15,
   "metadata": {},
   "outputs": [
    {
     "name": "stdout",
     "output_type": "stream",
     "text": [
      "Errores: [0.26126126126126126, 0.2582582582582582, 0.2492492492492493]\n",
      "Error medio: 0.25625625625625625 +- 0.005104123637229987\n"
     ]
    }
   ],
   "source": [
    "strat_cross_ger = EstrategiaParticionado.ValidacionCruzada(k_fold=3)\n",
    "errores = NB.validacion(strat_cross_ger, dataset_ger, NB)\n",
    "print(\"Errores:\", errores)\n",
    "print(\"Error medio:\", np.mean(errores), \"+-\", np.std(errores))"
   ]
  },
  {
   "cell_type": "markdown",
   "metadata": {},
   "source": [
    "## <font color='green'> Tablas de Resultados </font>"
   ]
  },
  {
   "cell_type": "markdown",
   "metadata": {},
   "source": [
    "### <font color='grey'> Validación simple </font>"
   ]
  },
  {
   "cell_type": "code",
   "execution_count": 16,
   "metadata": {},
   "outputs": [],
   "source": [
    "def val_simple(percentage):\n",
    "    max_reps = 5\n",
    "    L = []\n",
    "    for i in range(1, max_reps+1):\n",
    "        L.append([])\n",
    "        strat = EstrategiaParticionado.ValidacionSimple(percentage, nreps=i)\n",
    "        errores_ttt = NB.validacion(strat, dataset_ttt, NB)\n",
    "        errores_ger = NB.validacion(strat, dataset_ger, NB)\n",
    "        L[i-1].append(str(i))\n",
    "        L[i-1].append(\"%.2f +- %.3f\"% (np.mean(errores_ttt), np.std(errores_ttt)))\n",
    "        L[i-1].append(\"%.2f +- %.3f\"% (np.mean(errores_ger), np.std(errores_ger)))\n",
    "    print(\"Validación Simple con \" + str(int(percentage*100)) +   \"% Train\\n\")\n",
    "    print(tabulate(L, headers = [\"N_REPS\", \"TTT_DB\", \"GER_DB\"], tablefmt=\"grid\")) "
   ]
  },
  {
   "cell_type": "code",
   "execution_count": 17,
   "metadata": {},
   "outputs": [
    {
     "name": "stdout",
     "output_type": "stream",
     "text": [
      "Validación Simple con 70% Train\n",
      "\n",
      "+----------+---------------+---------------+\n",
      "|   N_REPS | TTT_DB        | GER_DB        |\n",
      "+==========+===============+===============+\n",
      "|        1 | 0.31 +- 0.000 | 0.26 +- 0.000 |\n",
      "+----------+---------------+---------------+\n",
      "|        2 | 0.30 +- 0.005 | 0.23 +- 0.020 |\n",
      "+----------+---------------+---------------+\n",
      "|        3 | 0.30 +- 0.022 | 0.27 +- 0.013 |\n",
      "+----------+---------------+---------------+\n",
      "|        4 | 0.29 +- 0.020 | 0.26 +- 0.009 |\n",
      "+----------+---------------+---------------+\n",
      "|        5 | 0.32 +- 0.037 | 0.26 +- 0.013 |\n",
      "+----------+---------------+---------------+\n"
     ]
    }
   ],
   "source": [
    "val_simple(0.70)"
   ]
  },
  {
   "cell_type": "code",
   "execution_count": 18,
   "metadata": {},
   "outputs": [
    {
     "name": "stdout",
     "output_type": "stream",
     "text": [
      "Validación Simple con 75% Train\n",
      "\n",
      "+----------+---------------+---------------+\n",
      "|   N_REPS | TTT_DB        | GER_DB        |\n",
      "+==========+===============+===============+\n",
      "|        1 | 0.32 +- 0.000 | 0.26 +- 0.000 |\n",
      "+----------+---------------+---------------+\n",
      "|        2 | 0.33 +- 0.010 | 0.25 +- 0.034 |\n",
      "+----------+---------------+---------------+\n",
      "|        3 | 0.29 +- 0.039 | 0.26 +- 0.028 |\n",
      "+----------+---------------+---------------+\n",
      "|        4 | 0.32 +- 0.020 | 0.25 +- 0.015 |\n",
      "+----------+---------------+---------------+\n",
      "|        5 | 0.29 +- 0.014 | 0.26 +- 0.012 |\n",
      "+----------+---------------+---------------+\n"
     ]
    }
   ],
   "source": [
    "val_simple(0.75)"
   ]
  },
  {
   "cell_type": "code",
   "execution_count": 19,
   "metadata": {},
   "outputs": [
    {
     "name": "stdout",
     "output_type": "stream",
     "text": [
      "Validación Simple con 80% Train\n",
      "\n",
      "+----------+---------------+---------------+\n",
      "|   N_REPS | TTT_DB        | GER_DB        |\n",
      "+==========+===============+===============+\n",
      "|        1 | 0.32 +- 0.000 | 0.24 +- 0.000 |\n",
      "+----------+---------------+---------------+\n",
      "|        2 | 0.27 +- 0.016 | 0.25 +- 0.003 |\n",
      "+----------+---------------+---------------+\n",
      "|        3 | 0.32 +- 0.032 | 0.22 +- 0.031 |\n",
      "+----------+---------------+---------------+\n",
      "|        4 | 0.29 +- 0.049 | 0.26 +- 0.020 |\n",
      "+----------+---------------+---------------+\n",
      "|        5 | 0.29 +- 0.025 | 0.27 +- 0.038 |\n",
      "+----------+---------------+---------------+\n"
     ]
    }
   ],
   "source": [
    "val_simple(0.80)"
   ]
  },
  {
   "cell_type": "markdown",
   "metadata": {},
   "source": [
    "### <font color='grey'> Validación cruzada </font>"
   ]
  },
  {
   "cell_type": "code",
   "execution_count": 20,
   "metadata": {},
   "outputs": [
    {
     "name": "stdout",
     "output_type": "stream",
     "text": [
      "+-----------+---------------+---------------+\n",
      "|   K_FOLDS | TTT_DB        | GER_DB        |\n",
      "+===========+===============+===============+\n",
      "|         3 | 0.30 +- 0.014 | 0.25 +- 0.017 |\n",
      "+-----------+---------------+---------------+\n",
      "|         5 | 0.30 +- 0.022 | 0.26 +- 0.024 |\n",
      "+-----------+---------------+---------------+\n",
      "|         7 | 0.31 +- 0.034 | 0.25 +- 0.052 |\n",
      "+-----------+---------------+---------------+\n",
      "|         9 | 0.30 +- 0.047 | 0.25 +- 0.042 |\n",
      "+-----------+---------------+---------------+\n",
      "|        11 | 0.30 +- 0.043 | 0.25 +- 0.034 |\n",
      "+-----------+---------------+---------------+\n"
     ]
    }
   ],
   "source": [
    "max_folds = 11\n",
    "j = 0\n",
    "L = []\n",
    "for i in range(3, max_folds+1, 2):\n",
    "    L.append([])\n",
    "    strat = EstrategiaParticionado.ValidacionCruzada(k_fold=i)\n",
    "    errores_ttt = NB.validacion(strat, dataset_ttt, NB)\n",
    "    errores_ger = NB.validacion(strat, dataset_ger, NB)\n",
    "    L[j].append(str(i))\n",
    "    L[j].append(\"%.2f +- %.3f\"% (np.mean(errores_ttt), np.std(errores_ttt)))\n",
    "    L[j].append(\"%.2f +- %.3f\"% (np.mean(errores_ger), np.std(errores_ger)))\n",
    "    j+=1\n",
    "print(tabulate(L, headers = [\"K_FOLDS\", \"TTT_DB\", \"GER_DB\"], tablefmt=\"grid\"))"
   ]
  },
  {
   "cell_type": "markdown",
   "metadata": {},
   "source": [
    "# <font color='red'>Entrenamiento y clasificación con funciones de sklearn (encapsuladas en Clasificador.py)</font>"
   ]
  },
  {
   "cell_type": "code",
   "execution_count": 16,
   "metadata": {},
   "outputs": [],
   "source": [
    "# Las funciones de sklearn requieren una codificación de los atributos discretos diferente a la nuestra.\n",
    "# Por lo tanto, realizamos un pequeño trabajo de preprocesado de datos para que sus funciones de sklearn\n",
    "# puiedan realizar un entrenamiento y clasificación equiparable al nuestro\n",
    "\n",
    "def preprocess_data(dataset):\n",
    "    X = dataset.datos[:,:-1] # all rows, all columns but last one\n",
    "    Y = dataset.datos[:,-1]  # all rows, just last column (class)\n",
    "    \n",
    "    # One hot encoding for discrete features\n",
    "    enc = OneHotEncoder(sparse=False, categories='auto')\n",
    "    X_enc = np.array(enc.fit_transform(X)) \n",
    "    # Concatenating encoded data matrix and classes\n",
    "    datos_aux = np.concatenate((X_enc, Y[:,None]), axis=1)\n",
    "    # Updating dataset\n",
    "    dataset.datos = np.zeros(datos_aux.shape)\n",
    "    dataset.datos = datos_aux\n",
    "    return dataset "
   ]
  },
  {
   "cell_type": "markdown",
   "metadata": {},
   "source": [
    "## <font color='blue'> Dataset tic-tac-toe </font>"
   ]
  },
  {
   "cell_type": "code",
   "execution_count": 17,
   "metadata": {},
   "outputs": [
    {
     "name": "stdout",
     "output_type": "stream",
     "text": [
      "Numero de ejemplos de entrenamiento: 958 , Numero de columnas: 10\n"
     ]
    }
   ],
   "source": [
    "ttt_db = Datos('../ConjuntosDatos/tic-tac-toe.data')\n",
    "ndata, ncols = ttt_db.datos.shape # nfeat = ncols-1 \n",
    "print(\"Numero de ejemplos de entrenamiento:\", ndata, \", Numero de columnas:\", ncols)"
   ]
  },
  {
   "cell_type": "code",
   "execution_count": 18,
   "metadata": {},
   "outputs": [],
   "source": [
    "ttt_db = preprocess_data(ttt_db)\n",
    "np.random.shuffle(ttt_db.datos)\n",
    "\n",
    "NBSK = Clasificador.ClasificadorNaiveBayesSK(gaussian_feat=False)"
   ]
  },
  {
   "cell_type": "markdown",
   "metadata": {},
   "source": [
    "### Validación simple"
   ]
  },
  {
   "cell_type": "code",
   "execution_count": 19,
   "metadata": {},
   "outputs": [
    {
     "name": "stdout",
     "output_type": "stream",
     "text": [
      "[0.30729166666666663]\n"
     ]
    }
   ],
   "source": [
    "strat_simple_sk = EstrategiaParticionado.ValidacionSimple(0.8)\n",
    "\n",
    "errs = NBSK.validacion(strat_simple_sk, ttt_db, NBSK)\n",
    "\n",
    "print(errs)"
   ]
  },
  {
   "cell_type": "markdown",
   "metadata": {},
   "source": [
    "### Validación simple con varias repeticiones (3 reps)"
   ]
  },
  {
   "cell_type": "code",
   "execution_count": 20,
   "metadata": {},
   "outputs": [
    {
     "name": "stdout",
     "output_type": "stream",
     "text": [
      "Errores:  [0.29166666666666663, 0.26041666666666663, 0.30208333333333337]\n",
      "Error medio: 0.2847222222222222 +- 0.01770492886664164\n"
     ]
    }
   ],
   "source": [
    "strat_simple_rep3_sk = EstrategiaParticionado.ValidacionSimple(0.8, nreps=3)\n",
    "\n",
    "errs = NBSK.validacion(strat_simple_rep3_sk, ttt_db, NBSK)\n",
    "\n",
    "print(\"Errores: \", errs)\n",
    "print(\"Error medio:\", np.mean(errs), \"+-\", np.std(errs))"
   ]
  },
  {
   "cell_type": "markdown",
   "metadata": {},
   "source": [
    "### Validacion cruzada (5 folds)"
   ]
  },
  {
   "cell_type": "code",
   "execution_count": 21,
   "metadata": {},
   "outputs": [
    {
     "name": "stdout",
     "output_type": "stream",
     "text": [
      "Errores:  [0.2879581151832461, 0.2827225130890052, 0.2827225130890052, 0.3507853403141361, 0.31413612565445026]\n",
      "Error medio: 0.30366492146596863 +- 0.026282513922536405\n"
     ]
    }
   ],
   "source": [
    "strat_cross_sk = EstrategiaParticionado.ValidacionCruzada(k_fold=5)\n",
    "\n",
    "errs = NBSK.validacion(strat_cross_sk, ttt_db, NBSK)\n",
    "\n",
    "print(\"Errores: \", errs)\n",
    "print(\"Error medio:\", np.mean(errs), \"+-\", np.std(errs))"
   ]
  },
  {
   "cell_type": "markdown",
   "metadata": {},
   "source": [
    "## <font color='blue'> Dataset German (todos los atributos se consideran discretos)</font>"
   ]
  },
  {
   "cell_type": "code",
   "execution_count": 22,
   "metadata": {},
   "outputs": [
    {
     "name": "stdout",
     "output_type": "stream",
     "text": [
      "Numero de ejemplos de entrenamiento: 1000 , Numero de columnas: 21\n"
     ]
    }
   ],
   "source": [
    "ger_db = Datos('../ConjuntosDatos/german.data')\n",
    "ndata, ncols = ger_db.datos.shape # nfeat = ncols-1 \n",
    "print(\"Numero de ejemplos de entrenamiento:\", ndata, \", Numero de columnas:\", ncols)"
   ]
  },
  {
   "cell_type": "code",
   "execution_count": 23,
   "metadata": {},
   "outputs": [],
   "source": [
    "ger_db = preprocess_data(ger_db)\n",
    "np.random.shuffle(ger_db.datos)\n",
    "\n",
    "NBSK = Clasificador.ClasificadorNaiveBayesSK(gaussian_feat=False)"
   ]
  },
  {
   "cell_type": "markdown",
   "metadata": {},
   "source": [
    "### Validación simple"
   ]
  },
  {
   "cell_type": "code",
   "execution_count": 24,
   "metadata": {},
   "outputs": [
    {
     "name": "stdout",
     "output_type": "stream",
     "text": [
      "[0.28500000000000003]\n"
     ]
    }
   ],
   "source": [
    "strat_simple_sk = EstrategiaParticionado.ValidacionSimple(0.8)\n",
    "\n",
    "errs = NBSK.validacion(strat_simple_sk, ger_db, NBSK)\n",
    "\n",
    "print(errs)"
   ]
  },
  {
   "cell_type": "markdown",
   "metadata": {},
   "source": [
    "### Validación simple con varias repeticiones (3 reps)"
   ]
  },
  {
   "cell_type": "code",
   "execution_count": 25,
   "metadata": {},
   "outputs": [
    {
     "name": "stdout",
     "output_type": "stream",
     "text": [
      "Errores:  [0.255, 0.30000000000000004, 0.31000000000000005]\n",
      "Error medio: 0.2883333333333334 +- 0.023921166824012227\n"
     ]
    }
   ],
   "source": [
    "strat_simple_rep3_sk = EstrategiaParticionado.ValidacionSimple(0.8, nreps=3)\n",
    "\n",
    "errs = NBSK.validacion(strat_simple_rep3_sk, ger_db, NBSK)\n",
    "\n",
    "print(\"Errores: \", errs)\n",
    "print(\"Error medio:\", np.mean(errs), \"+-\", np.std(errs))"
   ]
  },
  {
   "cell_type": "markdown",
   "metadata": {},
   "source": [
    "### Validación cruzada (5 folds)"
   ]
  },
  {
   "cell_type": "code",
   "execution_count": 26,
   "metadata": {},
   "outputs": [
    {
     "name": "stdout",
     "output_type": "stream",
     "text": [
      "Errores:  [0.27, 0.22499999999999998, 0.29000000000000004, 0.275, 0.29500000000000004]\n",
      "Error medio: 0.271 +- 0.024779023386727755\n"
     ]
    }
   ],
   "source": [
    "strat_cross_sk = EstrategiaParticionado.ValidacionCruzada(k_fold=5)\n",
    "\n",
    "errs = NBSK.validacion(strat_cross_sk, ger_db, NBSK)\n",
    "\n",
    "print(\"Errores: \", errs)\n",
    "print(\"Error medio:\", np.mean(errs), \"+-\", np.std(errs))"
   ]
  },
  {
   "cell_type": "markdown",
   "metadata": {},
   "source": [
    "## <font color='blue'> Dataset German (todos los atributos se consideran continuos)</font>"
   ]
  },
  {
   "cell_type": "code",
   "execution_count": 27,
   "metadata": {},
   "outputs": [
    {
     "name": "stdout",
     "output_type": "stream",
     "text": [
      "Numero de ejemplos de entrenamiento: 1000 , Numero de columnas: 21\n"
     ]
    }
   ],
   "source": [
    "ger_db_cont = Datos('../ConjuntosDatos/german.data')\n",
    "ndata, ncols = ger_db_cont.datos.shape # nfeat = ncols-1 \n",
    "print(\"Numero de ejemplos de entrenamiento:\", ndata, \", Numero de columnas:\", ncols)"
   ]
  },
  {
   "cell_type": "code",
   "execution_count": 28,
   "metadata": {},
   "outputs": [],
   "source": [
    "np.random.shuffle(ger_db.datos)\n",
    "\n",
    "NBSK = Clasificador.ClasificadorNaiveBayesSK(gaussian_feat=True)"
   ]
  },
  {
   "cell_type": "markdown",
   "metadata": {},
   "source": [
    "### Validación simple"
   ]
  },
  {
   "cell_type": "code",
   "execution_count": 29,
   "metadata": {},
   "outputs": [
    {
     "name": "stdout",
     "output_type": "stream",
     "text": [
      "[0.275]\n"
     ]
    }
   ],
   "source": [
    "strat_simple_sk = EstrategiaParticionado.ValidacionSimple(0.8)\n",
    "\n",
    "errs = NBSK.validacion(strat_simple_sk, ger_db_cont, NBSK)\n",
    "\n",
    "print(errs)"
   ]
  },
  {
   "cell_type": "markdown",
   "metadata": {},
   "source": [
    "### Validación simple con varias repeticiones (3 reps)"
   ]
  },
  {
   "cell_type": "code",
   "execution_count": 30,
   "metadata": {},
   "outputs": [
    {
     "name": "stdout",
     "output_type": "stream",
     "text": [
      "Errores:  [0.235, 0.245, 0.30500000000000005]\n",
      "Error medio: 0.26166666666666666 +- 0.030912061651652372\n"
     ]
    }
   ],
   "source": [
    "strat_simple_rep3_sk = EstrategiaParticionado.ValidacionSimple(0.8, nreps=3)\n",
    "\n",
    "errs = NBSK.validacion(strat_simple_rep3_sk, ger_db_cont, NBSK)\n",
    "\n",
    "print(\"Errores: \", errs)\n",
    "print(\"Error medio:\", np.mean(errs), \"+-\", np.std(errs))"
   ]
  },
  {
   "cell_type": "markdown",
   "metadata": {},
   "source": [
    "### Validación cruzada (5 folds)"
   ]
  },
  {
   "cell_type": "code",
   "execution_count": 31,
   "metadata": {},
   "outputs": [
    {
     "name": "stdout",
     "output_type": "stream",
     "text": [
      "Errores:  [0.28, 0.22499999999999998, 0.29500000000000004, 0.245, 0.30000000000000004]\n",
      "Error medio: 0.269 +- 0.02922327839240494\n"
     ]
    }
   ],
   "source": [
    "strat_cross_sk = EstrategiaParticionado.ValidacionCruzada(k_fold=5)\n",
    "\n",
    "errs = NBSK.validacion(strat_cross_sk, ger_db_cont, NBSK)\n",
    "\n",
    "print(\"Errores: \", errs)\n",
    "print(\"Error medio:\", np.mean(errs), \"+-\", np.std(errs))"
   ]
  },
  {
   "cell_type": "markdown",
   "metadata": {},
   "source": [
    "## <font color='green'> Tablas de Resultados </font>"
   ]
  },
  {
   "cell_type": "markdown",
   "metadata": {},
   "source": [
    "### <font color='grey'> Validación simple </font>"
   ]
  },
  {
   "cell_type": "code",
   "execution_count": 37,
   "metadata": {},
   "outputs": [],
   "source": [
    "def val_simpleSK(percentage):\n",
    "    dataset_ttt = Datos(\"../ConjuntosDatos/tic-tac-toe.data\")\n",
    "    dataset_ger = Datos(\"../ConjuntosDatos/german.data\")\n",
    "    NBSK = Clasificador.ClasificadorNaiveBayesSK(gaussian_feat=False) # Clasificador Para TTT\n",
    "    NBSK_d = Clasificador.ClasificadorNaiveBayesSK(gaussian_feat=False) # Clasificador Para GER en caso Discreto\n",
    "    NBSK_c = Clasificador.ClasificadorNaiveBayesSK(gaussian_feat=True) # Clasificador Para GER en caso Continuo\n",
    "    max_reps = 5\n",
    "    L = []\n",
    "    for i in range(1, max_reps+1):\n",
    "        L.append([])\n",
    "        strat = EstrategiaParticionado.ValidacionSimple(percentage, nreps=i)\n",
    "        errores_ttt = NBSK.validacion(strat, dataset_ttt, NBSK)\n",
    "        errores_ger_d = NBSK_d.validacion(strat, preprocess_data(dataset_ger), NBSK_d)\n",
    "        errores_ger_c = NBSK_c.validacion(strat, dataset_ger, NBSK_c)\n",
    "        L[i-1].append(str(i))\n",
    "        L[i-1].append(\"%.2f +- %.3f\"% (np.mean(errores_ttt), np.std(errores_ttt)))\n",
    "        L[i-1].append(\"%.2f +- %.3f\"% (np.mean(errores_ger_d), np.std(errores_ger_d)))\n",
    "        L[i-1].append(\"%.2f +- %.3f\"% (np.mean(errores_ger_c), np.std(errores_ger_c)))\n",
    "    print(\"Validación Simple con \" + str(int(percentage*100)) +   \"% Train\\n\")\n",
    "    print(tabulate(L, headers = [\"N_REPS\", \"TTT_DB\", \"GER_DB_D\", \"GER_DB_C\"], tablefmt=\"grid\")) "
   ]
  },
  {
   "cell_type": "code",
   "execution_count": 38,
   "metadata": {},
   "outputs": [
    {
     "name": "stdout",
     "output_type": "stream",
     "text": [
      "Validación Simple con 70% Train\n",
      "\n",
      "+----------+---------------+---------------+---------------+\n",
      "|   N_REPS | TTT_DB        | GER_DB_D      | GER_DB_C      |\n",
      "+==========+===============+===============+===============+\n",
      "|        1 | 0.35 +- 0.000 | 0.32 +- 0.000 | 0.64 +- 0.000 |\n",
      "+----------+---------------+---------------+---------------+\n",
      "|        2 | 0.32 +- 0.016 | 0.26 +- 0.013 | 0.61 +- 0.007 |\n",
      "+----------+---------------+---------------+---------------+\n",
      "|        3 | 0.36 +- 0.003 | 0.22 +- 0.036 | 0.65 +- 0.029 |\n",
      "+----------+---------------+---------------+---------------+\n",
      "|        4 | 0.34 +- 0.024 | 0.27 +- 0.014 | 0.63 +- 0.009 |\n",
      "+----------+---------------+---------------+---------------+\n",
      "|        5 | 0.35 +- 0.011 | 0.27 +- 0.007 | 0.63 +- 0.019 |\n",
      "+----------+---------------+---------------+---------------+\n"
     ]
    }
   ],
   "source": [
    "val_simpleSK(0.7)"
   ]
  },
  {
   "cell_type": "code",
   "execution_count": 39,
   "metadata": {},
   "outputs": [
    {
     "name": "stdout",
     "output_type": "stream",
     "text": [
      "Validación Simple con 75% Train\n",
      "\n",
      "+----------+---------------+---------------+---------------+\n",
      "|   N_REPS | TTT_DB        | GER_DB_D      | GER_DB_C      |\n",
      "+==========+===============+===============+===============+\n",
      "|        1 | 0.32 +- 0.000 | 0.29 +- 0.000 | 0.61 +- 0.000 |\n",
      "+----------+---------------+---------------+---------------+\n",
      "|        2 | 0.36 +- 0.023 | 0.30 +- 0.044 | 0.62 +- 0.008 |\n",
      "+----------+---------------+---------------+---------------+\n",
      "|        3 | 0.32 +- 0.018 | 0.28 +- 0.022 | 0.62 +- 0.013 |\n",
      "+----------+---------------+---------------+---------------+\n",
      "|        4 | 0.35 +- 0.019 | 0.26 +- 0.024 | 0.65 +- 0.003 |\n",
      "+----------+---------------+---------------+---------------+\n",
      "|        5 | 0.35 +- 0.045 | 0.27 +- 0.027 | 0.62 +- 0.023 |\n",
      "+----------+---------------+---------------+---------------+\n"
     ]
    }
   ],
   "source": [
    "val_simpleSK(0.75)"
   ]
  },
  {
   "cell_type": "code",
   "execution_count": 40,
   "metadata": {},
   "outputs": [
    {
     "name": "stdout",
     "output_type": "stream",
     "text": [
      "Validación Simple con 80% Train\n",
      "\n",
      "+----------+---------------+---------------+---------------+\n",
      "|   N_REPS | TTT_DB        | GER_DB_D      | GER_DB_C      |\n",
      "+==========+===============+===============+===============+\n",
      "|        1 | 0.38 +- 0.000 | 0.21 +- 0.000 | 0.66 +- 0.000 |\n",
      "+----------+---------------+---------------+---------------+\n",
      "|        2 | 0.33 +- 0.005 | 0.28 +- 0.013 | 0.63 +- 0.008 |\n",
      "+----------+---------------+---------------+---------------+\n",
      "|        3 | 0.33 +- 0.021 | 0.27 +- 0.035 | 0.59 +- 0.012 |\n",
      "+----------+---------------+---------------+---------------+\n",
      "|        4 | 0.36 +- 0.018 | 0.26 +- 0.022 | 0.62 +- 0.021 |\n",
      "+----------+---------------+---------------+---------------+\n",
      "|        5 | 0.34 +- 0.017 | 0.24 +- 0.015 | 0.63 +- 0.032 |\n",
      "+----------+---------------+---------------+---------------+\n"
     ]
    }
   ],
   "source": [
    "val_simpleSK(0.80)"
   ]
  },
  {
   "cell_type": "markdown",
   "metadata": {},
   "source": [
    "### <font color='grey'> Validación cruzada </font>"
   ]
  },
  {
   "cell_type": "code",
   "execution_count": 98,
   "metadata": {},
   "outputs": [
    {
     "name": "stdout",
     "output_type": "stream",
     "text": [
      "+-----------+---------------+---------------+---------------+\n",
      "|   K_FOLDS | TTT_DB        | GER_DB_D      | GER_DB_C      |\n",
      "+===========+===============+===============+===============+\n",
      "|         3 | 0.34 +- 0.017 | 0.27 +- 0.028 | 0.62 +- 0.010 |\n",
      "+-----------+---------------+---------------+---------------+\n",
      "|         5 | 0.34 +- 0.036 | 0.26 +- 0.031 | 0.63 +- 0.022 |\n",
      "+-----------+---------------+---------------+---------------+\n",
      "|         7 | 0.34 +- 0.026 | 0.27 +- 0.034 | 0.64 +- 0.025 |\n",
      "+-----------+---------------+---------------+---------------+\n",
      "|         9 | 0.34 +- 0.047 | 0.28 +- 0.048 | 0.63 +- 0.050 |\n",
      "+-----------+---------------+---------------+---------------+\n",
      "|        11 | 0.34 +- 0.034 | 0.26 +- 0.037 | 0.62 +- 0.072 |\n",
      "+-----------+---------------+---------------+---------------+\n"
     ]
    }
   ],
   "source": [
    "dataset_ger_d = preprocess_data(dataset_ger)\n",
    "NBSK = Clasificador.ClasificadorNaiveBayesSK(gaussian_feat=False) # Clasificador Para TTT\n",
    "NBSK_d = Clasificador.ClasificadorNaiveBayesSK(gaussian_feat=False) # Clasificador Para GER en caso Discreto\n",
    "NBSK_c = Clasificador.ClasificadorNaiveBayesSK(gaussian_feat=True) # Clasificador Para GER en caso Continuo\n",
    "max_folds = 11\n",
    "j = 0\n",
    "L = []\n",
    "for i in range(3, max_folds+1, 2):\n",
    "    L.append([])\n",
    "    strat = EstrategiaParticionado.ValidacionCruzada(k_fold=i)\n",
    "    errores_ttt = NBSK.validacion(strat, dataset_ttt, NBSK)\n",
    "    errores_ger_d = NBSK_d.validacion(strat, dataset_ger_d, NBSK_d)\n",
    "    errores_ger_c = NBSK_c.validacion(strat, dataset_ger, NBSK_c)\n",
    "    L[j].append(str(i))\n",
    "    L[j].append(\"%.2f +- %.3f\"% (np.mean(errores_ttt), np.std(errores_ttt)))\n",
    "    L[j].append(\"%.2f +- %.3f\"% (np.mean(errores_ger_d), np.std(errores_ger_d)))\n",
    "    L[j].append(\"%.2f +- %.3f\"% (np.mean(errores_ger_c), np.std(errores_ger_c)))\n",
    "    j+=1\n",
    "print(tabulate(L, headers = [\"K_FOLDS\", \"TTT_DB\", \"GER_DB_D\", \"GER_DB_C\"], tablefmt=\"grid\")) "
   ]
  },
  {
   "cell_type": "code",
   "execution_count": null,
   "metadata": {},
   "outputs": [],
   "source": []
  },
  {
   "cell_type": "code",
   "execution_count": null,
   "metadata": {},
   "outputs": [],
   "source": []
  },
  {
   "cell_type": "code",
   "execution_count": null,
   "metadata": {},
   "outputs": [],
   "source": []
  },
  {
   "cell_type": "code",
   "execution_count": null,
   "metadata": {},
   "outputs": [],
   "source": []
  },
  {
   "cell_type": "code",
   "execution_count": null,
   "metadata": {},
   "outputs": [],
   "source": []
  },
  {
   "cell_type": "code",
   "execution_count": null,
   "metadata": {},
   "outputs": [],
   "source": []
  },
  {
   "cell_type": "code",
   "execution_count": null,
   "metadata": {},
   "outputs": [],
   "source": []
  },
  {
   "cell_type": "code",
   "execution_count": 145,
   "metadata": {},
   "outputs": [],
   "source": [
    "def create_confMatrix(pred, real):\n",
    "    i = 0\n",
    "    tp = 0\n",
    "    fp = 0\n",
    "    tn = 0\n",
    "    fn = 0\n",
    "    L = []\n",
    "    L.append([])\n",
    "    L.append([])\n",
    "    \n",
    "    for pred_val in pred:\n",
    "        if pred_val == 0 and pred_val==real[i]:\n",
    "            tn += 1\n",
    "        elif pred_val == 0 and pred_val!=real[i]:\n",
    "            fn += 1\n",
    "        elif pred_val == 1 and pred_val==real[i]:\n",
    "            tp += 1\n",
    "        elif pred_val == 1 and pred_val!=real[i]:\n",
    "            fp += 1\n",
    "        i += 1\n",
    "        \n",
    "    L[0].append(tp)\n",
    "    L[0].append(fn)\n",
    "    L[1].append(fp)\n",
    "    L[1].append(tn) \n",
    "    \n",
    "    return L\n",
    "    \n",
    "    "
   ]
  },
  {
   "cell_type": "code",
   "execution_count": 146,
   "metadata": {},
   "outputs": [],
   "source": [
    "def print_confMatrix(m):\n",
    "    print(tabulate([[\"\", \"POS\", \"NEG\"], [\"POS\", m[0][0], m[0][1]], [\"NEG\", m[1][0], m[1][1]]], headers=\"firstrow\", tablefmt=\"grid\")) "
   ]
  },
  {
   "cell_type": "code",
   "execution_count": 147,
   "metadata": {},
   "outputs": [],
   "source": [
    "def ROC_Analysis(dataset, clf, particionado):\n",
    "    seed = random.seed(0)\n",
    "    np.random.shuffle(dataset.datos)\n",
    "    particionado.creaParticiones(dataset.datos, seed)\n",
    "    pred = []\n",
    "    real = []\n",
    "    for particion in particionado.particiones:\n",
    "\n",
    "        datostrain = dataset.datos[particion.indicesTrain, :]\n",
    "        datostest = dataset.datos[particion.indicesTest, :]\n",
    "            \n",
    "        clf.entrenamiento(datostrain, dataset.nominalAtributos, dataset.diccionario)\n",
    "            \n",
    "        pred = clf.clasifica(datostest, dataset.nominalAtributos, dataset.diccionario)\n",
    "        real = datostest[:,-1] \n",
    "        \n",
    "        m = create_confMatrix(pred, real)\n",
    "        rtp = int(m[0][0]) / (int(m[0][0]) + int(m[0][1]))\n",
    "        rtn = int(m[1][1]) / (int(m[1][1]) + int(m[1][0]))\n",
    "        \n",
    "    print_confMatrix(m)\n",
    "    print(rtp, rtn)\n",
    " "
   ]
  },
  {
   "cell_type": "code",
   "execution_count": 170,
   "metadata": {},
   "outputs": [
    {
     "name": "stdout",
     "output_type": "stream",
     "text": [
      "+-----+-------+-------+\n",
      "|     |   POS |   NEG |\n",
      "+=====+=======+=======+\n",
      "| POS |    24 |    39 |\n",
      "+-----+-------+-------+\n",
      "| NEG |    33 |   104 |\n",
      "+-----+-------+-------+\n",
      "0.38095238095238093 0.7591240875912408\n"
     ]
    }
   ],
   "source": [
    "dataset_ttt = Datos(\"../ConjuntosDatos/tic-tac-toe.data\")\n",
    "dataset_ger = Datos(\"../ConjuntosDatos/german.data\")\n",
    "particionado = EstrategiaParticionado.ValidacionSimple(0.8)\n",
    "\n",
    "clf = Clasificador.ClasificadorNaiveBayesSK(gaussian_feat=False)\n",
    "\n",
    "\n",
    "\n",
    "ROC_Analysis(dataset_ger, clf, particionado)"
   ]
  },
  {
   "cell_type": "code",
   "execution_count": null,
   "metadata": {},
   "outputs": [],
   "source": []
  }
 ],
 "metadata": {
  "kernelspec": {
   "display_name": "Python 3",
   "language": "python",
   "name": "python3"
  },
  "language_info": {
   "codemirror_mode": {
    "name": "ipython",
    "version": 3
   },
   "file_extension": ".py",
   "mimetype": "text/x-python",
   "name": "python",
   "nbconvert_exporter": "python",
   "pygments_lexer": "ipython3",
   "version": "3.8.2"
  }
 },
 "nbformat": 4,
 "nbformat_minor": 2
}
