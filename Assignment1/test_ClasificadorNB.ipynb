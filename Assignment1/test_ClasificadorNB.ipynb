{
 "cells": [
  {
   "cell_type": "code",
   "execution_count": 64,
   "metadata": {},
   "outputs": [],
   "source": [
    "from abc import ABCMeta,abstractmethod\n",
    "\n",
    "\n",
    "class Clasificador:\n",
    "\n",
    "    # Clase abstracta\n",
    "    __metaclass__ = ABCMeta\n",
    "\n",
    "    # Metodos abstractos que se implementan en casa clasificador concreto\n",
    "    @abstractmethod\n",
    "    # TODO: esta funcion debe ser implementada en cada clasificador concreto\n",
    "    # datosTrain: matriz numpy con los datos de entrenamiento\n",
    "    # atributosDiscretos: array bool con la indicatriz de los atributos nominales\n",
    "    # diccionario: array de diccionarios de la estructura Datos utilizados para la codificacion de variables discretas\n",
    "    def entrenamiento(self,datosTrain,atributosDiscretos,diccionario):\n",
    "        pass\n",
    "\n",
    "\n",
    "    @abstractmethod\n",
    "    # TODO: esta funcion debe ser implementada en cada clasificador concreto\n",
    "    # devuelve un numpy array con las predicciones\n",
    "    def clasifica(self,datosTest,atributosDiscretos,diccionario):\n",
    "        pass\n",
    "\n",
    "\n",
    "    # Obtiene el numero de aciertos y errores para calcular la tasa de fallo\n",
    "    # TODO: implementar\n",
    "    def error(self,datos,pred):\n",
    "        # Aqui se compara la prediccion (pred) con las clases reales y se calcula el error\n",
    "        y = datos[:,-1]\n",
    "        err = (y == pred)\n",
    "        return 1-(sum(err)/len(y))\n",
    "\n",
    "\n",
    "    # Realiza una clasificacion utilizando una estrategia de particionado determinada\n",
    "    # TODO: implementar esta funcion\n",
    "    def validacion(self,particionado,dataset,clasificador,seed=None):\n",
    "        # Creamos las particiones siguiendo la estrategia llamando a particionado.creaParticiones\n",
    "        # - Para validacion cruzada: en el bucle hasta nv entrenamos el clasificador con la particion de train i\n",
    "        # y obtenemos el error en la particion de test i\n",
    "        # - Para validacion simple (hold-out): entrenamos el clasificador con la particion de train\n",
    "        # y obtenemos el error en la particion test. Otra opci�n es repetir la validaci�n simple un n�mero especificado de veces, obteniendo en cada una un error. Finalmente se calcular�a la media.\n",
    "        pass\n",
    "\n",
    "##############################################################################\n",
    "\n",
    "class ClasificadorNaiveBayes(Clasificador):\n",
    "    \n",
    "    def __init__(self):\n",
    "        self.prior_probs = []\n",
    "        self.likelihoods = []\n",
    "        self.means = []\n",
    "        self.vars = []\n",
    "\n",
    "    \n",
    "    def _multinomialNB(self, xdata, ydata, feat_idx, diccionario):\n",
    "        n_xi = len(diccionario[feat_idx])\n",
    "        n_classes = len(diccionario[-1])\n",
    "        theta_mtx = np.zeros((n_xi, n_classes))\n",
    "        \n",
    "        for value in diccionario[feat_idx]:\n",
    "            feat_val_idx = diccionario[feat_idx][value]\n",
    "            for class_name in diccionario[-1]:\n",
    "                class_idx = diccionario[-1][class_name]\n",
    "                theta_mtx[feat_val_idx][class_idx] = sum((xdata[:,feat_idx] == value)&(ydata == class_name)) / sum(ydata == class_name)\n",
    "        \n",
    "        return theta_mtx\n",
    "                      \n",
    "\n",
    "    \n",
    "    def _gaussianNB(self, xdata, ydata, diccionario, atributosDiscretos):\n",
    "        ndata, nfeat = xdata.shape\n",
    "        # Define the Means and Vars Matrixes\n",
    "        M = np.zeros((nfeat, len(diccionario[-1])))\n",
    "        V = np.zeros((nfeat, len(diccionario[-1])))\n",
    "        \n",
    "        # We only compute those values for continuous features\n",
    "        for j in range (nfeat):\n",
    "            if (atributosDiscretos[j] == False):\n",
    "                # We calculate the mean coditioned to each possible class\n",
    "                # We calculate the variance conditioned to each possible class\n",
    "                for k in range(len(diccionario[-1])):\n",
    "                    m = []\n",
    "                    for i in range(ndata):\n",
    "                        if (ydata[i] == diccionario[-1][k]):                               \n",
    "                            m.append(xdata[i][j])\n",
    "                    M[j][k] = np.mean(m)\n",
    "                    V[j][k] = np.var(m)\n",
    "                    \n",
    "        return M, V\n",
    "\n",
    "\n",
    "    def entrenamiento(self,datostrain,atributosDiscretos,diccionario):\n",
    "        xdata = datostrain[:,:-1] # all rows, all columns but last one\n",
    "        ydata = datostrain[:,-1]  # all rows, just last column\n",
    "        \n",
    "        m, n = xdata.shape     # number of examples, number of features\n",
    "        n_classes = len(diccionario[-1])  # number of different classes\n",
    "        \n",
    "        # Calculating prior probabilities\n",
    "        self.prior_probs = np.zeros(n_classes) # initializing array of prior probs with zeros\n",
    "        for class_name in diccionario[-1]:\n",
    "            class_idx = diccionario[-1][class_name]\n",
    "            self.prior_probs[class_idx] = sum((class_name == ydata))/m # P(y=i) = count(ydata==i)/len(ydata)\n",
    "        \n",
    "        likelihoods_list = []\n",
    "        # Calculating likelihoods\n",
    "        for feat_idx in range(n):\n",
    "            if atributosDiscretos[feat_idx]:\n",
    "                theta_mtx = self._multinomialNB(xdata, ydata, feat_idx, diccionario)\n",
    "\n",
    "            likelihoods_list.append(theta_mtx)\n",
    "        \n",
    "        self.likelihoods = np.asarray(likelihoods_list)\n",
    "        \n",
    "        # Calculating Means and Vars matrixs for continuous data.\n",
    "        self.means, self.vars = self._gaussianNB(xdata, ydata, diccionario, atributosDiscretos)\n",
    "\n",
    "    \n",
    "\n",
    "    # TODO: implementar\n",
    "    def clasifica(self,datostest,atributosDiscretos,diccionario):\n",
    "        xdata = datostest[:,:-1] # all rows, all columns but last one\n",
    "        ydata = datostest[:,-1]  # all rows, just last column\n",
    "        \n",
    "        m, n = xdata.shape     # number of examples, number of features\n",
    "        n_classes = len(diccionario[-1])  # number of different classes\n",
    "        \n",
    "        Pred = []\n",
    "        Real = []\n",
    "        ndata, nfeat = datostest.shape\n",
    "        for i in range (ndata):\n",
    "            auxpred = []\n",
    "            for k in range(n_classes):\n",
    "                aux = self.prior_probs[k]\n",
    "                for j in range (n):\n",
    "                    if(atributosDiscretos[j] == True):\n",
    "                        aux = aux * self.likelihoods[j][diccionario[j].get(xdata[i][j])][k]\n",
    "                    else:\n",
    "                        aux = aux * norm.pdf((xdata[i][j] - self.means[j][k])/sqrt(self.vars[j][k]))/sqrt(self.vars[j][k])\n",
    "                auxpred.append(aux)\n",
    "            Pred.append(auxpred.index(max(auxpred)))\n",
    "            Real.append(diccionario[-1].get(ydata[i]))\n",
    "        \n",
    "        return Pred, Real\n"
   ]
  },
  {
   "cell_type": "code",
   "execution_count": 65,
   "metadata": {},
   "outputs": [
    {
     "name": "stdout",
     "output_type": "stream",
     "text": [
      "958\n"
     ]
    }
   ],
   "source": [
    "dataset = Datos(\"../ConjuntosDatos/tic-tac-toe.data\")\n",
    "ndata, nfeat = dataset.datos.shape\n",
    "print(ndata)"
   ]
  },
  {
   "cell_type": "code",
   "execution_count": 75,
   "metadata": {},
   "outputs": [
    {
     "name": "stdout",
     "output_type": "stream",
     "text": [
      "[1, 1, 1, 1, 1, 1, 1, 1, 1, 0, 1, 1, 1, 0, 0, 1, 1, 0, 1, 1, 1, 1, 1, 1, 1, 1, 1, 1, 1, 1, 0, 0, 1, 0, 0, 0, 1, 1, 1, 1, 1, 1, 1, 1, 1, 1, 1, 1, 1, 1, 1, 1, 1, 1, 1, 1, 1, 1, 1, 1, 1, 1, 1, 1, 1, 1, 1, 1, 1, 1, 1, 1, 1, 1, 1, 1, 1, 1, 1, 1, 1, 1, 1, 1, 1, 1, 1, 1, 1, 1, 1, 1, 1, 1, 1, 1, 1, 1, 1, 1, 1, 1, 1, 1, 1, 0, 1, 1, 0, 1, 1, 1, 1, 1, 1, 0, 1, 0, 1, 1]\n",
      "\n",
      "\n",
      "[0, 0, 0, 0, 0, 0, 0, 0, 0, 0, 0, 0, 0, 0, 0, 0, 0, 0, 0, 0, 0, 0, 0, 0, 0, 0, 0, 0, 0, 0, 0, 0, 0, 0, 0, 0, 0, 0, 0, 0, 0, 0, 0, 0, 0, 0, 0, 0, 0, 0, 0, 0, 0, 0, 0, 0, 0, 0, 0, 0, 0, 0, 0, 0, 0, 0, 0, 0, 0, 0, 0, 0, 0, 0, 0, 0, 0, 0, 0, 0, 0, 0, 0, 0, 0, 0, 0, 0, 0, 0, 0, 0, 0, 0, 0, 0, 0, 0, 0, 0, 0, 0, 0, 0, 0, 0, 0, 0, 0, 0, 0, 0, 0, 0, 0, 0, 0, 0, 0, 0]\n",
      "\n",
      "\n",
      "Error: 0.8916666666666666\n"
     ]
    }
   ],
   "source": [
    "NB = ClasificadorNaiveBayes()\n",
    "NB.entrenamiento(dataset.datos[:int(ndata*(7/8))], dataset.nominalAtributos, dataset.diccionario)\n",
    "pred, real = NB.clasifica(dataset.datos[int(ndata*(7/8)):], dataset.nominalAtributos, dataset.diccionario)\n",
    "print(pred)\n",
    "print(\"\\n\")\n",
    "print(real)\n",
    "print(\"\\n\")\n",
    "cont = 0\n",
    "for i in range(len(pred)):\n",
    "    if(pred[i] == real[i]):\n",
    "        cont += 1\n",
    "print(\"Error: \" + str(1 - cont/len(pred)))"
   ]
  },
  {
   "cell_type": "code",
   "execution_count": 2,
   "metadata": {},
   "outputs": [],
   "source": [
    "from sklearn.naive_bayes import MultinomialNB\n",
    "from Datos import Datos\n",
    "from sklearn.preprocessing import OneHotEncoder\n",
    "import numpy as np"
   ]
  },
  {
   "cell_type": "code",
   "execution_count": 173,
   "metadata": {},
   "outputs": [],
   "source": [
    "ttt_db = Datos('../ConjuntosDatos/tic-tac-toe.data')\n",
    "ttt_db.datos[:10]\n",
    "X = ttt_db.datos[:,:-1]\n",
    "y = ttt_db.datos[:,-1]"
   ]
  },
  {
   "cell_type": "code",
   "execution_count": 139,
   "metadata": {},
   "outputs": [],
   "source": [
    "enc = OneHotEncoder(sparse=False)"
   ]
  },
  {
   "cell_type": "code",
   "execution_count": 140,
   "metadata": {},
   "outputs": [],
   "source": [
    "X_2 = np.array(enc.fit_transform(X)) "
   ]
  },
  {
   "cell_type": "code",
   "execution_count": 141,
   "metadata": {},
   "outputs": [
    {
     "data": {
      "text/plain": [
       "(958, 9)"
      ]
     },
     "execution_count": 141,
     "metadata": {},
     "output_type": "execute_result"
    }
   ],
   "source": [
    "X.shape\n",
    "\n"
   ]
  },
  {
   "cell_type": "code",
   "execution_count": 142,
   "metadata": {},
   "outputs": [
    {
     "data": {
      "text/plain": [
       "(958, 27)"
      ]
     },
     "execution_count": 142,
     "metadata": {},
     "output_type": "execute_result"
    }
   ],
   "source": [
    "X_2.shape"
   ]
  },
  {
   "cell_type": "code",
   "execution_count": 143,
   "metadata": {},
   "outputs": [
    {
     "data": {
      "text/plain": [
       "array([[0., 0., 1., ..., 0., 1., 0.],\n",
       "       [0., 0., 1., ..., 0., 1., 0.],\n",
       "       [0., 0., 1., ..., 0., 0., 1.],\n",
       "       ...,\n",
       "       [0., 1., 0., ..., 0., 0., 1.],\n",
       "       [0., 1., 0., ..., 0., 0., 1.],\n",
       "       [0., 1., 0., ..., 0., 0., 1.]])"
      ]
     },
     "execution_count": 143,
     "metadata": {},
     "output_type": "execute_result"
    }
   ],
   "source": [
    "X_2"
   ]
  },
  {
   "cell_type": "code",
   "execution_count": 144,
   "metadata": {},
   "outputs": [],
   "source": [
    "clf = MultinomialNB()"
   ]
  },
  {
   "cell_type": "code",
   "execution_count": 145,
   "metadata": {},
   "outputs": [
    {
     "data": {
      "text/plain": [
       "MultinomialNB(alpha=1.0, class_prior=None, fit_prior=True)"
      ]
     },
     "execution_count": 145,
     "metadata": {},
     "output_type": "execute_result"
    }
   ],
   "source": [
    "clf.fit(X_2,y)"
   ]
  },
  {
   "cell_type": "code",
   "execution_count": 146,
   "metadata": {},
   "outputs": [
    {
     "data": {
      "text/plain": [
       "0.6983298538622129"
      ]
     },
     "execution_count": 146,
     "metadata": {},
     "output_type": "execute_result"
    }
   ],
   "source": [
    "clf.score(X_2,y)"
   ]
  },
  {
   "cell_type": "code",
   "execution_count": null,
   "metadata": {},
   "outputs": [],
   "source": []
  },
  {
   "cell_type": "code",
   "execution_count": 211,
   "metadata": {},
   "outputs": [],
   "source": [
    "my_clf = ClasificadorNaiveBayes()"
   ]
  },
  {
   "cell_type": "code",
   "execution_count": 208,
   "metadata": {},
   "outputs": [
    {
     "data": {
      "text/plain": [
       "[{'b': 0, 'o': 1, 'x': 2},\n",
       " {'b': 0, 'o': 1, 'x': 2},\n",
       " {'b': 0, 'o': 1, 'x': 2},\n",
       " {'b': 0, 'o': 1, 'x': 2},\n",
       " {'b': 0, 'o': 1, 'x': 2},\n",
       " {'b': 0, 'o': 1, 'x': 2},\n",
       " {'b': 0, 'o': 1, 'x': 2},\n",
       " {'b': 0, 'o': 1, 'x': 2},\n",
       " {'b': 0, 'o': 1, 'x': 2},\n",
       " {'negative': 0, 'positive': 1}]"
      ]
     },
     "execution_count": 208,
     "metadata": {},
     "output_type": "execute_result"
    }
   ],
   "source": [
    "ttt_db.diccionario"
   ]
  },
  {
   "cell_type": "code",
   "execution_count": 212,
   "metadata": {},
   "outputs": [],
   "source": [
    "my_clf.entrenamiento(ttt_db.datos, ttt_db.nominalAtributos, ttt_db.diccionario)"
   ]
  },
  {
   "cell_type": "code",
   "execution_count": 213,
   "metadata": {},
   "outputs": [
    {
     "data": {
      "text/plain": [
       "array([[0.23493976, 0.27476038],\n",
       "       [0.30421687, 0.3658147 ],\n",
       "       [0.46084337, 0.35942492]])"
      ]
     },
     "execution_count": 213,
     "metadata": {},
     "output_type": "execute_result"
    }
   ],
   "source": [
    "my_clf.likelihoods[1]"
   ]
  },
  {
   "cell_type": "code",
   "execution_count": 214,
   "metadata": {},
   "outputs": [
    {
     "data": {
      "text/plain": [
       "array([[0.18975904, 0.22683706],\n",
       "       [0.43975904, 0.30191693],\n",
       "       [0.37048193, 0.47124601]])"
      ]
     },
     "execution_count": 214,
     "metadata": {},
     "output_type": "execute_result"
    }
   ],
   "source": [
    "my_clf.likelihoods[2]"
   ]
  },
  {
   "cell_type": "code",
   "execution_count": null,
   "metadata": {},
   "outputs": [],
   "source": []
  }
 ],
 "metadata": {
  "kernelspec": {
   "display_name": "Python 3",
   "language": "python",
   "name": "python3"
  },
  "language_info": {
   "codemirror_mode": {
    "name": "ipython",
    "version": 3
   },
   "file_extension": ".py",
   "mimetype": "text/x-python",
   "name": "python",
   "nbconvert_exporter": "python",
   "pygments_lexer": "ipython3",
   "version": "3.8.2"
  }
 },
 "nbformat": 4,
 "nbformat_minor": 2
}
