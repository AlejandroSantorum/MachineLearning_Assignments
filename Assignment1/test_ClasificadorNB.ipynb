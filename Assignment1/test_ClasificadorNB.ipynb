{
 "cells": [
  {
   "cell_type": "code",
   "execution_count": 77,
   "metadata": {},
   "outputs": [],
   "source": [
    "%load_ext autoreload\n",
    "%autoreload 2"
   ]
  },
  {
   "cell_type": "code",
   "execution_count": 78,
   "metadata": {},
   "outputs": [],
   "source": [
    "from Datos import Datos\n",
    "import EstrategiaParticionado\n",
    "import Clasificador\n",
    "\n",
    "import numpy as np\n",
    "import random\n",
    "\n",
    "from sklearn.preprocessing import OneHotEncoder"
   ]
  },
  {
   "cell_type": "markdown",
   "metadata": {},
   "source": [
    "# <font color='red'>Entrenamiento y clasificación con Clasificador.py</font>\n"
   ]
  },
  {
   "cell_type": "markdown",
   "metadata": {},
   "source": [
    "## <font color='blue'> Dataset tic-tac-toe </font>"
   ]
  },
  {
   "cell_type": "code",
   "execution_count": 79,
   "metadata": {},
   "outputs": [
    {
     "name": "stdout",
     "output_type": "stream",
     "text": [
      "Numero de ejemplos de entrenamiento: 958 , Numero de columnas: 10\n"
     ]
    }
   ],
   "source": [
    "dataset_ttt = Datos(\"../ConjuntosDatos/tic-tac-toe.data\")\n",
    "ndata, ncols = dataset_ttt.datos.shape # nfeat = ncols-1 \n",
    "print(\"Numero de ejemplos de entrenamiento:\", ndata, \", Numero de columnas:\", ncols)"
   ]
  },
  {
   "cell_type": "code",
   "execution_count": 80,
   "metadata": {},
   "outputs": [],
   "source": [
    "np.random.shuffle(dataset_ttt.datos)\n",
    "\n",
    "NB = Clasificador.ClasificadorNaiveBayes()"
   ]
  },
  {
   "cell_type": "markdown",
   "metadata": {},
   "source": [
    "### Validación simple"
   ]
  },
  {
   "cell_type": "code",
   "execution_count": 81,
   "metadata": {},
   "outputs": [],
   "source": [
    "strat_simple = EstrategiaParticionado.ValidacionSimple(0.8)"
   ]
  },
  {
   "cell_type": "code",
   "execution_count": 82,
   "metadata": {},
   "outputs": [
    {
     "data": {
      "text/plain": [
       "[0.234375]"
      ]
     },
     "execution_count": 82,
     "metadata": {},
     "output_type": "execute_result"
    }
   ],
   "source": [
    "NB.validacion(strat_simple, dataset_ttt, NB)"
   ]
  },
  {
   "cell_type": "markdown",
   "metadata": {},
   "source": [
    "### Validación simple con varias repeticiones (3 reps)"
   ]
  },
  {
   "cell_type": "code",
   "execution_count": 83,
   "metadata": {},
   "outputs": [],
   "source": [
    "strat_simple_rep3 = EstrategiaParticionado.ValidacionSimple(0.8, nreps=3)"
   ]
  },
  {
   "cell_type": "code",
   "execution_count": 84,
   "metadata": {},
   "outputs": [
    {
     "name": "stdout",
     "output_type": "stream",
     "text": [
      "Errores: [0.3125, 0.30208333333333337, 0.27083333333333337]\n",
      "Error medio: 0.2951388888888889 +- 0.017704928866641604\n"
     ]
    }
   ],
   "source": [
    "errores = NB.validacion(strat_simple_rep3, dataset_ttt, NB)\n",
    "print(\"Errores:\", errores)\n",
    "print(\"Error medio:\", np.mean(errores), \"+-\", np.std(errores))"
   ]
  },
  {
   "cell_type": "markdown",
   "metadata": {},
   "source": [
    "### Validación Cruzada (5 folds)"
   ]
  },
  {
   "cell_type": "code",
   "execution_count": 85,
   "metadata": {},
   "outputs": [],
   "source": [
    "strat_cross = EstrategiaParticionado.ValidacionCruzada(k_fold=5)"
   ]
  },
  {
   "cell_type": "code",
   "execution_count": 86,
   "metadata": {},
   "outputs": [
    {
     "name": "stdout",
     "output_type": "stream",
     "text": [
      "Errores: [0.2984293193717278, 0.24607329842931935, 0.37696335078534027, 0.2879581151832461, 0.32460732984293195]\n",
      "Error medio: 0.3068062827225131 +- 0.04325000299070864\n"
     ]
    }
   ],
   "source": [
    "errores = NB.validacion(strat_cross, dataset_ttt, NB)\n",
    "print(\"Errores:\", errores)\n",
    "print(\"Error medio:\", np.mean(errores), \"+-\", np.std(errores))"
   ]
  },
  {
   "cell_type": "markdown",
   "metadata": {},
   "source": [
    "## <font color='blue'> Dataset German </font>"
   ]
  },
  {
   "cell_type": "code",
   "execution_count": 87,
   "metadata": {},
   "outputs": [
    {
     "name": "stdout",
     "output_type": "stream",
     "text": [
      "Numero de ejemplos de entrenamiento: 1000 , Numero de columnas: 21\n"
     ]
    }
   ],
   "source": [
    "dataset_ger = Datos(\"../ConjuntosDatos/german.data\")\n",
    "ndata, ncols = dataset_ger.datos.shape # nfeat = ncols-1 \n",
    "print(\"Numero de ejemplos de entrenamiento:\", ndata, \", Numero de columnas:\", ncols)"
   ]
  },
  {
   "cell_type": "code",
   "execution_count": 88,
   "metadata": {},
   "outputs": [],
   "source": [
    "np.random.shuffle(dataset_ger.datos)"
   ]
  },
  {
   "cell_type": "markdown",
   "metadata": {},
   "source": [
    "### Validación simple"
   ]
  },
  {
   "cell_type": "code",
   "execution_count": 89,
   "metadata": {},
   "outputs": [
    {
     "data": {
      "text/plain": [
       "[0.275]"
      ]
     },
     "execution_count": 89,
     "metadata": {},
     "output_type": "execute_result"
    }
   ],
   "source": [
    "strat_simple_ger = EstrategiaParticionado.ValidacionSimple(0.8)\n",
    "NB.validacion(strat_simple_ger, dataset_ger, NB)"
   ]
  },
  {
   "cell_type": "markdown",
   "metadata": {},
   "source": [
    "### Validación simple con varias repeticiones (3 reps)"
   ]
  },
  {
   "cell_type": "code",
   "execution_count": 90,
   "metadata": {},
   "outputs": [
    {
     "data": {
      "text/plain": [
       "[0.28, 0.21999999999999997, 0.28500000000000003]"
      ]
     },
     "execution_count": 90,
     "metadata": {},
     "output_type": "execute_result"
    }
   ],
   "source": [
    "strat_simple_rep3_ger = EstrategiaParticionado.ValidacionSimple(0.8, nreps=3)\n",
    "NB.validacion(strat_simple_rep3_ger, dataset_ger, NB)"
   ]
  },
  {
   "cell_type": "markdown",
   "metadata": {},
   "source": [
    "### Validación cruzada (5 folds)"
   ]
  },
  {
   "cell_type": "code",
   "execution_count": 91,
   "metadata": {},
   "outputs": [
    {
     "name": "stdout",
     "output_type": "stream",
     "text": [
      "Errores: [0.24, 0.245, 0.26, 0.28, 0.28]\n",
      "Error medio: 0.261 +- 0.01685229954635273\n"
     ]
    }
   ],
   "source": [
    "strat_cross_ger = EstrategiaParticionado.ValidacionCruzada(k_fold=5)\n",
    "errores = NB.validacion(strat_cross_ger, dataset_ger, NB)\n",
    "print(\"Errores:\", errores)\n",
    "print(\"Error medio:\", np.mean(errores), \"+-\", np.std(errores))"
   ]
  },
  {
   "cell_type": "markdown",
   "metadata": {},
   "source": [
    "# <font color='red'>Entrenamiento y clasificación con funciones de sklearn (encapsuladas en Clasificador.py)</font>"
   ]
  },
  {
   "cell_type": "code",
   "execution_count": 92,
   "metadata": {},
   "outputs": [],
   "source": [
    "# Las funciones de sklearn requieren una codificación de los atributos discretos diferente a la nuestra.\n",
    "# Por lo tanto, realizamos un pequeño trabajo de preprocesado de datos para que sus funciones de sklearn\n",
    "# puiedan realizar un entrenamiento y clasificación equiparable al nuestro\n",
    "\n",
    "def preprocess_data(dataset):\n",
    "    X = dataset.datos[:,:-1] # all rows, all columns but last one\n",
    "    Y = dataset.datos[:,-1]  # all rows, just last column (class)\n",
    "    \n",
    "    # One hot encoding for discrete features\n",
    "    enc = OneHotEncoder(sparse=False, categories='auto')\n",
    "    X_enc = np.array(enc.fit_transform(X)) \n",
    "    # Concatenating encoded data matrix and classes\n",
    "    datos_aux = np.concatenate((X_enc, Y[:,None]), axis=1)\n",
    "    # Updating dataset\n",
    "    dataset.datos = np.zeros(datos_aux.shape)\n",
    "    dataset.datos = datos_aux\n",
    "    return dataset "
   ]
  },
  {
   "cell_type": "markdown",
   "metadata": {},
   "source": [
    "## <font color='blue'> Dataset tic-tac-toe </font>"
   ]
  },
  {
   "cell_type": "code",
   "execution_count": 93,
   "metadata": {},
   "outputs": [
    {
     "name": "stdout",
     "output_type": "stream",
     "text": [
      "Numero de ejemplos de entrenamiento: 958 , Numero de columnas: 10\n"
     ]
    }
   ],
   "source": [
    "ttt_db = Datos('../ConjuntosDatos/tic-tac-toe.data')\n",
    "ndata, ncols = ttt_db.datos.shape # nfeat = ncols-1 \n",
    "print(\"Numero de ejemplos de entrenamiento:\", ndata, \", Numero de columnas:\", ncols)"
   ]
  },
  {
   "cell_type": "code",
   "execution_count": 94,
   "metadata": {},
   "outputs": [],
   "source": [
    "ttt_db = preprocess_data(ttt_db)\n",
    "np.random.shuffle(ttt_db.datos)\n",
    "\n",
    "NBSK = Clasificador.ClasificadorNaiveBayesSK(gaussian_feat=False)"
   ]
  },
  {
   "cell_type": "markdown",
   "metadata": {},
   "source": [
    "### Validación simple"
   ]
  },
  {
   "cell_type": "code",
   "execution_count": 95,
   "metadata": {},
   "outputs": [
    {
     "name": "stdout",
     "output_type": "stream",
     "text": [
      "[0.29166666666666663]\n"
     ]
    }
   ],
   "source": [
    "strat_simple_sk = EstrategiaParticionado.ValidacionSimple(0.8)\n",
    "\n",
    "errs = NBSK.validacion(strat_simple_sk, ttt_db, NBSK)\n",
    "\n",
    "print(errs)"
   ]
  },
  {
   "cell_type": "markdown",
   "metadata": {},
   "source": [
    "### Validación simple con varias repeticiones (3 reps)"
   ]
  },
  {
   "cell_type": "code",
   "execution_count": 96,
   "metadata": {},
   "outputs": [
    {
     "name": "stdout",
     "output_type": "stream",
     "text": [
      "Errores:  [0.30208333333333337, 0.32291666666666663, 0.27604166666666663]\n",
      "Error medio: 0.3003472222222222 +- 0.019175973988172328\n"
     ]
    }
   ],
   "source": [
    "strat_simple_rep3_sk = EstrategiaParticionado.ValidacionSimple(0.8, nreps=3)\n",
    "\n",
    "errs = NBSK.validacion(strat_simple_rep3_sk, ttt_db, NBSK)\n",
    "\n",
    "print(\"Errores: \", errs)\n",
    "print(\"Error medio:\", np.mean(errs), \"+-\", np.std(errs))"
   ]
  },
  {
   "cell_type": "markdown",
   "metadata": {},
   "source": [
    "### Validacion cruzada (5 folds)"
   ]
  },
  {
   "cell_type": "code",
   "execution_count": 97,
   "metadata": {},
   "outputs": [
    {
     "name": "stdout",
     "output_type": "stream",
     "text": [
      "Errores:  [0.3036649214659686, 0.2931937172774869, 0.31413612565445026, 0.3036649214659686, 0.2931937172774869]\n",
      "Error medio: 0.3015706806282722 +- 0.007835931700050147\n"
     ]
    }
   ],
   "source": [
    "strat_cross_sk = EstrategiaParticionado.ValidacionCruzada(k_fold=5)\n",
    "\n",
    "errs = NBSK.validacion(strat_cross_sk, ttt_db, NBSK)\n",
    "\n",
    "print(\"Errores: \", errs)\n",
    "print(\"Error medio:\", np.mean(errs), \"+-\", np.std(errs))"
   ]
  },
  {
   "cell_type": "markdown",
   "metadata": {},
   "source": [
    "## <font color='blue'> Dataset German (todos los atributos se consideran discretos)</font>"
   ]
  },
  {
   "cell_type": "code",
   "execution_count": 98,
   "metadata": {},
   "outputs": [
    {
     "name": "stdout",
     "output_type": "stream",
     "text": [
      "Numero de ejemplos de entrenamiento: 1000 , Numero de columnas: 21\n"
     ]
    }
   ],
   "source": [
    "ger_db = Datos('../ConjuntosDatos/german.data')\n",
    "ndata, ncols = ger_db.datos.shape # nfeat = ncols-1 \n",
    "print(\"Numero de ejemplos de entrenamiento:\", ndata, \", Numero de columnas:\", ncols)"
   ]
  },
  {
   "cell_type": "code",
   "execution_count": 99,
   "metadata": {},
   "outputs": [],
   "source": [
    "ger_db = preprocess_data(ger_db)\n",
    "np.random.shuffle(ger_db.datos)\n",
    "\n",
    "NBSK = Clasificador.ClasificadorNaiveBayesSK(gaussian_feat=False)"
   ]
  },
  {
   "cell_type": "markdown",
   "metadata": {},
   "source": [
    "### Validación simple"
   ]
  },
  {
   "cell_type": "code",
   "execution_count": 100,
   "metadata": {},
   "outputs": [
    {
     "name": "stdout",
     "output_type": "stream",
     "text": [
      "[0.30000000000000004]\n"
     ]
    }
   ],
   "source": [
    "strat_simple_sk = EstrategiaParticionado.ValidacionSimple(0.8)\n",
    "\n",
    "errs = NBSK.validacion(strat_simple_sk, ger_db, NBSK)\n",
    "\n",
    "print(errs)"
   ]
  },
  {
   "cell_type": "markdown",
   "metadata": {},
   "source": [
    "### Validación simple con varias repeticiones (3 reps)"
   ]
  },
  {
   "cell_type": "code",
   "execution_count": 101,
   "metadata": {},
   "outputs": [
    {
     "name": "stdout",
     "output_type": "stream",
     "text": [
      "Errores:  [0.30000000000000004, 0.245, 0.22499999999999998]\n",
      "Error medio: 0.25666666666666665 +- 0.031710495984067444\n"
     ]
    }
   ],
   "source": [
    "strat_simple_rep3_sk = EstrategiaParticionado.ValidacionSimple(0.8, nreps=3)\n",
    "\n",
    "errs = NBSK.validacion(strat_simple_rep3_sk, ger_db, NBSK)\n",
    "\n",
    "print(\"Errores: \", errs)\n",
    "print(\"Error medio:\", np.mean(errs), \"+-\", np.std(errs))"
   ]
  },
  {
   "cell_type": "markdown",
   "metadata": {},
   "source": [
    "### Validación cruzada (5 folds)"
   ]
  },
  {
   "cell_type": "code",
   "execution_count": 102,
   "metadata": {},
   "outputs": [
    {
     "name": "stdout",
     "output_type": "stream",
     "text": [
      "Errores:  [0.25, 0.30500000000000005, 0.19499999999999995, 0.31999999999999995, 0.29500000000000004]\n",
      "Error medio: 0.27299999999999996 +- 0.04545327270945406\n"
     ]
    }
   ],
   "source": [
    "strat_cross_sk = EstrategiaParticionado.ValidacionCruzada(k_fold=5)\n",
    "\n",
    "errs = NBSK.validacion(strat_cross_sk, ger_db, NBSK)\n",
    "\n",
    "print(\"Errores: \", errs)\n",
    "print(\"Error medio:\", np.mean(errs), \"+-\", np.std(errs))"
   ]
  },
  {
   "cell_type": "markdown",
   "metadata": {},
   "source": [
    "## <font color='blue'> Dataset German (todos los atributos se consideran continuos)</font>"
   ]
  },
  {
   "cell_type": "code",
   "execution_count": 103,
   "metadata": {},
   "outputs": [
    {
     "name": "stdout",
     "output_type": "stream",
     "text": [
      "Numero de ejemplos de entrenamiento: 1000 , Numero de columnas: 21\n"
     ]
    }
   ],
   "source": [
    "ger_db_cont = Datos('../ConjuntosDatos/german.data')\n",
    "ndata, ncols = ger_db_cont.datos.shape # nfeat = ncols-1 \n",
    "print(\"Numero de ejemplos de entrenamiento:\", ndata, \", Numero de columnas:\", ncols)"
   ]
  },
  {
   "cell_type": "code",
   "execution_count": 104,
   "metadata": {},
   "outputs": [],
   "source": [
    "np.random.shuffle(ger_db.datos)\n",
    "\n",
    "NBSK = Clasificador.ClasificadorNaiveBayesSK(gaussian_feat=True)"
   ]
  },
  {
   "cell_type": "markdown",
   "metadata": {},
   "source": [
    "### Validación simple"
   ]
  },
  {
   "cell_type": "code",
   "execution_count": 105,
   "metadata": {},
   "outputs": [
    {
     "name": "stdout",
     "output_type": "stream",
     "text": [
      "[0.26]\n"
     ]
    }
   ],
   "source": [
    "strat_simple_sk = EstrategiaParticionado.ValidacionSimple(0.8)\n",
    "\n",
    "errs = NBSK.validacion(strat_simple_sk, ger_db_cont, NBSK)\n",
    "\n",
    "print(errs)"
   ]
  },
  {
   "cell_type": "markdown",
   "metadata": {},
   "source": [
    "### Validación simple con varias repeticiones (3 reps)"
   ]
  },
  {
   "cell_type": "code",
   "execution_count": 106,
   "metadata": {},
   "outputs": [
    {
     "name": "stdout",
     "output_type": "stream",
     "text": [
      "Errores:  [0.255, 0.22499999999999998, 0.275]\n",
      "Error medio: 0.25166666666666665 +- 0.020548046676563275\n"
     ]
    }
   ],
   "source": [
    "strat_simple_rep3_sk = EstrategiaParticionado.ValidacionSimple(0.8, nreps=3)\n",
    "\n",
    "errs = NBSK.validacion(strat_simple_rep3_sk, ger_db_cont, NBSK)\n",
    "\n",
    "print(\"Errores: \", errs)\n",
    "print(\"Error medio:\", np.mean(errs), \"+-\", np.std(errs))"
   ]
  },
  {
   "cell_type": "markdown",
   "metadata": {},
   "source": [
    "### Validación cruzada (5 folds)"
   ]
  },
  {
   "cell_type": "code",
   "execution_count": 107,
   "metadata": {},
   "outputs": [
    {
     "name": "stdout",
     "output_type": "stream",
     "text": [
      "Errores:  [0.29000000000000004, 0.27, 0.24, 0.27, 0.28]\n",
      "Error medio: 0.27 +- 0.016733200530681527\n"
     ]
    }
   ],
   "source": [
    "strat_cross_sk = EstrategiaParticionado.ValidacionCruzada(k_fold=5)\n",
    "\n",
    "errs = NBSK.validacion(strat_cross_sk, ger_db_cont, NBSK)\n",
    "\n",
    "print(\"Errores: \", errs)\n",
    "print(\"Error medio:\", np.mean(errs), \"+-\", np.std(errs))"
   ]
  },
  {
   "cell_type": "code",
   "execution_count": null,
   "metadata": {},
   "outputs": [],
   "source": []
  }
 ],
 "metadata": {
  "kernelspec": {
   "display_name": "Python 3",
   "language": "python",
   "name": "python3"
  },
  "language_info": {
   "codemirror_mode": {
    "name": "ipython",
    "version": 3
   },
   "file_extension": ".py",
   "mimetype": "text/x-python",
   "name": "python",
   "nbconvert_exporter": "python",
   "pygments_lexer": "ipython3",
   "version": "3.7.3"
  }
 },
 "nbformat": 4,
 "nbformat_minor": 2
}
