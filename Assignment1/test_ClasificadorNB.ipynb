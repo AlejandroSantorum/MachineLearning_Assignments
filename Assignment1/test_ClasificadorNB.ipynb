{
 "cells": [
  {
   "cell_type": "code",
   "execution_count": 1,
   "metadata": {},
   "outputs": [],
   "source": [
    "%load_ext autoreload\n",
    "%autoreload 2"
   ]
  },
  {
   "cell_type": "code",
   "execution_count": 2,
   "metadata": {},
   "outputs": [],
   "source": [
    "from Datos import Datos\n",
    "import EstrategiaParticionado\n",
    "import Clasificador\n",
    "\n",
    "import numpy as np\n",
    "import random\n",
    "\n",
    "from sklearn.preprocessing import OneHotEncoder"
   ]
  },
  {
   "cell_type": "markdown",
   "metadata": {},
   "source": [
    "# USAMOS NUESTRAS FUNCIONES"
   ]
  },
  {
   "cell_type": "markdown",
   "metadata": {},
   "source": [
    "## Prueba sin particionado de datos"
   ]
  },
  {
   "cell_type": "code",
   "execution_count": 3,
   "metadata": {},
   "outputs": [
    {
     "name": "stdout",
     "output_type": "stream",
     "text": [
      "958\n"
     ]
    }
   ],
   "source": [
    "dataset_ttt = Datos(\"../ConjuntosDatos/tic-tac-toe.data\")\n",
    "ndata, nfeat = dataset_ttt.datos.shape\n",
    "print(ndata)"
   ]
  },
  {
   "cell_type": "code",
   "execution_count": 4,
   "metadata": {},
   "outputs": [
    {
     "name": "stdout",
     "output_type": "stream",
     "text": [
      "[1 1 0 1 1 1 1 0 1 0 1 1 1 0 1 1 0 1 1 1 0 1 1 0 1 1 1 1 1 1 0 1 1 1 1 0 1\n",
      " 1 1 1 1 0 1 1 0 1 0 0 1 1 0 0 1 1 1 1 0 1 0 1 1 1 1 1 0 1 1 0 1 1 0 1 1 1\n",
      " 1 1 1 1 1 1 1 1 0 1 1 0 1 1 1 1 0 0 1 0 0 0 1 1 1 1 1 1 1 0 0 0 1 1 0 1 1\n",
      " 0 1 0 1 1 1 1 1 1]\n",
      "\n",
      "\n",
      "0.33333333333333337\n"
     ]
    }
   ],
   "source": [
    "np.random.shuffle(dataset_ttt.datos)\n",
    "NB = Clasificador.ClasificadorNaiveBayes()\n",
    "NB.entrenamiento(dataset_ttt.datos[:int(ndata*(7/8))], dataset_ttt.nominalAtributos, dataset_ttt.diccionario)\n",
    "pred = NB.clasifica(dataset_ttt.datos[int(ndata*(7/8)):], dataset_ttt.nominalAtributos, dataset_ttt.diccionario)\n",
    "print(pred)\n",
    "print(\"\\n\")\n",
    "\n",
    "ydatos = dataset_ttt.datos[int(ndata*(7/8)):,-1]\n",
    "\n",
    "error = NB.error(ydatos, pred)\n",
    "print(error)"
   ]
  },
  {
   "cell_type": "markdown",
   "metadata": {},
   "source": [
    " ## Validación Simple"
   ]
  },
  {
   "cell_type": "code",
   "execution_count": 5,
   "metadata": {},
   "outputs": [],
   "source": [
    "strat_simple = EstrategiaParticionado.ValidacionSimple(0.8)"
   ]
  },
  {
   "cell_type": "code",
   "execution_count": 6,
   "metadata": {},
   "outputs": [
    {
     "data": {
      "text/plain": [
       "[0.28645833333333337]"
      ]
     },
     "execution_count": 6,
     "metadata": {},
     "output_type": "execute_result"
    }
   ],
   "source": [
    "NB.validacion(strat_simple, dataset_ttt, NB)"
   ]
  },
  {
   "cell_type": "code",
   "execution_count": 7,
   "metadata": {},
   "outputs": [],
   "source": [
    "strat_simple_rep3 = EstrategiaParticionado.ValidacionSimple(0.8, nreps=3)"
   ]
  },
  {
   "cell_type": "code",
   "execution_count": 8,
   "metadata": {},
   "outputs": [
    {
     "data": {
      "text/plain": [
       "[0.28125, 0.29166666666666663, 0.29166666666666663]"
      ]
     },
     "execution_count": 8,
     "metadata": {},
     "output_type": "execute_result"
    }
   ],
   "source": [
    "NB.validacion(strat_simple_rep3, dataset_ttt, NB)"
   ]
  },
  {
   "cell_type": "markdown",
   "metadata": {},
   "source": [
    "## Validación Cruzada"
   ]
  },
  {
   "cell_type": "code",
   "execution_count": 9,
   "metadata": {},
   "outputs": [],
   "source": [
    "strat_cross = EstrategiaParticionado.ValidacionCruzada(k_fold=5)"
   ]
  },
  {
   "cell_type": "code",
   "execution_count": 10,
   "metadata": {},
   "outputs": [
    {
     "data": {
      "text/plain": [
       "[0.3455497382198953,\n",
       " 0.2931937172774869,\n",
       " 0.25130890052356025,\n",
       " 0.2931937172774869,\n",
       " 0.2931937172774869]"
      ]
     },
     "execution_count": 10,
     "metadata": {},
     "output_type": "execute_result"
    }
   ],
   "source": [
    "NB.validacion(strat_cross, dataset_ttt, NB)"
   ]
  },
  {
   "cell_type": "markdown",
   "metadata": {},
   "source": [
    "### GERMAN"
   ]
  },
  {
   "cell_type": "code",
   "execution_count": 11,
   "metadata": {},
   "outputs": [
    {
     "name": "stdout",
     "output_type": "stream",
     "text": [
      "1000 21\n"
     ]
    }
   ],
   "source": [
    "dataset_ger = Datos(\"../ConjuntosDatos/german.data\")\n",
    "ndata, nfeat = dataset_ger.datos.shape\n",
    "print(ndata, nfeat)"
   ]
  },
  {
   "cell_type": "code",
   "execution_count": 12,
   "metadata": {},
   "outputs": [
    {
     "data": {
      "text/plain": [
       "[0.22999999999999998]"
      ]
     },
     "execution_count": 12,
     "metadata": {},
     "output_type": "execute_result"
    }
   ],
   "source": [
    "strat_simple_ger = EstrategiaParticionado.ValidacionSimple(0.8)\n",
    "NB.validacion(strat_simple_ger, dataset_ger, NB)"
   ]
  },
  {
   "cell_type": "code",
   "execution_count": 13,
   "metadata": {},
   "outputs": [
    {
     "data": {
      "text/plain": [
       "[0.24, 0.27, 0.275]"
      ]
     },
     "execution_count": 13,
     "metadata": {},
     "output_type": "execute_result"
    }
   ],
   "source": [
    "strat_simple_rep3_ger = EstrategiaParticionado.ValidacionSimple(0.8, nreps=3)\n",
    "NB.validacion(strat_simple_rep3_ger, dataset_ger, NB)"
   ]
  },
  {
   "cell_type": "code",
   "execution_count": 14,
   "metadata": {},
   "outputs": [
    {
     "data": {
      "text/plain": [
       "[0.21999999999999997, 0.22499999999999998, 0.29000000000000004, 0.24, 0.275]"
      ]
     },
     "execution_count": 14,
     "metadata": {},
     "output_type": "execute_result"
    }
   ],
   "source": [
    "strat_cross_ger = EstrategiaParticionado.ValidacionCruzada(k_fold=5)\n",
    "NB.validacion(strat_cross_ger, dataset_ger, NB)"
   ]
  },
  {
   "cell_type": "markdown",
   "metadata": {},
   "source": [
    "# USAMOS SKLEARN (Con nuestra EstrategiaParticionado)"
   ]
  },
  {
   "cell_type": "markdown",
   "metadata": {},
   "source": [
    "## Caso Discreto"
   ]
  },
  {
   "cell_type": "code",
   "execution_count": 46,
   "metadata": {},
   "outputs": [],
   "source": [
    "def preprocess_data(dataset):\n",
    "    X = dataset.datos[:,:-1] # all rows, all columns but last one\n",
    "    Y = dataset.datos[:,-1]  # all rows, just last column (class)\n",
    "    \n",
    "    # One hot encoding for discrete features\n",
    "    enc = OneHotEncoder(sparse=False, categories='auto')\n",
    "    X_enc = np.array(enc.fit_transform(X)) \n",
    "    # Concatenating encoded data matrix and classes\n",
    "    datos_aux = np.concatenate((X_enc, Y[:,None]), axis=1)\n",
    "    # Updating dataset\n",
    "    dataset.datos = np.zeros(datos_aux.shape)\n",
    "    dataset.datos = datos_aux\n",
    "    return dataset "
   ]
  },
  {
   "cell_type": "code",
   "execution_count": 47,
   "metadata": {},
   "outputs": [],
   "source": [
    "ttt_db = Datos('../ConjuntosDatos/tic-tac-toe.data')\n",
    "np.random.shuffle(ttt_db.datos)"
   ]
  },
  {
   "cell_type": "code",
   "execution_count": 51,
   "metadata": {},
   "outputs": [],
   "source": [
    "ttt_db = preprocess_data(ttt_db)"
   ]
  },
  {
   "cell_type": "code",
   "execution_count": 57,
   "metadata": {},
   "outputs": [
    {
     "data": {
      "text/plain": [
       "[0.296875]"
      ]
     },
     "execution_count": 57,
     "metadata": {},
     "output_type": "execute_result"
    }
   ],
   "source": [
    "strat_simple_sk = EstrategiaParticionado.ValidacionSimple(0.8)\n",
    "\n",
    "NBSK = Clasificador.ClasificadorNaiveBayesSK(gaussian_feat=False)\n",
    "errs = NBSK.validacion(strat_simple_sk, ttt_db, NBSK)\n",
    "\n",
    "print(errs)"
   ]
  },
  {
   "cell_type": "code",
   "execution_count": 64,
   "metadata": {},
   "outputs": [
    {
     "name": "stdout",
     "output_type": "stream",
     "text": [
      "Errores:  [0.3125, 0.28125, 0.34375]\n",
      "Error promedio: 0.3125 +- 0.02551551815399144\n"
     ]
    }
   ],
   "source": [
    "strat_simple_rep3_sk = EstrategiaParticionado.ValidacionSimple(0.8, nreps=3)\n",
    "\n",
    "errs = NBSK.validacion(strat_simple_rep3_sk, ttt_db, NBSK)\n",
    "\n",
    "print(\"Errores: \", errs)\n",
    "print(\"Error promedio:\", np.mean(errs), \"+-\", np.std(errs))"
   ]
  },
  {
   "cell_type": "code",
   "execution_count": 66,
   "metadata": {},
   "outputs": [
    {
     "name": "stdout",
     "output_type": "stream",
     "text": [
      "Errores:  [0.33507853403141363, 0.32984293193717273, 0.2879581151832461, 0.2774869109947644, 0.3403141361256544]\n",
      "Error promedio: 0.31413612565445026 +- 0.02607308816332717\n"
     ]
    }
   ],
   "source": [
    "strat_cross_sk = EstrategiaParticionado.ValidacionCruzada(k_fold=5)\n",
    "\n",
    "errs = NBSK.validacion(strat_cross_sk, ttt_db, NBSK)\n",
    "\n",
    "print(\"Errores: \", errs)\n",
    "print(\"Error promedio:\", np.mean(errs), \"+-\", np.std(errs))"
   ]
  },
  {
   "cell_type": "markdown",
   "metadata": {},
   "source": [
    "## Caso Continuo"
   ]
  },
  {
   "cell_type": "code",
   "execution_count": 19,
   "metadata": {},
   "outputs": [
    {
     "name": "stdout",
     "output_type": "stream",
     "text": [
      "(800, 54) (800,)\n",
      "(800, 7) (800,)\n",
      "7 13\n"
     ]
    }
   ],
   "source": [
    "dataset_ger = Datos(\"../ConjuntosDatos/german.data\")\n",
    "np.random.shuffle(dataset_ger.datos)\n",
    "X = dataset_ger.datos[:,:-1]\n",
    "y = dataset_ger.datos[:,-1]\n",
    "n, m = X.shape\n",
    "m_d = 0\n",
    "for i in range (m):\n",
    "    if(dataset_ger.nominalAtributos[i] is True):\n",
    "        m_d += 1\n",
    "m_c = m - m_d       \n",
    "X_d = np.zeros((n, m_d))\n",
    "X_c = np.zeros((n, m_c))\n",
    "\n",
    "j = 0\n",
    "k = 0\n",
    "for i in range (m):\n",
    "    if(dataset_ger.nominalAtributos[i] is True):\n",
    "        X_d[:, j] = X[:, i]\n",
    "        j+=1\n",
    "    else:\n",
    "        X_c[:, k] = X[:, i]\n",
    "        k+=1\n",
    "        \n",
    "enc = OneHotEncoder(sparse=False)\n",
    "X_d = np.array(enc.fit_transform(X_d)) \n",
    "\n",
    "\n",
    "x_train_d = X_d[:int(0.8*n), :]\n",
    "y_train = y[:int(0.8*n)]\n",
    "\n",
    "print(x_train_d.shape, y_train.shape)\n",
    "\n",
    "x_test_d = X_d[int(0.8*n):, :]\n",
    "y_test = y[int(0.8*n):]\n",
    "\n",
    "x_train_c = X_c[:int(0.8*n), :]\n",
    "x_test_c = X_c[int(0.8*n):, :]\n",
    "print(x_train_c.shape, y_train.shape)\n",
    "print(m_c, m_d)"
   ]
  },
  {
   "cell_type": "code",
   "execution_count": 20,
   "metadata": {},
   "outputs": [
    {
     "name": "stdout",
     "output_type": "stream",
     "text": [
      "0.25025\n"
     ]
    }
   ],
   "source": [
    "clf_d = MultinomialNB()\n",
    "clf_c = GaussianNB()\n",
    "clf_d.fit(x_train_d,y_train)\n",
    "clf_c.fit(x_train_c,y_train)\n",
    "Error_d = 1 - clf_d.score(x_test_d,y_test)\n",
    "Error_c = 1 - clf_c.score(x_test_c,y_test)\n",
    "TotalError = (m_c*Error_c + m_d*Error_d) / m\n",
    "print(TotalError)"
   ]
  }
 ],
 "metadata": {
  "kernelspec": {
   "display_name": "Python 3",
   "language": "python",
   "name": "python3"
  },
  "language_info": {
   "codemirror_mode": {
    "name": "ipython",
    "version": 3
   },
   "file_extension": ".py",
   "mimetype": "text/x-python",
   "name": "python",
   "nbconvert_exporter": "python",
   "pygments_lexer": "ipython3",
   "version": "3.7.3"
  }
 },
 "nbformat": 4,
 "nbformat_minor": 2
}
